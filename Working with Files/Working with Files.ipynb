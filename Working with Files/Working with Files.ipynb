{
  "cells": [
    {
      "cell_type": "markdown",
      "id": "dfa83513-f551-4576-a9b1-ba72fea7a3f8",
      "metadata": {
        "collapsed": false,
        "name": "cell1"
      },
      "source": [
        "# How to work with files in Snowflake Notebooks 🗄️\n",
        "\n",
        "In this example, we will show you how you can work with files in notebooks and how to save them permanently to a stage."
      ]
    },
    {
      "cell_type": "markdown",
      "id": "60bb7c26-7567-4da9-994c-7d45bbeaefbe",
      "metadata": {
        "collapsed": false,
        "name": "cell2"
      },
      "source": [
        "## Working with Temporary Files\n",
        "\n",
        "Any files you write from the notebook are temporarily stored in the local stage associated with your notebook.\n",
        "\n",
        "**Note that you will no longer have access to these files as soon as you exit out of the notebook session.**\n",
        "\n",
        "Let's take a look at an example of how this works by creating a simple file."
      ]
    },
    {
      "cell_type": "code",
      "execution_count": null,
      "id": "3775908f-ca36-4846-8f38-5adca39217f2",
      "metadata": {
        "codeCollapsed": false,
        "collapsed": false,
        "language": "python",
        "name": "cell3"
      },
      "outputs": [],
      "source": [
        "with open(\"myfile.txt\",'w') as f:\n",
        "    f.write(\"abc\")\n",
        "f.close()"
      ]
    },
    {
      "cell_type": "markdown",
      "id": "1d0f320f-bb0b-49c5-8afe-f79f67ba61d3",
      "metadata": {
        "name": "cell4"
      },
      "source": [
        "Taking a look at what's the files on my stage. Note that `notebook_app.ipynb` and `environment.yml` are files automatically created as part of Snowflake notebook. You can see the new file we created `myfile.txt`."
      ]
    },
    {
      "cell_type": "code",
      "execution_count": null,
      "id": "8d50cbf4-0c8d-4950-86cb-114990437ac9",
      "metadata": {
        "codeCollapsed": false,
        "collapsed": false,
        "language": "python",
        "name": "cell5"
      },
      "outputs": [],
      "source": [
        "import os\n",
        "os.listdir()"
      ]
    },
    {
      "cell_type": "markdown",
      "id": "c695373e-ac74-4b62-a1f1-08206cbd5c81",
      "metadata": {
        "collapsed": false,
        "name": "cell6"
      },
      "source": [
        "Now let's disconnect the notebook from the session. You can do this by closing/refreshing the browser page or clicking on the `Active` button on the top right corner and press `End session`.\n",
        "\n",
        "Now if you rerun the notebook starting from this cell, the file you created during your previous notebook session `myfile.txt` will be lost. "
      ]
    },
    {
      "cell_type": "code",
      "execution_count": null,
      "id": "9c22bca7-1787-400d-ae28-482987817906",
      "metadata": {
        "codeCollapsed": false,
        "collapsed": false,
        "language": "python",
        "name": "cell7"
      },
      "outputs": [],
      "source": [
        "import os\n",
        "os.listdir()"
      ]
    },
    {
      "cell_type": "markdown",
      "id": "65556fd5-8be3-4084-87e4-81e7263489ef",
      "metadata": {
        "collapsed": false,
        "name": "cell8"
      },
      "source": [
        "## Working with Permanent Files\n",
        "\n",
        "What if you want to save the file to a permanent location that you can access again when you come back to the session? For example, you may trained a model and want to save your model for use later, or you may want to store the results of your analysis. Since files created during the notebook session is temporary by default, we show you how you can do save files permanently by moving your files to a permanent Snowflake stage.\n",
        "\n",
        "First, let's create a stage called `PERMANENT_STAGE`:"
      ]
    },
    {
      "cell_type": "code",
      "execution_count": null,
      "id": "6646015e-f40b-4ff4-affe-b6f98f1158dd",
      "metadata": {
        "codeCollapsed": false,
        "collapsed": false,
        "language": "sql",
        "name": "cell9"
      },
      "outputs": [],
      "source": [
        "CREATE OR REPLACE STAGE PERMANENT_STAGE;"
      ]
    },
    {
      "cell_type": "markdown",
      "id": "2c197f0c-0500-407a-ad41-3cd241fc3320",
      "metadata": {
        "collapsed": false,
        "name": "cell10"
      },
      "source": [
        "Now let's write `myfile.txt` to the temporary local stage again"
      ]
    },
    {
      "cell_type": "code",
      "execution_count": null,
      "id": "20c5df62-c520-4776-b74f-5c6fbc398e47",
      "metadata": {
        "codeCollapsed": false,
        "collapsed": false,
        "language": "python",
        "name": "cell11"
      },
      "outputs": [],
      "source": [
        "with open(\"myfile.txt\",'w') as f:\n",
        "    f.write(\"abc\")\n",
        "f.close()"
      ]
    },
    {
      "cell_type": "markdown",
      "id": "4cd337ae-4a68-4d5d-afe8-ce6606d48324",
      "metadata": {
        "collapsed": false,
        "name": "cell12"
      },
      "source": [
        "Now let's use Snowpark to upload the local file we created to the stage location. In Notebooks, we can use `get_active_session` method to get the [session](https://docs.snowflake.com/en/developer-guide/snowpark/reference/python/latest/api/snowflake.snowpark.Session#snowflake.snowpark.Session) context variable to work with Snowpark as follows:"
      ]
    },
    {
      "cell_type": "code",
      "execution_count": null,
      "id": "deb5f941-d916-4bb3-b0be-d4c3cbc9bced",
      "metadata": {
        "codeCollapsed": false,
        "collapsed": false,
        "language": "python",
        "name": "cell13"
      },
      "outputs": [],
      "source": [
        "from snowflake.snowpark.context import get_active_session\n",
        "session = get_active_session()\n",
        "# Add a query tag to the session. This helps with troubleshooting and performance monitoring.\n",
        "session.query_tag = {\"origin\":\"sf_sit-is\", \n",
        "                     \"name\":\"notebook_demo_pack\", \n",
        "                     \"version\":{\"major\":1, \"minor\":0},\n",
        "                     \"attributes\":{\"is_quickstart\":1, \"source\":\"notebook\", \"vignette\":\"working_with_files\"}}"
      ]
    },
    {
      "cell_type": "markdown",
      "id": "ef94acc8-a486-4441-a647-25422542314a",
      "metadata": {
        "collapsed": false,
        "name": "cell14"
      },
      "source": [
        "Let's use the [session.file.put](https://docs.snowflake.com/en/developer-guide/snowpark/reference/python/latest/api/snowflake.snowpark.FileOperation.put) command in Snowpark to move `myfile.txt` to the stage location `@PERMANENT_STAGE`"
      ]
    },
    {
      "cell_type": "code",
      "execution_count": null,
      "id": "4f626f09-809f-4c6e-b6ed-bf7521041544",
      "metadata": {
        "codeCollapsed": false,
        "language": "python",
        "name": "cell15"
      },
      "outputs": [],
      "source": [
        "put_result = session.file.put(\"myfile.txt\",\"@PERMANENT_STAGE\", auto_compress= False)\n",
        "put_result[0].status"
      ]
    },
    {
      "cell_type": "markdown",
      "id": "b9e31ad7-aec0-4431-a907-167291fca0e2",
      "metadata": {
        "collapsed": false,
        "name": "cell16"
      },
      "source": [
        "The file has now been uploaded to the permanent stage. "
      ]
    },
    {
      "cell_type": "code",
      "execution_count": null,
      "id": "b8557a5f-bb17-42d4-96fe-4875fee51d91",
      "metadata": {
        "codeCollapsed": false,
        "language": "sql",
        "name": "cell17"
      },
      "outputs": [],
      "source": [
        "LS @PERMANENT_STAGE;"
      ]
    },
    {
      "cell_type": "markdown",
      "id": "319aa72b-8356-4fba-a260-655cc1786b85",
      "metadata": {
        "collapsed": false,
        "name": "cell18"
      },
      "source": [
        "Now if you disconnect the notebook session, you will see that the file still persist in the permanent stage."
      ]
    },
    {
      "cell_type": "code",
      "execution_count": null,
      "id": "1e61830a-c637-47f4-9ceb-705464262210",
      "metadata": {
        "codeCollapsed": false,
        "collapsed": false,
        "language": "sql",
        "name": "cell19"
      },
      "outputs": [],
      "source": [
        "LS @PERMANENT_STAGE;"
      ]
    },
    {
      "cell_type": "code",
      "execution_count": null,
      "id": "aa745d07-4ebf-4c94-a017-e6131c24cd2b",
      "metadata": {
        "codeCollapsed": false,
        "language": "python",
        "name": "cell20"
      },
      "outputs": [],
      "source": [
        "from snowflake.snowpark.context import get_active_session\n",
        "session = get_active_session()\n",
        "\n",
        "f = session.file.get_stream(\"@PERMANENT_STAGE/myfile.txt\")\n",
        "print(f.readline())\n",
        "f.close()"
      ]
    },
    {
      "cell_type": "markdown",
      "id": "4fcdca0d-9860-4178-8013-b2a6135e789d",
      "metadata": {
        "collapsed": false,
        "name": "cell21"
      },
      "source": [
        "Alternatively, if you prefer to download the file locally first before reading it, you can using the [session.file.get](https://docs.snowflake.com/en/developer-guide/snowpark/reference/python/latest/api/snowflake.snowpark.FileOperation.get) command: "
      ]
    },
    {
      "cell_type": "code",
      "execution_count": null,
      "id": "4637b83b-4171-4545-ac3b-2f3878ae21ed",
      "metadata": {
        "codeCollapsed": false,
        "collapsed": false,
        "language": "python",
        "name": "cell22"
      },
      "outputs": [],
      "source": [
        "# Download the file from stage to current local path\n",
        "get_status = session.file.get(\"@PERMANENT_STAGE/myfile.txt\",\"./\")\n",
        "get_status[0].status"
      ]
    },
    {
      "cell_type": "code",
      "execution_count": null,
      "id": "2b6a333c-143a-477b-9760-046748c9fd2e",
      "metadata": {
        "codeCollapsed": false,
        "language": "python",
        "name": "cell23"
      },
      "outputs": [],
      "source": [
        "import os\n",
        "os.listdir()"
      ]
    },
    {
      "cell_type": "code",
      "execution_count": null,
      "id": "a514fbb3-af35-40ed-afba-485600492d3f",
      "metadata": {
        "codeCollapsed": false,
        "language": "python",
        "name": "cell24"
      },
      "outputs": [],
      "source": [
        "# Open the file locally\n",
        "with open(\"myfile.txt\",'r') as f:\n",
        "    print(f.readline())\n",
        "f.close()"
      ]
    },
    {
      "cell_type": "markdown",
      "id": "39ba2226-35b0-4cc8-91c9-1392debeef6a",
      "metadata": {
        "collapsed": false,
        "name": "cell25"
      },
      "source": [
        "## Bonus: Working with data files from stage\n",
        "\n",
        "Stage is common location for storing data file before it is loaded into Snowflake. In the previous section, we saw how you can read and write a generic file to a Snowflake stage. Here, we show a few common examples of how you can work with tabular data files stored in stage.\n"
      ]
    },
    {
      "cell_type": "code",
      "execution_count": null,
      "id": "47e912a8-fa21-42ec-ab8b-31289cd14970",
      "metadata": {
        "language": "python",
        "name": "cell26"
      },
      "outputs": [],
      "source": [
        "from snowflake.snowpark.context import get_active_session\n",
        "session = get_active_session()"
      ]
    },
    {
      "cell_type": "markdown",
      "id": "bca5c08e-bd46-4cbf-a2da-20b73905e60b",
      "metadata": {
        "collapsed": false,
        "name": "cell27"
      },
      "source": [
        "We have an example dataset recording the amount of snowfall at different ski resort locations across different days."
      ]
    },
    {
      "cell_type": "code",
      "execution_count": null,
      "id": "c6905253-fb4a-4e6e-b563-cc481c608b9d",
      "metadata": {
        "codeCollapsed": false,
        "language": "python",
        "name": "cell28"
      },
      "outputs": [],
      "source": [
        "# Create a Snowpark DataFrame with sample data\n",
        "df = session.create_dataframe([[1, 'Big Bear', 8],[2, 'Big Bear', 10],[3, 'Big Bear', 5],\n",
        "                               [1, 'Tahoe', 3],[2, 'Tahoe', 20],[3, 'Tahoe', 13]], \n",
        "                              schema=[\"DAY\", \"LOCATION\", \"SNOWFALL\"])\n",
        "df"
      ]
    },
    {
      "cell_type": "markdown",
      "id": "035e576d-0428-45b0-a23b-7ded6df3dfb1",
      "metadata": {
        "name": "cell29"
      },
      "source": [
        "This is how we can write a Snowpark dataframe to a CSV file on stage:"
      ]
    },
    {
      "cell_type": "code",
      "execution_count": null,
      "id": "bdd17871-bc46-439c-a29e-c06fa663524e",
      "metadata": {
        "codeCollapsed": false,
        "collapsed": false,
        "language": "python",
        "name": "cell30"
      },
      "outputs": [],
      "source": [
        "df.write.copy_into_location(\"@PERMANENT_STAGE/snowfall.csv\",file_format_type=\"csv\",header=True)"
      ]
    },
    {
      "cell_type": "markdown",
      "id": "ffd05f5d-3a12-4cbb-8db3-7c7207d12b96",
      "metadata": {
        "name": "cell31"
      },
      "source": [
        "To access the file on stage, read a CSV file from stage location back to a Snowpark dataframe:"
      ]
    },
    {
      "cell_type": "code",
      "execution_count": null,
      "id": "aa177f0c-69a6-44a3-b0db-554078108add",
      "metadata": {
        "codeCollapsed": false,
        "language": "python",
        "name": "cell32"
      },
      "outputs": [],
      "source": [
        "df = session.read.options({\"infer_schema\":True}).csv('@PERMANENT_STAGE/snowfall.csv')"
      ]
    },
    {
      "cell_type": "markdown",
      "id": "f903d26c-0323-4ccf-848b-b65c020b07d6",
      "metadata": {
        "collapsed": false,
        "name": "cell33"
      },
      "source": [
        "To learn more about how you can work with data files in notebooks, check out our tutorial on how to [work with CSV files from an external S3 stage](https://github.com/Snowflake-Labs/snowflake-demo-notebooks/blob/main/Load%20CSV%20from%20S3/Load%20CSV%20from%20S3.ipynb) and [load data from a public endpoint to a Snowflake table](https://github.com/Snowflake-Labs/snowflake-demo-notebooks/blob/main/Ingest%20Public%20JSON/Ingest%20Public%20JSON.ipynb). "
      ]
    },
    {
      "cell_type": "code",
      "execution_count": null,
      "id": "58de86d9-778e-4e61-841c-c2f4fda0a13a",
      "metadata": {
        "codeCollapsed": false,
        "language": "sql",
        "name": "cell34"
      },
      "outputs": [],
      "source": [
        "-- Teardown stage created as part of this tutorial\n",
        "DROP STAGE PERMANENT_STAGE;"
      ]
    },
    {
      "cell_type": "markdown",
      "id": "f9f1fb29-b4d8-45bf-9918-1133d1132c60",
      "metadata": {
        "collapsed": false,
        "name": "cell35"
      },
      "source": [
        "### Conclusion\n",
        "\n",
        "In this tutorial, we showed how you can upload local files from your notebook to a permanent Snowflake stage to persist results across notebook sessions. We used Snowpark's file operation commands (e.g., [file.get](https://docs.snowflake.com/en/developer-guide/snowpark/reference/python/latest/api/snowflake.snowpark.FileOperation.get), [file.put](https://docs.snowflake.com/en/developer-guide/snowpark/reference/python/latest/api/snowflake.snowpark.FileOperation.put)) to move files between your local file path and the stage location. You can learn more about working with files with Snowpark [here](https://docs.snowflake.com/en/developer-guide/snowpark/reference/python/latest/io)."
      ]
    }
  ],
  "metadata": {
    "kernelspec": {
      "display_name": "Streamlit Notebook",
      "name": "streamlit"
    }
  },
  "nbformat": 4,
  "nbformat_minor": 5
}
