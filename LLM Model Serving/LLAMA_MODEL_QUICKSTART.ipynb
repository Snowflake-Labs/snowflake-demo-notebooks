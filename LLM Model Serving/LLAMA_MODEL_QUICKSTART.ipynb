{
 "cells": [
  {
   "cell_type": "markdown",
   "id": "9b2d3319",
   "metadata": {},
   "source": [
    "# Model Inference using SPCS\n",
    "\n",
    "Documentation: https://docs.snowflake.com/en/developer-guide/snowflake-ml/model-registry/container"
   ]
  },
  {
   "cell_type": "markdown",
   "id": "c19593bd",
   "metadata": {},
   "source": [
    "#### Upgrade `snowflake-ml-python` package"
   ]
  },
  {
   "cell_type": "code",
   "execution_count": null,
   "id": "ce849beb-3b27-4b0a-8e0f-caca5c80d9c3",
   "metadata": {
    "language": "python",
    "name": "cell10"
   },
   "outputs": [],
   "source": [
    "! pip install snowflake-ml-python --upgrade -q"
   ]
  },
  {
   "cell_type": "code",
   "execution_count": null,
   "id": "3775908f-ca36-4846-8f38-5adca39217f2",
   "metadata": {
    "codeCollapsed": false,
    "language": "python",
    "name": "cell1"
   },
   "outputs": [],
   "source": [
    "# Import python packages\n",
    "import json\n",
    "import os\n",
    "\n",
    "import pandas as pd\n",
    "import requests\n",
    "import transformers\n",
    "\n",
    "import snowflake.connector\n",
    "from snowflake.ml import version\n",
    "from snowflake.ml.registry import registry as registry_module\n",
    "from snowflake.ml.utils.connection_params import SnowflakeLoginOptions\n",
    "from snowflake.ml.model import target_platform\n",
    "\n",
    "from snowflake.snowpark.context import get_active_session\n",
    "\n",
    "session = get_active_session()\n",
    "print(\"Snowflake ML version: \", version.VERSION)"
   ]
  },
  {
   "cell_type": "markdown",
   "id": "1d750152",
   "metadata": {},
   "source": [
    "#### Create a transformer pipeline model"
   ]
  },
  {
   "cell_type": "code",
   "execution_count": null,
   "id": "5923c54a-cba2-4835-a045-b72c0efd326c",
   "metadata": {
    "codeCollapsed": false,
    "language": "python",
    "name": "cell2"
   },
   "outputs": [],
   "source": [
    "llama_3_model = transformers.pipeline(\n",
    "    model=\"meta-llama/Llama-3.1-8B-Instruct\",\n",
    "    task=\"text-generation\",\n",
    "    # TODO: Add your token to environment variable if not already set\n",
    "    token=os.environ[\"HUGGINGFACE_TOKEN\"],\n",
    "    device_map=\"auto\",\n",
    ")\n",
    "\n",
    "llama_3_model"
   ]
  },
  {
   "cell_type": "code",
   "execution_count": null,
   "id": "e6d8f900-c774-41f6-801d-37ede040aff8",
   "metadata": {
    "codeCollapsed": false,
    "language": "python",
    "name": "cell3"
   },
   "outputs": [],
   "source": [
    "registry = registry_module.Registry(session=session)\n",
    "registry"
   ]
  },
  {
   "cell_type": "code",
   "execution_count": null,
   "id": "0cf3683c-f613-4d1a-a4d0-5b3d8237fedf",
   "metadata": {
    "codeCollapsed": false,
    "language": "python",
    "name": "cell4"
   },
   "outputs": [],
   "source": [
    "mv = registry.log_model(\n",
    "    model=llama_3_model,\n",
    "    model_name=\"llama_3\",\n",
    "    version_name=\"V1\",\n",
    "    target_platforms=target_platform.SNOWPARK_CONTAINER_SERVICES_ONLY,\n",
    ")\n",
    "mv"
   ]
  },
  {
   "cell_type": "markdown",
   "id": "677e3eb8",
   "metadata": {},
   "source": [
    "#### Create a service from the logged model"
   ]
  },
  {
   "cell_type": "code",
   "execution_count": null,
   "id": "9bbff1d3",
   "metadata": {},
   "outputs": [],
   "source": [
    "service_name = \"llama_3_service\"\n",
    "# TODO: Add your image repo here\n",
    "image_repo = \"<your-image-repo>\"\n",
    "# TODO: Add your compute pool here\n",
    "service_compute_pool = \"<your-compute-pool>\""
   ]
  },
  {
   "cell_type": "code",
   "execution_count": null,
   "id": "862fcda9-f688-42c8-ae45-b208f540c49f",
   "metadata": {
    "codeCollapsed": false,
    "language": "python",
    "name": "cell5"
   },
   "outputs": [],
   "source": [
    "mv.create_service(\n",
    "    service_name=\"llama_3_service\",\n",
    "    image_repo=image_repo,\n",
    "    service_compute_pool=service_compute_pool,\n",
    "    # TODO: Modify number of GPUs here\n",
    "    gpu_requests=\"1\",\n",
    "    ingress_enabled=True,\n",
    ")"
   ]
  },
  {
   "cell_type": "code",
   "execution_count": null,
   "id": "c8482e1e-8d6f-4c06-a0a2-030b7e1b161b",
   "metadata": {
    "codeCollapsed": false,
    "language": "python",
    "name": "cell7"
   },
   "outputs": [],
   "source": [
    "mv = registry.get_model(\"llama_3\").version(\"V1\")\n",
    "mv"
   ]
  },
  {
   "cell_type": "code",
   "execution_count": null,
   "id": "a9c33902",
   "metadata": {},
   "outputs": [],
   "source": [
    "# List all services in a compute pool\n",
    "services_df = mv.list_services()\n",
    "inference_endpoint = services_df.iloc[0].inference_endpoint\n",
    "inference_endpoint"
   ]
  },
  {
   "cell_type": "markdown",
   "id": "435439b7",
   "metadata": {},
   "source": [
    "#### Call the service function of the model"
   ]
  },
  {
   "cell_type": "code",
   "execution_count": null,
   "id": "40c2f324-4698-48b9-88c1-be6547a7027a",
   "metadata": {
    "language": "python",
    "name": "cell12"
   },
   "outputs": [],
   "source": [
    "x = [\n",
    "    [\n",
    "        {\"role\": \"system\", \"content\": \"You are a helpful assistant.\"},\n",
    "        {\"role\": \"user\", \"content\": \"What is the capital of France?\"},\n",
    "    ]\n",
    "]\n",
    "\n",
    "x_df = pd.DataFrame([x], columns=[\"inputs\"])\n",
    "x_df"
   ]
  },
  {
   "cell_type": "code",
   "execution_count": null,
   "id": "3bfd45ab-9dc5-4609-841a-ef738527a087",
   "metadata": {
    "codeCollapsed": false,
    "language": "python",
    "name": "cell13"
   },
   "outputs": [],
   "source": [
    "output_df = mv.run(\n",
    "    X=x_df,\n",
    "    service_name=service_name,\n",
    ")\n",
    "output_df"
   ]
  },
  {
   "cell_type": "code",
   "execution_count": null,
   "id": "0c30202c-3004-414a-9c4a-3cfdb45ac795",
   "metadata": {
    "codeCollapsed": false,
    "language": "python",
    "name": "cell14"
   },
   "outputs": [],
   "source": [
    "output_df.iloc[0][0]"
   ]
  },
  {
   "cell_type": "markdown",
   "id": "59e5e91a",
   "metadata": {},
   "source": [
    "#### Invoke the inference using REST API"
   ]
  },
  {
   "cell_type": "code",
   "execution_count": null,
   "id": "b1b118bd-e94f-4c06-a101-7997b88beeee",
   "metadata": {
    "codeCollapsed": false,
    "language": "python",
    "name": "cell11"
   },
   "outputs": [],
   "source": [
    "def get_headers():\n",
    "    # TODO: change the `pat_token` to your PAT token\n",
    "    pat_token = \"<PAT_token>\"\n",
    "    headers = {\"Authorization\": f'Snowflake Token=\"{pat_token}\"'}\n",
    "    return headers"
   ]
  },
  {
   "cell_type": "code",
   "execution_count": null,
   "id": "d30b3d81-f2dc-4e12-b80a-39786d96e50b",
   "metadata": {
    "codeCollapsed": false,
    "language": "python",
    "name": "cell15"
   },
   "outputs": [],
   "source": [
    "# TODO: change the `url` to the service ingress URL\n",
    "# this can be found in the \"SHOW ENDPOINTS IN SERVICE LLAMA_3_SERVICE\" sql query output above\n",
    "url = f\"http://{inference_endpoint}/--call--\"\n",
    "\n",
    "response = requests.post(\n",
    "    url,\n",
    "    json={\"data\": x},\n",
    "    headers=get_headers(),\n",
    "    timeout=15,\n",
    ")\n",
    "\n",
    "response.text"
   ]
  }
 ],
 "metadata": {
  "kernelspec": {
   "display_name": "Streamlit Notebook",
   "name": "streamlit"
  },
  "lastEditStatus": {
   "authorEmail": "p.ramachandran@snowflake.com",
   "authorId": "1900264113741",
   "authorName": "PRAMACHANDRAN",
   "lastEditTime": 1754001696192,
   "notebookId": "bznc66vdpbqbn6yxbdnp",
   "sessionId": "62646843-80fa-4479-9dbf-643a55c19f7a"
  }
 },
 "nbformat": 4,
 "nbformat_minor": 5
}
