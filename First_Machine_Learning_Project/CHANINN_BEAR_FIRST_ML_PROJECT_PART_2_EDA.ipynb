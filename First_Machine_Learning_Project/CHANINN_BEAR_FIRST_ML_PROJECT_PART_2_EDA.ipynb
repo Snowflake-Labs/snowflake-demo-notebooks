{
 "metadata": {
  "kernelspec": {
   "display_name": "Streamlit Notebook",
   "name": "streamlit"
  },
  "lastEditStatus": {
   "notebookId": "64zd7ttelodtqqcazn7c",
   "authorId": "6841714608330",
   "authorName": "CHANINN",
   "authorEmail": "chanin.nantasenamat@snowflake.com",
   "sessionId": "8e215a71-b698-4cd5-8bdb-64324d68cd7e",
   "lastEditTime": 1760806287404
  }
 },
 "nbformat_minor": 5,
 "nbformat": 4,
 "cells": [
  {
   "cell_type": "markdown",
   "id": "eb7a29c7-92eb-4d12-b8cd-d81075f6e7b4",
   "metadata": {
    "name": "md_title",
    "collapsed": false
   },
   "source": "# Build Your First Machine Learning Project - Part 2 | `Exploratory Data Analysis`\n\nIn this notebook, we'll explore the Bear data set, performing summary statistics, and data visualization. We'll also leverage Streamlit to add interactivity to the data visualization.\n\n### What We'll Cover:\n\n1. **Data Loading and Preparation** - Load the bear dataset and prepare it for analysis using Modin (`modin.pandas`) and Snowpark (`snowflake-snowpark-python`)\n2. **Basic Statistics** - Calculate and visualize summary statistics of the dataset\n3. **Feature Distribution Analysis** - Explore the distribution of individual features across different bear species with `Altair` and `Streamlit`\n4. **Correlation Analysis** - Investigate relationships between numeric features using correlation heatmaps with `Altair` and `Streamlit`\n5. **Feature Relationships** - Visualize relationships between pairs of features using interactive scatter plots with `Altair` and `Streamlit`\n6. **Categorical Analysis** - Examine the distribution of categorical features including species classification with `Altair` and `Streamlit`\n\n"
  },
  {
   "cell_type": "markdown",
   "id": "e2374363-2953-452a-9f70-3c823919c5cf",
   "metadata": {
    "name": "md_notebook_setup",
    "collapsed": false
   },
   "source": "# Notebook Setup"
  },
  {
   "cell_type": "markdown",
   "id": "67d6e16b-e886-4422-af18-cd4078840540",
   "metadata": {
    "name": "md_packages",
    "collapsed": false
   },
   "source": "## Install Prerequisite Libraries\n\nSnowflake Notebooks includes common Python libraries by default. To add more, use the **Packages** dropdown in the top right. \n\nLet's add the following package:\n- `modin` - Perform data operations (read/write) and wrangling just like pandas with the [Snowpark pandas API](https://docs.snowflake.com/en/developer-guide/snowpark/reference/python/latest/modin/index)\n- `scikit-learn` - Perform data splits and build machine learning models"
  },
  {
   "cell_type": "markdown",
   "id": "862d87e7-c152-4b25-b094-ade3a2d9a2e8",
   "metadata": {
    "name": "md_data_operations",
    "collapsed": false
   },
   "source": "# Data Operations\n\nWe'll start off by loading and preparing the bear data set."
  },
  {
   "cell_type": "markdown",
   "id": "623130bf-a2bc-4c09-b387-edec0b100ef7",
   "metadata": {
    "name": "md_load_data",
    "collapsed": false
   },
   "source": "## Load data\n\nIn Part 1, we've retrieved, prepared and wrote the Bear data to Snowflake and here we'll proceed to loading the data by reading it from a Snowflake table."
  },
  {
   "cell_type": "markdown",
   "id": "a7453e7a-a030-490e-b36e-50d5da6c8ee7",
   "metadata": {
    "name": "md_sql_data",
    "collapsed": false
   },
   "source": "### Load data via SQL query\n\nPreviously, we've saved it to `CHANIN_DEMO_DATA.PUBLIC.BEAR` and therefore we'll query the data with the following SQL statement:"
  },
  {
   "cell_type": "code",
   "id": "676033c3-95e6-40d0-b661-f0ab9240402d",
   "metadata": {
    "language": "sql",
    "name": "sql_data"
   },
   "outputs": [],
   "source": "SELECT * FROM CHANINN_DEMO_DATA.PUBLIC.BEAR",
   "execution_count": null
  },
  {
   "cell_type": "markdown",
   "id": "11efd04f-b4bc-43d0-b60c-945c8369418f",
   "metadata": {
    "name": "md_py_data",
    "collapsed": false
   },
   "source": "### Load data via Python statement\n\nWe can also use the same SQL statement inside `pd.read_snowflake()`."
  },
  {
   "cell_type": "code",
   "id": "9e478fe0-0ef3-4ecf-9062-371857c103b4",
   "metadata": {
    "language": "python",
    "name": "py_data"
   },
   "outputs": [],
   "source": "import modin.pandas as pd\nimport snowflake.snowpark.modin.plugin\n\ndf = pd.read_snowflake(\"SELECT * FROM CHANINN_DEMO_DATA.PUBLIC.BEAR\")\ndf",
   "execution_count": null
  },
  {
   "cell_type": "markdown",
   "id": "a45924aa-9336-4249-8177-fc7d074bbec4",
   "metadata": {
    "name": "md_py_data_2",
    "collapsed": false
   },
   "source": "Or simply by calling the table name via `pd.read_snowflake()`."
  },
  {
   "cell_type": "code",
   "id": "e2382fa7-0877-462a-98be-8e215eadb948",
   "metadata": {
    "language": "python",
    "name": "py_data_2"
   },
   "outputs": [],
   "source": "pd.read_snowflake(\"BEAR\")",
   "execution_count": null
  },
  {
   "cell_type": "markdown",
   "id": "86eceb6b-fe20-4eca-b2b9-70a264fe8829",
   "metadata": {
    "name": "md_data_preparation",
    "collapsed": false
   },
   "source": "## Data Preparation\n\nIn preparation for forthcoming plots that require numeric data for visualizations, we'll select only numeric columns from the DataFrame using `select_dtypes()`."
  },
  {
   "cell_type": "code",
   "id": "405c3cfc-41f9-4509-8089-e1f59ccce8a6",
   "metadata": {
    "language": "python",
    "name": "py_data_preparation"
   },
   "outputs": [],
   "source": "# Select only numeric columns from the DataFrame\nnumeric_df = df.select_dtypes(include=['float64', 'int64'])\n\nnumeric_df",
   "execution_count": null
  },
  {
   "cell_type": "markdown",
   "id": "2bbf4e2b-7d4f-4a93-99df-66b235f841db",
   "metadata": {
    "name": "md_eda",
    "collapsed": false
   },
   "source": "# Exploratory Data Analysis\n\nExploratory Data Analysis (EDA) is the essential first step in any data project, where you get the chance to become familiar with the data by performing an open-ended exploration of the data. \n\nThis is achieved by performing summary statistics and data visualization to uncover patterns, spot anomalies, and identify relationships between variables, which helps you make sense of its key characteristics and prepare it for more complex tasks."
  },
  {
   "cell_type": "markdown",
   "id": "c290ac7d-21c1-452f-86f2-b50a0c9101e0",
   "metadata": {
    "name": "md_feature_distribution",
    "collapsed": false
   },
   "source": "## Feature Distribution\nLet's start by exploring the distribution of individual features and see how they are distributed across different bear species.\n\nWe'll perform this in 2 implementations:\n1. Traditional script-based approach - Features to visualize can be hard-coded\n1. Interactive data app - You can select feature to visualize\n"
  },
  {
   "cell_type": "code",
   "id": "02e63e2d-19e9-49b2-ba8d-5e2645eea37c",
   "metadata": {
    "language": "python",
    "name": "py_feature_distribution"
   },
   "outputs": [],
   "source": "import altair as alt\n\n# Create feature distribution plots\nprint(\"--------------------\")\nprint(\"Feature Distributions\")\nprint(\"--------------------\")\n\nnumeric_cols = numeric_df.columns\n\n# Manually specify features by changing the index number\nfeature = numeric_cols[0]\n\nchart = alt.Chart(df).mark_bar().encode(\n    alt.X(f\"{feature}:Q\", bin=True),\n    y='count()',\n    color=alt.Color('species:N', scale=alt.Scale(scheme='category10'))\n).properties(\n    height=380,\n    title=f\"Distribution of {feature} by Class\"\n)\nchart",
   "execution_count": null
  },
  {
   "cell_type": "code",
   "id": "778f9165-477e-4353-843c-bd3ec7d0c027",
   "metadata": {
    "language": "python",
    "name": "py_feature_distribution_streamlit",
    "codeCollapsed": false
   },
   "outputs": [],
   "source": "import streamlit as st\nimport altair as alt\n\n# Create feature distribution plots\nst.header(\"Feature Distributions\")\n\n# Create form for feature selection\nwith st.form(\"distribution_form\"):\n    feature = st.selectbox(\"Select a Feature\", numeric_df.columns)\n    submit_dist = st.form_submit_button(\"Submit\", type=\"primary\")\n\nif submit_dist:\n    chart = alt.Chart(df).mark_bar().encode(\n        alt.X(f\"{feature}:Q\", bin=True),\n        y='count()',\n        color=alt.Color('Species:N', scale=alt.Scale(scheme='category10'))\n    ).properties(\n        height=380,\n        title=f\"Distribution of {feature} by Species\"\n    )\n    st.altair_chart(chart, use_container_width=True)\n",
   "execution_count": null
  },
  {
   "cell_type": "markdown",
   "id": "b3951a10-7fc1-4b51-acea-9b06f62a5f05",
   "metadata": {
    "name": "md_correlation",
    "collapsed": false
   },
   "source": "## Feature Correlations\n\nNext, we're going to get a bird's-eye view of how all our numeric features relate to each other at once. Doing this helps us quickly find the most interesting relationships to explore in more detail.\n\n"
  },
  {
   "cell_type": "markdown",
   "id": "20fa9d93-a64a-4726-a44f-19b8c6e3977e",
   "metadata": {
    "name": "md_correlation_2",
    "collapsed": false
   },
   "source": "### Correlation matrix\n\nFirst, we'll calculate a correlation matrix. This is just a table that shows the correlation coefficient (a value from -1 to +1) between every possible pair of our numeric features. A value of 1 means a perfect positive relationship, -1 means a perfect negative relationship, and 0 means no linear relationship."
  },
  {
   "cell_type": "code",
   "id": "9560ac7f-9b96-4235-87c3-fb5d8e16de83",
   "metadata": {
    "language": "python",
    "name": "py_heatmap"
   },
   "outputs": [],
   "source": "# Correlation heatmap\nprint(\"--------------------\")\nprint(\"Feature Correlations\")\nprint(\"--------------------\")\n\ncolor_option = ['blueorange', 'spectral', 'viridis']\n# More color schemes at https://vega.github.io/vega/docs/schemes/\n\ncorr_matrix = numeric_df.corr()\n\ncorr_data = (\n    corr_matrix\n    .stack()\n    .reset_index(name='value')\n    .rename(columns={'level_0': 'index', 'level_1': 'variable'})\n)\n\ncorr_chart = alt.Chart(corr_data).mark_rect().encode(\n    x=alt.X('index:N', sort=None),\n    y=alt.Y('variable:N', sort=None),\n    color=alt.Color('value:Q', scale=alt.Scale(scheme=color_option[0])),\n    tooltip=[alt.Tooltip('index:N'), alt.Tooltip('variable:N'), alt.Tooltip('value:Q')]\n).properties(\n    width=400,\n    title=\"Correlation Heatmap\"\n)\ncorr_chart",
   "execution_count": null
  },
  {
   "cell_type": "code",
   "id": "060a8536-da0a-495b-ba89-0b686f114abd",
   "metadata": {
    "language": "python",
    "name": "py_heatmap_streamlit",
    "codeCollapsed": false
   },
   "outputs": [],
   "source": "import streamlit as st\nimport altair as alt\n\n# Create correlation heatmap\nst.header(\"Feature Correlations\")\n\n# Add color scheme selection\ncolor_option = st.selectbox(\"Select Color Scheme\", ['blueorange', 'spectral', 'viridis'])\n\nwith st.spinner(\"Generating correlation heatmap...\"):\n    # Calculate correlation matrix\n    corr_matrix = numeric_df.corr()\n\n    # Reshape correlation matrix for visualization \n    corr_data = (\n        corr_matrix\n        .stack()\n        .reset_index(name='value')\n        .rename(columns={'level_0': 'index', 'level_1': 'variable'})\n    )\n\n    # Create correlation heatmap\n    corr_chart = alt.Chart(corr_data).mark_rect().encode(\n        x=alt.X('index:N', sort=None),\n        y=alt.Y('variable:N', sort=None),\n        color=alt.Color('value:Q', scale=alt.Scale(scheme=color_option)),\n        tooltip=[alt.Tooltip('index:N'), alt.Tooltip('variable:N'), alt.Tooltip('value:Q')]\n    ).properties(\n        height=380,\n        title=\"Correlation Heatmap\"\n    )\n    st.altair_chart(corr_chart, use_container_width=True)\n",
   "execution_count": null
  },
  {
   "cell_type": "markdown",
   "id": "3d5dc868-a7ee-4b02-a71c-6779ac668f79",
   "metadata": {
    "name": "my_feature_relationship",
    "collapsed": false
   },
   "source": "## Feature Relationships\n\nAfter examining individual feature distributions and correlations between features, let's explore specific relationships between pairs of features in more detail. This visualization allows us to:\n\n- See how different numeric features relate to each other\n- Identify potential patterns or clusters by bear species\n- Spot any outliers or unusual relationships in the data\n\nThe scatter plot below shows the relationship between two selected numeric features, with points colored by bear species. This helps us understand how different bear species may cluster or separate based on their physical characteristics."
  },
  {
   "cell_type": "code",
   "id": "4b31c7c1-9e86-4638-9160-2847ba702e19",
   "metadata": {
    "language": "python",
    "name": "py_feature_relationship",
    "codeCollapsed": false
   },
   "outputs": [],
   "source": "# Scatter plot for feature relationships\nprint(\"--------------------\")\nprint(\"Feature Relationships\")\nprint(\"--------------------\")\n\n# Manually changing the index value\nx_axis = numeric_cols[0]\ny_axis = numeric_cols[1]\n\nscatter = alt.Chart(df).mark_circle().encode(\n    x=f'{x_axis}:Q',\n    y=f'{y_axis}:Q',\n    color='species:N',\n    tooltip=[f'{x_axis}:Q', f'{y_axis}:Q', 'Species:N']\n).properties(\n    width=380,\n    height=380,\n    title=f\"{x_axis} vs {y_axis} by Class\"\n)\n\nscatter",
   "execution_count": null
  },
  {
   "cell_type": "code",
   "id": "a29ef73a-295a-463b-8e1c-ea25e83024ea",
   "metadata": {
    "language": "python",
    "name": "py_feature_relationship_streamlit",
    "codeCollapsed": false
   },
   "outputs": [],
   "source": "# Generated by Snowflake Copilot\nimport streamlit as st\nimport altair as alt\n\n# Create scatter plot for feature relationships\nst.header(\"Feature Relationships\")\n\n# Create columns for feature selection\ncol1, col2 = st.columns(2)\nx_axis = col1.selectbox(\"Select X-axis feature\", numeric_df.columns, key=\"x_feature\")\ny_axis = col2.selectbox(\"Select Y-axis feature\", numeric_df.columns, key=\"y_feature\") \n\nwith st.spinner(\"Generating scatter plot...\"):\n    scatter = alt.Chart(df).mark_circle().encode(\n        x=f'{x_axis}:Q',\n        y=f'{y_axis}:Q',\n        color='species:N',\n        tooltip=[f'{x_axis}:Q', f'{y_axis}:Q', 'species:N']\n    ).properties(\n        height=380,\n        title=f\"{x_axis} vs {y_axis} by Species\"\n    )\n    st.altair_chart(scatter, use_container_width=True)\n",
   "execution_count": null
  },
  {
   "cell_type": "markdown",
   "id": "10d551a6-5440-4d2f-948b-39533d6fa192",
   "metadata": {
    "name": "md_class_distribution",
    "collapsed": false
   },
   "source": "## Species Class Distribution\n\nLet's examine the distribution of bear species in our dataset. This visualization will show us:\n\n- The number of samples for each bear species\n- Whether our dataset is balanced or imbalanced across different species\n- The relative proportions of each species in our dataset\n\nThis information is crucial for understanding our data composition and potential biases that could affect our analysis.\n"
  },
  {
   "cell_type": "code",
   "id": "37b7cbcd-e370-48d9-9bc4-18a15cd4f2bb",
   "metadata": {
    "language": "python",
    "name": "py_class_distribution",
    "codeCollapsed": false
   },
   "outputs": [],
   "source": "# Class distribution\nprint(\"--------------------\")\nprint(\"Species Class Distribution\")\nprint(\"--------------------\")\n\nclass_dist = alt.Chart(df).mark_bar().encode(\n    x='species:N',\n    y='count()',\n    color='species:N'\n).properties(\n    width=400,\n    height=400,\n    title=\"Distribution of Bear Classes\"\n)\nclass_dist",
   "execution_count": null
  },
  {
   "cell_type": "code",
   "id": "05dd045b-cd88-4a4c-a8c2-a4c8d4b81ebc",
   "metadata": {
    "language": "python",
    "name": "py_class_distribution_streamlit",
    "codeCollapsed": false
   },
   "outputs": [],
   "source": "import streamlit as st\nimport altair as alt\n\n\n# Create categorical distribution plot\nst.header(\"Categorical Feature Distribution\")\n\n# Get categorical columns (excluding ID)\ncategorical_cols = df.select_dtypes(include=['object']).columns.tolist()\ncategorical_cols = [col for col in categorical_cols if col != 'id']\n\n# Add visualization options\ncol1, col2 = st.columns(2)\nselected_feature = col1.selectbox(\"Select Feature\", categorical_cols)\nchart_type = col2.selectbox(\"Chart Type\", [\"Bar\", \"Pie\"])\n\nwith st.spinner(\"Generating distribution plot...\"):\n    if chart_type == \"Bar\":\n        # Create bar chart\n        chart = alt.Chart(df).mark_bar().encode(\n            x=f'{selected_feature}:N',\n            y='count()',\n            color=f'{selected_feature}:N',\n            tooltip=[f'{selected_feature}:N', alt.Tooltip('count()', title='Count')]\n        ).properties(\n            height=380,\n            title=f\"Distribution of {selected_feature}\"\n        )\n    else:\n        # Create pie chart\n        chart = alt.Chart(df).mark_arc().encode(\n            theta='count()',\n            color=f'{selected_feature}:N',\n            tooltip=[f'{selected_feature}:N', alt.Tooltip('count()', title='Count')]\n        ).properties(\n            height=380,\n            title=f\"Distribution of {selected_feature}\"\n        )\n        \n    st.altair_chart(chart, use_container_width=True)\n",
   "execution_count": null
  },
  {
   "cell_type": "markdown",
   "id": "d8c20221-4f2e-4644-9d18-271538c782a9",
   "metadata": {
    "name": "md_basic_script",
    "collapsed": false
   },
   "source": "## Basic script\n\nNow, we'll combine everything together in a single code cell, which you could also be embedded into a single Python file to create a script.\n\nTypically, to display text displays in Python we can use the `print()` method, which does the job but does not have an aesthetic appeal.\n\nA Jupyter notebook provides the ability to use Markdown to stylize text display.\n\nAs you'll soon see, we can use Streamlit widgets inside this notebook to add interactivity to it."
  },
  {
   "cell_type": "code",
   "id": "a5d99979-246a-4deb-871d-12fc362f0326",
   "metadata": {
    "language": "python",
    "name": "py_basic_script"
   },
   "outputs": [],
   "source": "print(\"============================================\")\nprint(\"Dataset Exploratory Data Analysis\")\nprint(\"============================================\")\n\n# Display basic dataset information\nprint(\"--- Dataset Overview ---\")\nprint(f\"Total Samples: {len(df)}\")\nprint(f\"Number of Features: {len(df.columns) - 1}\")\nprint(f\"Number of Species Classes: {len(df['species'].unique())}\")\n\n# Display summary statistics\nprint(\"--- Summary Statistics ---\")\nprint(f\"Average Body Mass: {numeric_df['body_mass_kg'].mean():.2f}\")\nprint(f\"Average Shoulder Hump Height: {numeric_df['shoulder_hump_height_cm'].mean():.2f}\")\nprint(f\"Average Claw Length: {numeric_df['claw_length_cm'].mean():.2f}\")\nprint(f\"Average Snout Length: {numeric_df['snout_length_cm'].mean():.2f}\")\nprint(f\"Average Forearm Circumference: {numeric_df['forearm_circumference_cm'].mean():.2f}\")\nprint(f\"Average Ear Length: {numeric_df['ear_length_cm'].mean():.2f}\")\n\n# Create feature distribution plots\nprint(\"--------------------\")\nprint(\"Feature Distributions\")\nprint(\"--------------------\")\n\nnumeric_cols = numeric_df.columns\n\n# Manually specify features by changing the index number\nfeature = numeric_cols[0]\n\nchart = alt.Chart(df).mark_bar().encode(\n    alt.X(f\"{feature}:Q\", bin=True),\n    y='count()',\n    color=alt.Color('species:N', scale=alt.Scale(scheme='category10'))\n).properties(\n    height=380,\n    title=f\"Distribution of {feature} by Class\"\n)\nchart\n\n# Correlation heatmap\nprint(\"--------------------\")\nprint(\"Feature Correlations\")\nprint(\"--------------------\")\n\ncolor_option = ['blueorange', 'spectral', 'viridis']\n# More color schemes at https://vega.github.io/vega/docs/schemes/\n\ncorr_matrix = numeric_df.corr()\n\ncorr_data = (\n    corr_matrix\n    .stack()\n    .reset_index(name='value')\n    .rename(columns={'level_0': 'index', 'level_1': 'variable'})\n)\n\ncorr_chart = alt.Chart(corr_data).mark_rect().encode(\n    x=alt.X('index:N', sort=None),\n    y=alt.Y('variable:N', sort=None),\n    color=alt.Color('value:Q', scale=alt.Scale(scheme=color_option[0])),\n    tooltip=[alt.Tooltip('index:N'), alt.Tooltip('variable:N'), alt.Tooltip('value:Q')]\n).properties(\n    width=400,\n    title=\"Correlation Heatmap\"\n)\ncorr_chart\n\n# Scatter plot for feature relationships\nprint(\"--------------------\")\nprint(\"Feature Relationships\")\nprint(\"--------------------\")\n\n# Manually changing the index value\nx_axis = numeric_cols[0]\ny_axis = numeric_cols[1]\n\nscatter = alt.Chart(df).mark_circle().encode(\n    x=f'{x_axis}:Q',\n    y=f'{y_axis}:Q',\n    color='species:N',\n    # Corrected line: Add data types to each tooltip field\n    tooltip=[f'{x_axis}:Q', f'{y_axis}:Q', 'species:N']\n).properties(\n    width=380,\n    height=380,\n    title=f\"{x_axis} vs {y_axis} by Class\"\n)\n\nscatter\n\n# Class distribution\nprint(\"--------------------\")\nprint(\"Class Distribution\")\nprint(\"--------------------\")\n\nclass_dist = alt.Chart(df).mark_bar().encode(\n    x='species:N',\n    y='count()',\n    color='species:N'\n).properties(\n    width=380,\n    height=380,\n    title=\"Distribution of Species Classes\"\n)\nclass_dist\n\n",
   "execution_count": null
  },
  {
   "cell_type": "markdown",
   "id": "2ecc0713-769c-4db1-a2f2-797ac9d22715",
   "metadata": {
    "name": "md_streamlit",
    "collapsed": false
   },
   "source": "## Streamlit\n\nThe previous script when implemented using Streamlit widgets gives us an interactive data app."
  },
  {
   "cell_type": "code",
   "id": "bd2afc47-1437-48ea-bdd2-6eaee39a7a5f",
   "metadata": {
    "language": "python",
    "name": "py_streamlit"
   },
   "outputs": [],
   "source": "import streamlit as st\nimport altair as alt\nimport modin.pandas as pd\nimport numpy as np\n\n# Set up the page\nst.title(\"🐻 Bear Dataset Exploratory Data Analysis\")\n\n# Display basic dataset information\nst.header(\"Dataset Overview\")\n\n\nwith st.container(border=True):\n    data_col = st.columns(3)\n    data_col[0].metric(\"Total Samples\", len(df))\n    data_col[1].metric(\"Number of Features\", len(df.columns) - 1)\n    data_col[2].metric(\"Number of Species\", len(df['species'].unique()))\n\n# Display summary statistics in a grid\nst.header(\"Summary Statistics\")\n\nwith st.container(border=True):\n    stats_col = st.columns(3)\n    stats_col[0].metric(\"Average Body Mass (kg)\", f\"{numeric_df['body_mass_kg'].mean():.2f}\")\n    stats_col[1].metric(\"Average Shoulder Height (cm)\", f\"{numeric_df['shoulder_hump_height_cm'].mean():.2f}\")\n    stats_col[2].metric(\"Average Claw Length (cm)\", f\"{numeric_df['claw_length_cm'].mean():.2f}\")\n    \n    stats_col2 = st.columns(3)\n    stats_col2[0].metric(\"Average Snout Length (cm)\", f\"{numeric_df['snout_length_cm'].mean():.2f}\")\n    stats_col2[1].metric(\"Average Forearm Circumference (cm)\", f\"{numeric_df['forearm_circumference_cm'].mean():.2f}\")\n    stats_col2[2].metric(\"Average Ear Length (cm)\", f\"{numeric_df['ear_length_cm'].mean():.2f}\")\n\n# Create feature distribution plots\nfeature_col_1 = st.columns(2)\nfeature_col_2 = st.columns(2)\n\nwith feature_col_1[0]:\n    with st.container(border=True):\n        st.header(\"Feature Distributions\")\n        numeric_cols = numeric_df.columns\n        feature = st.selectbox(\"Select Feature\", numeric_cols)\n        \n        with st.spinner(\"Generating feature distribution plot...\"):\n            chart = alt.Chart(df).mark_bar().encode(\n                alt.X(f\"{feature}:Q\", bin=True),\n                y='count()',\n                color=alt.Color('species:N', scale=alt.Scale(scheme='category10'))\n            ).properties(\n                height=380,\n                title=f\"Distribution of {feature} by Species\"\n            )\n            st.altair_chart(chart, use_container_width=True)\n\n# Correlation heatmap\nwith feature_col_1[1]:\n    with st.container(border=True):\n        st.header(\"Feature Correlations\")\n        color_option = st.selectbox(\"Color Scheme:\", ['blueorange', 'spectral', 'viridis'])\n        \n        with st.spinner(\"Generating correlation heatmap...\"):\n            corr_matrix = numeric_df.corr()\n            corr_data = (\n                corr_matrix\n                .stack()\n                .reset_index(name='value')\n                .rename(columns={'level_0': 'index', 'level_1': 'variable'})\n            )\n    \n            corr_chart = alt.Chart(corr_data).mark_rect().encode(\n                x=alt.X('index:N', sort=None),\n                y=alt.Y('variable:N', sort=None),\n                color=alt.Color('value:Q', scale=alt.Scale(scheme=color_option)),\n                tooltip=[alt.Tooltip('index:N'), alt.Tooltip('variable:N'), alt.Tooltip('value:Q')]\n            ).properties(\n                height=380,\n                title=\"Correlation Heatmap\"\n            )\n            st.altair_chart(corr_chart, use_container_width=True)\n\n# Scatter plot for feature relationships\nwith feature_col_2[0]:\n    with st.container(border=True):\n        st.header(\"Feature Relationships\")\n        axis_col = st.columns(2)\n        x_axis = axis_col[0].selectbox(\"Select X-axis feature\", numeric_cols, key=\"x_axis\")\n        y_axis = axis_col[1].selectbox(\"Select Y-axis feature\", numeric_cols, key=\"y_axis\")\n        \n        with st.spinner(\"Generating scatter plot...\"):\n            scatter = alt.Chart(df).mark_circle().encode(\n                x=f'{x_axis}:Q',\n                y=f'{y_axis}:Q',\n                color='species:N',\n                tooltip=[f'{x_axis}:Q', f'{y_axis}:Q', 'Species:N']\n            ).properties(\n                height=380,\n                title=f\"{x_axis} vs {y_axis} by Species\"\n            )\n            st.altair_chart(scatter, use_container_width=True)\n\n# Categorical feature distribution\nwith feature_col_2[1]:\n    with st.container(border=True):\n        st.header(\"Categorical Feature Distribution\")\n        categorical_cols = df.select_dtypes(include=['object']).columns.tolist()\n        categorical_cols = [col for col in categorical_cols if col != 'id']\n        \n        cat_col = st.columns(2)\n        selected_feature = cat_col[0].selectbox(\"Select Feature\", categorical_cols)\n        chart_type = cat_col[1].selectbox(\"Chart Type\", [\"Bar\", \"Pie\"])\n        \n        with st.spinner(\"Generating distribution plot...\"):\n            if chart_type == \"Bar\":\n                chart = alt.Chart(df).mark_bar().encode(\n                    x=f'{selected_feature}:N',\n                    y='count()',\n                    color=f'{selected_feature}:N',\n                    tooltip=[f'{selected_feature}:N', alt.Tooltip('count()', title='Count')]\n                ).properties(\n                    height=380,\n                    title=f\"Distribution of {selected_feature}\"\n                )\n            else:\n                chart = alt.Chart(df).mark_arc().encode(\n                    theta='count()',\n                    color=f'{selected_feature}:N',\n                    tooltip=[f'{selected_feature}:N', alt.Tooltip('count()', title='Count')]\n                ).properties(\n                    height=380,\n                    title=f\"Distribution of {selected_feature}\"\n                )\n            st.altair_chart(chart, use_container_width=True)\n",
   "execution_count": null
  },
  {
   "cell_type": "markdown",
   "id": "f2d15f22-6e17-4d22-8155-7801c6c2afee",
   "metadata": {
    "name": "md_resources",
    "collapsed": false
   },
   "source": "# Resources\nIf you'd like to take a deeper dive into Snowpark pandas:\n- [Altair User Guide](https://altair-viz.github.io/user_guide/data.html)\n- [pandas on Snowflake](https://docs.snowflake.com/en/developer-guide/snowpark/python/pandas-on-snowflake)\n- [Snowpark pandas API](https://docs.snowflake.com/en/developer-guide/snowpark/reference/python/latest/modin/index)\n- [YouTube Playlist on Snowflake Notebooks](https://www.youtube.com/watch?v=YB1B6vcMaGE&list=PLavJpcg8cl1Efw8x_fBKmfA2AMwjUaeBI)"
  }
 ]
}