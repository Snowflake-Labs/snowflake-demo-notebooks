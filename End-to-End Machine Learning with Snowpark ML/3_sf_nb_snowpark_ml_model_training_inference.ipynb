{
  "cells": [
    {
      "cell_type": "markdown",
      "metadata": {
        "collapsed": false,
        "jupyter": {
          "outputs_hidden": false
        },
        "name": "cell1"
      },
      "source": [
        "# Select Packages\n",
        "\n",
        "To get started, let's select a few packages that we will need. In the **Packages** drop-down picker in the top right of the UI, search for and add the following packages by clicking on them:\n",
        "\n",
        "- snowflake-ml-python\n",
        "- seaborn\n",
        "- matplotlib\n",
        "\n",
        "Once you add the packages, click the **Start** button! Once it says **Active**, you're ready to run the rest of the Notebook."
      ]
    },
    {
      "attachments": {},
      "cell_type": "markdown",
      "metadata": {
        "collapsed": false,
        "jupyter": {
          "outputs_hidden": false
        },
        "name": "cell2"
      },
      "source": [
        "## 3. ML Modeling\n",
        "\n",
        "- In this notebook, we will illustrate how to train an XGBoost model with the diamonds dataset using the [Snowpark ML Modeling API](https://docs.snowflake.com/en/developer-guide/snowpark-ml/snowpark-ml-modeling). \n",
        "- We also show how to do inference and manage models via Model Registry or as a UDF (See Appendix).\n",
        "\n",
        "The Snowpark ML Model API supports `scikit-learn`, `xgboost`, and `lightgbm` models."
      ]
    },
    {
      "attachments": {},
      "cell_type": "markdown",
      "metadata": {
        "collapsed": false,
        "jupyter": {
          "outputs_hidden": false
        },
        "name": "cell3"
      },
      "source": [
        "### Import Libraries"
      ]
    },
    {
      "cell_type": "code",
      "execution_count": null,
      "metadata": {
        "codeCollapsed": false,
        "language": "python",
        "name": "cell4"
      },
      "outputs": [],
      "source": [
        "# Snowpark for Python\n",
        "from snowflake.snowpark import Session\n",
        "from snowflake.snowpark.version import VERSION\n",
        "from snowflake.snowpark.functions import udf\n",
        "import snowflake.snowpark.functions as F\n",
        "\n",
        "# Snowpark ML\n",
        "from snowflake.ml.modeling.xgboost import XGBRegressor\n",
        "from snowflake.ml.modeling.model_selection import GridSearchCV\n",
        "from snowflake.ml.registry import Registry\n",
        "from snowflake.ml._internal.utils import identifier\n",
        "\n",
        "# data science libs\n",
        "import pandas as pd\n",
        "import matplotlib.pyplot as plt\n",
        "import seaborn as sns\n",
        "from snowflake.ml.modeling.metrics import mean_absolute_percentage_error\n",
        "\n",
        "# misc\n",
        "import json\n",
        "import joblib\n",
        "import cachetools\n",
        "\n",
        "# warning suppresion\n",
        "import warnings; warnings.simplefilter('ignore')"
      ]
    },
    {
      "cell_type": "code",
      "execution_count": null,
      "metadata": {
        "collapsed": false,
        "jupyter": {
          "outputs_hidden": false
        },
        "language": "sql",
        "name": "cell5"
      },
      "outputs": [],
      "source": [
        "-- Using Warehouse, Database, and Schema created in tutorial #1\n",
        "USE WAREHOUSE ML_HOL_WH;\n",
        "USE DATABASE ML_HOL_DB;\n",
        "USE SCHEMA ML_HOL_SCHEMA;"
      ]
    },
    {
      "cell_type": "code",
      "execution_count": null,
      "metadata": {
        "codeCollapsed": false,
        "language": "python",
        "name": "cell6"
      },
      "outputs": [],
      "source": [
        "# Establish Secure Connection to Snowflake\n",
        "session = get_active_session()"
      ]
    },
    {
      "attachments": {},
      "cell_type": "markdown",
      "metadata": {
        "name": "cell7"
      },
      "source": [
        "### Load the data & preprocessing pipeline"
      ]
    },
    {
      "cell_type": "code",
      "execution_count": null,
      "metadata": {
        "collapsed": false,
        "jupyter": {
          "outputs_hidden": false
        },
        "language": "python",
        "name": "cell8"
      },
      "outputs": [],
      "source": [
        "# Load in the data\n",
        "diamonds_df = session.table(\"DIAMONDS\")\n",
        "diamonds_df"
      ]
    },
    {
      "cell_type": "code",
      "execution_count": null,
      "metadata": {
        "codeCollapsed": false,
        "language": "python",
        "name": "cell9"
      },
      "outputs": [],
      "source": [
        "# Categorize all the features for modeling\n",
        "CATEGORICAL_COLUMNS = [\"CUT\", \"COLOR\", \"CLARITY\"]\n",
        "CATEGORICAL_COLUMNS_OE = [\"CUT_OE\", \"COLOR_OE\", \"CLARITY_OE\"] # To name the ordinal encoded columns\n",
        "NUMERICAL_COLUMNS = [\"CARAT\", \"DEPTH\", \"TABLE_PCT\", \"X\", \"Y\", \"Z\"]\n",
        "\n",
        "LABEL_COLUMNS = ['PRICE']\n",
        "OUTPUT_COLUMNS = ['PREDICTED_PRICE']"
      ]
    },
    {
      "cell_type": "code",
      "execution_count": null,
      "metadata": {
        "codeCollapsed": false,
        "language": "python",
        "name": "cell10"
      },
      "outputs": [],
      "source": [
        "# Load the preprocessing pipeline object from stage- to do this, we download the preprocessing_pipeline.joblib.gz file to the warehouse\n",
        "# where our notebook is running, and then load it using joblib.\n",
        "session.file.get('@ML_HOL_ASSETS/preprocessing_pipeline.joblib.gz', '/tmp')\n",
        "PIPELINE_FILE = '/tmp/preprocessing_pipeline.joblib.gz'\n",
        "preprocessing_pipeline = joblib.load(PIPELINE_FILE)"
      ]
    },
    {
      "attachments": {},
      "cell_type": "markdown",
      "metadata": {
        "name": "cell11"
      },
      "source": [
        "### Build a simple XGBoost Regression model\n",
        "\n",
        "What's happening here? \n",
        "\n",
        "- The `model.fit()` function actually creates a temporary stored procedure in the background. This also means that the model training is a single-node operation. Be sure to use a [Snowpark Optimized Warehouse](https://docs.snowflake.com/en/user-guide/warehouses-snowpark-optimized) if you need more memory. We are just using an XS Standard Virtual Warehouse here, which we created at the beginning of this quickstart.\n",
        "- The `model.predict()` function actually creates a temporary vectorized UDF in the background, which means the input DataFrame is batched as Pandas DataFrames and inference is parallelized across the batches of data.\n",
        "\n",
        "You can check the query history once you execute the following cell to check."
      ]
    },
    {
      "cell_type": "code",
      "execution_count": null,
      "metadata": {
        "language": "python",
        "name": "cell12"
      },
      "outputs": [],
      "source": [
        "# Split the data into train and test sets\n",
        "diamonds_train_df, diamonds_test_df = diamonds_df.random_split(weights=[0.9, 0.1], seed=0)\n",
        "\n",
        "# Run the train and test sets through the Pipeline object we defined earlier\n",
        "train_df = preprocessing_pipeline.fit(diamonds_train_df).transform(diamonds_train_df)\n",
        "test_df = preprocessing_pipeline.transform(diamonds_test_df)"
      ]
    },
    {
      "cell_type": "code",
      "execution_count": null,
      "metadata": {
        "language": "python",
        "name": "cell13"
      },
      "outputs": [],
      "source": [
        "# Define the XGBRegressor\n",
        "regressor = XGBRegressor(\n",
        "    input_cols=CATEGORICAL_COLUMNS_OE+NUMERICAL_COLUMNS,\n",
        "    label_cols=LABEL_COLUMNS,\n",
        "    output_cols=OUTPUT_COLUMNS\n",
        ")\n",
        "\n",
        "# Train\n",
        "regressor.fit(train_df)\n",
        "\n",
        "# Predict\n",
        "result = regressor.predict(test_df)"
      ]
    },
    {
      "cell_type": "code",
      "execution_count": null,
      "metadata": {
        "language": "python",
        "name": "cell14"
      },
      "outputs": [],
      "source": [
        "# Just to illustrate, we can also pass in a Pandas DataFrame to Snowpark ML's model.predict()\n",
        "regressor.predict(test_df[CATEGORICAL_COLUMNS_OE+NUMERICAL_COLUMNS].to_pandas())"
      ]
    },
    {
      "attachments": {},
      "cell_type": "markdown",
      "metadata": {
        "name": "cell15"
      },
      "source": [
        "Let's analyze the results using Snowpark ML's MAPE."
      ]
    },
    {
      "cell_type": "code",
      "execution_count": null,
      "metadata": {
        "language": "python",
        "name": "cell16"
      },
      "outputs": [],
      "source": [
        "mape = mean_absolute_percentage_error(df=result, \n",
        "                                        y_true_col_names=\"PRICE\", \n",
        "                                        y_pred_col_names=\"PREDICTED_PRICE\")\n",
        "\n",
        "result.select(\"PRICE\", \"PREDICTED_PRICE\")"
      ]
    },
    {
      "cell_type": "code",
      "execution_count": null,
      "metadata": {
        "language": "python",
        "name": "cell17"
      },
      "outputs": [],
      "source": [
        "print(f\"Mean absolute percentage error: {mape}\")"
      ]
    },
    {
      "cell_type": "code",
      "execution_count": null,
      "metadata": {
        "codeCollapsed": false,
        "language": "python",
        "name": "cell18"
      },
      "outputs": [],
      "source": [
        "# Plot actual vs predicted \n",
        "g = sns.relplot(data=result[\"PRICE\", \"PREDICTED_PRICE\"].to_pandas().astype(\"float64\"), x=\"PRICE\", y=\"PREDICTED_PRICE\", kind=\"scatter\")\n",
        "g.ax.axline((0,0), slope=1, color=\"r\")\n",
        "\n",
        "plt.show()"
      ]
    },
    {
      "attachments": {},
      "cell_type": "markdown",
      "metadata": {
        "name": "cell19"
      },
      "source": [
        "### Now, let's use Snowpark ML's **Distributed** `GridSearchCV()` function to find optimal model parameters\n",
        "\n",
        "We will increase the warehouse size to scale up our hyperparameter tuning to take advantage of parallelized model training to accelerate this search."
      ]
    },
    {
      "cell_type": "code",
      "execution_count": null,
      "metadata": {
        "language": "sql",
        "name": "cell20"
      },
      "outputs": [],
      "source": [
        "ALTER WAREHOUSE ML_HOL_WH SET WAREHOUSE_SIZE=LARGE;"
      ]
    },
    {
      "cell_type": "code",
      "execution_count": null,
      "metadata": {
        "language": "python",
        "name": "cell21"
      },
      "outputs": [],
      "source": [
        "grid_search = GridSearchCV(\n",
        "    estimator=XGBRegressor(),\n",
        "    param_grid={\n",
        "        \"n_estimators\":[100, 200, 300, 400, 500],\n",
        "        \"learning_rate\":[0.1, 0.2, 0.3, 0.4, 0.5],\n",
        "    },\n",
        "    n_jobs = -1,\n",
        "    scoring=\"neg_mean_absolute_percentage_error\",\n",
        "    input_cols=CATEGORICAL_COLUMNS_OE+NUMERICAL_COLUMNS,\n",
        "    label_cols=LABEL_COLUMNS,\n",
        "    output_cols=OUTPUT_COLUMNS\n",
        ")\n",
        "\n",
        "# Train\n",
        "grid_search.fit(train_df)"
      ]
    },
    {
      "cell_type": "code",
      "execution_count": null,
      "metadata": {
        "language": "sql",
        "name": "cell22"
      },
      "outputs": [],
      "source": [
        "ALTER WAREHOUSE ML_HOL_WH SET WAREHOUSE_SIZE=XSMALL;"
      ]
    },
    {
      "attachments": {},
      "cell_type": "markdown",
      "metadata": {
        "collapsed": false,
        "jupyter": {
          "outputs_hidden": false
        },
        "name": "cell23"
      },
      "source": [
        "We see that the best estimator has the following parameters: `n_estimators=500` & `learning_rate=0.4`.\n",
        "\n",
        "We can use `to_sklearn()` in order to get the actual xgboost model object, which gives us access to all its attributes."
      ]
    },
    {
      "cell_type": "code",
      "execution_count": null,
      "metadata": {
        "language": "python",
        "name": "cell24"
      },
      "outputs": [],
      "source": [
        "print(grid_search.to_sklearn().best_estimator_)"
      ]
    },
    {
      "attachments": {},
      "cell_type": "markdown",
      "metadata": {
        "name": "cell25"
      },
      "source": [
        "We can also analyze the grid search results."
      ]
    },
    {
      "cell_type": "code",
      "execution_count": null,
      "metadata": {
        "language": "python",
        "name": "cell26"
      },
      "outputs": [],
      "source": [
        "# Analyze grid search results\n",
        "gs_results = grid_search.to_sklearn().cv_results_\n",
        "n_estimators_val = []\n",
        "learning_rate_val = []\n",
        "for param_dict in gs_results[\"params\"]:\n",
        "    n_estimators_val.append(param_dict[\"n_estimators\"])\n",
        "    learning_rate_val.append(param_dict[\"learning_rate\"])\n",
        "mape_val = gs_results[\"mean_test_score\"]*-1\n",
        "\n",
        "gs_results_df = pd.DataFrame(data={\n",
        "    \"n_estimators\":n_estimators_val,\n",
        "    \"learning_rate\":learning_rate_val,\n",
        "    \"mape\":mape_val})\n",
        "\n",
        "sns.relplot(data=gs_results_df, x=\"learning_rate\", y=\"mape\", hue=\"n_estimators\", kind=\"line\")\n",
        "\n",
        "plt.show()"
      ]
    },
    {
      "attachments": {},
      "cell_type": "markdown",
      "metadata": {
        "name": "cell27"
      },
      "source": [
        "This is consistent with the `learning_rate=0.4` and `n_estimator=500` chosen as the best estimator with the lowest MAPE."
      ]
    },
    {
      "attachments": {},
      "cell_type": "markdown",
      "metadata": {
        "name": "cell28"
      },
      "source": [
        "Now, let's predict and analyze the results from using the best estimator."
      ]
    },
    {
      "cell_type": "code",
      "execution_count": null,
      "metadata": {
        "language": "python",
        "name": "cell29"
      },
      "outputs": [],
      "source": [
        "# Predict\n",
        "result = grid_search.predict(test_df)\n",
        "\n",
        "# Analyze results\n",
        "mape = mean_absolute_percentage_error(df=result, \n",
        "                                        y_true_col_names=\"PRICE\", \n",
        "                                        y_pred_col_names=\"PREDICTED_PRICE\")\n",
        "\n",
        "result.select(\"PRICE\", \"PREDICTED_PRICE\").show()\n",
        "print(f\"Mean absolute percentage error: {mape}\")"
      ]
    },
    {
      "cell_type": "code",
      "execution_count": null,
      "metadata": {
        "language": "python",
        "name": "cell30"
      },
      "outputs": [],
      "source": [
        "# Plot actual vs predicted \n",
        "g = sns.relplot(data=result[\"PRICE\", \"PREDICTED_PRICE\"].to_pandas().astype(\"float64\"), x=\"PRICE\", y=\"PREDICTED_PRICE\", kind=\"scatter\")\n",
        "g.ax.axline((0,0), slope=1, color=\"r\")\n",
        "\n",
        "plt.show()"
      ]
    },
    {
      "cell_type": "markdown",
      "metadata": {
        "name": "cell31"
      },
      "source": [
        "Let's save our optimal model and its metadata:\n"
      ]
    },
    {
      "cell_type": "code",
      "execution_count": null,
      "metadata": {
        "language": "python",
        "name": "cell32"
      },
      "outputs": [],
      "source": [
        "optimal_model = grid_search.to_sklearn().best_estimator_\n",
        "optimal_n_estimators = grid_search.to_sklearn().best_estimator_.n_estimators\n",
        "optimal_learning_rate = grid_search.to_sklearn().best_estimator_.learning_rate\n",
        "\n",
        "optimal_mape = gs_results_df.loc[(gs_results_df['n_estimators']==optimal_n_estimators) &\n",
        "                                 (gs_results_df['learning_rate']==optimal_learning_rate), 'mape'].values[0]"
      ]
    },
    {
      "attachments": {},
      "cell_type": "markdown",
      "metadata": {
        "name": "cell33"
      },
      "source": [
        "### Manage models using Model Registry"
      ]
    },
    {
      "attachments": {},
      "cell_type": "markdown",
      "metadata": {
        "collapsed": false,
        "jupyter": {
          "outputs_hidden": false
        },
        "name": "cell34"
      },
      "source": [
        "Now, with Snowpark ML's [Model Registry](https://docs.snowflake.com/en/developer-guide/snowpark-ml/snowpark-ml-mlops-model-registry), we have a Snowflake native model versioning and deployment framework. This allows us to log models, tag parameters and metrics, track metadata, create versions, and ultimately execute batch inference tasks in a Snowflake warehouse or deploy to a Snowpark Container Service."
      ]
    },
    {
      "cell_type": "markdown",
      "metadata": {
        "collapsed": false,
        "jupyter": {
          "outputs_hidden": false
        },
        "name": "cell35"
      },
      "source": [
        "First, we will log our models.\n",
        "\n",
        "Refer to [this Medium post](https://medium.com/snowflake/whats-in-a-name-model-naming-versioning-in-snowpark-model-registry-b5f7105fd6f6) on best practices for model naming & versioning conventions."
      ]
    },
    {
      "cell_type": "code",
      "execution_count": null,
      "metadata": {
        "language": "python",
        "name": "cell36"
      },
      "outputs": [],
      "source": [
        "# Get sample input data to pass into the registry logging function\n",
        "X = train_df.select(CATEGORICAL_COLUMNS_OE+NUMERICAL_COLUMNS).limit(100)\n",
        "\n",
        "db = identifier._get_unescaped_name(session.get_current_database())\n",
        "schema = identifier._get_unescaped_name(session.get_current_schema())\n",
        "\n",
        "# Define model name\n",
        "model_name = \"DIAMONDS_PRICE_PREDICTION\"\n",
        "\n",
        "# Create a registry and log the model\n",
        "native_registry = Registry(session=session, database_name=db, schema_name=schema)\n",
        "\n",
        "# Let's first log the very first model we trained\n",
        "model_ver = native_registry.log_model(\n",
        "    model_name=model_name,\n",
        "    version_name='V0',\n",
        "    model=regressor,\n",
        "    sample_input_data=X, # to provide the feature schema\n",
        ")\n",
        "\n",
        "# Add evaluation metric\n",
        "model_ver.set_metric(metric_name=\"mean_abs_pct_err\", value=mape)\n",
        "\n",
        "# Add a description\n",
        "model_ver.comment = \"This is the first iteration of our Diamonds Price Prediction model. It is used for demo purposes.\"\n",
        "\n",
        "# Now, let's log the optimal model from GridSearchCV\n",
        "model_ver2 = native_registry.log_model(\n",
        "    model_name=model_name,\n",
        "    version_name='V1',\n",
        "    model=optimal_model,\n",
        "    sample_input_data=X, # to provide the feature schema\n",
        ")\n",
        "\n",
        "# Add evaluation metric\n",
        "model_ver2.set_metric(metric_name=\"mean_abs_pct_err\", value=optimal_mape)\n",
        "\n",
        "# Add a description\n",
        "model_ver2.comment = \"This is the second iteration of our Diamonds Price Prediction model \\\n",
        "                        where we performed hyperparameter optimization.\""
      ]
    },
    {
      "cell_type": "code",
      "execution_count": null,
      "metadata": {
        "language": "python",
        "name": "cell37"
      },
      "outputs": [],
      "source": [
        "# Let's confirm they were added\n",
        "native_registry.get_model(model_name).show_versions()"
      ]
    },
    {
      "cell_type": "markdown",
      "metadata": {
        "name": "cell38"
      },
      "source": [
        "We can see what the default model is when we have multiple versions with the same model name:\n"
      ]
    },
    {
      "cell_type": "code",
      "execution_count": null,
      "metadata": {
        "language": "python",
        "name": "cell39"
      },
      "outputs": [],
      "source": [
        "native_registry.get_model(model_name).default.version_name"
      ]
    },
    {
      "cell_type": "markdown",
      "metadata": {
        "name": "cell40"
      },
      "source": [
        "Now we can use the optimal model to perform inference."
      ]
    },
    {
      "cell_type": "code",
      "execution_count": null,
      "metadata": {
        "language": "python",
        "name": "cell41"
      },
      "outputs": [],
      "source": [
        "model_ver = native_registry.get_model(model_name).version('v1')\n",
        "result_sdf2 = model_ver.run(test_df, function_name=\"predict\")\n",
        "result_sdf2.show()"
      ]
    },
    {
      "cell_type": "markdown",
      "metadata": {
        "collapsed": false,
        "jupyter": {
          "outputs_hidden": false
        },
        "name": "cell42"
      },
      "source": [
        "You can also execute inference using SQL. To do this, we will use a SQL cell and reference our model's predict method via the model object's name, e.g. `DIAMONDS_PRICE_PREDICTION!predict`."
      ]
    },
    {
      "cell_type": "code",
      "execution_count": null,
      "metadata": {
        "language": "python",
        "name": "cell43"
      },
      "outputs": [],
      "source": [
        "test_df.write.mode('overwrite').save_as_table('diamonds_test', table_type=\"temporary\")"
      ]
    },
    {
      "cell_type": "code",
      "execution_count": null,
      "metadata": {
        "language": "sql",
        "name": "cell44"
      },
      "outputs": [],
      "source": [
        "--- for the default version:\n",
        "SELECT a.*, DIAMONDS_PRICE_PREDICTION!predict(a.CUT_OE, a.COLOR_OE, a.CLARITY_OE, a.CARAT, a.DEPTH, a.TABLE_PCT, a.X, a.Y, a.Z)['PREDICTED_PRICE'] as prediction from diamonds_test a"
      ]
    },
    {
      "cell_type": "code",
      "execution_count": null,
      "metadata": {
        "language": "sql",
        "name": "cell45"
      },
      "outputs": [],
      "source": [
        "--- for any other version (for example V1 below):\n",
        "WITH model_version_alias AS MODEL DIAMONDS_PRICE_PREDICTION VERSION v1 SELECT a.*, model_version_alias!predict(a.CUT_OE, a.COLOR_OE, a.CLARITY_OE, a.CARAT, a.DEPTH, a.TABLE_PCT, a.X, a.Y, a.Z)['output_feature_0'] as prediction from diamonds_test a"
      ]
    },
    {
      "cell_type": "markdown",
      "metadata": {
        "name": "cell46"
      },
      "source": [
        "Let's do some clean up now."
      ]
    },
    {
      "cell_type": "code",
      "execution_count": null,
      "metadata": {
        "language": "python",
        "name": "cell47"
      },
      "outputs": [],
      "source": [
        "# Clean up\n",
        "native_registry.delete_model(model_name)"
      ]
    },
    {
      "cell_type": "code",
      "execution_count": null,
      "metadata": {
        "language": "python",
        "name": "cell48"
      },
      "outputs": [],
      "source": [
        "# Confirm it was deleted\n",
        "native_registry.show_models()"
      ]
    },
    {
      "cell_type": "markdown",
      "metadata": {
        "collapsed": false,
        "jupyter": {
          "outputs_hidden": false
        },
        "name": "cell49"
      },
      "source": [
        "## Conclusion\n",
        "Congratulations, you have successfully completed this quickstart! Through this quickstart, we were able to showcase Snowpark for Machine Learning through the introduction of Snowpark ML, the Python library and underlying infrastructure for data science and machine learning tasks. Now, you can run data preprocessing, feature engineering, model training, and batch inference in a few lines of code without having to define and deploy stored procedures that package scikit-learn, xgboost, or lightgbm code.\n",
        "\n",
        "For more information, check out the resources below:\n",
        "\n",
        "### Related Resources\n",
        "- [Snowpark ML API Docs](https://docs.snowflake.com/en/developer-guide/snowpark-ml/index)\n",
        "- [Getting Started with Data Engineering and ML Using Snowpark](https://quickstarts.snowflake.com/guide/getting_started_with_dataengineering_ml_using_snowpark_python/index.html?index=..%2F..index#0)\n",
        "- [Advanced: Snowpark for Python Data Engineering Guide](https://quickstarts.snowflake.com/guide/data_engineering_pipelines_with_snowpark_python/index.html)\n",
        "- [Advanced: Snowpark for Python Machine Learning Guide](https://quickstarts.snowflake.com/guide/getting_started_snowpark_machine_learning/index.html)\n",
        "- [Snowpark for Python Demos](https://github.com/Snowflake-Labs/snowpark-python-demos/blob/main/README.md)\n",
        "- [Snowpark for Python Developer Docs](https://docs.snowflake.com/en/developer-guide/snowpark/python/index.html)\n"
      ]
    }
  ],
  "metadata": {
    "kernelspec": {
      "display_name": "Python 3 (ipykernel)",
      "language": "python",
      "name": "python3"
    },
    "language_info": {
      "codemirror_mode": {
        "name": "ipython",
        "version": 3
      },
      "file_extension": ".py",
      "mimetype": "text/x-python",
      "name": "python",
      "nbconvert_exporter": "python",
      "pygments_lexer": "ipython3",
      "version": "3.11.5"
    }
  },
  "nbformat": 4,
  "nbformat_minor": 4
}