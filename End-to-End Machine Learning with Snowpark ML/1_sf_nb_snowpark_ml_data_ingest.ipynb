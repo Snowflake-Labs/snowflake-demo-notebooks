{
 "metadata": {
  "kernelspec": {
   "display_name": "pysnowpark",
   "language": "python",
   "name": "python3"
  },
  "language_info": {
   "codemirror_mode": {
    "name": "ipython",
    "version": 3
   },
   "file_extension": ".py",
   "mimetype": "text/x-python",
   "name": "python",
   "nbconvert_exporter": "python",
   "pygments_lexer": "ipython3",
   "version": "3.11.7"
  },
  "orig_nbformat": 4
 },
 "nbformat_minor": 2,
 "nbformat": 4,
 "cells": [
  {
   "cell_type": "markdown",
   "id": "437b8d75-4401-4ae3-b1d9-1fb7496c225c",
   "metadata": {
    "name": "CELL20",
    "collapsed": false
   },
   "source": "# Select Packages\n\nTo get started, let's select a few packages that we will need. In the **Packages** drop-down picker in the top right of the UI, search for and add the following packages by clicking on them:\n\n- snowflake-ml-python\n\nOnce you add the packages, click the **Start** button! Once it says **Active**, you're ready to run the rest of the Notebook."
  },
  {
   "attachments": {},
   "cell_type": "markdown",
   "metadata": {
    "name": "CELL1"
   },
   "source": [
    "## 1. Data Ingestion\n",
    "\n",
    "The `diamonds` dataset has been widely used in data science and machine learning. We will use it to demonstrate Snowflake's native data science transformers in terms of database functionality and Spark & Pandas comportablity, using non-synthetic and statistically appropriate data that is well known to the ML community.\n",
    "\n"
   ],
   "id": "e859a0ee-e614-4ef4-9949-e18a5db8cfef"
  },
  {
   "attachments": {},
   "cell_type": "markdown",
   "metadata": {
    "name": "CELL2"
   },
   "source": [
    "### Import Libraries"
   ],
   "id": "7363d7a2-4d97-4f25-b06a-7c3360848088"
  },
  {
   "cell_type": "code",
   "execution_count": 1,
   "metadata": {
    "name": "CELL3",
    "language": "python"
   },
   "outputs": [
    {
     "name": "stdout",
     "output_type": "stream",
     "text": [
      "Intel MKL WARNING: Support of Intel(R) Streaming SIMD Extensions 4.2 (Intel(R) SSE4.2) enabled only processors has been deprecated. Intel oneAPI Math Kernel Library 2025.0 will require Intel(R) Advanced Vector Extensions (Intel(R) AVX) instructions.\n",
      "Intel MKL WARNING: Support of Intel(R) Streaming SIMD Extensions 4.2 (Intel(R) SSE4.2) enabled only processors has been deprecated. Intel oneAPI Math Kernel Library 2025.0 will require Intel(R) Advanced Vector Extensions (Intel(R) AVX) instructions.\n"
     ]
    }
   ],
   "source": [
    "# Snowpark for Python\n",
    "from snowflake.snowpark import Session\n",
    "from snowflake.snowpark.version import VERSION\n",
    "from snowflake.snowpark.types import StructType, StructField, DoubleType, StringType\n",
    "import snowflake.snowpark.functions as F\n",
    "\n",
    "# data science libs\n",
    "import numpy as np\n",
    "\n",
    "# misc\n",
    "import json"
   ],
   "id": "bb2d64fb-4cb5-49fc-9c9a-517e50eb8e35"
  },
  {
   "attachments": {},
   "cell_type": "markdown",
   "metadata": {
    "name": "CELL4",
    "collapsed": false
   },
   "source": "### Establish Secure Connection to Snowflake\n\nNotebooks establish a Snowpark Session when the notebook is attached to the kernel. Let's use that Session object to validate our connection.",
   "id": "f5bd1bf5-97e3-4e1c-a534-c3f509f81aad"
  },
  {
   "cell_type": "code",
   "execution_count": 2,
   "metadata": {
    "name": "CELL5",
    "language": "python"
   },
   "outputs": [
    {
     "name": "stdout",
     "output_type": "stream",
     "text": [
      "\n",
      "Connection Established with the following parameters:\n",
      "User                        : SIKHADAS\n",
      "Role                        : \"ACCOUNTADMIN\"\n",
      "Database                    : \"ML_HOL_DB\"\n",
      "Schema                      : \"ML_HOL_SCHEMA\"\n",
      "Warehouse                   : \"ML_HOL_WH\"\n",
      "Snowflake version           : 8.9.2\n",
      "Snowpark for Python version : 1.12.0\n"
     ]
    }
   ],
   "source": "# Make a Snowpark Connection\n\n# Edit the connection.json before creating the session object below\n# Create Snowflake Session object\nsession = get_active_session()\nsession.sql_simplifier_enabled = True\n\nsnowflake_environment = session.sql('SELECT current_user(), current_version()').collect()\nsnowpark_version = VERSION\n\n# Current Environment Details\nprint('\\nConnection Established with the following parameters:')\nprint('User                        : {}'.format(snowflake_environment[0][0]))\nprint('Role                        : {}'.format(session.get_current_role()))\nprint('Database                    : {}'.format(session.get_current_database()))\nprint('Schema                      : {}'.format(session.get_current_schema()))\nprint('Warehouse                   : {}'.format(session.get_current_warehouse()))\nprint('Snowflake version           : {}'.format(snowflake_environment[0][1]))\nprint('Snowpark for Python version : {}.{}.{}'.format(snowpark_version[0],snowpark_version[1],snowpark_version[2]))",
   "id": "d50548da-25c9-455f-bf45-12a3c91370f6"
  },
  {
   "attachments": {},
   "cell_type": "markdown",
   "metadata": {
    "name": "CELL6"
   },
   "source": [
    "### Use the Snowpark DataFrame Reader to read in data from the externally staged `diamonds` CSV file \n",
    "\n",
    "In setup.sql, we staged the `diamonds.csv` file from an external s3 bucket. Now, we can read it in.\n",
    "\n",
    "For more information on loading data, see documentation on [snowflake.snowpark.DataFrameReader](https://docs.snowflake.com/ko/developer-guide/snowpark/reference/python/api/snowflake.snowpark.DataFrameReader.html).\n",
    "\n",
    "\n"
   ],
   "id": "b1a9171f-a9ec-4b20-b82c-f8be34b613f6"
  },
  {
   "cell_type": "code",
   "execution_count": 3,
   "metadata": {
    "name": "CELL7",
    "language": "python"
   },
   "outputs": [
    {
     "name": "stdout",
     "output_type": "stream",
     "text": [
      "-----------------------------------------------------------------------------------------------------------------------------------\n",
      "|\"name\"                                              |\"size\"   |\"md5\"                             |\"last_modified\"                |\n",
      "-----------------------------------------------------------------------------------------------------------------------------------\n",
      "|s3://sfquickstarts/intro-to-machine-learning-wi...  |2772143  |4d3d1d4bbad5e0806dbaec425cf90196  |Mon, 10 Jul 2023 22:04:47 GMT  |\n",
      "-----------------------------------------------------------------------------------------------------------------------------------\n",
      "\n",
      "------------------------------------------------------------------------------------------------\n",
      "|\"carat\"  |\"cut\"      |\"color\"  |\"clarity\"  |\"depth\"  |\"table\"  |\"price\"  |\"x\"   |\"y\"   |\"z\"   |\n",
      "------------------------------------------------------------------------------------------------\n",
      "|0.23     |Ideal      |E        |SI2        |61.5     |55.0     |326      |3.95  |3.98  |2.43  |\n",
      "|0.21     |Premium    |E        |SI1        |59.8     |61.0     |326      |3.89  |3.84  |2.31  |\n",
      "|0.23     |Good       |E        |VS1        |56.9     |65.0     |327      |4.05  |4.07  |2.31  |\n",
      "|0.29     |Premium    |I        |VS2        |62.4     |58.0     |334      |4.20  |4.23  |2.63  |\n",
      "|0.31     |Good       |J        |SI2        |63.3     |58.0     |335      |4.34  |4.35  |2.75  |\n",
      "|0.24     |Very Good  |J        |VVS2       |62.8     |57.0     |336      |3.94  |3.96  |2.48  |\n",
      "|0.24     |Very Good  |I        |VVS1       |62.3     |57.0     |336      |3.95  |3.98  |2.47  |\n",
      "|0.26     |Very Good  |H        |SI1        |61.9     |55.0     |337      |4.07  |4.11  |2.53  |\n",
      "|0.22     |Fair       |E        |VS2        |65.1     |61.0     |337      |3.87  |3.78  |2.49  |\n",
      "|0.23     |Very Good  |H        |VS1        |59.4     |61.0     |338      |4.00  |4.05  |2.39  |\n",
      "------------------------------------------------------------------------------------------------\n",
      "\n",
      "-------------------------------------------------------------------------------------------------------------------------------------------------------------------------------------------------\n",
      "|\"SUMMARY\"  |\"carat\"             |\"cut\"      |\"color\"  |\"clarity\"  |\"depth\"             |\"table\"             |\"price\"             |\"x\"                 |\"y\"                |\"z\"                 |\n",
      "-------------------------------------------------------------------------------------------------------------------------------------------------------------------------------------------------\n",
      "|count      |53940.0             |53940      |53940    |53940      |53940.0             |53940.0             |53940.0             |53940.0             |53940.0            |53940.0             |\n",
      "|mean       |0.79793975          |NULL       |NULL     |NULL       |61.7494049          |57.4571839          |3932.799722         |5.73115721          |5.73452595         |3.53873378          |\n",
      "|stddev     |0.4740112443813965  |NULL       |NULL     |NULL       |1.4326213177249598  |2.2344905638646138  |3989.4397381463227  |1.1217607467726798  |1.142134674108093  |0.7056988469595228  |\n",
      "|min        |0.2                 |Fair       |D        |I1         |43.0                |43.0                |326.0               |0.0                 |0.0                |0.0                 |\n",
      "|max        |5.01                |Very Good  |J        |VVS2       |79.0                |95.0                |18823.0             |10.74               |58.9               |31.8                |\n",
      "-------------------------------------------------------------------------------------------------------------------------------------------------------------------------------------------------\n",
      "\n"
     ]
    }
   ],
   "source": [
    "# Show the file before loading\n",
    "session.sql(\"LS @DIAMONDS_ASSETS;\").show()\n",
    "\n",
    "# Create a Snowpark DataFrame that is configured to load data from the CSV file\n",
    "# We can now infer schema from CSV files.\n",
    "diamonds_df = session.read.options({\"field_delimiter\": \",\",\n",
    "                                    \"field_optionally_enclosed_by\": '\"',\n",
    "                                    \"infer_schema\": True,\n",
    "                                    \"parse_header\": True}).csv(\"@DIAMONDS_ASSETS\")\n",
    "\n",
    "diamonds_df.show()\n",
    "\n",
    "# Look at descriptive stats on the DataFrame\n",
    "diamonds_df.describe().show()"
   ],
   "id": "df4fb902-01ad-41a3-a8d4-f3cbf9f27ca7"
  },
  {
   "cell_type": "code",
   "execution_count": 4,
   "metadata": {
    "name": "CELL8",
    "language": "python"
   },
   "outputs": [
    {
     "data": {
      "text/plain": [
       "['\"carat\"',\n",
       " '\"cut\"',\n",
       " '\"color\"',\n",
       " '\"clarity\"',\n",
       " '\"depth\"',\n",
       " '\"table\"',\n",
       " '\"price\"',\n",
       " '\"x\"',\n",
       " '\"y\"',\n",
       " '\"z\"']"
      ]
     },
     "execution_count": 4,
     "metadata": {},
     "output_type": "execute_result"
    }
   ],
   "source": [
    "diamonds_df.columns"
   ],
   "id": "d0b6b7a0-9a39-4416-b79e-2c70732bd516"
  },
  {
   "attachments": {},
   "cell_type": "markdown",
   "metadata": {
    "name": "CELL9"
   },
   "source": [
    "### Data cleaning"
   ],
   "id": "3e5fda3a-1b3d-4b03-8f95-a2e3c85c1763"
  },
  {
   "cell_type": "markdown",
   "metadata": {
    "name": "CELL10"
   },
   "source": [
    "First, let's force headers to uppercase using Snowpark DataFrame operations for standardization when columns are later written to a Snowflake table."
   ],
   "id": "d62a4476-d73b-4e60-9cd6-1271fb4d3fde"
  },
  {
   "cell_type": "code",
   "execution_count": 5,
   "metadata": {
    "name": "CELL11",
    "language": "python"
   },
   "outputs": [
    {
     "name": "stdout",
     "output_type": "stream",
     "text": [
      "----------------------------------------------------------------------------------------------------\n",
      "|\"CARAT\"  |\"CUT\"      |\"COLOR\"  |\"CLARITY\"  |\"DEPTH\"  |\"TABLE_PCT\"  |\"PRICE\"  |\"X\"   |\"Y\"   |\"Z\"   |\n",
      "----------------------------------------------------------------------------------------------------\n",
      "|0.23     |Ideal      |E        |SI2        |61.5     |55.0         |326      |3.95  |3.98  |2.43  |\n",
      "|0.21     |Premium    |E        |SI1        |59.8     |61.0         |326      |3.89  |3.84  |2.31  |\n",
      "|0.23     |Good       |E        |VS1        |56.9     |65.0         |327      |4.05  |4.07  |2.31  |\n",
      "|0.29     |Premium    |I        |VS2        |62.4     |58.0         |334      |4.20  |4.23  |2.63  |\n",
      "|0.31     |Good       |J        |SI2        |63.3     |58.0         |335      |4.34  |4.35  |2.75  |\n",
      "|0.24     |Very Good  |J        |VVS2       |62.8     |57.0         |336      |3.94  |3.96  |2.48  |\n",
      "|0.24     |Very Good  |I        |VVS1       |62.3     |57.0         |336      |3.95  |3.98  |2.47  |\n",
      "|0.26     |Very Good  |H        |SI1        |61.9     |55.0         |337      |4.07  |4.11  |2.53  |\n",
      "|0.22     |Fair       |E        |VS2        |65.1     |61.0         |337      |3.87  |3.78  |2.49  |\n",
      "|0.23     |Very Good  |H        |VS1        |59.4     |61.0         |338      |4.00  |4.05  |2.39  |\n",
      "----------------------------------------------------------------------------------------------------\n",
      "\n"
     ]
    }
   ],
   "source": [
    "# Force headers to uppercase\n",
    "for colname in diamonds_df.columns:\n",
    "    if colname == '\"table\"':\n",
    "       new_colname = \"TABLE_PCT\"\n",
    "    else:\n",
    "        new_colname = str.upper(colname)\n",
    "    diamonds_df = diamonds_df.with_column_renamed(colname, new_colname)\n",
    "\n",
    "diamonds_df.show()"
   ],
   "id": "9ce6c412-94de-4258-9d43-3d0b068b15b5"
  },
  {
   "attachments": {},
   "cell_type": "markdown",
   "metadata": {
    "name": "CELL12"
   },
   "source": [
    "Next, we standardize the category formatting for `CUT` using Snowpark DataFrame operations.\n",
    "\n",
    "This way, when we write to a Snowflake table, there will be no inconsistencies in how the Snowpark DataFrame will read in the category names. Secondly, the feature transformations on categoricals will be easier to encode."
   ],
   "id": "92bb0e15-650e-4cfa-830e-df59cfcac2b5"
  },
  {
   "cell_type": "code",
   "execution_count": 6,
   "metadata": {
    "name": "CELL13",
    "language": "python"
   },
   "outputs": [
    {
     "name": "stdout",
     "output_type": "stream",
     "text": [
      "----------------------------------------------------------------------------------------------------\n",
      "|\"CARAT\"  |\"COLOR\"  |\"CLARITY\"  |\"DEPTH\"  |\"TABLE_PCT\"  |\"PRICE\"  |\"X\"   |\"Y\"   |\"Z\"   |\"CUT\"      |\n",
      "----------------------------------------------------------------------------------------------------\n",
      "|0.23     |E        |SI2        |61.5     |55.0         |326      |3.95  |3.98  |2.43  |IDEAL      |\n",
      "|0.21     |E        |SI1        |59.8     |61.0         |326      |3.89  |3.84  |2.31  |PREMIUM    |\n",
      "|0.23     |E        |VS1        |56.9     |65.0         |327      |4.05  |4.07  |2.31  |GOOD       |\n",
      "|0.29     |I        |VS2        |62.4     |58.0         |334      |4.20  |4.23  |2.63  |PREMIUM    |\n",
      "|0.31     |J        |SI2        |63.3     |58.0         |335      |4.34  |4.35  |2.75  |GOOD       |\n",
      "|0.24     |J        |VVS2       |62.8     |57.0         |336      |3.94  |3.96  |2.48  |VERY_GOOD  |\n",
      "|0.24     |I        |VVS1       |62.3     |57.0         |336      |3.95  |3.98  |2.47  |VERY_GOOD  |\n",
      "|0.26     |H        |SI1        |61.9     |55.0         |337      |4.07  |4.11  |2.53  |VERY_GOOD  |\n",
      "|0.22     |E        |VS2        |65.1     |61.0         |337      |3.87  |3.78  |2.49  |FAIR       |\n",
      "|0.23     |H        |VS1        |59.4     |61.0         |338      |4.00  |4.05  |2.39  |VERY_GOOD  |\n",
      "----------------------------------------------------------------------------------------------------\n",
      "\n"
     ]
    }
   ],
   "source": [
    "def fix_values(columnn):\n",
    "    return F.upper(F.regexp_replace(F.col(columnn), '[^a-zA-Z0-9]+', '_'))\n",
    "\n",
    "for col in [\"CUT\"]:\n",
    "    diamonds_df = diamonds_df.with_column(col, fix_values(col))\n",
    "\n",
    "diamonds_df.show()"
   ],
   "id": "18e6f219-8155-47ed-9a91-db73f88ac49d"
  },
  {
   "cell_type": "markdown",
   "metadata": {
    "name": "CELL14"
   },
   "source": [
    "Check the schema."
   ],
   "id": "27720013-f1b1-4dda-bc57-6b7b22ab91e1"
  },
  {
   "cell_type": "code",
   "execution_count": 7,
   "metadata": {
    "name": "CELL15",
    "language": "python"
   },
   "outputs": [
    {
     "data": {
      "text/plain": [
       "[StructField('CARAT', DecimalType(3, 2), nullable=True),\n",
       " StructField('COLOR', StringType(16777216), nullable=True),\n",
       " StructField('CLARITY', StringType(16777216), nullable=True),\n",
       " StructField('DEPTH', DecimalType(3, 1), nullable=True),\n",
       " StructField('TABLE_PCT', DecimalType(3, 1), nullable=True),\n",
       " StructField('PRICE', LongType(), nullable=True),\n",
       " StructField('X', DecimalType(4, 2), nullable=True),\n",
       " StructField('Y', DecimalType(4, 2), nullable=True),\n",
       " StructField('Z', DecimalType(4, 2), nullable=True),\n",
       " StructField('CUT', StringType(16777216), nullable=True)]"
      ]
     },
     "execution_count": 7,
     "metadata": {},
     "output_type": "execute_result"
    }
   ],
   "source": [
    "list(diamonds_df.schema)"
   ],
   "id": "508ad926-031d-4d5d-870d-e7348a3298fa"
  },
  {
   "cell_type": "markdown",
   "metadata": {
    "name": "CELL16"
   },
   "source": [
    "Finally, let's cast the decimal types to DoubleType() since DecimalType() isn't support by Snowpark ML at the moment."
   ],
   "id": "dacd02b6-efff-45e5-9112-13099db7a593"
  },
  {
   "cell_type": "code",
   "execution_count": 8,
   "metadata": {
    "name": "CELL17",
    "language": "python"
   },
   "outputs": [
    {
     "name": "stdout",
     "output_type": "stream",
     "text": [
      "----------------------------------------------------------------------------------------------------\n",
      "|\"COLOR\"  |\"CLARITY\"  |\"PRICE\"  |\"CUT\"      |\"CARAT\"  |\"X\"   |\"Y\"   |\"Z\"   |\"DEPTH\"  |\"TABLE_PCT\"  |\n",
      "----------------------------------------------------------------------------------------------------\n",
      "|E        |SI2        |326      |IDEAL      |0.23     |3.95  |3.98  |2.43  |61.5     |55.0         |\n",
      "|E        |SI1        |326      |PREMIUM    |0.21     |3.89  |3.84  |2.31  |59.8     |61.0         |\n",
      "|E        |VS1        |327      |GOOD       |0.23     |4.05  |4.07  |2.31  |56.9     |65.0         |\n",
      "|I        |VS2        |334      |PREMIUM    |0.29     |4.2   |4.23  |2.63  |62.4     |58.0         |\n",
      "|J        |SI2        |335      |GOOD       |0.31     |4.34  |4.35  |2.75  |63.3     |58.0         |\n",
      "|J        |VVS2       |336      |VERY_GOOD  |0.24     |3.94  |3.96  |2.48  |62.8     |57.0         |\n",
      "|I        |VVS1       |336      |VERY_GOOD  |0.24     |3.95  |3.98  |2.47  |62.3     |57.0         |\n",
      "|H        |SI1        |337      |VERY_GOOD  |0.26     |4.07  |4.11  |2.53  |61.9     |55.0         |\n",
      "|E        |VS2        |337      |FAIR       |0.22     |3.87  |3.78  |2.49  |65.1     |61.0         |\n",
      "|H        |VS1        |338      |VERY_GOOD  |0.23     |4.0   |4.05  |2.39  |59.4     |61.0         |\n",
      "----------------------------------------------------------------------------------------------------\n",
      "\n"
     ]
    }
   ],
   "source": [
    "for colname in [\"CARAT\", \"X\", \"Y\", \"Z\", \"DEPTH\", \"TABLE_PCT\"]:\n",
    "    diamonds_df = diamonds_df.with_column(colname, diamonds_df[colname].cast(DoubleType()))\n",
    "\n",
    "diamonds_df.show()"
   ],
   "id": "f096d8c8-e1ea-4258-bcca-2db0a230b638"
  },
  {
   "attachments": {},
   "cell_type": "markdown",
   "metadata": {
    "name": "CELL18"
   },
   "source": [
    "### Write cleaned data to a Snowflake table"
   ],
   "id": "e573e90a-a592-48fa-8d7f-7939acbf0abb"
  },
  {
   "cell_type": "code",
   "execution_count": 9,
   "metadata": {
    "name": "CELL19",
    "language": "python"
   },
   "outputs": [],
   "source": [
    "diamonds_df.write.mode('overwrite').save_as_table('diamonds')"
   ],
   "id": "a3ea2b0e-c23c-4626-a532-3e5403669955"
  }
 ]
}