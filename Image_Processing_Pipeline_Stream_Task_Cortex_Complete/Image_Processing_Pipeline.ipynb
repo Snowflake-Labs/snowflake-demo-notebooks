{
 "metadata": {
  "kernelspec": {
   "display_name": "Streamlit Notebook",
   "name": "streamlit"
  },
  "lastEditStatus": {
   "notebookId": "n54d2mm74cvdxf25chvs",
   "authorId": "94022846931",
   "authorName": "DASH",
   "authorEmail": "dash.desai@snowflake.com",
   "sessionId": "5c742ed7-6c19-45d4-81b8-f3943563dd36",
   "lastEditTime": 1744726555578
  }
 },
 "nbformat_minor": 5,
 "nbformat": 4,
 "cells": [
  {
   "cell_type": "markdown",
   "id": "28916a15-ea2d-47ca-8d1f-75dc395fdcae",
   "metadata": {
    "name": "Overview",
    "collapsed": false
   },
   "source": "# Image Processing Pipeline using Snowflake Cortex\n\nThis notebooks demonstrates the implementation of an image processing pipeline using [Streams](https://docs.snowflake.com/en/user-guide/streams-intro), [Tasks](https://docs.snowflake.com/en/user-guide/tasks-intro) and [SNOWFLAKE.CORTEX.COMPLETE multimodal](https://docs.snowflake.com/en/sql-reference/functions/complete-snowflake-cortex-multimodal) capability. (*Currently in Public Preview.*)"
  },
  {
   "cell_type": "markdown",
   "id": "db0e5507-9aa1-4115-a642-65709994bad5",
   "metadata": {
    "name": "_Step1",
    "collapsed": false
   },
   "source": "Step 1: Create Snowflake managed stage to store sample images."
  },
  {
   "cell_type": "code",
   "id": "0eb15096-8d11-48b2-abc3-0250ed43c599",
   "metadata": {
    "language": "sql",
    "name": "Create_Stage"
   },
   "outputs": [],
   "source": "CREATE stage GENAI_IMAGES encryption = (TYPE = 'SNOWFLAKE_SSE') directory = ( ENABLE = true );",
   "execution_count": null
  },
  {
   "cell_type": "markdown",
   "id": "e5ebef76-111f-4652-b301-586a9fb1ea7b",
   "metadata": {
    "name": "_Step2",
    "collapsed": false
   },
   "source": "Step 2: Download two sample images provided below and upload them on stage `GENAI_IMAGES`. [Learn how](https://docs.snowflake.com/en/user-guide/data-load-local-file-system-stage-ui?_fsi=oZm563yp&_fsi=oZm563yp#upload-files-onto-a-named-internal-stage)\n\nSample images:\n- https://sfquickstarts.s3.us-west-1.amazonaws.com/misc/images/other/sample-img-1.png\n- https://sfquickstarts.s3.us-west-1.amazonaws.com/misc/images/other/sample-img-2.jpg\n\n\n*Note: Sample images provided courtesy of [Dash](https://natureunraveled.com/).*"
  },
  {
   "cell_type": "markdown",
   "id": "21d0374d-5467-4922-8fa5-e118ca0e5310",
   "metadata": {
    "name": "_Step3",
    "collapsed": false
   },
   "source": "Step 3: Create Stream `images_stream` on stage `GENAI_IMAGES` to detect changes."
  },
  {
   "cell_type": "code",
   "id": "7b1d037f-d0f4-44e1-8443-afd4da31face",
   "metadata": {
    "language": "sql",
    "name": "Create_Stream"
   },
   "outputs": [],
   "source": "CREATE OR REPLACE STREAM images_stream ON STAGE GENAI_IMAGES;",
   "execution_count": null
  },
  {
   "cell_type": "markdown",
   "id": "15a8d1c1-449e-4e26-8435-b2c19affe343",
   "metadata": {
    "name": "_Step4",
    "collapsed": false
   },
   "source": "Step 4: Create target table `image_analysis` to store image analysis."
  },
  {
   "cell_type": "code",
   "id": "917a7304-f0d1-4445-a91e-8b355c8b2db1",
   "metadata": {
    "language": "sql",
    "name": "Create_Target_Table"
   },
   "outputs": [],
   "source": "CREATE OR REPLACE TABLE image_analysis \nas \nSELECT RELATIVE_PATH,SNOWFLAKE.CORTEX.COMPLETE('pixtral-large',\n    'Put image filename in an attribute called \"Image.\"\n     Put a short title in title case in an attribute called \"Title\".\n     Put 3 key points in an attribute called \"Highlights\",\n     Extract any statistics (years, historical data, amounts, etc.) along with the context in an attribute called \"Stats\",\n     Put a 200-word detailed summary summarizing the image in an attribute called \"Summary\"', \n     TO_FILE('@GENAI_IMAGES', RELATIVE_PATH)) as image_classification \nfrom directory(@GENAI_IMAGES);",
   "execution_count": null
  },
  {
   "cell_type": "markdown",
   "id": "53594c24-762c-48d1-8572-c3f17a98a1e2",
   "metadata": {
    "name": "_step5",
    "collapsed": false
   },
   "source": "Step 5: Preview image analysis produced on the sample images"
  },
  {
   "cell_type": "code",
   "id": "d11b5868-3892-447a-bd54-cd58932ead67",
   "metadata": {
    "language": "sql",
    "name": "Preview_Images"
   },
   "outputs": [],
   "source": "select * from image_analysis;",
   "execution_count": null
  },
  {
   "cell_type": "markdown",
   "id": "565ef0dd-9ed7-4deb-b2ea-1710a6449ca8",
   "metadata": {
    "name": "_Step6",
    "collapsed": false
   },
   "source": "Step 6: Create Task `image_analysis_task` to process new images uploaded on stage `GENAI_IMAGES` using SNOWFLAKE.CORTEX.COMPLETE() multimodal capability."
  },
  {
   "cell_type": "code",
   "id": "d80b2f3e-c82e-4281-8ef0-4897bcae5d86",
   "metadata": {
    "language": "sql",
    "name": "Create_Task"
   },
   "outputs": [],
   "source": "CREATE OR REPLACE TASK image_analysis_task\nSCHEDULE = '1 minute'\nWHEN\n  SYSTEM$STREAM_HAS_DATA('images_stream')\nAS\n  INSERT INTO image_analysis (RELATIVE_PATH, image_classification)\n    SELECT RELATIVE_PATH,SNOWFLAKE.CORTEX.COMPLETE('pixtral-large',\n        'Put image filename in an attribute called \"Image.\"\n         Put a short title in title case in an attribute called \"Title\".\n         Put a 200-word detailed summary summarizing the image in an attribute called \"Summary\"', \n         TO_FILE('@GENAI_IMAGES', RELATIVE_PATH)) as image_classification \n    from images_stream;\n\n-- NOTE: Tasks are suspended by default so let's resume it.\nALTER TASK image_analysis_task RESUME;",
   "execution_count": null
  },
  {
   "cell_type": "markdown",
   "id": "5fc732cd-b4d1-4487-a877-b7507519aa8a",
   "metadata": {
    "name": "_Step7",
    "collapsed": false
   },
   "source": "Step 7: Confirm Task status "
  },
  {
   "cell_type": "code",
   "id": "1b629f24-ab24-4ce8-bdd4-936d82d83b00",
   "metadata": {
    "language": "sql",
    "name": "Task_Status"
   },
   "outputs": [],
   "source": "SHOW TASKS like 'image_analysis_task';",
   "execution_count": null
  },
  {
   "cell_type": "markdown",
   "id": "2fb915bd-c5ed-4be8-8863-5a8d71e3e344",
   "metadata": {
    "name": "_Step8",
    "collapsed": false
   },
   "source": "Step 8:  Download new sample image provided below and upload it on stage `GENAI_IMAGES`. [Learn how](https://docs.snowflake.com/en/user-guide/data-load-local-file-system-stage-ui?_fsi=oZm563yp&_fsi=oZm563yp#upload-files-onto-a-named-internal-stage)\n\nSample image:\n- https://sfquickstarts.s3.us-west-1.amazonaws.com/misc/images/other/sample-img-3.jpg\n\n*Note: Sample image provided courtesy of [Dash](https://natureunraveled.com/).*"
  },
  {
   "cell_type": "markdown",
   "id": "ae0b6047-de5a-43f4-bdb5-7b6dee3345ac",
   "metadata": {
    "name": "_Step9",
    "collapsed": false
   },
   "source": "Step 9: Preview image analysis produced on the new sample image"
  },
  {
   "cell_type": "code",
   "id": "e66b4b64-3987-4d54-af94-bbdb9eea3765",
   "metadata": {
    "language": "sql",
    "name": "Preview_New_Image"
   },
   "outputs": [],
   "source": "select * from image_analysis;",
   "execution_count": null
  },
  {
   "cell_type": "markdown",
   "id": "11acad0a-209b-4538-b447-ad57dd9c1d2e",
   "metadata": {
    "name": "_Step10",
    "collapsed": false
   },
   "source": "Step 10: Suspend task"
  },
  {
   "cell_type": "code",
   "id": "6e8ff070-38b7-4f60-88b6-b21e2113d8d4",
   "metadata": {
    "language": "sql",
    "name": "Suspend_Task"
   },
   "outputs": [],
   "source": "ALTER TASK image_analysis_task SUSPEND;",
   "execution_count": null
  }
 ]
}