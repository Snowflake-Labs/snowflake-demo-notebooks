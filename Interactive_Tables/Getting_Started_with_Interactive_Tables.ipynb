{
 "metadata": {
  "kernelspec": {
   "display_name": "Jupyter Notebook",
   "name": "jupyter"
  },
  "lastEditStatus": {
   "notebookId": "tiadeqlui4ugo4xqxq5o",
   "authorId": "5295375235319",
   "authorName": "ADMIN",
   "authorEmail": "",
   "sessionId": "f71d4dd4-9d85-4718-9e9d-09da7a1b88db",
   "lastEditTime": 1760721587807
  }
 },
 "nbformat_minor": 5,
 "nbformat": 4,
 "cells": [
  {
   "cell_type": "markdown",
   "id": "408e5591-616b-44b8-b99e-02acfb54adb6",
   "metadata": {
    "name": "title",
    "collapsed": false
   },
   "source": "# Getting Started with Interactive Tables"
  },
  {
   "cell_type": "markdown",
   "id": "25d39162-11a4-462e-b726-915ffe4887fb",
   "metadata": {
    "name": "md_library",
    "collapsed": false
   },
   "source": "## Load libraries and define custom functions\n\nFirstly, make sure to have prerequisite libraries installed in your Snowflake Notebook environment. \n\nTo do this, click on **Packages** and add the following packages to the **Anaconda Packages** tab:\n- `matplotlib`\n- `tabulate`"
  },
  {
   "cell_type": "code",
   "id": "3775908f-ca36-4846-8f38-5adca39217f2",
   "metadata": {
    "language": "python",
    "name": "py_library",
    "collapsed": false,
    "codeCollapsed": false
   },
   "source": "import snowflake.connector as snow\nimport matplotlib.pyplot as plt\nimport numpy as np\nimport pandas as pd\nimport time\nimport datetime\nimport random\nimport statistics\nimport tabulate\nfrom concurrent.futures import ThreadPoolExecutor, as_completed\n\nconn_kwargs={}\n\ndef execute_and_print(query):\n    cursor.execute(query)\n    print(tabulate.tabulate(cursor.fetchall()))\n\ndef run_and_measure(count, mode):\n\n    if mode ==\"std\":\n        query = \"\"\"\n                SELECT SearchEngineID, ClientIP, COUNT(*) AS c, SUM(IsRefresh), AVG(ResolutionWidth) FROM \n                BENCHMARK_FDN.HITS2_CSV\n                WHERE SearchPhrase <> '' GROUP BY SearchEngineID, ClientIP ORDER BY c DESC LIMIT 10;\n                \"\"\"\n        warehouse_query =\"USE WAREHOUSE wh\"\n    else:\n        query = \"\"\"\n                SELECT SearchEngineID, ClientIP, COUNT(*) AS c, SUM(IsRefresh), AVG(ResolutionWidth) FROM \n                BENCHMARK_INTERACTIVE.CUSTOMERS\n                WHERE SearchPhrase <> '' GROUP BY SearchEngineID, ClientIP ORDER BY c DESC LIMIT 10;\n                \"\"\"\n        warehouse_query =\"USE WAREHOUSE interactive_demo_b\"\n    timings = []\n    with snow.connect(**conn_kwargs) as conn:\n        with conn.cursor() as cur:\n            cur.execute(warehouse_query)\n            cursor.execute('ALTER SESSION SET USE_CACHED_RESULT = FALSE;')\n            for i in range(count+1):\n                t0 = time.time()\n                cur.execute(query).fetchall()\n                time_taken = time.time() - t0\n                timings.append(time_taken)\n                \n    return timings[1:]\n    \ndef plot_data(data, title, time_taken, color='#29B5E8'):\n    # Separate titles and counts\n    titles = [item[0] for item in data]\n    counts = [item[1] for item in data]\n\n    # Plot bar chart\n    \n    plt.figure(figsize=(12, 4))\n    plt.bar(titles, counts, color=color)\n    plt.xticks(rotation=45, ha='right')\n    plt.ylabel(\"Counts\")\n    plt.xlabel(\"Title\")\n    plt.title(title)\n    plt.text(0.5, 1.5, f'Time taken: {time_taken:.4f} seconds',\n         ha='center', va='top',\n         transform=plt.gca().transAxes,\n         fontdict={'size': 16})\n    #plt.tight_layout()\n    plt.show()\n\n# Separate titles and counts\n#titles = ['Run 1', 'Run 2', 'Run 3', 'Run 4', 'Run 5', 'Run 6', 'Run 7', 'Run 8']\ncounts_std = [0.1,0.15, 0.09, 0.12, 0.11, 0.13, 0.10, 0.14]\ncounts_iw = [0.05, 0.08, 0.07, 0.06, 0.09, 0.08, 0.07, 0.06]",
   "execution_count": null,
   "outputs": []
  },
  {
   "cell_type": "markdown",
   "id": "678d459c-23d9-471d-ba70-4d27614ce946",
   "metadata": {
    "name": "md_connect",
    "collapsed": false
   },
   "source": "## Setting up connection to a Snowflake deployment and verifying versions\n\nHere, we'll connect to Snowflake and verify the version and confirm that key interactive features are enabled, before setting the active database and role for the session."
  },
  {
   "cell_type": "code",
   "id": "8d50cbf4-0c8d-4950-86cb-114990437ac9",
   "metadata": {
    "language": "python",
    "name": "py_connect"
   },
   "source": "config = { }\ncursor = snow.connect(**config).cursor()\nexecute_and_print('select current_version();')\nexecute_and_print(\"show parameters like 'ENABLE_INTERACTIVE_WAREHOUSES' for account;\")\nexecute_and_print(\"show parameters like 'ENABLE_INTERACTIVE_TABLE_DDL' for account;\")\nexecute_and_print(\"show parameters like 'SHOW_INCLUDE_INTERACTIVE_TABLES' for account;\")\nquery = \"\"\" USE DATABASE MY_DEMO_DB; \"\"\"\nexecute_and_print(query)\n\nquery = \"\"\" USE ROLE SYSADMIN;  \"\"\"\nexecute_and_print(query)",
   "execution_count": null,
   "outputs": []
  },
  {
   "cell_type": "markdown",
   "id": "2bf02b1f-d13a-466b-9b20-5d7fd5c63b97",
   "metadata": {
    "name": "md_create_iw",
    "collapsed": false
   },
   "source": "## Create an interactive warehouse & Turn it on\n![alt text](https://github.com/sfc-gh-cnantasenamat/sfquickstarts/blob/patch-4/site/sfguides/src/getting_started_with_interactive_tables/assets/create-turn-on-interactive-warehouse.png?raw=true)\n\nNext, let's create our `interactive_demo_b` warehouse and immediately turn it on:"
  },
  {
   "cell_type": "code",
   "id": "c695373e-ac74-4b62-a1f1-08206cbd5c81",
   "metadata": {
    "language": "python",
    "name": "py_create_iw"
   },
   "source": "query = \"\"\"\nCREATE or REPLACE INTERACTIVE WAREHOUSE interactive_demo_b\n                WAREHOUSE_SIZE = 'XSMALL'\n                MIN_CLUSTER_COUNT = 1\n                MAX_CLUSTER_COUNT = 1\n                COMMENT = 'Interactive warehouse demo';\n\"\"\"\nexecute_and_print(query)\nquery = \"\"\"\nALTER WAREHOUSE INTERACTIVE_DEMO_B RESUME;\n\"\"\"\nexecute_and_print(query)",
   "execution_count": null,
   "outputs": []
  },
  {
   "cell_type": "markdown",
   "id": "ef8c9bba-6d7a-49b7-8811-1d3d8db0f262",
   "metadata": {
    "name": "cell1",
    "collapsed": false
   },
   "source": "## The Data\n\nRun `setup.sql` to setup the database that we'll need for the forthcoming tutorial. After running the setup script, you'll have created the `MY_DEMO_DB` database and `BENCHMARK_FDN` schema that houses the `HITS2_CSV` table."
  },
  {
   "cell_type": "code",
   "id": "3479d56c-801e-439d-81ad-6f3226a9cb70",
   "metadata": {
    "language": "sql",
    "name": "sql_query_data"
   },
   "outputs": [],
   "source": "USE WAREHOUSE WH;\nSELECT * FROM MY_DEMO_DB.BENCHMARK_FDN.HITS2_CSV",
   "execution_count": null
  },
  {
   "cell_type": "markdown",
   "id": "06df641b-3770-40d2-a811-211a6dcc1e00",
   "metadata": {
    "name": "md_create_it",
    "collapsed": false
   },
   "source": "## Create an interactive table\n![alt text](https://github.com/sfc-gh-cnantasenamat/sfquickstarts/blob/patch-4/site/sfguides/src/getting_started_with_interactive_tables/assets/create-interactive-table.png?raw=true)\n\nNow, we'll use the `WH` warehouse to efficiently create our new interactive `CUSTOMERS` table by copying all the data from the original standard table:"
  },
  {
   "cell_type": "code",
   "id": "75bc75ff-e185-473b-ad04-551b7bab69fa",
   "metadata": {
    "language": "python",
    "name": "py_create_it"
   },
   "outputs": [],
   "source": "print(\"Switch to demo database\")\nprint(cursor.execute(\"USE DATABASE MY_DEMO_DB\").fetchall())\n\nprint(\"Use a standard warehouse for creating the interactive table's data\")\nprint(cursor.execute(\"USE WAREHOUSE WH\").fetchall())\n\nquery = \"\"\"\nCREATE OR REPLACE INTERACTIVE TABLE \nMY_DEMO_DB.BENCHMARK_INTERACTIVE.CUSTOMERS CLUSTER BY (ClientIP)\nAS\n SELECT * FROM MY_DEMO_DB.BENCHMARK_FDN.HITS2_CSV\n \n\"\"\"\nexecute_and_print(query)",
   "execution_count": null
  },
  {
   "cell_type": "markdown",
   "id": "17be0555-d65b-4cf4-8957-667737fe2c96",
   "metadata": {
    "name": "md_attach",
    "collapsed": false
   },
   "source": "## Attach interactive table to a warehouse\n\n![alt text](https://github.com/sfc-gh-cnantasenamat/sfquickstarts/blob/patch-4/site/sfguides/src/getting_started_with_interactive_tables/assets/attach-interactive-table-to-warehouse.png?raw=true)\n\nNext, we'll attach our interactive table to the warehouse, which pre-warms the data cache for optimal query performance:"
  },
  {
   "cell_type": "code",
   "id": "92b6ee93-d4e8-4af0-a637-09f68842cfea",
   "metadata": {
    "language": "python",
    "name": "py_attach"
   },
   "outputs": [],
   "source": "query = \"\"\"\nUSE DATABASE MY_DEMO_DB;\n\"\"\"\nexecute_and_print(query)\n\nquery = \"\"\"\nALTER WAREHOUSE interactive_demo_b ADD TABLES(BENCHMARK_INTERACTIVE.CUSTOMERS);\n\"\"\"\nexecute_and_print(query)",
   "execution_count": null
  },
  {
   "cell_type": "markdown",
   "id": "e1c97931-bcb6-4b37-a4e5-82e328f29348",
   "metadata": {
    "name": "md_iw_run",
    "collapsed": false
   },
   "source": "## Run queries with interactive warehouse\n\n![alt text](https://github.com/sfc-gh-cnantasenamat/sfquickstarts/blob/patch-4/site/sfguides/src/getting_started_with_interactive_tables/assets/run-queries-with-interactive-warehouse.png?raw=true)\n\nNow, we'll run our first performance test on the interactive setup by executing a page-view query, timing its execution, and then plotting the results.\n\nWe'll start by activating the interactive warehouse and disabling the result cache:"
  },
  {
   "cell_type": "code",
   "id": "0df4c4d2-7d8d-42d7-946b-0fbe9dbb0a82",
   "metadata": {
    "language": "python",
    "name": "py_iw_run"
   },
   "outputs": [],
   "source": "print(\"Use a standard warehouse for creating the interactive table's data\")\ncursor.execute(\"USE WAREHOUSE interactive_demo_b\")\ncursor.execute('USE DATABASE MY_DEMO_DB;')\ncursor.execute('ALTER SESSION SET USE_CACHED_RESULT = FALSE;')",
   "execution_count": null
  },
  {
   "cell_type": "markdown",
   "id": "07087020-5f95-425d-b960-a5fa2d853f1a",
   "metadata": {
    "name": "md_iw_run_exec",
    "collapsed": false
   },
   "source": "Next, we'll run a query to find the top 10 most viewed pages for July 2013, measures how long it takes, and then plots the results and execution time:"
  },
  {
   "cell_type": "code",
   "id": "85da3c19-ac70-44c6-bf92-e274487c1ac2",
   "metadata": {
    "language": "python",
    "name": "iw_run_exec"
   },
   "outputs": [],
   "source": "query = \"\"\"\nSELECT Title, COUNT(*) AS PageViews\nFROM BENCHMARK_INTERACTIVE.CUSTOMERS\nWHERE CounterID = 62\n  AND EventDate >= '2013-07-01'\n  AND EventDate <= '2013-07-31'\n  AND DontCountHits = 0\n  AND IsRefresh = 0\n  AND Title <> ''\n  AND REGEXP_LIKE(Title, '^[\\\\x00-\\\\x7F]+$')\n  AND LENGTH(Title) < 20\nGROUP BY Title\nORDER BY PageViews DESC\nLIMIT 10;\n\"\"\"\n\nstart_time = time.time()\nresult = cursor.execute(query).fetchall()\nend_time = time.time()\ntime_taken = end_time - start_time\n\nplot_data(result, \"Page visit analysis (Interactive)\", time_taken)",
   "execution_count": null
  },
  {
   "cell_type": "markdown",
   "id": "905bcba6-212f-48e4-9deb-69d4d6d2c6fe",
   "metadata": {
    "name": "md_compare",
    "collapsed": false
   },
   "source": "## Compare to a standard warehouse\n\n![alt text](https://github.com/sfc-gh-cnantasenamat/sfquickstarts/blob/patch-4/site/sfguides/src/getting_started_with_interactive_tables/assets/compare-to-standard-warehouse.png?raw=true)\n\nTo establish a performance baseline, we'll run an identical page-view query on a standard warehouse to measure and plot its results for comparison.\n\nWe'll start by preparing the session for a performance benchmark by selecting a standard `WH` warehouse, disabling the result cache, and setting the active database:"
  },
  {
   "cell_type": "code",
   "id": "deb58f61-0357-4a3b-860f-1407cf339a8a",
   "metadata": {
    "language": "python",
    "name": "py_std_run"
   },
   "outputs": [],
   "source": "print(\"Use a standard warehouse for creating the interactive table's data\")\ncursor.execute(\"USE WAREHOUSE WH\")\ncursor.execute('ALTER SESSION SET USE_CACHED_RESULT = FALSE;')\ncursor.execute('USE DATABASE MY_DEMO_DB;')",
   "execution_count": null
  },
  {
   "cell_type": "markdown",
   "id": "96b774c2-bf3f-4373-9b76-4d943016c724",
   "metadata": {
    "name": "md_std_iw_run_exec",
    "collapsed": false
   },
   "source": "Here, we'll run a top 10 page views analysis by executing the query, measuring its performance, and immediately plotting the results and execution time:"
  },
  {
   "cell_type": "code",
   "id": "eee7b3aa-a2e7-43ec-a972-a8665b531f9d",
   "metadata": {
    "language": "python",
    "name": "py_std_iw_run_exec"
   },
   "outputs": [],
   "source": "query = \"\"\"\nSELECT Title, COUNT(*) AS PageViews\nFROM BENCHMARK_FDN.HITS2_CSV\nWHERE CounterID = 62\n  AND EventDate >= '2013-07-01'\n  AND EventDate <= '2013-07-31'\n  AND DontCountHits = 0\n  AND IsRefresh = 0\n  AND Title <> ''\n  AND REGEXP_LIKE(Title, '^[\\\\x00-\\\\x7F]+$')\n  AND LENGTH(Title) < 20\nGROUP BY Title\nORDER BY PageViews DESC\nLIMIT 10;\n\"\"\"\n\nstart_time = time.time()\nresult = cursor.execute(query).fetchall()\nend_time = time.time()\ntime_taken = end_time - start_time\n\nplot_data(result, \"Page visit analysis (Standard)\", time_taken, '#5B5B5B')\n",
   "execution_count": null
  },
  {
   "cell_type": "markdown",
   "id": "4188353f-c814-42cb-b9e4-13f2c5d9723c",
   "metadata": {
    "name": "md_run_queries",
    "collapsed": false
   },
   "source": "## Run some queries concurrently\n\nTo directly compare performance, we'll benchmark both the interactive and standard warehouses over several runs and then plot their latencies side-by-side in a grouped bar chart:"
  },
  {
   "cell_type": "code",
   "id": "5ef2c353-90d1-456b-881c-bcac440f10f8",
   "metadata": {
    "language": "python",
    "name": "py_run_queries"
   },
   "outputs": [],
   "source": "runs = 5\n\ncounts_iw = run_and_measure(runs,\"iw\")\nprint(counts_iw)\n\ncounts_std = run_and_measure(runs,\"std\")\nprint(counts_std)\n\ntitles = [f\"R{i}\" for i in range(1, len(counts_iw)+1)]\n\nx = np.arange(len(titles))  # the label locations\nwidth = 0.35  # bar width\n\nfig, ax = plt.subplots(figsize=(8, 5))\nax.bar(x - width/2, counts_std, width, label=\"Standard\", color=\"#5B5B5B\")\nax.bar(x + width/2, counts_iw, width, label=\"Interactive\", color=\"#29B5E8\")\n\nax.set_ylabel(\"Latency\")\nax.set_xlabel(\"Query run\")\nax.set_title(\"Standard vs Interactive warehouse\")\nax.set_xticks(x)\nax.set_xticklabels(titles)\nax.legend(\n    loc='upper center',\n    bbox_to_anchor=(0.5, -0.15),\n    ncol=2\n)\nplt.show()\n\n",
   "execution_count": null
  }
 ]
}