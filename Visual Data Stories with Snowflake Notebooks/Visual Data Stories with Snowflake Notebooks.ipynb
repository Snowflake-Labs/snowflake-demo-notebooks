{
 "metadata": {
  "kernelspec": {
   "display_name": "Streamlit Notebook",
   "name": "streamlit"
  },
  "lastEditStatus": {
   "notebookId": "ogkrlqqvlepeplsa5vrg",
   "authorId": "61119818470",
   "authorName": "",
   "authorEmail": "",
   "sessionId": "f70b7346-b7d5-4a6a-9bbf-87296f4a63d1",
   "lastEditTime": 1744835079409
  }
 },
 "nbformat_minor": 5,
 "nbformat": 4,
 "cells": [
  {
   "cell_type": "markdown",
   "id": "19dd2287-3024-443b-979f-386c8ba4e8ce",
   "metadata": {
    "name": "try-now"
   },
   "source": [
    "# Try this demo out!\n",
    "```python\n",
    "# Install snowflake.demos and run this in your local development environment or in Snowflake Notebooks\n",
    "import snowflake.demos\n",
    "snowflake.demos.load_demo('visual-data-stories')\n",
    "```"
   ]
  },
  {
   "cell_type": "markdown",
   "id": "60aa4826-ef81-4217-9dbd-336397e056c0",
   "metadata": {
    "collapsed": false,
    "name": "intro_md",
    "resultHeight": 167
   },
   "source": "# Visual Data Stories with Snowflake Notebooks\n\nIn this tutorial, we will walk you through the different ways you can enrich your data narrative through engaging visuals in Snowflake Notebooks. We will demonstrate how you can develop visualizations, work with Markdown text, embed images, and build awesome data apps all within your notebook, alongside your code and data.\n\n**Note**: Before we start, please make sure that you've installed Plotly from the `Packages` drop down in the top right corner. "
  },
  {
   "cell_type": "code",
   "execution_count": null,
   "id": "7e1072e0-562d-4584-92f9-988e3d0e7465",
   "metadata": {
    "codeCollapsed": false,
    "language": "python",
    "name": "import_packages",
    "resultHeight": 0
   },
   "outputs": [],
   "source": "# Import python packages\nimport streamlit as st\nimport pandas as pd\nimport numpy as np"
  },
  {
   "cell_type": "markdown",
   "id": "27269da4-823f-4a23-8324-5ccd5db61720",
   "metadata": {
    "collapsed": false,
    "name": "visualizations_md",
    "resultHeight": 143
   },
   "source": "## Data visualizations 📊\n\nWith Snowflake Notebooks, you can use your favorite Python visualization library, including plotly, altair, and matplotlib to develop your visualization.\n\nFirst, let's generate a toy snowfall dataset."
  },
  {
   "cell_type": "code",
   "execution_count": null,
   "id": "3775908f-ca36-4846-8f38-5adca39217f2",
   "metadata": {
    "codeCollapsed": false,
    "collapsed": false,
    "language": "python",
    "name": "visualizations",
    "resultHeight": 391
   },
   "outputs": [],
   "source": [
    "# Create the sample dataframe\n",
    "df = pd.DataFrame({\n",
    "    \"region\": ([\"Sierra Nevada\"] * 3 +\n",
    "               [\"Lake Tahoe\"] * 3 +\n",
    "               [\"Mammoth\"] * 3),\n",
    "    \"month\": [\"December\", \"January\", \"February\"] * 3,\n",
    "    \"snowfall_inches\": [12.1, 20.2, 15.3, 10.1, 18.7, 12.6, 25.5, 30.0, 20.3]\n",
    "})\n",
    "\n",
    "df"
   ]
  },
  {
   "cell_type": "markdown",
   "id": "a09c95f7-fa25-438b-b470-ac8fada5f81b",
   "metadata": {
    "collapsed": false,
    "name": "altair_md",
    "resultHeight": 102
   },
   "source": [
    "## Plotting with Altair\n",
    "\n",
    "Now let's plot a bar chart in Altair. You can learn more about Altair [here](https://altair-viz.github.io/)."
   ]
  },
  {
   "cell_type": "code",
   "execution_count": null,
   "id": "c695373e-ac74-4b62-a1f1-08206cbd5c81",
   "metadata": {
    "codeCollapsed": false,
    "collapsed": false,
    "language": "python",
    "name": "altair",
    "resultHeight": 538
   },
   "outputs": [],
   "source": "import altair as alt\n\n# Create a faceted bar chart\nalt.Chart(df).mark_bar().encode(\n    x=alt.X(\"month:N\", title=\"Month\"),\n    y=alt.Y(\"snowfall_inches:Q\", title=\"Snowfall (inches)\"),\n    color=alt.Color(\"month:N\", legend=None)\n).facet(\n    column=alt.Column(\n        \"region:N\",\n        title=\"Region\",\n    )\n).properties(\n    title=\"Snowfall by Region and Month\"\n)"
  },
  {
   "cell_type": "markdown",
   "id": "e422914e-f52d-40d9-ae08-cbe4dc651c90",
   "metadata": {
    "collapsed": false,
    "name": "plotly_md",
    "resultHeight": 102
   },
   "source": "## Plotting with Plotly\n\nLet's do the same plot with plotly. You can learn more about plotly [here](https://plotly.com/python/plotly-express/)."
  },
  {
   "cell_type": "code",
   "execution_count": null,
   "id": "9fa98ac8-0731-4076-b575-4f79f2204f28",
   "metadata": {
    "codeCollapsed": false,
    "collapsed": false,
    "language": "python",
    "name": "plotly",
    "resultHeight": 488
   },
   "outputs": [],
   "source": [
    "import plotly.express as px\n",
    "\n",
    "# Create a faceted bar chart using Plotly\n",
    "fig = px.bar(\n",
    "    df,\n",
    "    x=\"month\",\n",
    "    y=\"snowfall_inches\",\n",
    "    color=\"month\",\n",
    "    facet_col=\"region\",\n",
    "    title=\"Snowfall by Region and Month\"\n",
    ")\n",
    "fig"
   ]
  },
  {
   "cell_type": "markdown",
   "id": "8105c206-febd-48c6-a2e2-88881894a8d6",
   "metadata": {
    "collapsed": false,
    "name": "markdowns_md",
    "resultHeight": 170
   },
   "source": [
    "## Develop your narrative with Markdown cells\n",
    "\n",
    "With Snowflake Notebooks, you can leverage Markdown language to develop rich text displays with formatting. \n",
    "\n",
    "You can change a cell type to render Markdown by clicking on the dropdown on the top left to select `Markdown` (or use `m` as the hotkey to convert a cell type to Markdown)."
   ]
  },
  {
   "cell_type": "markdown",
   "id": "629ff770-3d1c-46a2-ac4b-299b0e4663c9",
   "metadata": {
    "collapsed": false,
    "name": "markdowns2_md",
    "resultHeight": 308
   },
   "source": [
    "# Top-level Header \n",
    "Markdown: `# Top-level Header`\n",
    "\n",
    "## 2nd-level Header \n",
    "Markdown: `## 2nd-level Header`\n",
    "\n",
    "### 3rd-level Header \n",
    "Markdown: `### 3rd-level Header`"
   ]
  },
  {
   "cell_type": "markdown",
   "id": "640931e5-d7c7-44d4-a311-155abf60af4e",
   "metadata": {
    "collapsed": false,
    "name": "markdowns3_md",
    "resultHeight": 214
   },
   "source": [
    "### Inline Text Formatting\n",
    "\n",
    "Here is some *italicized text* and **bolded text**. \n",
    "\n",
    "Markdown: `Here is some *italicized text* and **bolded text**.`\n",
    "\n",
    "Here is a link to the [Snowflake website](https://snowflake.com/)\n",
    "\n",
    "Markdown: `Here is a link to the [Snowflake website](https://snowflake.com/)`"
   ]
  },
  {
   "cell_type": "markdown",
   "id": "7bc5008a-aebb-45a2-9852-aec6142e335a",
   "metadata": {
    "collapsed": false,
    "name": "markdowns4_md",
    "resultHeight": 239
   },
   "source": [
    "From here on, you can double click onto each Markdown cell to take a look at the underlying Markdown content.\n",
    "\n",
    "Here is a bulleted list (with emojis 😊)\n",
    "\n",
    "- ❄️\n",
    "- ❄️❄️\n",
    "- ❄️❄️❄️\n",
    "    - Nested ❄️\n",
    "    - Nested ❄️❄️"
   ]
  },
  {
   "cell_type": "markdown",
   "id": "8e969fb2-d46a-4ce6-9fa5-4032c5fa7de5",
   "metadata": {
    "collapsed": false,
    "name": "markdowns5_md",
    "resultHeight": 400
   },
   "source": [
    "## Formatting code\n",
    "\n",
    "Python: \n",
    "```python\n",
    "import pandas as pd\n",
    "df = pd.DataFrame([1,2,3])\n",
    "```\n",
    "\n",
    "SQL: \n",
    "```sql\n",
    "SELECT * FROM MYTABLE\n",
    "```\n",
    "\n",
    "Inline Code formatting: \n",
    "\n",
    "My data is stored in `DB.SCHEMA`. "
   ]
  },
  {
   "cell_type": "markdown",
   "id": "ca69a287-6866-4fa9-b610-ec9b8e28b9ba",
   "metadata": {
    "collapsed": false,
    "name": "image_embedding_md",
    "resultHeight": 856
   },
   "source": [
    "## Embedding Images 🖼️\n",
    "\n",
    "\n",
    "You can use the Markdown Syntax to embed images in your notebook.\n",
    "```\n",
    "![](https://www.snowflake.com/wp-content/themes/snowflake/assets/img/brand-guidelines/logo-sno-blue-example.svg)\n",
    "```\n",
    "![](https://www.snowflake.com/wp-content/themes/snowflake/assets/img/brand-guidelines/logo-sno-blue-example.svg)\n",
    "\n",
    "\n",
    "It even works with a GIF animation!\n",
    "\n",
    "```\n",
    "![](https://upload.wikimedia.org/wikipedia/commons/2/2c/Rotating_earth_%28large%29.gif)\n",
    "```\n",
    "![](https://upload.wikimedia.org/wikipedia/commons/2/2c/Rotating_earth_%28large%29.gif)"
   ]
  },
  {
   "cell_type": "markdown",
   "id": "37bbb377-515d-4559-beb0-7450d9c33828",
   "metadata": {
    "collapsed": false,
    "name": "image_embedding2_md",
    "resultHeight": 278
   },
   "source": [
    "## Bring your Notebook alive with Streamlit\n",
    "\n",
    "You can bring your data narrative alive in notebooks and make it even more interactive by using Streamlit.\n",
    "\n",
    "[Streamlit](https://streamlit.io/) is an open-source framework for building interactive data apps in Python (not a single line of HTML or Javascript required!)\n",
    "\n",
    "Unlike in other notebooks where you need to navigate to a separate terminal window to serve up your Streamlit app, you can test and develop your Streamlit app directly in your notebook. \n",
    "\n",
    "We saw how you can embed images using Markdown. Here we show how you can embed images in your notebook using Streamlit which gives you more image customization options."
   ]
  },
  {
   "cell_type": "code",
   "execution_count": null,
   "id": "57910a57-50b2-4e40-ae30-5cd123bf65c3",
   "metadata": {
    "codeCollapsed": false,
    "collapsed": false,
    "language": "python",
    "name": "image_embedding",
    "resultHeight": 225
   },
   "outputs": [],
   "source": [
    "import streamlit as st\n",
    "st.image(\"https://www.snowflake.com/wp-content/themes/snowflake/assets/img/brand-guidelines/logo-sno-blue-example.svg\",width=500)"
   ]
  },
  {
   "cell_type": "code",
   "execution_count": null,
   "id": "08bf80ac-bc12-4e41-8079-cfff2ce29e7d",
   "metadata": {
    "collapsed": false,
    "language": "python",
    "name": "image_embedding2",
    "resultHeight": 448
   },
   "outputs": [],
   "source": [
    "# Also works with a GIF animation!\n",
    "st.image(\"https://upload.wikimedia.org/wikipedia/commons/2/2c/Rotating_earth_%28large%29.gif\", caption=\"Rotating Earth!\")"
   ]
  },
  {
   "cell_type": "markdown",
   "id": "c3bd5c15-eca9-4ba5-a4b4-06a280b2f992",
   "metadata": {
    "collapsed": false,
    "name": "image_embedding_stage_md",
    "resultHeight": 41
   },
   "source": [
    "Let's say you have some images in your Snowflake stage, you can stream in the image file and display it with Streamlit."
   ]
  },
  {
   "cell_type": "code",
   "execution_count": null,
   "id": "c4af080a-3939-42da-b504-1de31ee8cc97",
   "metadata": {
    "collapsed": false,
    "language": "sql",
    "name": "create_stage",
    "resultHeight": 111
   },
   "outputs": [],
   "source": [
    "create or replace stage NOTEBOOK;"
   ]
  },
  {
   "cell_type": "code",
   "execution_count": null,
   "id": "8c8ed0ed-1e74-40cc-8dc3-31c33dfbeeb3",
   "metadata": {
    "collapsed": false,
    "language": "python",
    "name": "put_file",
    "resultHeight": 354
   },
   "outputs": [],
   "source": [
    "from snowflake.snowpark.context import get_active_session\n",
    "session = get_active_session()\n",
    "session.file.put('snowflake_logo.png',\n",
    "                 '@NOTEBOOK/Visual_Data_Stories_with_Snowflake_Notebooks',\n",
    "                 auto_compress=False,\n",
    "                 overwrite=True)"
   ]
  },
  {
   "cell_type": "code",
   "execution_count": null,
   "id": "317e0475-7e55-449b-89dc-a2057f1bf90a",
   "metadata": {
    "codeCollapsed": false,
    "collapsed": false,
    "language": "sql",
    "name": "image_embedding_stage",
    "resultHeight": 111
   },
   "outputs": [],
   "source": [
    "LS @NOTEBOOK;"
   ]
  },
  {
   "cell_type": "code",
   "execution_count": null,
   "id": "57bc8d6a-c5d3-48f2-a835-8ca8f15602be",
   "metadata": {
    "codeCollapsed": false,
    "collapsed": false,
    "language": "python",
    "name": "image_embedding_stage2",
    "resultHeight": 120
   },
   "outputs": [],
   "source": [
    "# Add a query tag to the session. This helps with debugging and performance monitoring.\n",
    "session.query_tag = {\"origin\":\"sf_sit-is\", \"name\":\"aiml_notebooks_fs_with_dbt\", \"version\":{\"major\":1, \"minor\":0}, \"attributes\":{\"is_quickstart\":0, \"source\":\"notebook\"}}\n",
    "\n",
    "image=session.file.get_stream(\"@NOTEBOOK/Visual_Data_Stories_with_Snowflake_Notebooks/snowflake_logo.png\", decompress=False).read()\n",
    "st.image(image)"
   ]
  },
  {
   "cell_type": "markdown",
   "id": "941238e2-3632-49c3-a76c-d1d22345688c",
   "metadata": {
    "collapsed": false,
    "name": "filtering_md",
    "resultHeight": 127
   },
   "source": [
    "## Interactive data apps 🕹️\n",
    "\n",
    "Think of each cell in your Snowflake Notebook as a mini Streamlit app. As you interact with your data app, the relevant cells will get re-executed and the results in your app updates.\n"
   ]
  },
  {
   "cell_type": "code",
   "execution_count": null,
   "id": "aca7e5b1-78a5-4799-bc9a-af44c777a333",
   "metadata": {
    "codeCollapsed": false,
    "collapsed": false,
    "language": "python",
    "name": "filtering",
    "resultHeight": 214
   },
   "outputs": [],
   "source": [
    "st.markdown(\"\"\"# Interactive Filtering with Streamlit! :balloon:\n",
    "Values will automatically cascade down the notebook cells\"\"\")\n",
    "value = st.slider(\"Move the slider to change the filter value 👇\", df.snowfall_inches.min(), df.snowfall_inches.max(), df.snowfall_inches.mean(), step = 0.3 )"
   ]
  },
  {
   "cell_type": "code",
   "execution_count": null,
   "id": "833d0b00-65e1-4606-8e09-47e687949e8f",
   "metadata": {
    "codeCollapsed": false,
    "language": "python",
    "name": "plotting",
    "resultHeight": 338
   },
   "outputs": [],
   "source": [
    "# Filter the table from above using the Streamlit slider\n",
    "filtered_df = df[df[\"snowfall_inches\"]>value].sort_values(\"snowfall_inches\")\n",
    "count_df = filtered_df.groupby('region').count()['month'].reset_index()\n",
    "\n",
    "# Chart the number of months above the average\n",
    "alt.Chart(count_df, title = f\"Months above {np.round(value,2)}\\\" snowfall by region\").mark_bar().encode(\n",
    "    x= alt.X(\"region\", axis = alt.Axis(labelAngle=0)),\n",
    "    y=alt.Y(\"month\", title = 'Number of months'),\n",
    ").properties(width=500,height=300)"
   ]
  },
  {
   "cell_type": "markdown",
   "id": "4c568906-1bfe-4f9c-9d39-eed4c80ccb9d",
   "metadata": {
    "collapsed": false,
    "name": "next_steps_md",
    "resultHeight": 115
   },
   "source": [
    "# Now it's your turn! 🙌 \n",
    "\n",
    "Try out Notebooks yourself to build your own data narrative!"
   ]
  }
 ]
}
