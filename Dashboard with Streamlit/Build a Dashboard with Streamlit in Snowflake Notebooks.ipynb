{
 "metadata": {
  "kernelspec": {
   "display_name": "Streamlit Notebook",
   "name": "streamlit"
  }
 },
 "nbformat_minor": 5,
 "nbformat": 4,
 "cells": [
  {
   "cell_type": "markdown",
   "id": "27022327-636e-4b9f-8c1c-dbe80ea980ba",
   "metadata": {
    "name": "md_title",
    "collapsed": false
   },
   "source": "# Build a Dashboard with Streamlit in Snowflake Notebooks 📓\n\nLet's build a dashboard from within a Snowflake Notebooks with this starter template.\n\nConceptually, we'll perform the following tasks in this notebook:\n- Generate an artificial dataset for a hypothetical YouTube channel\n- Display channel metrics using Streamlit UI including charts and DataFrames"
  },
  {
   "cell_type": "markdown",
   "id": "e8ea7b94-f51d-4774-8cfc-2cf704edb321",
   "metadata": {
    "name": "md_import",
    "collapsed": false
   },
   "source": "## Import libraries\n\nIn this notebook, we're using `pandas` for data handling/wrangling, `numpy` for numerical processing, `datetime` for handling date/time data type and `streamlit` for displaying visual elements (charts and DataFrames)."
  },
  {
   "cell_type": "code",
   "id": "f94b0675-3275-4dc0-8380-7a3d3730fe0c",
   "metadata": {
    "language": "python",
    "name": "py_import",
    "codeCollapsed": false,
    "collapsed": false
   },
   "outputs": [],
   "source": "import pandas as pd\nimport numpy as np\nfrom datetime import datetime\nimport streamlit as st",
   "execution_count": null
  },
  {
   "cell_type": "markdown",
   "id": "d37cb962-8b3f-406b-9b39-58b3ca9d7cc9",
   "metadata": {
    "name": "md_generate_data",
    "collapsed": false
   },
   "source": "## Generate YouTube Channel Data\n\nWe're now going to generate an artificial YouTube channel dataset that we can use for the analysis in this notebook. This is completed using `numpy` for generating the numbers and `pandas` for data wrangling.\n\nThe end result is a dataset of 5 years for a hypothetical YouTube channel. \n\nParticularly, each row represents a month along with channel metrics (*e.g.* subscriber count, views, watch hours, likes, shares and comments)."
  },
  {
   "cell_type": "code",
   "id": "c47b1543-7591-4f5e-9c86-06d003953f48",
   "metadata": {
    "language": "python",
    "name": "py_generate_data",
    "codeCollapsed": false,
    "collapsed": false
   },
   "outputs": [],
   "source": "# Set random seed for reproducibility\nnp.random.seed(42)\n\n# Generate dates for 5 years (to match the original date range)\nstart_date = datetime(2019, 8, 1)\nend_date = datetime(2024, 9, 30)\ndate_range = pd.date_range(start=start_date, end=end_date, freq='ME')\n\n# Initialize data with zeros\nn_months = len(date_range)\ndata = {\n    'DATE': date_range.strftime('%Y-%m'),  # Format date as YYYY-MM\n    'SUBSCRIBERS_GAINED': np.zeros(n_months, dtype=int),\n    'SUBSCRIBERS_LOST': np.zeros(n_months, dtype=int),\n    'VIEWS': np.zeros(n_months, dtype=int),\n    'WATCH_HOURS': np.zeros(n_months, dtype=int),\n    'LIKES': np.zeros(n_months, dtype=int),\n    'SHARES': np.zeros(n_months, dtype=int),\n    'COMMENTS': np.zeros(n_months, dtype=int)\n}\n\n# Create DataFrame\ndf = pd.DataFrame(data)\n\n# Function to generate growth\ndef generate_growth(start, end, months):\n    return np.linspace(start, end, months)\n\n# Generate growth patterns\nsubscribers_gained = generate_growth(30, 6000, n_months)\nsubscribers_lost = generate_growth(0, 1500, n_months)\nviews = generate_growth(300, 300000, n_months)\nwatch_hours = generate_growth(30, 30000, n_months)\nlikes = generate_growth(0, 15000, n_months)\nshares = generate_growth(0, 3000, n_months)\ncomments = generate_growth(0, 1500, n_months)\n\n# Add randomness and ensure integer values\nfor i, col in enumerate(['SUBSCRIBERS_GAINED', 'SUBSCRIBERS_LOST', 'VIEWS', 'WATCH_HOURS', 'LIKES', 'SHARES', 'COMMENTS']):\n    random_factor = np.random.normal(1, 0.1, n_months)  # Mean of 1, standard deviation of 0.1\n    df[col] = np.maximum(0, (eval(col.lower()) * random_factor).astype(int))\n\n# Seasonal variation (higher in summer)\nsummer_boost = np.sin(np.linspace(0, 2*np.pi, 12))\ndf['VIEWS'] = df['VIEWS'] * (1 + 0.2 * np.tile(summer_boost, n_months // 12 + 1)[:n_months])\n\n# Occasional viral videos (once every 6 months on average)\nviral_months = np.random.choice(range(1, n_months), size=n_months // 6, replace=False)\ndf.loc[viral_months, ['VIEWS', 'LIKES', 'SHARES', 'COMMENTS']] = df.loc[viral_months, ['VIEWS', 'LIKES', 'SHARES', 'COMMENTS']] * 5\n\n# Ensure integer values\nfor col in df.columns:\n    if col != 'DATE':\n        df[col] = df[col].astype(int)\n\n# Calculate cumulative subscribers\ndf['NET_SUBSCRIBERS'] = (df['SUBSCRIBERS_GAINED'] - df['SUBSCRIBERS_LOST'])\n\n# Ensure no negative values\ndf[df.select_dtypes(include=[np.number]).columns] = df.select_dtypes(include=[np.number]).clip(lower=0)\n\n# Convert DATE column to datetime\ndf['DATE'] = pd.to_datetime(df['DATE'])\n\n# Display DataFrame\ndf",
   "execution_count": null
  },
  {
   "cell_type": "markdown",
   "id": "0d9aa657-77f3-45b7-932f-2236ca1be632",
   "metadata": {
    "name": "md_metrics",
    "collapsed": false
   },
   "source": "## Display Channel Metrics with Charts\n\nHere, we're using Strealit's `st.metric()` method for displaying *metrics* (*e.g.* subscribers, views and watch hours as indicated by white-colored text) along with recent *month-over-month growth metrics* (*i.e.* green-colored text with arrows) in the delta display found under the respective metrics.\n\nTo make the dashboard interactive, we've also made use of input widgets like `st.selectbox()` to accept user input on the date range, time frame and chart type."
  },
  {
   "cell_type": "code",
   "id": "9d6fdba8-5e66-44bf-ba88-36df7522019b",
   "metadata": {
    "language": "python",
    "name": "py_metrics",
    "collapsed": false,
    "codeCollapsed": false
   },
   "outputs": [],
   "source": "import streamlit as st\nimport pandas as pd\nfrom datetime import timedelta\n\nst.header(\"Cumulative Stats\")\n\n\n# Helper functions\ndef format_with_commas(number):\n    return f\"{number:,}\"\n\ndef aggregate_data(df, freq):\n    return df.resample(freq, on='DATE').agg({\n        'VIEWS': 'sum',\n        'WATCH_HOURS': 'sum',\n        'NET_SUBSCRIBERS': 'sum',\n        'LIKES': 'sum'\n    }).reset_index()\n\ndef create_chart(y, color, height, chart_type):\n    if chart_type=='Bar':\n        st.bar_chart(df_display, x=\"DATE\", y=y, color=color, height=height)\n    if chart_type=='Area':\n        st.area_chart(df_display, x=\"DATE\", y=y, color=color, height=height)\n\n\n# Input widgets\n# Date range selection\ncol = st.columns(4)\nwith col[0]:\n    start_date = st.date_input(\"Start date\", df['DATE'].min().date())\nwith col[1]:\n    end_date = st.date_input(\"End date\", df['DATE'].max().date())\n# Time frame selection\nwith col[2]:\n    time_frame = st.selectbox(\"Select time frame\",\n        (\"Daily\", \"Weekly\", \"Monthly\", \"Quarterly\")\n    )\n# Chart type\nwith col[3]:\n    chart_selection = st.selectbox(\"Select a chart type\",\n                                  (\"Bar\", \"Area\"))\n\nst.divider()\n\n# Filter data based on date range\nmask = (df['DATE'].dt.date >= start_date) & (df['DATE'].dt.date <= end_date)\ndf_filtered = df.loc[mask]\n\n# Aggregate data based on selected time frame\nif time_frame == 'Daily':\n    df_display = df_filtered\nelif time_frame == 'Weekly':\n    df_display = aggregate_data(df_filtered, 'W-MON')\nelif time_frame == 'Monthly':\n    df_display = aggregate_data(df_filtered, 'ME')\nelif time_frame == 'Quarterly':\n    df_display = aggregate_data(df_filtered, 'QE')\n\n\n# Compute metric growth based on selected time frame\nif len(df_display) >= 2:\n    subscribers_growth = int(df_display.NET_SUBSCRIBERS.iloc[-1] - df_display.NET_SUBSCRIBERS.iloc[-2])\n    views_growth = int(df_display.VIEWS.iloc[-1] - df_display.VIEWS.iloc[-2])\n    watch_hours_growth = int(df_display.WATCH_HOURS.iloc[-1] - df_display.WATCH_HOURS.iloc[-2])\n    likes_growth = int(df_display.LIKES.iloc[-1] - df_display.LIKES.iloc[-2])\nelse:\n    subscribers_growth = views_growth = watch_hours_growth = likes_growth = 0\n\n\n# Create metrics columns\ncols = st.columns(4)\nwith cols[0]:\n    st.metric(\"Subscribers\", \n              format_with_commas(df_display.NET_SUBSCRIBERS.sum()),\n              format_with_commas(subscribers_growth)\n             )\n    create_chart(y=\"NET_SUBSCRIBERS\", color=\"#29B5E8\", height=200, chart_type=chart_selection)\nwith cols[1]:\n    st.metric(\"Views\", \n              format_with_commas(df_display.VIEWS.sum()), \n              format_with_commas(views_growth)\n             )\n    #st.bar_chart(df_display, x=\"DATE\", y=\"VIEWS\", color=\"#FF9F36\", height=200)\n    create_chart(y=\"VIEWS\", color=\"#FF9F36\", height=200, chart_type=chart_selection)\nwith cols[2]:\n    st.metric(\"Watch Hours\", \n              format_with_commas(df_display.WATCH_HOURS.sum()), \n              format_with_commas(watch_hours_growth)\n             )\n    #st.bar_chart(df_display, x=\"DATE\", y=\"WATCH_HOURS\", color=\"#D45B90\", height=200)\n    create_chart(y=\"WATCH_HOURS\", color=\"#D45B90\", height=200, chart_type=chart_selection)\nwith cols[3]:\n    st.metric(\"Likes\", \n              format_with_commas(df_display.LIKES.sum()), \n              format_with_commas(likes_growth)\n             )\n    #st.bar_chart(df_display, x=\"DATE\", y=\"LIKES\", color=\"#7D44CF\", height=200)\n    create_chart(y=\"LIKES\", color=\"#7D44CF\", height=200, chart_type=chart_selection)\n\n\n# Display filtered DataFrame\nwith st.expander(\"See filtered data\"):\n    st.dataframe(df_display)",
   "execution_count": null
  },
  {
   "cell_type": "markdown",
   "id": "60e8496b-d154-4ad1-b74a-37d7f40ff562",
   "metadata": {
    "name": "md_df",
    "collapsed": false
   },
   "source": "## Display Channel Metrics as a DataFrame"
  },
  {
   "cell_type": "code",
   "id": "94e4b9b7-1f39-4a5c-9d58-3002d7fc65fb",
   "metadata": {
    "language": "python",
    "name": "py_df",
    "collapsed": false,
    "codeCollapsed": false
   },
   "outputs": [],
   "source": "# Function to aggregate data by year, showing monthly values as lists\ndef aggregate_by_year(df):\n    # Convert DATE to datetime\n    df['DATE'] = pd.to_datetime(df['DATE'])\n    \n    # Function to create a list of monthly values\n    def monthly_list(x):\n        return list(x)\n    \n    # Group by year and aggregate\n    yearly_data = df.groupby(df['DATE'].dt.year).agg({\n        'SUBSCRIBERS_GAINED': monthly_list,\n        'SUBSCRIBERS_LOST': monthly_list,\n        'VIEWS': monthly_list,\n        'WATCH_HOURS': monthly_list,\n        'LIKES': monthly_list,\n        'SHARES': monthly_list,\n        'COMMENTS': monthly_list,\n        'NET_SUBSCRIBERS': lambda x: list(x)[-1]  # Take the last value of the year\n    }).reset_index()\n    \n    # Rename DATE column to YEAR\n    yearly_data = yearly_data.rename(columns={'DATE': 'YEAR'})\n    \n    return yearly_data\n\ndf2 = aggregate_by_year(df)\n\n\n# Display DataFrame with built-in chart displays using column_config\nst.dataframe(\n    df2,\n    column_config={\n        \"NET_SUBSCRIBERS\": st.column_config.ProgressColumn(\n            \"NET_SUBSCRIBERS\",\n            min_value=df.NET_SUBSCRIBERS.min(),\n            max_value=df.NET_SUBSCRIBERS.max(),\n            format=\"%s\"\n        ),\n        \"VIEWS\": st.column_config.BarChartColumn(\n            \"VIEWS\",\n            y_min=df.VIEWS.min(),\n            y_max=df.VIEWS.max(),\n        ),\n        \"WATCH_HOURS\": st.column_config.BarChartColumn(\n            \"WATCH_HOURS\",\n            y_min=df.WATCH_HOURS.min(),\n            y_max=df.WATCH_HOURS.max(),\n        ),\n        \"LIKES\": st.column_config.LineChartColumn(\n            \"LIKES\",\n            y_min=df.SHARES.min(),\n            y_max=df.SHARES.max(),\n        ),\n        \"SHARES\": st.column_config.LineChartColumn(\n            \"SHARES\",\n            y_min=df.SHARES.min(),\n            y_max=df.SHARES.max(),\n        ),\n        \"COMMENTS\": st.column_config.LineChartColumn(\n            \"COMMENTS\",\n            y_min=df.COMMENTS.min(),\n            y_max=df.COMMENTS.max(),\n        ),\n    },\n    column_order=(\"YEAR\",\n                  \"NET_SUBSCRIBERS\",\n                  \"VIEWS\",\n                  \"WATCH_HOURS\",\n                  \"LIKES\",\n                  \"SHARES\",\n                  \"COMMENTS\"),\n    hide_index=True\n)",
   "execution_count": null
  },
  {
   "cell_type": "markdown",
   "id": "4849d824-1541-408d-b809-f064581c779b",
   "metadata": {
    "name": "md_resources",
    "collapsed": false
   },
   "source": "## Resources\nIf you'd like to take a deeper dive into customizing the notebook, here are some useful resources to get you started.\n- [About Snowflake Notebooks](https://docs.snowflake.com/en/user-guide/ui-snowsight/notebooks)\n- [YouTube Playlist on Snowflake Notebooks](https://www.youtube.com/watch?v=YB1B6vcMaGE&list=PLavJpcg8cl1Efw8x_fBKmfA2AMwjUaeBI)\n- [st.metric](https://docs.streamlit.io/develop/api-reference/data/st.metric)\n- [st.area_chart](https://docs.streamlit.io/develop/api-reference/charts/st.area_chart)\n- [st.bar_chart](https://docs.streamlit.io/develop/api-reference/charts/st.bar_chart)\n- [st.dataframe](https://docs.streamlit.io/develop/api-reference/data/st.dataframe)\n- [st.column_config](https://docs.streamlit.io/develop/api-reference/data/st.column_config)"
  }
 ]
}