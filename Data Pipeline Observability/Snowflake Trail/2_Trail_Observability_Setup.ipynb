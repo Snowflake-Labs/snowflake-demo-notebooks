{
 "metadata": {
  "kernelspec": {
   "display_name": "Streamlit Notebook",
   "name": "streamlit"
  },
  "lastEditStatus": {
   "notebookId": "lclat6huakzgozppnne3",
   "authorId": "3290930229076",
   "authorName": "JSOMMERFELD",
   "authorEmail": "jan.sommerfeld@snowflake.com",
   "sessionId": "9355c22c-e46a-4f94-a47b-8d1bd7582894",
   "lastEditTime": 1751831093057
  }
 },
 "nbformat_minor": 5,
 "nbformat": 4,
 "cells": [
  {
   "cell_type": "markdown",
   "id": "5eb8416f-ee57-460f-907a-b9be13125887",
   "metadata": {
    "name": "_title",
    "collapsed": false
   },
   "source": "# 🚦 Snowflake Trail - Step 2: Observability Setup\n\n---\n* Event Table setup\n* Log Level setting\n* Notification integration for Slack / Teams webhook\n* Function to get new event logs as json\n* Function to format json for Slack / Teams channels\n* Alert on new telemetry events\n* Alert cost monitoring"
  },
  {
   "cell_type": "markdown",
   "id": "861840c2-9605-48f8-984c-02deea74f40a",
   "metadata": {
    "name": "_2_1_logging_setup",
    "collapsed": false
   },
   "source": "## 2.1. Logging Setup"
  },
  {
   "cell_type": "code",
   "id": "1d2f2f20-6d13-450b-838b-6912bec782b3",
   "metadata": {
    "language": "sql",
    "name": "create_observ_schema",
    "collapsed": false
   },
   "outputs": [],
   "source": "-- schema to contain all objects for observability layer\n\ncreate schema if not exists SNOWTRAIL_DEMO.OBSERV\n    comment = 'contains all objects for observability layer';",
   "execution_count": null
  },
  {
   "cell_type": "markdown",
   "id": "cc6f6195-05d2-48e4-a0ad-6532c39ef61e",
   "metadata": {
    "name": "database_event_table",
    "collapsed": false
   },
   "source": "Define a dedicated Event Table for the selected Database to separate event logs from the rest of the account\n\nSee https://docs.snowflake.com/en/developer-guide/logging-tracing/event-table-setting-up#associate-an-event-table-with-an-object"
  },
  {
   "cell_type": "code",
   "id": "ae62889a-cad4-42ee-8a6a-e89b72278bc5",
   "metadata": {
    "language": "sql",
    "name": "create_event_table_for_database",
    "collapsed": false
   },
   "outputs": [],
   "source": "create event table if not exists SNOWTRAIL_DEMO.OBSERVE.EVENTS;",
   "execution_count": null
  },
  {
   "cell_type": "code",
   "id": "70b75102-174a-41b2-adb4-886a43b73d09",
   "metadata": {
    "language": "sql",
    "name": "set_event_table_for_database",
    "collapsed": false
   },
   "outputs": [],
   "source": "alter database SNOWTRAIL_DEMO \n    set EVENT_TABLE = SNOWTRAIL_DEMO.OBSERV.EVENTS;\n\n-- alter database SNOWTRAIL_DEMO \n--     unset EVENT_TABLE;",
   "execution_count": null
  },
  {
   "cell_type": "code",
   "id": "c01cb4b4-becb-4e03-a4b3-6e796312f4d1",
   "metadata": {
    "language": "sql",
    "name": "query_event_table",
    "collapsed": false
   },
   "outputs": [],
   "source": "-- test query event table in database\n\nselect\n    to_char(CONVERT_TIMEZONE('UTC','Europe/Berlin', TIMESTAMP), 'YYYY-MM-DD at HH:MI:SS') as LOCAL_TIME,    -- adjust to local timezone\n    case when RECORD['severity_text']::string = 'DEBUG'  then '🏗️ DEBUG'\n         when RECORD['severity_text']::string = 'INFO'  then 'ℹ️ INFO'\n         when RECORD['severity_text']::string = 'WARN'  then '⚠️ WARN'\n         when RECORD['severity_text']::string = 'ERROR' then '⛔️ ERROR'\n         when RECORD['severity_text']::string = 'FATAL' then '🚨 FATAL'\n    end as SEVERITY,       \n    upper(try_parse_json(VALUE):state ::string) as EXECUTION_STATUS,\n    coalesce(\n        try_parse_json(VALUE):message ::string, \n        try_parse_json(VALUE) :first_error_message ::string,                        -- temporary special handling of Pipe logs\n        (case\n            when position('{\"' in VALUE) > 0 \n            then left(VALUE, position('{\"' in VALUE) - 1)\n            else VALUE\n            end) ::string\n        ) as MESSAGE,\n        \n    coalesce(\n        RESOURCE_ATTRIBUTES['snow.executable.name']::string, \n        RESOURCE_ATTRIBUTES['snow.pipe.name']::string                               -- temporary special handling of Pipe logs\n            ) as OBJECT_NAME,\n    coalesce(\n        RESOURCE_ATTRIBUTES['snow.executable.type']::string, \n        case when RESOURCE_ATTRIBUTES['snow.pipe.name'] is not NULL then 'PIPE' end  -- temporary special handling of Pipe logs\n            ) as OBJECT_TYPE,\n    RESOURCE_ATTRIBUTES['snow.schema.name']::string as SCHEMA_NAME,\n    RESOURCE_ATTRIBUTES['snow.database.name']::string as DATABASE_NAME\nfrom \n    SNOWTRAIL_DEMO.OBSERV.EVENTS                                --adjust to active event table\nwhere \n    RECORD_TYPE in ('LOG', 'EVENT')\n    and upper(RESOURCE_ATTRIBUTES['snow.database.name']::string) = 'SNOWTRAIL_DEMO' \norder by\n    TIMESTAMP desc\nlimit \n    100\n;",
   "execution_count": null
  },
  {
   "cell_type": "markdown",
   "id": "671b3717-876a-49e1-9549-1bdceab8e2aa",
   "metadata": {
    "name": "_2_2_event_logs_to_json",
    "collapsed": false
   },
   "source": "## 2.2. Load new events into a json string\n\nA helper function to query all new event logs from the event table, add some formatting and append them to a string"
  },
  {
   "cell_type": "code",
   "id": "5e2b18e6-f694-4af7-abbe-418cd89a0002",
   "metadata": {
    "language": "sql",
    "name": "create_function_event_logs_to_json",
    "collapsed": false,
    "codeCollapsed": false
   },
   "outputs": [],
   "source": "create or replace function SNOWTRAIL_DEMO.OBSERV.GET_NEW_EVENTS_AS_JSON(START_TIME timestamp)\nreturns string\nlanguage SQL\ncomment = 'limited to the latest 10 events'\nas\n$$\n(\n    with\n    EVENT_COUNTS as(\n        select \n            count(*) as EVENTS,\n            case \n                when RECORD['severity_text']::string = 'INFO'  then 'ℹ️ INFO'\n                when RECORD['severity_text']::string = 'WARN'  then '⚠️ WARN'\n                when RECORD['severity_text']::string = 'ERROR' then '⛔️ ERROR'\n                when RECORD['severity_text']::string = 'FATAL' then '🚨 FATAL'\n                when RECORD['severity_text']::string = 'DEBUG' then '🛠️ DEBUG'\n                    end as SEVERITY,\n        from \n            SNOWTRAIL_DEMO.OBSERV.EVENTS \n        where \n            TIMESTAMP >= START_TIME\n            and RECORD_TYPE in ('LOG', 'EVENT')\n        group by\n            SEVERITY\n        ),\n        \n    LAST_10_EVENTS as (\n        select\n            to_char(CONVERT_TIMEZONE('UTC','Europe/Berlin', TIMESTAMP), 'YYYY-MM-DD at HH:MI:SS')   -- adjust to local timezone\n                as LOCAL_TIME,    \n            case \n                when RECORD['severity_text']::string = 'INFO'  then 'ℹ️ INFO'\n                when RECORD['severity_text']::string = 'WARN'  then '⚠️ WARN'\n                when RECORD['severity_text']::string = 'ERROR' then '⛔️ ERROR'\n                when RECORD['severity_text']::string = 'FATAL' then '🚨 FATAL'\n                when RECORD['severity_text']::string = 'DEBUG' then '🛠️ DEBUG'\n                    end as SEVERITY,\n                    \n            upper(try_parse_json(VALUE):state ::string) \n                as EXECUTION_STATUS,\n                \n            coalesce(\n                split_part(RESOURCE_ATTRIBUTES['snow.executable.name'],':',0) ::string,     -- trimming procedure arguments \n                RESOURCE_ATTRIBUTES['snow.pipe.name']::string                               -- temporary special handling of Pipe logs\n                    ) as OBJECT_NAME,\n                    \n            coalesce(\n                replace(RESOURCE_ATTRIBUTES['snow.executable.type'],'_','-')::string, \n                case when RESOURCE_ATTRIBUTES['snow.pipe.name'] is not NULL then 'PIPE' end  -- temporary special handling of Pipe logs\n                    ) as OBJECT_TYPE,\n                    \n            VALUE['state']::string \n                    as OBJECT_STATE,\n                    \n            coalesce(\n                try_parse_json(VALUE):message ::string, \n                try_parse_json(VALUE) :first_error_message ::string,                        -- temporary special handling of Pipe logs\n                (case\n                    when position('{\"' in VALUE) > 0 \n                    then left(VALUE, position('{\"' in VALUE) - 1)\n                    else VALUE                                                              -- catching messages from custom logs\n                    end) ::string\n                ) as MESSAGE,\n                \n            RESOURCE_ATTRIBUTES['snow.schema.name']::string as SCHEMA_NAME,\n            RESOURCE_ATTRIBUTES['snow.database.name']::string as DATABASE_NAME,\n            current_account_name() ::string as ACCOUNT_NAME,\n            \n            'https://app.snowflake.com/'||lower(CURRENT_ORGANIZATION_NAME())||'/'|| lower(CURRENT_ACCOUNT_NAME()) ||'/#/data/databases/'|| DATABASE_NAME ||'/schemas/'|| SCHEMA_NAME ||'/'||lower(OBJECT_TYPE)||'/'||OBJECT_NAME \n                as OBJECT_URL,\n                \n            'https://app.snowflake.com/'||lower(CURRENT_ORGANIZATION_NAME())||'/'||lower(CURRENT_ACCOUNT_NAME()) ||'/#/compute/history/queries/'|| RESOURCE_ATTRIBUTES['snow.query.id']::string ||'/telemetry' \n                as QUERY_URL\n                \n        from \n            SNOWTRAIL_DEMO.OBSERV.EVENTS                                                    --adjust to active event table\n        where \n            TIMESTAMP >= START_TIME\n            and RECORD_TYPE in ('LOG', 'EVENT')\n        order by\n            TIMESTAMP desc\n        limit \n            10\n        )\n        \n    select\n        OBJECT_CONSTRUCT(\n            'count_new_events', (select \n                ARRAY_AGG(OBJECT_CONSTRUCT(\n                    'severity', SEVERITY,\n                    'events', EVENTS\n                ))\n                from\n                    EVENT_COUNTS\n                ),\n            'recent_events', (select\n                ARRAY_AGG(OBJECT_CONSTRUCT(\n                   'local_time', LOCAL_TIME,\n                   'severity', SEVERITY,\n                   'object_name', OBJECT_NAME,\n                   'object_type', OBJECT_TYPE,\n                   'object_state', OBJECT_STATE,\n                   'message', MESSAGE,\n                   'schema', SCHEMA_NAME,\n                   'database', DATABASE_NAME,\n                   'account', ACCOUNT_NAME,\n                   'object_url', OBJECT_URL,\n                   'query_url', QUERY_URL\n                ))\n                from\n                    LAST_10_EVENTS\n                )\n            )\n        )::string\n$$\n;",
   "execution_count": null
  },
  {
   "cell_type": "code",
   "id": "ca81466f-efad-4264-9264-295638bc8416",
   "metadata": {
    "language": "sql",
    "name": "test_event_log_UDTF",
    "collapsed": false,
    "codeCollapsed": false
   },
   "outputs": [],
   "source": "-- we can test our new UDF\n\nselect SNOWTRAIL_DEMO.OBSERV.GET_NEW_EVENTS_AS_JSON(\n    timeadd(hour, -1, current_timestamp)\n);",
   "execution_count": null
  },
  {
   "cell_type": "markdown",
   "id": "e3d16c86-01f1-4e71-a77e-94d072ac9a19",
   "metadata": {
    "name": "_2_3_Notification_Setup",
    "collapsed": false
   },
   "source": "---\n\n## 2.3. Notification setup\n\nBelow are 4 alternative options to set up notifications:\n\nA) Slack\n\nB) Microsoft Teams\n\nC) Amazon SNS Topic\n\nD) E-mail"
  },
  {
   "cell_type": "markdown",
   "id": "ad3006b3-54c3-4cd9-9820-0d14df5ec106",
   "metadata": {
    "name": "_A___Slack_Integration",
    "collapsed": false
   },
   "source": "### Option A) Slack message"
  },
  {
   "cell_type": "code",
   "id": "c0ae1098-df3d-4184-b8ef-72d9ed6b7423",
   "metadata": {
    "language": "python",
    "name": "Slack_webhook_input",
    "collapsed": false,
    "codeCollapsed": false
   },
   "outputs": [],
   "source": "# run this cell to show the temporary input field for your Webhook  \n\nimport streamlit as st\nfrom snowflake.snowpark.context import get_active_session\nsession = get_active_session()\n\nst.divider()\ncol1, col2 = st.columns([1,1])\ncol1.caption('Enter the webhook for the Slack channel you want to connect to. Only the part after https://hooks.slack.com/services/')\nMY_SLACK_WEBHOOK = col1.text_input(\"Webhook\")\nif MY_SLACK_WEBHOOK == \"\":\n    raise Exception(\"Teams channel webhook needed to create notification integration\")",
   "execution_count": null
  },
  {
   "cell_type": "code",
   "id": "fd0a1064-00f6-4bf6-abe1-6c5532126ee8",
   "metadata": {
    "language": "sql",
    "name": "create_slack_webhook_secret",
    "collapsed": false,
    "codeCollapsed": false
   },
   "outputs": [],
   "source": "--- get the secret from your Slack channel, see Slack documentation for details\n\ncreate or replace secret SNOWTRAIL_DEMO.OBSERV.DEMO_SLACK_WEBHOOK\n    type = GENERIC_STRING\n    secret_string = '{{MY_SLACK_WEBHOOK}}'\n;",
   "execution_count": null
  },
  {
   "cell_type": "code",
   "id": "f16b2cd7-b291-4b97-b519-957839a78bd1",
   "metadata": {
    "language": "sql",
    "name": "create_slack_integration",
    "collapsed": false,
    "codeCollapsed": false
   },
   "outputs": [],
   "source": "-- see https://docs.snowflake.com/sql-reference/sql/create-notification-integration-webhooks\n\ncreate or replace notification integration SNOWTRAIL_DEMO_SLACK_CHANNEL\n    type = WEBHOOK\n    enabled = TRUE\n    webhook_url = 'https://hooks.slack.com/services/SNOWFLAKE_WEBHOOK_SECRET'\n    webhook_secret = SNOWTRAIL_DEMO.OBSERV.DEMO_SLACK_WEBHOOK\n    webhook_headers = ('Content-Type'='text/json')\n    comment = 'posting to Channel in Slack workspace'\n;",
   "execution_count": null
  },
  {
   "cell_type": "code",
   "id": "6c768941-5981-4319-8c12-b3d960a2bda2",
   "metadata": {
    "language": "sql",
    "name": "test_slack_integration",
    "collapsed": false,
    "codeCollapsed": false
   },
   "outputs": [],
   "source": "call SYSTEM$SEND_SNOWFLAKE_NOTIFICATION(\n  SNOWFLAKE.NOTIFICATION.APPLICATION_JSON('{\"text\": \"Hello from Snowflake\"}'),\n  SNOWFLAKE.NOTIFICATION.INTEGRATION('SNOWTRAIL_DEMO_SLACK_CHANNEL')\n);",
   "execution_count": null
  },
  {
   "cell_type": "code",
   "id": "39cfd2dc-061a-4d91-a60b-ff50319bd038",
   "metadata": {
    "language": "sql",
    "name": "create_function_slack_message_from_json",
    "collapsed": false,
    "codeCollapsed": false
   },
   "outputs": [],
   "source": "--- new dynamic function that converts event logs into json blocks for slack message\n\ncreate or replace function SNOWTRAIL_DEMO.OBSERV.SLACK_MESSAGE_FROM_JSON(\"EVENT_LOGS\" VARCHAR)\nRETURNS VARCHAR\nLANGUAGE PYTHON\nRUNTIME_VERSION = '3.9'\nHANDLER = 'GENERATE_JSON_BLOCKS_FOR_SLACK'\nas $$\n\nimport json\n\ndef GENERATE_JSON_BLOCKS_FOR_SLACK(EVENT_LOGS):\n\n    try:\n        EVENT_DATA = json.loads(EVENT_LOGS)\n    except Exception as e:\n        return json.dumps({\"error\": \"Invalid JSON input\", \"details\": str(e)})\n\n    SEVERITY_COUNTS = EVENT_DATA.get(\"count_new_events\", [])\n    EVENTS = EVENT_DATA.get(\"recent_events\", [])\n\n    TOTAL_EVENTS = sum(item.get(\"events\", 0) for item in SEVERITY_COUNTS)\n    \n    BLOCKS = []\n\n\n    \n# adding total count\n\n    HEADER_BLOCK = {\n        \"type\": \"header\",\n        \"text\": {\n            \"type\": \"plain_text\",\n            \"text\": f\"{TOTAL_EVENTS} new events since last check\"\n            }\n        }\n    BLOCKS.append(HEADER_BLOCK)\n\n\n\n# adding count by severity    \n\n    SEVERITY_ORDER = ['🚨 FATAL', '⛔️ ERROR', '⚠️ WARN', 'ℹ️ INFO', '🛠️ DEBUG']\n    SEVERITY_MAP = {item.get(\"severity\", \"\").upper(): item.get(\"events\", 0) for item in SEVERITY_COUNTS}\n\n    SEV_TEXT_PARTS = []\n    for SEV_TYPE in SEVERITY_ORDER:\n        COUNT = SEVERITY_MAP.get(SEV_TYPE.upper(), 0)\n        if COUNT:\n            SEV_TEXT_PARTS.append(f\"{SEV_TYPE}: {COUNT}\")\n\n    ALL_SEVERITY_COUNTERS = \" | \".join(SEV_TEXT_PARTS)\n\n    COUNTER_BLOCK = {\n        \"type\": \"section\",\n        \"text\": {\n            \"type\": \"mrkdwn\",\n            \"text\": f\"```{ALL_SEVERITY_COUNTERS}```\"\n        }\n    }\n    BLOCKS.append(COUNTER_BLOCK)\n\n\n    \n# adding the first 10 events  \n\n    for EVENT in EVENTS[:10]:\n\n        BLOCKS.append({\"type\": \"divider\"})\n        \n        fields = []\n        \n    # Account\n        account = EVENT.get('account', 'N/A')\n        fields.append({\n            \"type\": \"mrkdwn\",\n            \"text\": f\"Account:\\n *{account}*\"\n        })\n        \n    # Severity\n        severity = EVENT.get('severity', '')\n        fields.append({\n            \"type\": \"mrkdwn\",\n            \"text\": f\"Severity:\\n *{severity}*\"\n        })\n        \n    # Database and schema\n        database = EVENT.get('database', '')\n        schema = EVENT.get('schema', '')\n        fields.append({\n            \"type\": \"mrkdwn\",\n            \"text\": f\"Schema:\\n *{database}.{schema}*\"\n        })\n        \n    # Local time\n        local_time = EVENT.get('local_time', '')\n        fields.append({\n            \"type\": \"mrkdwn\",\n            \"text\": f\"Local time:\\n `{local_time}`\"\n        })\n        \n    # Object_type and object_name\n        object_name = EVENT.get('object_name', '')\n        object_type = EVENT.get('object_type', '')\n        object_type_formatted = object_type[0].upper() + object_type[1:].lower() if object_type else \" \"\n        fields.append({\n            \"type\": \"mrkdwn\",\n            \"text\": f\"Object:\\n *{object_type_formatted} {object_name}*\"\n        })\n        \n    # Object status\n        object_state = EVENT.get('object_state', '')\n        if object_state:\n            fields.append({\n                \"type\": \"mrkdwn\",\n                \"text\": f\"Object status:\\n `{object_state}`\"\n            })\n            \n        \n        section_fields_block = {\n            \"type\": \"section\",\n            \"fields\": fields\n        }\n        BLOCKS.append(section_fields_block)\n\n        \n    # Error message\n        error_message = EVENT.get(\"message\", \" \")\n        error_section_block = {\n            \"type\": \"section\",\n            \"text\": {\n                \"type\": \"mrkdwn\",\n                \"text\": f\"```{error_message}```\"\n            }\n        }\n        if error_message:\n            BLOCKS.append(error_section_block)\n\n       \n        BUTTONS = []\n\n    # Go to object button\n        object_url = EVENT.get(\"object_url\")\n        if object_url:\n            BUTTONS.append({\n                \"type\": \"button\",\n                \"text\": {\n                    \"type\": \"plain_text\",\n                    \"text\": \"Go to Object\"\n                },\n                \"style\": \"primary\",\n                \"value\": \"Go to Object\",\n                \"url\": object_url\n            })\n\n    # Go to query button\n        event_url = EVENT.get(\"query_url\")\n        if event_url:\n            BUTTONS.append({\n                \"type\": \"button\",\n                \"text\": {\n                    \"type\": \"plain_text\",\n                    \"text\": \"Go to Event\"\n                },\n                \"value\": \"Go to Event\",\n                \"url\": event_url\n            })\n        \n        if BUTTONS:\n            ACTION_BLOCK = {\n                \"type\": \"actions\",\n                \"elements\": BUTTONS\n            }\n            BLOCKS.append(ACTION_BLOCK)\n            \n    return json.dumps({\"blocks\": BLOCKS})\n\n$$\n;",
   "execution_count": null
  },
  {
   "cell_type": "code",
   "id": "06f8edba-cbbe-4cd4-be0e-4eed072de29e",
   "metadata": {
    "language": "sql",
    "name": "test_slack_json_blocks",
    "collapsed": false,
    "codeCollapsed": false
   },
   "outputs": [],
   "source": "--- testing our 2 UDFs inside the system function to send notifications\n\ncall SYSTEM$SEND_SNOWFLAKE_NOTIFICATION(                                    -- send notification (system function)\n        SNOWFLAKE.NOTIFICATION.APPLICATION_JSON(                            -- in json format (system function)\n            SNOWTRAIL_DEMO.OBSERV.SLACK_MESSAGE_FROM_JSON(                  -- json formatted as Slack blocks (UDF)\n                SNOWTRAIL_DEMO.OBSERV.GET_NEW_EVENTS_AS_JSON(               -- get all new event logs as a json string (UDF)\n                    timeadd(hour, -1, current_timestamp)        \n                )\n            )\n        ),\n        SNOWFLAKE.NOTIFICATION.INTEGRATION('SNOWTRAIL_DEMO_SLACK_CHANNEL')  -- using this notification integration\n    )\n;",
   "execution_count": null
  },
  {
   "cell_type": "code",
   "id": "d15c7873-bcef-4796-8c78-456e6dda778f",
   "metadata": {
    "language": "sql",
    "name": "create_new_data_alert_to_Slack"
   },
   "outputs": [],
   "source": "create or replace alert SNOWTRAIL_DEMO.OBSERV.NEW_ERRORS\n-- no warehouse -> serverless\n-- no schedule -> triggered by new data\ncomment = 'Streaming Alert on Event Table to notify in Slack asap'\nif(exists(\n    select \n        * \n    from \n        SNOWTRAIL_DEMO.OBSERV.EVENTS \n    where\n        RECORD_TYPE in ('EVENT', 'LOG')\n        and upper(RESOURCE_ATTRIBUTES:\"snow.schema.name\") = 'PIPELINE'              -- optional\n        -- and upper(RESOURCE_ATTRIBUTES:\"snow.database.name\") = 'SNOWTRAIL_DEMO'   -- not needed as scope is this database only\n        ))\nthen\n    begin\n        let FIRST_NEW_TIMESTAMP timestamp :=(\n            select min(TIMESTAMP) from table(RESULT_SCAN(SNOWFLAKE.ALERT.GET_CONDITION_QUERY_UUID()))      -- get query ID from condition query above\n        );\n    \n        call SYSTEM$SEND_SNOWFLAKE_NOTIFICATION(                                -- send notification (system function)\n            SNOWFLAKE.NOTIFICATION.APPLICATION_JSON(                            -- in json format (system function)\n                SNOWTRAIL_DEMO.OBSERV.SLACK_MESSAGE_FROM_JSON(                  -- json formatted as Slack blocks (UDF)                 \n                    SNOWTRAIL_DEMO.OBSERV.GET_NEW_EVENTS_AS_JSON(               -- get all new event logs as a json string (UDF)\n                        :FIRST_NEW_TIMESTAMP\n                    )\n                )\n            ),\n            SNOWFLAKE.NOTIFICATION.INTEGRATION('SNOWTRAIL_DEMO_SLACK_CHANNEL')  -- using this notification integration\n        );\n    end;\n;",
   "execution_count": null
  },
  {
   "cell_type": "markdown",
   "id": "c13b7b14-02b2-4be9-8a8d-69bc9ef2ca9c",
   "metadata": {
    "name": "_B___Teams_integration",
    "collapsed": false
   },
   "source": "### Option B) Microsoft Teams message"
  },
  {
   "cell_type": "code",
   "id": "ed551ace-a8fa-4945-8f90-e5497ffb20d8",
   "metadata": {
    "language": "python",
    "name": "Teams_webhook_input",
    "collapsed": false,
    "codeCollapsed": false
   },
   "outputs": [],
   "source": "# run this cell to show the temporary input field for your Webhook  \n\nimport streamlit as st\nfrom snowflake.snowpark.context import get_active_session\nsession = get_active_session()\n\nst.divider()\ncol1, col2 = st.columns([1,1])\ncol1.caption('Enter the webhook for the Teams channel you want to connect to. Only the part after https://mymsofficehost.webhook.office.com/webhookb2/')\nMY_TEAMS_WEBHOOK = col1.text_input(\"Webhook\")\nMY_MS_OFFICE_HOST = col1.text_input(\"MS Office Host\")\nif MY_TEAMS_WEBHOOK == \"\":\n    raise Exception(\"Teams channel URL needed to create notification integration\")\nif MY_MS_OFFICE_HOST == \"\":\n    raise Exception(\"company domain for MS office needed to create notification integration\")",
   "execution_count": null
  },
  {
   "cell_type": "code",
   "id": "eaeecc96-05a6-410b-b76e-4d70f6f6ff90",
   "metadata": {
    "language": "sql",
    "name": "create_teams_secret",
    "collapsed": false,
    "codeCollapsed": false
   },
   "outputs": [],
   "source": "create or replace secret SNOWTRAIL_DEMO.OBSERV.SNOWTRAIL_DEMO_TEAMS_WEBHOOK\n    type = GENERIC_STRING\n    secret_string = '{{MY_TEAMS_WEBHOOK}}'\n;",
   "execution_count": null
  },
  {
   "cell_type": "code",
   "id": "2f6bce1a-07a4-4089-865d-944b01e763d5",
   "metadata": {
    "language": "sql",
    "name": "create_teams_integration",
    "collapsed": false,
    "codeCollapsed": false
   },
   "outputs": [],
   "source": "-- see https://docs.snowflake.com/sql-reference/sql/create-notification-integration-webhooks\n\ncreate or replace notification integration SNOWTRAIL_DEMO_TEAMS_CHANNEL\n    type = WEBHOOK\n    enabled = TRUE\n    webhook_url = 'https://{{MY_MS_OFFICE_HOST}}.webhook.office.com/webhookb2/SNOWFLAKE_WEBHOOK_SECRET'\n    webhook_secret = SNOWTRAIL_DEMO.OBSERV.SNOWTRAIL_DEMO_TEAMS_WEBHOOK\n    webhook_body_template=$${\n          \"type\": \"message\",\n          \"attachments\": [\n                {\n                  \"contentType\": \"application/vnd.microsoft.card.adaptive\",\n                  \"content\": SNOWFLAKE_WEBHOOK_MESSAGE\n                }\n              ]\n            }$$\n    webhook_headers = ('Content-Type'='application/json')\n    comment = 'sending Snowflake notifications to Teams channel'\n;",
   "execution_count": null
  },
  {
   "cell_type": "code",
   "id": "9a3e1162-6ff9-4ebe-a278-57ee96644bb9",
   "metadata": {
    "language": "sql",
    "name": "create_teams_json_message",
    "collapsed": false,
    "codeCollapsed": false
   },
   "outputs": [],
   "source": "--- new dynamic function that converts event logs into json blocks for Microsoft Teams message\n\ncreate or replace function SNOWTRAIL_DEMO.OBSERV.TEAMS_MESSAGE_FROM_JSON(\"EVENT_LOGS\" VARCHAR)\nRETURNS VARCHAR\nLANGUAGE PYTHON\nRUNTIME_VERSION = '3.9'\nHANDLER = 'GENERATE_ADAPTIVE_CARD_FOR_TEAMS'\nas $$\nimport json\n\ndef GENERATE_ADAPTIVE_CARD_FOR_TEAMS(EVENT_LOGS):\n\n    try:\n        data = json.loads(EVENT_LOGS)\n    except Exception as e:\n        error_card = {\n            \"$schema\": \"https://adaptivecards.io/schemas/adaptive-card.json\",\n            \"type\": \"AdaptiveCard\",\n            \"version\": \"1.5\",\n            \"body\": [\n                {\"type\": \"TextBlock\", \"weight\": \"Bolder\", \"text\": \"Snowflake Alert Error\", \"color\": \"Attention\", \"wrap\": True, \"style\": \"heading\"},\n                {\"type\": \"TextBlock\", \"text\": f\"Invalid JSON input: {str(e)}\", \"wrap\": True}\n            ],\n            \"msTeams\": {\"width\": \"full\"}\n        }\n        return json.dumps(error_card)\n\n        \n    severity_counts = data.get(\"count_new_events\", [])\n    recent_events = data.get(\"recent_events\", [])\n\n    # Define severity order and style mappings\n    SEVERITY_ORDER = ['🚨 FATAL', '⛔️ ERROR', '⚠️ WARN', 'ℹ️ INFO', '🛠️ DEBUG']\n    style_map = {\n        '🚨 FATAL': 'attention',\n        '⛔️ ERROR': 'attention',\n        '⚠️ WARN': 'warning',\n        'ℹ️ INFO': 'accent',\n        '🛠️ DEBUG': 'emphasis'\n    }\n\n    # Total and ordered summary line\n    total_events = sum(item.get(\"events\", 0) for item in severity_counts)\n    summary_parts = []\n    for sev in SEVERITY_ORDER:\n        count = next((item.get('events', 0) for item in severity_counts if item.get('severity') == sev), 0)\n        if count:\n            summary_parts.append(f\"{sev}: {count}\")\n    summary_line = \" | \".join(summary_parts)\n\n    # Build root card\n    card = {\n        \"$schema\": \"https://adaptivecards.io/schemas/adaptive-card.json\",\n        \"type\": \"AdaptiveCard\",\n        \"version\": \"1.5\",\n        \"msteams\": {\"width\": \"full\"},\n        \"body\": []\n    }\n\n    # Header\n    card['body'].append({\n        \"type\": \"TextBlock\",\n        \"weight\": \"Bolder\",\n        \"text\": f\"{total_events} new Snowflake Events logged\",\n        \"wrap\": True,\n        \"style\": \"heading\"\n    })\n\n    # Single-line severity summary\n    card['body'].append({\n        \"type\": \"TextBlock\",\n        \"text\": summary_line,\n        \"wrap\": True,\n        \"fontType\": \"Monospace\",\n        \"weight\": \"Bolder\",\n        \"separator\": True,\n        \"horizontalAlignment\": \"Left\"\n    })\n\n    # Event details for the first 10 events\n    for event in recent_events[:10]:\n        sev = event.get('severity', 'ℹ️ INFO')\n        container_style = style_map.get(sev, 'emphasis')\n\n        db = event.get('database', '')\n        schema_name = event.get('schema', '')\n        obj_name = event.get('object_name', '')\n        obj_type = event.get('object_type', '')\n        obj_fmt = f\"{obj_type.capitalize()} {obj_name}\".strip()\n\n        col1 = [\n            {\"type\": \"TextBlock\", \"text\": f\"**Account:** {event.get('account', 'N/A')}\", \"wrap\": True},\n            {\"type\": \"TextBlock\", \"text\": f\"**Schema:** {db}.{schema_name}\", \"wrap\": True},\n            {\"type\": \"TextBlock\", \"text\": f\"**Object:** {obj_fmt}\", \"wrap\": True}\n        ]\n        col2 = [\n            {\"type\": \"TextBlock\", \"text\": f\"**Severity:** {sev}\", \"wrap\": True},\n            {\"type\": \"TextBlock\", \"text\": f\"**Local time:** {event.get('local_time', '')}\", \"wrap\": True}\n        ]\n\n        container = {\n            \"type\": \"Container\",\n            \"items\": [\n                {\"type\": \"TextBlock\", \"size\": \"Medium\", \"weight\": \"Bolder\", \"text\": obj_name or \"Event Detail\", \"wrap\": True},\n                {\"type\": \"ColumnSet\", \"columns\": [\n                    {\"type\": \"Column\", \"width\": 50, \"items\": col1},\n                    {\"type\": \"Column\", \"width\": 50, \"items\": col2}\n                ]}\n            ],\n            \"style\": container_style,\n            \"bleed\": True,\n            \"separator\": True\n        }\n\n        if event.get('message'):\n            container['items'].append({\n                \"type\": \"TextBlock\",\n                \"text\": f\"```{event.get('message')}```\",\n                \"wrap\": True,\n                \"fontType\": \"Monospace\"\n            })\n\n        actions = []\n        if event.get('object_url'):\n            actions.append({\"type\": \"Action.OpenUrl\", \"title\": \"Go to Object\", \"url\": event['object_url']})\n        if event.get('query_url'):\n            actions.append({\"type\": \"Action.OpenUrl\", \"title\": \"Go to Query\", \"url\": event['query_url']})\n        if actions:\n            container['items'].append({\"type\": \"ActionSet\", \"actions\": actions})\n\n        card['body'].append(container)\n\n    return json.dumps(card, ensure_ascii=False)\n$$;\n",
   "execution_count": null
  },
  {
   "cell_type": "code",
   "id": "5c2f9fd9-3152-469b-a764-f0574f34d27d",
   "metadata": {
    "language": "sql",
    "name": "testing_teams_json_blocks"
   },
   "outputs": [],
   "source": "--- testing our 2 UDFs inside the system function to send notifications\n\nselect \n    SNOWTRAIL_DEMO.OBSERV.TEAMS_MESSAGE_FROM_JSON(                  -- json formatted as Teams Cards (UDF)\n        SNOWTRAIL_DEMO.OBSERV.GET_NEW_EVENTS_AS_JSON(               -- get all new event logs as a json string (UDF)\n            timeadd(hour, -1, current_timestamp)        \n        )\n    )   \n;",
   "execution_count": null
  },
  {
   "cell_type": "code",
   "id": "6a055d36-f0de-4ff3-8a12-aee972d26569",
   "metadata": {
    "language": "sql",
    "name": "create_new_data_alert_to_Teams"
   },
   "outputs": [],
   "source": "create or replace alert SNOWTRAIL_DEMO.OBSERV.NEW_ERRORS\n-- no warehouse -> serverless\n-- no schedule -> triggered by new data\ncomment = 'Streaming Alert on Event Table to notify in Teams channel'\nif(exists(\n    select \n        * \n    from \n        SNOWTRAIL_DEMO.OBSERV.EVENTS \n    where\n        RECORD_TYPE in ('EVENT', 'LOG')\n        and upper(RESOURCE_ATTRIBUTES:\"snow.schema.name\") = 'PIPELINE'              -- optional\n        -- and upper(RESOURCE_ATTRIBUTES:\"snow.database.name\") = 'SNOWTRAIL_DEMO'   -- not needed as scope is this database only\n        ))\nthen\n    begin\n        let FIRST_NEW_TIMESTAMP timestamp :=(\n            select min(TIMESTAMP) from table(RESULT_SCAN(SNOWFLAKE.ALERT.GET_CONDITION_QUERY_UUID()))      -- get query ID from condition query above\n        );\n    \n        call SYSTEM$SEND_SNOWFLAKE_NOTIFICATION(                                -- send notification (system function)\n            SNOWFLAKE.NOTIFICATION.APPLICATION_JSON(                            -- in json format (system function)\n                SNOWTRAIL_DEMO.OBSERV.TEAMS_MESSAGE_FROM_JSON(                  -- json formatted as Teams cards (UDF)                 \n                    SNOWTRAIL_DEMO.OBSERV.GET_NEW_EVENTS_AS_JSON(               -- get all new event logs as a json string (UDF)\n                        :FIRST_NEW_TIMESTAMP\n                    )\n                )\n            ),\n            SNOWFLAKE.NOTIFICATION.INTEGRATION('SNOWTRAIL_DEMO_TEAMS_CHANNEL')  -- using this notification integration\n        );\n    end;\n;",
   "execution_count": null
  },
  {
   "cell_type": "markdown",
   "id": "163a0f89-277c-4c26-93fc-55464134b640",
   "metadata": {
    "name": "_C___SNS_integration",
    "collapsed": false
   },
   "source": "### Option C) Amazon SNS message\n\n⚠️ Currently, this feature is limited to Snowflake accounts hosted on AWS.\n\nSample output format:\n\n```  \n{\n  \"summary\": \"🚨 FATAL: 2 | ⛔️ ERROR: 1 | ...\",\n  \"recent_events\": [\n    {\n      \"local_time\": \"2025-04-16 at 10:39:22\",\n      \"severity\": \"🚨 FATAL\",\n      \"account\": \"DEMO\",\n      \"schema\": \"PIPELINE\",\n      \"object_type\": \"FUNCTION\",\n      \"object_name\": \"MY_FUNCTION\",\n      \"object_status\": \"\",\n      \"message\": \"exception\",\n      \"object_url\": \"https://...\",\n      \"query_url\": \"https://...\"\n    },\n    ...\n  ]\n}\n\n```"
  },
  {
   "cell_type": "code",
   "id": "baae6adb-9dc4-484e-9618-18b5024251dc",
   "metadata": {
    "language": "python",
    "name": "SNS_topic_input"
   },
   "outputs": [],
   "source": "# run this cell to show the temporary input fields for your ARNs  \n\nimport streamlit as st\nfrom snowflake.snowpark.context import get_active_session\nsession = get_active_session()\n\nst.divider()\ncol1, col2 = st.columns([1,1])\ncol1.caption('Enter the topic ARN and role ARN for the SNS channel you want to connect to.')\nMY_SNS_TOPIC_ARN = col1.text_input(\"SNS TOPIC ARN\")\nMY_SNS_ROLE_ARN = col1.text_input(\"SNS ROLE ARN (case-sensitive)\")\n\nif MY_SNS_TOPIC_ARN == \"\":\n    raise Exception(\"SNS Topic ARN needed to create notification integration\")\nif MY_SNS_ROLE_ARN == \"\":\n    raise Exception(\"SNS Role ARN needed to create notification integration\")",
   "execution_count": null
  },
  {
   "cell_type": "code",
   "id": "af820e0a-2d42-4359-a276-97cdf4689224",
   "metadata": {
    "language": "sql",
    "name": "create_SNS_integration"
   },
   "outputs": [],
   "source": "-- see https://docs.snowflake.com/en/user-guide/notifications/creating-notification-integration-amazon-sns\n\ncreate or replace notification integration SNOWTRAIL_DEMO_SNS_TOPIC\n    enabled = TRUE\n    type = QUEUE\n    direction = OUTBOUND\n    notification_provider = AWS_SNS\n    aws_sns_topic_arn = '{{MY_SNS_TOPIC_ARN}}'\n    aws_sns_role_arn = '{{MY_SNS_ROLE_ARN}}'\n    comment = 'sending Snowflake notifications to SNS topic'\n;",
   "execution_count": null
  },
  {
   "cell_type": "code",
   "id": "e11538c7-4cdf-4b1d-a067-9a2a7d28626b",
   "metadata": {
    "language": "sql",
    "name": "add_notification_integration_to_IAM",
    "collapsed": false,
    "codeCollapsed": false
   },
   "outputs": [],
   "source": "describe notification integration SNOWTRAIL_DEMO_SNS_TOPIC;\n\n-- Record the values of the following properties:\n-- SF_AWS_IAM_USER_ARN\n-- SF_AWS_EXTERNAL_ID\n-- and add them to your SNS & IAM policies",
   "execution_count": null
  },
  {
   "cell_type": "code",
   "id": "a5dc46d6-90e5-4cd2-8da0-3356bdd7c254",
   "metadata": {
    "language": "sql",
    "name": "create_SNS_json_message"
   },
   "outputs": [],
   "source": "--- new dynamic function that converts event logs into json blocks for Amazon SNS\n\ncreate or replace function SNOWTRAIL_DEMO.OBSERV.SNS_MESSAGE_FROM_JSON(\"EVENT_LOGS\" VARCHAR)\nRETURNS VARCHAR\nLANGUAGE PYTHON\nRUNTIME_VERSION = '3.9'\nHANDLER = 'GENERATE_JSON_BLOCKS_FOR_SNS'\nas\n$$\nimport json\n\ndef GENERATE_JSON_BLOCKS_FOR_SNS(EVENT_LOGS):\n    try:\n        DATA = json.loads(EVENT_LOGS)\n    except Exception as e:\n        return json.dumps({\"error\": \"Invalid input\", \"details\": str(e)})\n    \n    SEVERITY_COUNTS = DATA.get(\"count_new_events\", [])\n    RECENT_EVENTS = DATA.get(\"recent_events\", [])[:10]\n\n    \n    # summary string\n    parts = []\n    for sev in SEVERITY_COUNTS:\n        sev_type = sev.get(\"severity\", \"\").strip()\n        count = sev.get(\"events\", 0)\n        if sev_type and count:\n            parts.append(f\"{sev_type}: {count}\")\n    ALL_SEVERITY_COUNTERS = \" | \".join(parts)\n\n    \n    # recent events\n    BLOCKS = []\n    for event in RECENT_EVENTS:\n        EVENT_BLOCK = {\n            \"local_time\": event.get(\"local_time\", \"\"),\n            \"severity\": event.get(\"severity\", \"\"),\n            \"account\": event.get(\"account\", \"\"),\n            \"schema\": event.get(\"schema\", \"\"),\n            \"object_type\": event.get(\"object_type\", \"\"),\n            \"object_name\": event.get(\"object_name\", \"\"),\n            \"object_status\": event.get(\"object_state\", \"\"),\n            \"message\": event.get(\"message\", \"\"),\n            \"object_url\": event.get(\"object_url\", \"\"),\n            \"query_url\": event.get(\"query_url\", \"\")\n        }\n        BLOCKS.append(EVENT_BLOCK)\n\n    return json.dumps({\n        \"summary\": ALL_SEVERITY_COUNTERS,\n        \"recent_events\": BLOCKS\n    },\n    ensure_ascii=False)\n$$;",
   "execution_count": null
  },
  {
   "cell_type": "code",
   "id": "915dc8f7-2518-4d80-8c5a-8013deb0fbf5",
   "metadata": {
    "language": "sql",
    "name": "test_SNS_notification"
   },
   "outputs": [],
   "source": "--- testing our 2 UDFs inside the system function to send notifications\n\ncall SYSTEM$SEND_SNOWFLAKE_NOTIFICATION(                                    -- send notification (system function)\n        SNOWFLAKE.NOTIFICATION.APPLICATION_JSON(                            -- in json format (system function)\n            SNOWTRAIL_DEMO.OBSERV.SNS_MESSAGE_FROM_JSON(                    -- json formatted as SNS message (UDF)\n                SNOWTRAIL_DEMO.OBSERV.GET_NEW_EVENTS_AS_JSON(               -- get all new event logs as a json string (UDF)\n                    timeadd(hour, -1, current_timestamp)        \n                )\n            )\n        ),\n        SNOWFLAKE.NOTIFICATION.INTEGRATION('SNOWTRAIL_DEMO_SNS_TOPIC')  -- using this notification integration\n    )\n;",
   "execution_count": null
  },
  {
   "cell_type": "code",
   "id": "628c0ab6-9174-45a9-99b7-a7d8a74ff4b7",
   "metadata": {
    "language": "sql",
    "name": "create_new_data_alert_to_SNS"
   },
   "outputs": [],
   "source": "create or replace alert SNOWTRAIL_DEMO.OBSERV.NEW_ERRORS\n-- no warehouse -> serverless\n-- no schedule -> triggered by new data\ncomment = 'Streaming Alert on Event Table to publish to SNS topic'\nif(exists(\n    select \n        * \n    from \n        SNOWTRAIL_DEMO.OBSERV.EVENTS \n    where\n        RECORD_TYPE in ('EVENT', 'LOG')\n        and upper(RESOURCE_ATTRIBUTES:\"snow.schema.name\") = 'PIPELINE'              -- optional\n        -- and upper(RESOURCE_ATTRIBUTES:\"snow.database.name\") = 'SNOWTRAIL_DEMO'   -- not needed as scope is this database only\n        ))\nthen\n    begin\n        let FIRST_NEW_TIMESTAMP timestamp :=(\n            select min(TIMESTAMP) from table(RESULT_SCAN(SNOWFLAKE.ALERT.GET_CONDITION_QUERY_UUID()))      -- get query ID from condition query above\n        );\n\n        call SYSTEM$SEND_SNOWFLAKE_NOTIFICATION(                                -- send notification (system function)\n            SNOWFLAKE.NOTIFICATION.APPLICATION_JSON(                            -- in json format (system function)\n                SNOWTRAIL_DEMO.OBSERV.SNS_MESSAGE_FROM_JSON(                    -- json formatted as SNS message (UDF)                 \n                    SNOWTRAIL_DEMO.OBSERV.GET_NEW_EVENTS_AS_JSON(               -- get all new event logs as a json string (UDF)\n                        :FIRST_NEW_TIMESTAMP\n                    )\n                )\n            ),\n            SNOWFLAKE.NOTIFICATION.INTEGRATION('SNOWTRAIL_DEMO_SNS_TOPIC')      -- using this notification integration\n        );\n    end;\n;",
   "execution_count": null
  },
  {
   "cell_type": "markdown",
   "id": "bf803937-9df0-4fcc-a5b4-bb5ba1bbde60",
   "metadata": {
    "name": "_D___Email_Integration",
    "collapsed": false
   },
   "source": "### Option D) E-mail message"
  },
  {
   "cell_type": "code",
   "id": "7613919b-21c9-447c-8dda-bed05974c2f6",
   "metadata": {
    "language": "sql",
    "name": "create_html_from_json",
    "collapsed": false,
    "codeCollapsed": false
   },
   "outputs": [],
   "source": "create or replace function SNOWTRAIL_DEMO.OBSERV.HTML_EMAIL_FROM_JSON(\"EVENT_LOGS\" VARCHAR)\nRETURNS VARCHAR\nLANGUAGE PYTHON\nRUNTIME_VERSION = '3.9'\nHANDLER = 'GENERATE_HTML_TABLE'\nas\n$$\nimport json\nimport html\n\ndef GENERATE_HTML_TABLE(EVENT_LOGS):\n\n    try:\n        DATA = json.loads(EVENT_LOGS)\n    except Exception as e:\n        return f\"<p><strong>Error parsing JSON:</strong> {html.escape(str(e))}</p>\"\n\n    SEV_COUNTS = DATA.get(\"count_new_events\", [])\n    RECENT_EVENTS = DATA.get(\"recent_events\", [])\n\n    TOTAL_EVENTS = sum(item.get(\"events\", 0) for item in SEV_COUNTS)\n    \n    SEVERITY_ORDER = ['🚨 FATAL', '⛔️ ERROR', '⚠️ WARN', 'ℹ️ INFO', '🛠️ DEBUG']\n    \n    # Start HTML\n    HTML_STRING = f\"\"\"\n        <img src=\"https://s26.q4cdn.com/463892824/files/doc_multimedia/HI_RES-_Snowflake_Logo_Blue_1800x550.jpg\"\n             alt=\"Snowflake logo\" height=\"72\">\n             \n    <h2>{TOTAL_EVENTS} new Snowflake Events logged</h2>\n    \n    \"\"\"\n    \n    if SEV_COUNTS:\n        PARTS = []\n        for SEV in SEVERITY_ORDER:\n            COUNT = next((item.get('events', 0) for item in SEV_COUNTS if item.get('severity') == SEV), 0)\n            if COUNT:\n                PARTS.append(f\"{html.escape(SEV)}: {COUNT}\")\n        if PARTS:\n            SEV_SUMMARY = \" | \".join(PARTS)\n            HTML_STRING += f\"<p><strong>{SEV_SUMMARY}</strong></p>\\n\"\n        else:\n            HTML_STRING += \"<p><em>No new events to summarize.</em></p>\\n\"\n\n    # Recent events table\n    if RECENT_EVENTS:\n        headers = [\n            \"Local time\",\n            \"Severity\",\n            \"Account\",\n            \"Schema\",\n            \"Object type\",\n            \"Object name\",\n            \"Object status\",\n            \"Message\",\n            \"Object link\",\n            \"Event link\"\n        ]\n        HTML_STRING += \"\"\"\n        <p>Most recent Events:</p>\n        <table border=\"1\" style=\"border-color:#DEE3EA; border-collapse:collapse;\" cellpadding=\"5\" cellspacing=\"0\">\n          <thead>\n            <tr>\n        \"\"\"\n        for col in headers:\n            HTML_STRING += f'<th style=\"text-align:left; width:200px;\">{col}</th>'\n        HTML_STRING += \"\"\"\n            </tr>\n          </thead>\n          <tbody>\n        \"\"\"\n\n        for EVENT in RECENT_EVENTS[:10]:\n            HTML_STRING += \"<tr>\"\n\n            # Local time\n            TIME = html.escape(EVENT.get(\"local_time\",\"\"))\n            HTML_STRING += f\"<td>{TIME}</td>\"\n\n            # Severity\n            SEV = html.escape(EVENT.get(\"severity\",\"\"))\n            HTML_STRING += f\"<td>{SEV}</td>\"\n\n            # Account name\n            ACCOUNT_NAME = html.escape(EVENT.get(\"account\",\"\"))\n            HTML_STRING += f\"<td>{ACCOUNT_NAME}</td>\"\n\n            # Schema name\n            DS = EVENT.get(\"database\",\"\"); \n            SCHEMA = EVENT.get(\"schema\",\"\")\n            HTML_STRING += f\"<td>{html.escape(f'{DS}.{SCHEMA}')}</td>\"\n\n            # Object type\n            TYPE = html.escape(EVENT.get(\"object_type\",\"\").capitalize())\n            HTML_STRING += f\"<td>{TYPE}</td>\"\n\n            # Object name\n            NAME = html.escape(EVENT.get(\"object_name\",\"\"))\n            HTML_STRING += f\"<td>{NAME}</td>\"\n\n            # Object status\n            STATUS = html.escape(EVENT.get(\"object_state\",\"\"))\n            HTML_STRING += f\"<td>{STATUS}</td>\"\n\n            # Message\n            MESSAGE = html.escape(EVENT.get(\"message\",\"\"))\n            HTML_STRING += f\"<td><pre style='margin:0'>{MESSAGE}</pre></td>\"\n\n            # Object link\n            OBJECT_URL = EVENT.get(\"object_url\",\"\")\n            if OBJECT_URL:\n                HTML_STRING += f'<td><a href=\"{html.escape(OBJECT_URL)}\">Go to Object</a></td>'\n            else:\n                HTML_STRING += \"<td></td>\"\n\n            # Event link\n            QUERY_URL = EVENT.get(\"query_url\",\"\")\n            if QUERY_URL:\n                HTML_STRING += f'<td><a href=\"{html.escape(QUERY_URL)}\">Go to Event</a></td>'\n            else:\n                HTML_STRING += \"<td></td>\"\n\n            HTML_STRING += \"</tr>\"\n\n        HTML_STRING += \"\"\"\n          </tbody>\n        </table>\n        \"\"\"\n    else:\n        HTML_STRING += \"<p><em>No recent event details available.</em></p>\"\n\n    return HTML_STRING\n$$\n;\n",
   "execution_count": null
  },
  {
   "cell_type": "code",
   "id": "0dae82b5-8ffd-4bb9-9b9a-671fa5e8a1b3",
   "metadata": {
    "language": "sql",
    "name": "create_email_integration"
   },
   "outputs": [],
   "source": "create or replace notification integration SNOWTRAIL_DEMO_EMAIL\n    type = EMAIL\n    enabled = TRUE\n    comment = 'sending Snowflake notifications to verified user emails'\n;",
   "execution_count": null
  },
  {
   "cell_type": "code",
   "id": "72264771-e882-4d9e-9d5b-587bc145fa7e",
   "metadata": {
    "language": "python",
    "name": "email_address_input"
   },
   "outputs": [],
   "source": "# run this cell to show the temporary input field for your email address  \n\nimport streamlit as st\nfrom snowflake.snowpark.context import get_active_session\nsession = get_active_session()\n\nst.divider()\ncol1, col2 = st.columns([1,1])\nMY_EMAIL = col1.text_input(\"Verfied user email address\")\n\nif MY_EMAIL == \"\":\n    raise Exception(\"user email needed to create notification integration\")",
   "execution_count": null
  },
  {
   "cell_type": "code",
   "id": "3ab9ef0d-052b-49a7-909c-14196395d95b",
   "metadata": {
    "language": "sql",
    "name": "test_send_email"
   },
   "outputs": [],
   "source": "call SYSTEM$SEND_SNOWFLAKE_NOTIFICATION(\n        SNOWFLAKE.NOTIFICATION.TEXT_HTML( \n            SNOWTRAIL_DEMO.OBSERV.HTML_EMAIL_FROM_JSON(             -- json formatted as html for email (UDF)\n                SNOWTRAIL_DEMO.OBSERV.GET_NEW_EVENTS_AS_JSON(       -- get all new event logs as a json string (UDF)\n                    timeadd(hour, -1, current_timestamp)            -- ENSURE THERE ARE NEW EVENTS DURING THIS TIME\n                )\n            )\n        ),\n        SNOWFLAKE.NOTIFICATION.EMAIL_INTEGRATION_CONFIG(\n            'SNOWTRAIL_DEMO_EMAIL',                                 -- email integration\n            'New Snowflake Event Logs',                             -- email header\n            array_construct('{{MY_EMAIL}}')                         -- validated user email addresses\n        )\n    );",
   "execution_count": null
  },
  {
   "cell_type": "markdown",
   "id": "7600d62c-1f73-4aa1-8942-6090bd1cdad8",
   "metadata": {
    "name": "_2_4_Alert_Setup",
    "collapsed": false
   },
   "source": "---\n## 2.4. Alert setup\n\nleveraging the \"New Data Alert\" (preview) on new error logs\n(documentation: https://docs.snowflake.com/en/user-guide/alerts#label-alerts-type-streaming)\n\n* the Alert contains a \"stream\" on the event table which triggeres the Alert action everytime new logs are added to the event table.\n* the Alert action then queries the new events, formats them as a json string, adjusts the format for the selected message destination (Slack, Teams, ...) and  sends the message via the selected notification integration."
  },
  {
   "cell_type": "code",
   "id": "f22c1ba6-d23e-4ac1-9a45-515a6212c426",
   "metadata": {
    "language": "sql",
    "name": "create_new_data_alert_to_Email"
   },
   "outputs": [],
   "source": "create or replace alert SNOWTRAIL_DEMO.OBSERV.NEW_ERRORS\n-- no warehouse -> serverless\n-- no schedule -> triggered by new data\ncomment = 'Streaming Alert on Event Table to notify via email'\nif(exists(\n    select \n        * \n    from \n        SNOWTRAIL_DEMO.OBSERV.EVENTS \n    where\n        RECORD_TYPE in ('EVENT', 'LOG')\n        and upper(RESOURCE_ATTRIBUTES:\"snow.schema.name\") = 'PIPELINE'              -- optional\n        -- and upper(RESOURCE_ATTRIBUTES:\"snow.database.name\") = 'SNOWTRAIL_DEMO'   -- not needed as scope is this database only\n        ))\nthen\n    begin\n        let FIRST_NEW_TIMESTAMP timestamp :=(\n            select min(TIMESTAMP) from table(RESULT_SCAN(SNOWFLAKE.ALERT.GET_CONDITION_QUERY_UUID()))      -- get query ID from condition query above\n        );\n\n        call SYSTEM$SEND_SNOWFLAKE_NOTIFICATION(                    -- send notification (system function)\n            SNOWFLAKE.NOTIFICATION.TEXT_HTML(                           -- in html format (system function)\n                SNOWTRAIL_DEMO.OBSERV.HTML_EMAIL_FROM_JSON(             -- json formatted as html for email (UDF)\n                    SNOWTRAIL_DEMO.OBSERV.GET_NEW_EVENTS_AS_JSON(       -- get all new event logs as a json string (UDF)\n                        :FIRST_NEW_TIMESTAMP       \n                    )\n                )\n            ),\n            SNOWFLAKE.NOTIFICATION.EMAIL_INTEGRATION_CONFIG(\n                'SNOWTRAIL_DEMO_EMAIL',                                 -- email integration\n                'New Snowflake Event Logs',                             -- email header\n                array_construct('{{MY_EMAIL}}')                         -- validated user email addresses\n            )\n        );\n    \n    end;\n;",
   "execution_count": null
  },
  {
   "cell_type": "code",
   "id": "8d50cbf4-0c8d-4950-86cb-114990437ac9",
   "metadata": {
    "language": "sql",
    "name": "resume_streaming_alert",
    "collapsed": false
   },
   "source": "-- after creating the Alert object for one of the destinations above, resume the alert here to activate it\n\nalter alert SNOWTRAIL_DEMO.OBSERV.NEW_ERRORS resume;",
   "execution_count": null,
   "outputs": []
  },
  {
   "cell_type": "code",
   "id": "c1165d2f-b62b-40fb-9f43-5b1221e89dc5",
   "metadata": {
    "language": "sql",
    "name": "check_alert_history",
    "collapsed": false
   },
   "outputs": [],
   "source": "--checking alert history if streaming Alert was triggered \n\nselect \n    SCHEDULED_TIME,\n    COMPLETED_TIME,\n    STATE,\n    NAME,\n    SQL_ERROR_MESSAGE\nfrom\n    table(SNOWTRAIL_DEMO.INFORMATION_SCHEMA.ALERT_HISTORY(\n        SCHEDULED_TIME_RANGE_START => timeadd(hour, -24, current_timestamp),\n        SCHEDULED_TIME_RANGE_END => current_timestamp,\n        RESULT_LIMIT => 1000,\n        ALERT_NAME => 'NEW_ERRORS'\n    ))\norder by\n    COMPLETED_TIME desc\nlimit \n    100;",
   "execution_count": null
  },
  {
   "cell_type": "code",
   "id": "f6c03c82-47ef-48e6-a3dd-0e73ea2a919f",
   "metadata": {
    "language": "sql",
    "name": "check_notification_history"
   },
   "outputs": [],
   "source": "-- if alerts are triggered but notifications are not received, we can check NOTIFICATION_HISTORY to see any errors\n\nselect\n    * \nfrom\n    table(INFORMATION_SCHEMA.NOTIFICATION_HISTORY(\n            START_TIME=>timeadd('hour',-1,current_timestamp()),\n            RESULT_LIMIT => 100,\n            INTEGRATION_NAME => 'SNOWTRAIL_DEMO_SLACK_CHANNEL'          --- insert your notification name\n          )\n        )\n;",
   "execution_count": null
  },
  {
   "cell_type": "code",
   "id": "1a4afba2-81c0-416c-a2a2-b7bec9da6f11",
   "metadata": {
    "language": "python",
    "name": "check_alert_cost"
   },
   "outputs": [],
   "source": "import streamlit as st\nimport pandas as pd\nimport altair as alt\nsession = get_active_session()\n\nst.header('Serverless Alert on Event Table - Costs')\n\nSERVERLESS_CREDITS = session.sql(\"\"\"\n                select\n                    ALERT_NAME,\n                    to_date(START_TIME) as DS,\n                    sum(CREDITS_USED) as CREDITS_SPENT\n                from \n                    table(SNOWTRAIL_DEMO.INFORMATION_SCHEMA.SERVERLESS_ALERT_HISTORY(\n                        DATE_RANGE_START => current_date - 7\n                    ))\n                where\n                    ALERT_NAME = 'NEW_ERRORS'\n                group by \n                    ALERT_NAME,\n                    DS\n                \"\"\").to_pandas()\n\nCHART = alt.Chart(SERVERLESS_CREDITS).mark_bar(size=30).encode(\n        x=alt.X('DS:T', axis=alt.Axis(title= None)), \n        y=alt.Y('CREDITS_SPENT:Q', axis=alt.Axis(title='Daily Credits')), \n        ).properties(height=360, width=360)\n\nst.altair_chart(CHART)\n",
   "execution_count": null
  }
 ]
}
