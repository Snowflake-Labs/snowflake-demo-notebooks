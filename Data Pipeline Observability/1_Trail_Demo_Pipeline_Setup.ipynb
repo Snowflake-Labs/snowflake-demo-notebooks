{
 "metadata": {
  "kernelspec": {
   "display_name": "Streamlit Notebook",
   "name": "streamlit"
  },
  "lastEditStatus": {
   "notebookId": "lfli5faqefivqfsz2x5o",
   "authorId": "3290930229076",
   "authorName": "JSOMMERFELD",
   "authorEmail": "jan.sommerfeld@snowflake.com",
   "sessionId": "f1c1853f-58e7-4fe5-b35d-c549021829ca",
   "lastEditTime": 1751829071665
  }
 },
 "nbformat_minor": 5,
 "nbformat": 4,
 "cells": [
  {
   "cell_type": "markdown",
   "id": "5eb8416f-ee57-460f-907a-b9be13125887",
   "metadata": {
    "name": "_title",
    "collapsed": false
   },
   "source": "# 🍿 Snowflake Trail - Step 1: Demo Setup\n\nCreating a dummy data ingestion and transformation project with some intentional errors and anomalies that we can monitor and alert on.\n\n* Warehouse\n* Internal Stage\n* Pipe\n* Dynamic Tables\n* Stream and Task graph\n* nested SQL & Python Procedures & Functions\n\n---\n**Setup Details**:\n* 1st Task creates a new csv-file in the internal Stage\n* 2nd Task creates a broken csv-file into the internal stage\n* 3rd Task manually refreshes the Pipe to load the 2 new files from the source Stage into a target table\n* Pipe copy of the broken csv-file will fail -> logging file ingestion error to the event table\n* the Stream on the target table will catch the new data from the successful file ingestion\n* Stream triggers the root Task to run the graph\n* child Tasks call procedures and functions, which may fail at random -> logging Procedure and Task errors\n* parallel child Task will change the name of the source table of a Dynamic Table and then manually refresh the Dynamic Table -> logging Dynamic Table refresh error\n\n-> manually run the Trigger Task via the UI or SQL to create new logs"
  },
  {
   "cell_type": "code",
   "id": "db7e6a98-2432-48ff-939d-6268190e1afa",
   "metadata": {
    "language": "sql",
    "name": "create_database"
   },
   "outputs": [],
   "source": "create database if not exists SNOWTRAIL_DEMO;",
   "execution_count": null
  },
  {
   "cell_type": "code",
   "id": "55230f57-a349-4d55-8239-5668845cf0f0",
   "metadata": {
    "language": "sql",
    "name": "drop_public_schema"
   },
   "outputs": [],
   "source": "-- just to clean up \ndrop schema if exists SNOWTRAIL_DEMO.PUBLIC;",
   "execution_count": null
  },
  {
   "cell_type": "code",
   "id": "b2eee21c-4a0c-4707-b997-947af6f0380d",
   "metadata": {
    "language": "sql",
    "name": "create_pipeline_schema",
    "codeCollapsed": false
   },
   "outputs": [],
   "source": "-- schema to contain the business data transformation process\ncreate schema if not exists SNOWTRAIL_DEMO.PIPELINE;",
   "execution_count": null
  },
  {
   "cell_type": "code",
   "id": "8c2105a6-4d2d-431a-b85d-99d85fd3732e",
   "metadata": {
    "language": "sql",
    "name": "create_warehouse",
    "collapsed": false
   },
   "outputs": [],
   "source": "-- warehouse to run the data transformation process \ncreate warehouse if not exists SNOWTRAIL_PIPELINE_WH\n    warehouse_size = XSMALL\n    auto_suspend = 300                      -- after 5min\n    statement_timeout_in_seconds = 1800     -- after 30min\n    comment = 'running only data transformations'\n;",
   "execution_count": null
  },
  {
   "cell_type": "code",
   "id": "5af73e3f-4082-49a0-bbce-93d0bb932ec4",
   "metadata": {
    "language": "sql",
    "name": "create_internal_stage"
   },
   "outputs": [],
   "source": "create or replace stage SNOWTRAIL_DEMO.PIPELINE.WEATHER_CSV_FILES \ndirectory = ( enable = true ) \ncomment = 'to create csv files for pipe ingestion'\n;",
   "execution_count": null
  },
  {
   "cell_type": "code",
   "id": "7fa93997-d4d4-497a-9a6d-7b0830fa74dc",
   "metadata": {
    "language": "sql",
    "name": "create_task_to_trigger_errors"
   },
   "outputs": [],
   "source": "create or replace task SNOWTRAIL_DEMO.PIPELINE.TRIGGER_ERROR_LOGS\nwarehouse = 'SNOWTRAIL_PIPELINE_WH'\ncomment = 'manually run task to trigger new event logs'\nas\n    select SYSTEM$WAIT(2)\n;",
   "execution_count": null
  },
  {
   "cell_type": "code",
   "id": "fbf77c63-ff7b-4bd6-9cf9-4d609b2e3a84",
   "metadata": {
    "language": "sql",
    "name": "create_task_to_insert_new_file"
   },
   "outputs": [],
   "source": "create or replace task SNOWTRAIL_DEMO.PIPELINE.INSERT_NEW_FILE\nwarehouse = 'SNOWTRAIL_PIPELINE_WH'\ncomment = 'write csv files into stage'\nafter\n    SNOWTRAIL_DEMO.PIPELINE.TRIGGER_ERROR_LOGS\nas\ndeclare\n    TS varchar := replace(concat(current_date(),'-',current_time()), ':','-');\nbegin\n    execute immediate '\n    copy into \n        @SNOWTRAIL_DEMO.PIPELINE.WEATHER_CSV_FILES/'|| :TS ||'/BROKEN\n    from (\n        select \n            current_date() as DS,\n            ''Germany'' as COUNTRY,\n            13184 as ZIPCODE, \n            42 as TEMP_IN_F,\n            15 as WIND_IN_MPH, \n            1 as RAIN_IN_INCH\n        ) \n    FILE_FORMAT = (TYPE = CSV)\n    OVERWRITE = TRUE\n';\nend;",
   "execution_count": null
  },
  {
   "cell_type": "code",
   "id": "8652733f-297d-4080-adf1-8866255772a6",
   "metadata": {
    "language": "sql",
    "name": "create_task_to_insert_file_with_anomaly"
   },
   "outputs": [],
   "source": "create or replace task SNOWTRAIL_DEMO.PIPELINE.INSERT_ANOMALY_FILE\nwarehouse = 'SNOWTRAIL_PIPELINE_WH'\ncomment = 'write csv files into stage'\nafter\n    SNOWTRAIL_DEMO.PIPELINE.INSERT_NEW_FILE\nas\ndeclare\n    TS varchar := replace(concat(current_date(),'-',current_time()), ':','-');\nbegin\n    execute immediate '\n        copy into \n            @SNOWTRAIL_DEMO.PIPELINE.WEATHER_CSV_FILES/'|| :TS ||'/QUALITY_ISSUE\n        from (\n            select \n                current_date() as DS,\n                ''Germany'' as COUNTRY,\n                13184 as ZIPCODE, \n                142 as TEMP_IN_F,\n                15 as WIND_IN_MPH, \n                1 as RAIN_IN_INCH\n            ) \n        FILE_FORMAT = (TYPE = CSV)\n        OVERWRITE = TRUE\n    ';\nend;",
   "execution_count": null
  },
  {
   "cell_type": "code",
   "id": "45f928ea-427e-43b8-9ddc-03fba65f4725",
   "metadata": {
    "language": "sql",
    "name": "create_task_to_insert_broken_file"
   },
   "outputs": [],
   "source": "create or replace task SNOWTRAIL_DEMO.PIPELINE.INSERT_BROKEN_FILE\nwarehouse = 'SNOWTRAIL_PIPELINE_WH'\ncomment = 'write incomplete csv files into stage'\nafter\n    SNOWTRAIL_DEMO.PIPELINE.INSERT_NEW_FILE\nas\ndeclare\n    TS varchar := replace(concat(current_date(),'-',current_time()), ':','-');\nbegin\n    execute immediate '\n        copy into \n            @SNOWTRAIL_DEMO.PIPELINE.WEATHER_CSV_FILES/'|| :TS ||'/BROKEN\n        from (\n            select \n                current_date as DS,\n                ''Germany'' as COUNTRY,\n                13184 as ZIPCODE, \n                15 as WIND_IN_MPH, \n                1 as RAIN_IN_INCH\n            ) \n        FILE_FORMAT = (TYPE = CSV)\n        OVERWRITE = TRUE\n    ';\nend;",
   "execution_count": null
  },
  {
   "cell_type": "code",
   "id": "e95a158e-18a6-46a4-a76d-62fc7417b335",
   "metadata": {
    "language": "sql",
    "name": "create_task_to_refresh_pipe"
   },
   "outputs": [],
   "source": "create or replace task SNOWTRAIL_DEMO.PIPELINE.MAN_PIPE_REFRESH\nwarehouse = 'SNOWTRAIL_PIPELINE_WH'\ncomment = 'manually refresh pipe to pick up new files'\nafter\n    SNOWTRAIL_DEMO.PIPELINE.INSERT_BROKEN_FILE\nas\n    alter pipe SNOWTRAIL_DEMO.PIPELINE.LOAD_DAILY_WEATHER refresh\n;",
   "execution_count": null
  },
  {
   "cell_type": "code",
   "id": "7ac50fd7-e1fa-4463-9a15-057629c1d053",
   "metadata": {
    "language": "sql",
    "name": "resume_child_tasks"
   },
   "outputs": [],
   "source": "alter task SNOWTRAIL_DEMO.PIPELINE.INSERT_NEW_FILE resume;\nalter task SNOWTRAIL_DEMO.PIPELINE.INSERT_ANOMALY_FILE resume;\nalter task SNOWTRAIL_DEMO.PIPELINE.INSERT_BROKEN_FILE resume;\nalter task SNOWTRAIL_DEMO.PIPELINE.MAN_PIPE_REFRESH resume;",
   "execution_count": null
  },
  {
   "cell_type": "code",
   "id": "9dd35d1b-11b8-4763-bd7b-87eaf3fa6f39",
   "metadata": {
    "language": "sql",
    "name": "create_target_table"
   },
   "outputs": [],
   "source": "create or replace table SNOWTRAIL_DEMO.PIPELINE.IMPORTED_WEATHER (\n\tDS DATE,\n\tCOUNTRY VARCHAR(16777216),\n\tZIPCODE VARCHAR(16777216),\n\tTEMP_IN_F NUMBER(38,0),\n\tWIND_IN_MPH NUMBER(38,0),\n\tRAIN_IN_INCH NUMBER(38,0)\n)\ncomment = 'Pipe target table'\n;",
   "execution_count": null
  },
  {
   "cell_type": "code",
   "id": "617d23ed-8ecd-47d5-b978-92ae1627277c",
   "metadata": {
    "language": "sql",
    "name": "create_Pipe"
   },
   "outputs": [],
   "source": "create or replace pipe SNOWTRAIL_DEMO.PIPELINE.LOAD_DAILY_WEATHER\ncomment = 'requires manual loading'\nas\ncopy into \n    SNOWTRAIL_DEMO.PIPELINE.IMPORTED_WEATHER\nfrom \n    @SNOWTRAIL_DEMO.PIPELINE.WEATHER_CSV_FILES   \nfile_format = (type = CSV)\non_error = continue\n;",
   "execution_count": null
  },
  {
   "cell_type": "code",
   "id": "618f2fca-e7bb-4bc8-b7bd-d65467ccac7c",
   "metadata": {
    "language": "sql",
    "name": "create_dynamic_table"
   },
   "outputs": [],
   "source": "create or replace dynamic table SNOWTRAIL_DEMO.PIPELINE.ALL_WEATHER_IMPERIAL\ntarget_lag = 'DOWNSTREAM'\nwarehouse = 'SNOWTRAIL_PIPELINE_WH'\nas\nselect\n    DS,\n    COUNTRY,\n    ZIPCODE,\n    TEMP_IN_F,\n    WIND_IN_MPH,\n    RAIN_IN_INCH\nfrom \n    SNOWTRAIL_DEMO.PIPELINE.IMPORTED_WEATHER\ngroup by\n    ALL\norder by \n    DS desc\n;",
   "execution_count": null
  },
  {
   "cell_type": "code",
   "id": "90ddf9e1-c942-4849-8573-77f410b2b974",
   "metadata": {
    "language": "sql",
    "name": "create_dynamic_table_2"
   },
   "outputs": [],
   "source": "create or replace dynamic table SNOWTRAIL_DEMO.PIPELINE.ALL_WEATHER_METRIC\ntarget_lag = '8 hours' \nwarehouse = 'SNOWTRAIL_PIPELINE_WH'\nas\nselect \n    DS,\n    COUNTRY,\n    ZIPCODE,\n    ((TEMP_IN_F - 32) * 5/9) AS TEMP_IN_C,\n    (WIND_IN_MPH * 1.609344) AS WIND_IN_KMH,\n    (RAIN_IN_INCH * 2.54) AS RAIN_IN_CM\nfrom  \n    SNOWTRAIL_DEMO.PIPELINE.ALL_WEATHER_IMPERIAL\n;",
   "execution_count": null
  },
  {
   "cell_type": "code",
   "id": "20a3a1c1-43a1-4c73-a1b5-b649551f1030",
   "metadata": {
    "language": "sql",
    "name": "create_stream"
   },
   "outputs": [],
   "source": "create or replace stream SNOWTRAIL_DEMO.PIPELINE.NEW_WEATHER_DATA \non table SNOWTRAIL_DEMO.PIPELINE.IMPORTED_WEATHER\nappend_only = true\ncomment = 'to trigger Task';",
   "execution_count": null
  },
  {
   "cell_type": "code",
   "id": "8e12a792-1d38-4ff6-9a05-bb9c55fcc3b2",
   "metadata": {
    "language": "sql",
    "name": "create_table_2"
   },
   "outputs": [],
   "source": "create or replace table SNOWTRAIL_DEMO.PIPELINE.NEW_US_WEATHER (\n    DS DATE,\n\tCOUNTRY VARCHAR(16777216),\n\tZIPCODE VARCHAR(16777216),\n\tTEMP_IN_F NUMBER(38,0),\n\tWIND_IN_MPH NUMBER(38,0),\n\tRAIN_IN_INCH NUMBER(38,0)\n);",
   "execution_count": null
  },
  {
   "cell_type": "code",
   "id": "b39d5865-9130-46ee-b38c-433121a8e98c",
   "metadata": {
    "language": "sql",
    "name": "create_task_on_stream"
   },
   "outputs": [],
   "source": "create or replace task SNOWTRAIL_DEMO.PIPELINE.ROOT_TASK\nwarehouse = 'SNOWTRAIL_PIPELINE_WH'\n-- no scheduled -> triggered\nSUSPEND_TASK_AFTER_NUM_FAILURES = 0\nwhen\n    SYSTEM$STREAM_HAS_DATA('SNOWTRAIL_DEMO.PIPELINE.NEW_WEATHER_DATA')\nas\ninsert into SNOWTRAIL_DEMO.PIPELINE.NEW_US_WEATHER\n    select \n        DS,\n    \tCOUNTRY,\n    \tZIPCODE,\n    \tTEMP_IN_F,\n    \tWIND_IN_MPH,\n    \tRAIN_IN_INCH\n    from\n        SNOWTRAIL_DEMO.PIPELINE.NEW_WEATHER_DATA    -- new rows in stream\n;",
   "execution_count": null
  },
  {
   "cell_type": "code",
   "id": "aba9dceb-c69f-42b9-ae2d-5e7b36834395",
   "metadata": {
    "language": "sql",
    "name": "create_task_to_copy_from_stream"
   },
   "outputs": [],
   "source": "create or replace task SNOWTRAIL_DEMO.PIPELINE.COPY_FROM_STREAM\nwarehouse = 'SNOWTRAIL_PIPELINE_WH'\nafter\n    SNOWTRAIL_DEMO.PIPELINE.ROOT_TASK\nas\ninsert into SNOWTRAIL_DEMO.PIPELINE.NEW_US_WEATHER\n    select \n        DS,\n    \tCOUNTRY,\n    \tZIPCODE,\n    \tTEMP_IN_F,\n    \tWIND_IN_MPH,\n    \tRAIN_IN_INCH\n    from\n        SNOWTRAIL_DEMO.PIPELINE.NEW_WEATHER_DATA    -- new rows in stream\n;",
   "execution_count": null
  },
  {
   "cell_type": "code",
   "id": "a32936b2-184b-4273-a501-def4d3606786",
   "metadata": {
    "language": "sql",
    "name": "create_sql_procedure"
   },
   "outputs": [],
   "source": "create or replace procedure SNOWTRAIL_DEMO.PIPELINE.SQL_PROCEDURE()\nreturns VARCHAR(16777216)\nlanguage SQL\nexecute as OWNER\nas \n$$\nbegin\n    SYSTEM$LOG_INFO('My SQL procedure started');\n    select SYSTEM$WAIT(2);\n    SYSTEM$LOG_INFO('My SQL procedure completed');\nend\n$$;",
   "execution_count": null
  },
  {
   "cell_type": "code",
   "id": "5b9de909-f484-441d-aede-5b0424922129",
   "metadata": {
    "language": "sql",
    "name": "create_python_procedure"
   },
   "outputs": [],
   "source": "create or replace procedure SNOWTRAIL_DEMO.PIPELINE.PYTHON_PROCEDURE()\nreturns VARCHAR(16777216)\nlanguage PYTHON\nRUNTIME_VERSION = '3.9'\nPACKAGES = ('snowflake-snowpark-python','snowflake-telemetry-python')\nHANDLER = 'wait_5_seconds'\nexecute as OWNER\nas\n$$\nimport time\nimport logging\nfrom snowflake import telemetry\n\nlogger = logging.getLogger(\"DEMO_LOGGER\")\n\ndef wait_5_seconds(session):\n    logger.info(\"My Python procedure started\")\n    time.sleep(5)\n    logger.warn(\"My Python procedure completed late\")\n$$;",
   "execution_count": null
  },
  {
   "cell_type": "code",
   "id": "c2293297-3fff-4ec7-b806-a09e21dee299",
   "metadata": {
    "language": "sql",
    "name": "create_javascript_procedure"
   },
   "outputs": [],
   "source": "create or replace procedure SNOWTRAIL_DEMO.PIPELINE.JAVASCRIPT_PROCEDURE()\nreturns string\nlanguage javascript\nas\n$$\n    snowflake.log(\"info\", \"My JavaScript procedure started\");      \n    snowflake.log(\"warn\", \"My JavaScript procedure completed late\");      \n    return \"Done\";\n$$;",
   "execution_count": null
  },
  {
   "cell_type": "code",
   "id": "7ce061f0-36ac-4bd4-9062-c4a8a0ad2f75",
   "metadata": {
    "language": "sql",
    "name": "create_flaky_procedure"
   },
   "outputs": [],
   "source": "create or replace procedure SNOWTRAIL_DEMO.PIPELINE.FLAKY_SQL_PROCEDURE()\nreturns VARCHAR(16777216)\nlanguage SQL\nexecute as OWNER\nas \n$$\ndeclare\n    RANDOM_VALUE number(2,0);\nbegin\n    RANDOM_VALUE := (select uniform(1, 2, random()));\n    if (:RANDOM_VALUE = 2) \n        then select count(*) from OLD_TABLE;\n    end if;\n    select SYSTEM$WAIT(2);\nend\n$$;",
   "execution_count": null
  },
  {
   "cell_type": "code",
   "id": "758c7dbe-a43e-418d-ae81-ae0b804aed9f",
   "metadata": {
    "language": "sql",
    "name": "create_python_UDF"
   },
   "outputs": [],
   "source": "create or replace function SNOWTRAIL_DEMO.PIPELINE.PYTHON_UDF()\nreturns VARCHAR(16777216)\nlanguage PYTHON\nRUNTIME_VERSION = '3.9'\nPACKAGES = ('snowflake-snowpark-python','snowflake-telemetry-python')\nHANDLER = 'main'\nAS '\nimport time\nimport logging\nfrom snowflake import telemetry   \nlogger = logging.getLogger(\"DEMO_LOGGER\")\n\ndef main():\n    time.sleep(5)\n    logger.info(\"Python UDF completed.\")\n    return \"Python UDF completed.\"\n\n';",
   "execution_count": null
  },
  {
   "cell_type": "code",
   "id": "68272ee1-e88c-4dc2-a869-4c6530e0e88f",
   "metadata": {
    "language": "sql",
    "name": "create_parent_procedure"
   },
   "outputs": [],
   "source": "create or replace procedure SNOWTRAIL_DEMO.PIPELINE.PARENT_PROCEDURE()\nreturns VARCHAR(16777216)\nlanguage SQL\nexecute as OWNER\nas \n$$\nbegin\n    call SNOWTRAIL_DEMO.PIPELINE.SQL_PROCEDURE();\n    call SNOWTRAIL_DEMO.PIPELINE.PYTHON_PROCEDURE();\n    call SNOWTRAIL_DEMO.PIPELINE.JAVASCRIPT_PROCEDURE();\n    call SNOWTRAIL_DEMO.PIPELINE.FLAKY_SQL_PROCEDURE();\n    SYSTEM$LOG_INFO('Demo parent procedure completed');\nend\n$$;",
   "execution_count": null
  },
  {
   "cell_type": "code",
   "id": "62f6573b-91a9-4297-9f0d-5a85a14af155",
   "metadata": {
    "language": "sql",
    "name": "create_child_task_calling_sproc",
    "collapsed": false
   },
   "outputs": [],
   "source": "create or replace task SNOWTRAIL_DEMO.PIPELINE.CALL_PROCEDURES\nwarehouse = 'SNOWTRAIL_PIPELINE_WH'\ncomment='calling procedures'\nafter\n    SNOWTRAIL_DEMO.PIPELINE.ROOT_TASK\nas\nbegin\n    call SNOWTRAIL_DEMO.PIPELINE.PARENT_PROCEDURE();\n    select SYSTEM$WAIT(2);\n    select SNOWTRAIL_DEMO.PIPELINE.PYTHON_UDF();\n    select SYSTEM$WAIT(2);\n    call SYSTEM$SET_RETURN_VALUE('Task 2 completed');\nend\n;       ",
   "execution_count": null
  },
  {
   "cell_type": "code",
   "id": "dfccd1cf-e5c9-4120-886f-035d029f79f6",
   "metadata": {
    "language": "sql",
    "name": "create_task_to_create_DT_error"
   },
   "outputs": [],
   "source": "create or replace task SNOWTRAIL_DEMO.PIPELINE.MAKE_DT_REFRESH_FAIL\nwarehouse = 'SNOWTRAIL_PIPELINE_WH'\ncomment='changing base table name and refreshing DT'\nafter\n    SNOWTRAIL_DEMO.PIPELINE.ROOT_TASK\nas\nbegin\n    alter table SNOWTRAIL_DEMO.PIPELINE.IMPORTED_WEATHER rename to SNOWTRAIL_DEMO.PIPELINE.IMPORTED_WEATHER_2;\n    alter dynamic table SNOWTRAIL_DEMO.PIPELINE.ALL_WEATHER_IMPERIAL refresh;\nend\n;       ",
   "execution_count": null
  },
  {
   "cell_type": "code",
   "id": "8c3eaf3c-c6ea-4640-85ca-f9a4c7d2ed95",
   "metadata": {
    "language": "sql",
    "name": "create_cleanup_task"
   },
   "outputs": [],
   "source": "create or replace task SNOWTRAIL_DEMO.PIPELINE.CLEANUP\nwarehouse = 'SNOWTRAIL_PIPELINE_WH'\ncomment='changing base table name back to original'\nfinalize = SNOWTRAIL_DEMO.PIPELINE.ROOT_TASK\nas\nbegin\n    alter table if exists SNOWTRAIL_DEMO.PIPELINE.IMPORTED_WEATHER_2 rename to SNOWTRAIL_DEMO.PIPELINE.IMPORTED_WEATHER;\n    alter dynamic table SNOWTRAIL_DEMO.PIPELINE.ALL_WEATHER_IMPERIAL refresh;\nend\n;   ",
   "execution_count": null
  },
  {
   "cell_type": "code",
   "id": "3be7518b-3768-48f1-9ea0-ecd1c3c40968",
   "metadata": {
    "language": "sql",
    "name": "resume_task_graph",
    "collapsed": false
   },
   "outputs": [],
   "source": "select SYSTEM$TASK_DEPENDENTS_ENABLE('SNOWTRAIL_DEMO.PIPELINE.ROOT_TASK');",
   "execution_count": null
  },
  {
   "cell_type": "code",
   "id": "3a479582-6fd0-4fd2-b555-4ca2f7779fc7",
   "metadata": {
    "language": "sql",
    "name": "set_log_level_for_schema"
   },
   "outputs": [],
   "source": "-- requires GRANT MODIFY LOG LEVEL ON ACCOUNT TO ROLE XXX;\n \nalter schema SNOWTRAIL_DEMO.PIPELINE \n    set LOG_LEVEL = INFO;\n    ",
   "execution_count": null
  },
  {
   "cell_type": "code",
   "id": "32bd1489-dff2-4edc-b44e-5b1c7be85254",
   "metadata": {
    "language": "sql",
    "name": "enable_tracing_for_schema"
   },
   "outputs": [],
   "source": "-- requires GRANT MODIFY TRACE LEVEL ON ACCOUNT TO ROLE XXX;\n\nalter schema SNOWTRAIL_DEMO.PIPELINE \n    set TRACE_LEVEL = ALWAYS;",
   "execution_count": null
  },
  {
   "cell_type": "markdown",
   "id": "632a5be3-f909-40e8-8d7e-ef5e02706887",
   "metadata": {
    "name": "summary",
    "collapsed": false
   },
   "source": "Now you can intentionally trigger a range of event logs from\n\n**Task run, Pipe copy, Dynamic Table refresh, Snowpark Procedure and Function calls**\n\nto test or demo the logging to the event table."
  },
  {
   "cell_type": "code",
   "id": "ab89497a-00dd-498c-bf00-a4b381d6b185",
   "metadata": {
    "language": "sql",
    "name": "manually_execute_task"
   },
   "outputs": [],
   "source": "-- manually trigger this task to create error logs\n\nexecute task SNOWTRAIL_DEMO.PIPELINE.TRIGGER_ERROR_LOGS;",
   "execution_count": null
  },
  {
   "cell_type": "markdown",
   "id": "9a747b49-ac21-4a4f-8a8e-e7b5df32323f",
   "metadata": {
    "name": "next_step",
    "collapsed": false
   },
   "source": "continue with the \n\n**Snowflake Trail - Step 2: Observability Setup** Notebook \n\nto add a comprehensive observability-layer to this pipeline."
  }
 ]
}