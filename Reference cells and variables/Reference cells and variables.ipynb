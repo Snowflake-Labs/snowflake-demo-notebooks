{
  "cells": [
    {
      "cell_type": "markdown",
      "id": "d40f15d5-0f06-4c81-b4e6-a760771d44c2",
      "metadata": {
        "collapsed": false,
        "name": "cell1"
      },
      "source": [
        "# Reference cells and variables in Snowflake Notebooks"
      ]
    },
    {
      "cell_type": "markdown",
      "id": "884f6e12-725b-4ae2-b9c9-5eaa4f4f964f",
      "metadata": {
        "collapsed": false,
        "name": "cell2"
      },
      "source": [
        "You can reference the results of previous cells in a cell in your notebook. This allows you to seamless switch between working in Python and SQL and reuse the results and variables.\n",
        "\n"
      ]
    },
    {
      "cell_type": "markdown",
      "id": "1ad40569-c979-461e-a2a0-98449785ba2f",
      "metadata": {
        "collapsed": false,
        "name": "cell3"
      },
      "source": [
        "## Referencing SQL output in Python cells\n",
        "\n",
        "We can access the SQL results directly in Python and convert the results to a Snowpark or pandas dataframe.\n",
        "\n",
        "The cell reference is based on the cell name. Note that if you change the cell name, you will also need to update the subsequent cell reference accordingly.\n",
        "\n",
        "\n",
        "### Example 1: Access SQL results as Snowpark or Pandas Dataframes"
      ]
    },
    {
      "cell_type": "code",
      "execution_count": null,
      "id": "3775908f-ca36-4846-8f38-5adca39217f2",
      "metadata": {
        "codeCollapsed": false,
        "language": "sql",
        "name": "cell4"
      },
      "outputs": [],
      "source": [
        "-- assign Query Tag to Session. This helps with performance monitoring and troubleshooting\n",
        "ALTER SESSION SET query_tag = '{\"origin\":\"sf_sit-is\",\"name\":\"notebook_demo_pack\",\"version\":{\"major\":1, \"minor\":0},\"attributes\":{\"is_quickstart\":0, \"source\":\"sql\", \"vignette\":\"reference_cells\"}}';\n",
        "\n",
        "SELECT 'FRIDAY' as SNOWDAY, 0.2 as CHANCE_OF_SNOW\n",
        "UNION ALL\n",
        "SELECT 'SATURDAY',0.5\n",
        "UNION ALL \n",
        "SELECT 'SUNDAY', 0.9;"
      ]
    },
    {
      "cell_type": "code",
      "execution_count": null,
      "id": "8d50cbf4-0c8d-4950-86cb-114990437ac9",
      "metadata": {
        "codeCollapsed": false,
        "language": "python",
        "name": "cell5"
      },
      "outputs": [],
      "source": [
        "snowpark_df = cell4.to_df()"
      ]
    },
    {
      "cell_type": "code",
      "execution_count": null,
      "id": "c695373e-ac74-4b62-a1f1-08206cbd5c81",
      "metadata": {
        "codeCollapsed": false,
        "language": "python",
        "name": "cell6"
      },
      "outputs": [],
      "source": [
        "pandas_df = cell4.to_pandas()"
      ]
    },
    {
      "cell_type": "markdown",
      "id": "585a54f7-5dd4-412a-9c42-89d5c5d5978c",
      "metadata": {
        "collapsed": false,
        "name": "cell7"
      },
      "source": [
        "## Referencing variables in SQL code\n",
        "\n",
        "You can use the Jinja syntax `{{..}}` to reference Python variables within your SQL queries as follows.\n",
        "\n",
        "### Example 2: Using Python variable value in a SQL query\n"
      ]
    },
    {
      "cell_type": "code",
      "execution_count": null,
      "id": "e73b633a-57d4-436c-baae-960c92c9cef6",
      "metadata": {
        "codeCollapsed": false,
        "collapsed": false,
        "language": "sql",
        "name": "cell8"
      },
      "outputs": [],
      "source": [
        "-- Create a dataset of countries\n",
        "CREATE OR REPLACE TABLE countries (\n",
        "    country_name VARCHAR(100)\n",
        ");\n",
        "\n",
        "INSERT INTO countries (country_name) VALUES\n",
        "    ('USA'),('Canada'),('United Kingdom'),('Germany'),('France'),\n",
        "    ('Australia'),('Japan'),('China'),('India'),('Brazil');"
      ]
    },
    {
      "cell_type": "code",
      "execution_count": null,
      "id": "e7a6f119-4f67-4ef5-a35f-117a7f502475",
      "metadata": {
        "codeCollapsed": false,
        "language": "python",
        "name": "cell9"
      },
      "outputs": [],
      "source": [
        "c = \"'USA'\""
      ]
    },
    {
      "cell_type": "code",
      "execution_count": null,
      "id": "60a59077-a4b1-4699-81a5-645addd8ad6d",
      "metadata": {
        "codeCollapsed": false,
        "language": "sql",
        "name": "cell10"
      },
      "outputs": [],
      "source": [
        "-- Filter to record where country is USA\n",
        "SELECT * FROM countries WHERE COUNTRY_NAME = {{c}}"
      ]
    },
    {
      "cell_type": "markdown",
      "id": "decf8b5e-e804-439d-a186-3a329da12563",
      "metadata": {
        "name": "cell11"
      },
      "source": [
        "### Example 3: Using Python dataframe in a SQL query"
      ]
    },
    {
      "cell_type": "code",
      "execution_count": null,
      "id": "9b49d972-3966-4fa6-9457-f028b06484a3",
      "metadata": {
        "codeCollapsed": false,
        "language": "sql",
        "name": "cell12"
      },
      "outputs": [],
      "source": [
        "-- Create dataset with columns PRODUCT_ID, RATING, PRICE\n",
        "SELECT CONCAT('SNOW-',UNIFORM(1000,9999, RANDOM())) AS PRODUCT_ID, \n",
        "       ABS(NORMAL(5, 3, RANDOM())) AS RATING, \n",
        "       ABS(NORMAL(750, 200::FLOAT, RANDOM())) AS PRICE\n",
        "FROM TABLE(GENERATOR(ROWCOUNT => 100));"
      ]
    },
    {
      "cell_type": "code",
      "execution_count": null,
      "id": "b7040f85-0ab8-4bdb-a36e-33599b79ea54",
      "metadata": {
        "codeCollapsed": false,
        "language": "sql",
        "name": "cell13"
      },
      "outputs": [],
      "source": [
        "-- Filter to products where price is greater than 500\n",
        "SELECT * FROM {{cell12}} where PRICE > 500"
      ]
    }
  ],
  "metadata": {
    "kernelspec": {
      "display_name": "Streamlit Notebook",
      "name": "streamlit"
    }
  },
  "nbformat": 4,
  "nbformat_minor": 5
}
