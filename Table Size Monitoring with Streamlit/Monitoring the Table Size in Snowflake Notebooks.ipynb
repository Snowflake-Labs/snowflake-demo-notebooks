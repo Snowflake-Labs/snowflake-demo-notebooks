{
 "metadata": {
  "kernelspec": {
   "display_name": "Streamlit Notebook",
   "name": "streamlit"
  }
 },
 "nbformat_minor": 5,
 "nbformat": 4,
 "cells": [
  {
   "cell_type": "markdown",
   "id": "fffbc30a-92ee-4ca1-8f2b-c678034a79f7",
   "metadata": {
    "name": "md_title",
    "collapsed": false
   },
   "source": "# Monitoring the Table Size in Snowflake Notebooks\n\nA notebook that tracks the size of specific tables over time to help developers monitor storage growth trends."
  },
  {
   "cell_type": "markdown",
   "id": "2f7e020d-1643-4b77-915f-d16362c33b0e",
   "metadata": {
    "name": "md_data",
    "collapsed": false
   },
   "source": "## Viewing the table"
  },
  {
   "cell_type": "code",
   "id": "e635fbf6-641d-4db6-a5d4-a7d234f527c4",
   "metadata": {
    "language": "sql",
    "name": "sql_data",
    "codeCollapsed": false
   },
   "outputs": [],
   "source": "SELECT *\nFROM CHANINN_DEMO_DATA.PUBLIC.MFA_DATA",
   "execution_count": null
  },
  {
   "cell_type": "markdown",
   "id": "406e5e42-d3f5-4478-bd81-812ae1b1ed15",
   "metadata": {
    "name": "md_schema",
    "collapsed": false
   },
   "source": "## Viewing the table schema"
  },
  {
   "cell_type": "code",
   "id": "205857fe-c127-4179-bf8d-a435f2bf18f0",
   "metadata": {
    "language": "sql",
    "name": "sql_schema",
    "collapsed": false,
    "codeCollapsed": false
   },
   "outputs": [],
   "source": "SELECT *\nFROM CHANINN_DEMO_DATA.INFORMATION_SCHEMA.TABLES",
   "execution_count": null
  },
  {
   "cell_type": "markdown",
   "id": "79435e21-4a8f-46dc-8c20-27025578c27f",
   "metadata": {
    "name": "md_table_size",
    "collapsed": false
   },
   "source": "## Retrieving the table size"
  },
  {
   "cell_type": "code",
   "id": "b2be7ed6-3296-4a26-8a92-92f1ea372abb",
   "metadata": {
    "language": "sql",
    "name": "sql_table_size",
    "codeCollapsed": false,
    "collapsed": false
   },
   "outputs": [],
   "source": "SELECT TABLE_NAME, ROW_COUNT, BYTES\nFROM CHANINN_DEMO_DATA.INFORMATION_SCHEMA.TABLES\nWHERE TABLE_NAME = 'MFA_DATA'",
   "execution_count": null
  },
  {
   "cell_type": "markdown",
   "id": "67ea4011-eacd-4b23-abc9-0b50b4de936c",
   "metadata": {
    "name": "cell1",
    "collapsed": false
   },
   "source": "## Displaying the table size with Streamlit\n\nWe're taking the above SQL query and displaying it using Streamlit widgets."
  },
  {
   "cell_type": "code",
   "id": "30138f64-493f-4214-91c7-46be71375736",
   "metadata": {
    "language": "python",
    "name": "py_table_size",
    "codeCollapsed": false
   },
   "outputs": [],
   "source": "from snowflake.snowpark.context import get_active_session\nimport pandas as pd\nimport streamlit as st\n\n# Data retrieval\nsession = get_active_session()\ndf = session.sql(\n    f\"\"\"\n    SELECT TABLE_NAME, ROW_COUNT, BYTES\nFROM CHANINN_DEMO_DATA.INFORMATION_SCHEMA.TABLES\nWHERE TABLE_NAME = 'MFA_DATA'\n    \"\"\"\n    ).to_pandas()\n\n# Display metrics\nst.subheader(f\"Metrics for `{df.TABLE_NAME.to_list()[0]}` table\")\ncol = st.columns(2)\n\nwith col[0]:\n    st.metric(\"Bytes\", df.BYTES)\n\nwith col[1]:\n    st.metric(\"Row count\", df.ROW_COUNT)",
   "execution_count": null
  },
  {
   "cell_type": "markdown",
   "id": "29470a4d-97ca-4531-8393-79de3de2e0cd",
   "metadata": {
    "name": "md_resources",
    "collapsed": false
   },
   "source": "## Resources\n\nSnowflake Docs on [TABLES view](https://docs.snowflake.com/en/sql-reference/info-schema/tables)"
  }
 ]
}