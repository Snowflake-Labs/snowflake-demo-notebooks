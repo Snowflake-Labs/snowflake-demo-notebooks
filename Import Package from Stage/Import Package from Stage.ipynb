{
 "metadata": {
  "kernelspec": {
   "display_name": "Streamlit Notebook",
   "name": "streamlit"
  }
 },
 "nbformat_minor": 5,
 "nbformat": 4,
 "cells": [
  {
   "cell_type": "markdown",
   "id": "a78daa85-b3fa-4dd6-bde7-38371c64c08d",
   "metadata": {
    "collapsed": false,
    "name": "cell1"
   },
   "source": "# Import custom package from stage into notebook\n\nIf the Python package that you are looking to use is not available in Anaconda, then you can upload the package to a stage and import the package from stage. Here we show a simple example of importing a custom package into a notebook."
  },
  {
   "cell_type": "markdown",
   "id": "c8b3a287-6cb3-4525-b0ed-a2188d37993c",
   "metadata": {
    "collapsed": false,
    "name": "cell2"
   },
   "source": "# Example Package\n\nHere is the Python package used in this example. It is a simple package with a single Python code file. You can download the `simple.zip` package [here](https://github.com/Snowflake-Labs/snowflake-demo-notebooks/tree/main/Import%20Package%20from%20Stage/simple.zip).\n\n## Create a test package\n```bash\nmkdir simple\ntouch simple/__init__.py\ncat >> simple/__init__.py  # Paste the source below.\nzip -r simple simple\n```\n\nInside `simple/__init__.py`, we create a simple package that returns Hello world: \n\n```python\nimport streamlit as st\n\ndef greeting():\n  return \"Hello world!\"\n\ndef hi():\n  st.write(greeting())\n```\n\n\n"
  },
  {
   "cell_type": "markdown",
   "id": "f36e4fd2-1c4b-4fec-8419-73036fd40d04",
   "metadata": {
    "name": "cell6",
    "collapsed": false
   },
   "source": "# Upload Package to Stage\n\nNext, we create a stage to upload the `simple.zip` package."
  },
  {
   "cell_type": "code",
   "execution_count": null,
   "id": "ee92159e-eaa4-4eb2-a606-12003ae2ba43",
   "metadata": {
    "collapsed": false,
    "language": "sql",
    "name": "cell3",
    "codeCollapsed": false
   },
   "outputs": [],
   "source": [
    "-- create a stage for the package.\n",
    "CREATE STAGE IF NOT EXISTS MY_PACKAGES;"
   ]
  },
  {
   "cell_type": "markdown",
   "id": "35e0da06-7c20-410a-a66d-960cb0fa09a7",
   "metadata": {
    "collapsed": false,
    "name": "cell4"
   },
   "source": "To upload the file to stage, you can run the following command. \n\nUsing [snowscli](https://github.com/snowflakedb/snowflake-cli):\n\n```bash\nsnow snowpark package upload --file simple.zip --stage MY_PACKAGES --overwrite\n```\nAlternatively, using [snowsql](https://docs.snowflake.com/en/user-guide/snowsql):\n\n```bash\nsnowsql -q \"PUT file://simple.zip @MY_PACKAGES AUTO_COMPRESS=FALSE OVERWRITE=TRUE\"\n\n```\n"
  },
  {
   "cell_type": "code",
   "execution_count": null,
   "id": "16bb85c1-e3ac-45af-833e-51c84bb031c6",
   "metadata": {
    "codeCollapsed": false,
    "language": "sql",
    "name": "cell5"
   },
   "outputs": [],
   "source": [
    "LS @MY_PACKAGES;"
   ]
  },
  {
   "cell_type": "markdown",
   "id": "2ecef987-0162-407e-b739-3c38613253d7",
   "metadata": {
    "name": "cell17",
    "collapsed": false
   },
   "source": "## Upload the package using the Package Picker UI\n\nNow that the `simple.zip` package is on the stage, we can specify the path to this pacakge in the Package Picker. \n\n- Click on the `Packages` dropdown \n- Navigate to `Stage Packages` tab\n- Enter the Stage Package Path as: `@MY_PACKAGES/simple.zip`"
  },
  {
   "cell_type": "code",
   "id": "b38bb25b-5e17-4b70-bcd4-f602fe7554bd",
   "metadata": {
    "language": "python",
    "name": "cell7",
    "collapsed": false,
    "codeCollapsed": false
   },
   "outputs": [],
   "source": "import streamlit as st\nst.image(\"https://github.com/Snowflake-Labs/snowflake-demo-notebooks/tree/main/Import%20Package%20from%20Stage/package_from_stage.png\")",
   "execution_count": null
  },
  {
   "cell_type": "markdown",
   "id": "c0c1b8dd-b690-42a4-a330-0369e27f5d47",
   "metadata": {
    "name": "cell8"
   },
   "source": "Now that this package is uploaded and you have restarted your notebook session, you can import the `simple` package."
  },
  {
   "cell_type": "code",
   "execution_count": null,
   "id": "d576bf8f-92cd-4012-9aa3-af2ef5795c6c",
   "metadata": {
    "codeCollapsed": false,
    "collapsed": false,
    "language": "python",
    "name": "cell18"
   },
   "outputs": [],
   "source": [
    "import simple"
   ]
  },
  {
   "cell_type": "code",
   "execution_count": null,
   "id": "f2f327b4-b48a-4936-a671-87f81ac0748a",
   "metadata": {
    "codeCollapsed": false,
    "collapsed": false,
    "language": "python",
    "name": "cell19"
   },
   "outputs": [],
   "source": [
    "simple.hi()"
   ]
  }
 ]
}