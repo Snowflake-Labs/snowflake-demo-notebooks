{
  "cells": [
    {
      "cell_type": "markdown",
      "id": "a78daa85-b3fa-4dd6-bde7-38371c64c08d",
      "metadata": {
        "collapsed": false,
        "name": "cell1"
      },
      "source": [
        "# Import custom package from stage into notebook\n",
        "\n",
        "If the Python package that you are looking to use is not available in Anaconda, then you can upload the package to a stage and import the package from stage. Here we show a simple example of importing a custom package into a notebook.\n",
        "\n",
        "| Feature        | Availability  |\n",
        "| -------------- | --------------|\n",
        "| Preview Feature — Private | Support for this feature is currently not in production and is available only to selected accounts. |"
      ]
    },
    {
      "cell_type": "markdown",
      "id": "c8b3a287-6cb3-4525-b0ed-a2188d37993c",
      "metadata": {
        "collapsed": false,
        "name": "cell2"
      },
      "source": [
        "# Example Package\n",
        "\n",
        "Here is the Python package used in this example. It is a simple package with a single Python code file. You can download the `simple.zip` package [here](https://github.com/Snowflake-Labs/snowflake-demo-notebooks/tree/main/Import%20Package%20from%20Stage/simple.zip).\n",
        "\n",
        "## Create a test package\n",
        "```bash\n",
        "mkdir simple\n",
        "touch simple/__init__.py\n",
        "cat >> simple/__init__.py  # Paste the source below.\n",
        "zip -r simple simple\n",
        "```\n",
        "\n",
        "Inside `simple/__init__.py`, we create a simple package that returns Hello world: \n",
        "\n",
        "```python\n",
        "import streamlit as st\n",
        "\n",
        "def greeting():\n",
        "  return \"Hello world!\"\n",
        "\n",
        "def hi():\n",
        "  st.write(greeting())\n",
        "```\n",
        "\n",
        "\n"
      ]
    },
    {
      "cell_type": "markdown",
      "id": "f36e4fd2-1c4b-4fec-8419-73036fd40d04",
      "metadata": {
        "collapsed": false,
        "name": "cell3"
      },
      "source": [
        "# Upload Package to Stage\n",
        "\n",
        "Next, we create a stage to upload the `simple.zip` package."
      ]
    },
    {
      "cell_type": "code",
      "execution_count": null,
      "id": "ee92159e-eaa4-4eb2-a606-12003ae2ba43",
      "metadata": {
        "codeCollapsed": false,
        "collapsed": false,
        "language": "sql",
        "name": "cell4"
      },
      "outputs": [],
      "source": [
        "-- create a stage for the package.\n",
        "CREATE STAGE IF NOT EXISTS MY_PACKAGES;\n",
        "-- assign Query Tag to Session. This helps with performance monitoring and troubleshooting\n",
        "ALTER SESSION SET query_tag = '{\"origin\":\"sf_sit-is\",\"name\":\"notebook_demo_pack\",\"version\":{\"major\":1, \"minor\":0},\"attributes\":{\"is_quickstart\":0, \"source\":\"sql\", \"vignette\":\"import_package_stage\"}}';"
      ]
    },
    {
      "cell_type": "markdown",
      "id": "35e0da06-7c20-410a-a66d-960cb0fa09a7",
      "metadata": {
        "collapsed": false,
        "name": "cell5"
      },
      "source": [
        "To upload the file to stage, you can run the following command. \n",
        "\n",
        "Using [snowscli](https://github.com/snowflakedb/snowflake-cli):\n",
        "\n",
        "```bash\n",
        "snow snowpark package upload --file simple.zip --stage MY_PACKAGES --overwrite\n",
        "```\n",
        "Alternatively, using [snowsql](https://docs.snowflake.com/en/user-guide/snowsql):\n",
        "\n",
        "```bash\n",
        "snowsql -q \"PUT file://simple.zip @MY_PACKAGES AUTO_COMPRESS=FALSE OVERWRITE=TRUE\"\n",
        "\n",
        "```\n"
      ]
    },
    {
      "cell_type": "code",
      "execution_count": null,
      "id": "16bb85c1-e3ac-45af-833e-51c84bb031c6",
      "metadata": {
        "codeCollapsed": false,
        "language": "sql",
        "name": "cell6"
      },
      "outputs": [],
      "source": [
        "LS @MY_PACKAGES;"
      ]
    },
    {
      "cell_type": "markdown",
      "id": "2ecef987-0162-407e-b739-3c38613253d7",
      "metadata": {
        "collapsed": false,
        "name": "cell7"
      },
      "source": [
        "## Upload the package using the Package Picker UI\n",
        "\n",
        "Now that the `simple.zip` package is on the stage, we can specify the path to this pacakge in the Package Picker. \n",
        "\n",
        "- Click on the `Packages` dropdown \n",
        "- Navigate to `Stage Packages` tab\n",
        "- Enter the Stage Package Path as `@<database>.<schema>.my_packages/simple.zip`  (all lowercase) where `<database>.<schema>` is the actual namespace of the stage "
      ]
    },
    {
      "cell_type": "code",
      "execution_count": null,
      "id": "b38bb25b-5e17-4b70-bcd4-f602fe7554bd",
      "metadata": {
        "codeCollapsed": false,
        "collapsed": false,
        "language": "python",
        "name": "cell8"
      },
      "outputs": [],
      "source": [
        "import streamlit as st\n",
        "st.image(\"https://raw.githubusercontent.com/Snowflake-Labs/snowflake-demo-notebooks/main/Import%20Package%20from%20Stage/package_from_stage.png\")"
      ]
    },
    {
      "cell_type": "markdown",
      "id": "c0c1b8dd-b690-42a4-a330-0369e27f5d47",
      "metadata": {
        "name": "cell9"
      },
      "source": [
        "Now that this package is uploaded and you have restarted your notebook session, you can import the `simple` package."
      ]
    },
    {
      "cell_type": "code",
      "execution_count": null,
      "id": "d576bf8f-92cd-4012-9aa3-af2ef5795c6c",
      "metadata": {
        "codeCollapsed": false,
        "collapsed": false,
        "language": "python",
        "name": "cell10"
      },
      "outputs": [],
      "source": [
        "import simple"
      ]
    },
    {
      "cell_type": "code",
      "execution_count": null,
      "id": "f2f327b4-b48a-4936-a671-87f81ac0748a",
      "metadata": {
        "codeCollapsed": false,
        "collapsed": false,
        "language": "python",
        "name": "cell11"
      },
      "outputs": [],
      "source": [
        "simple.hi()"
      ]
    }
  ],
  "metadata": {
    "kernelspec": {
      "display_name": "Streamlit Notebook",
      "name": "streamlit"
    }
  },
  "nbformat": 4,
  "nbformat_minor": 5
}
