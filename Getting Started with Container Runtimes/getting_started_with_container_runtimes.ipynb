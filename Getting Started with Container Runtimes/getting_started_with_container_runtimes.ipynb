{
  "cells": [
    {
      "cell_type": "markdown",
      "id": "07e67d82-cb27-4518-b025-b74c117c5637",
      "metadata": {
        "collapsed": false,
        "name": "cell1"
      },
      "source": [
        "# Welcome to the Notebooks Container Runtime!\n",
        "\n",
        "Make sure you've completed all of the setup instructions outlined in the [README]() file prior to running this Notebook.\n",
        "\n",
        "- Have you uploaded the data?\n",
        "- Have you configured the EAI?\n",
        "\n",
        "If so, proceed!"
      ]
    },
    {
      "cell_type": "code",
      "execution_count": null,
      "id": "2a609d6f-f3de-4b32-9731-1411db287f9f",
      "metadata": {
        "collapsed": false,
        "language": "python",
        "name": "cell2"
      },
      "outputs": [],
      "source": [
        "import warnings\n",
        "warnings.filterwarnings(\"ignore\")\n",
        "\n",
        "from snowflake.snowpark.context import get_active_session\n",
        "session = get_active_session()\n",
        "# Add a query tag to the session. This helps with troubleshooting and performance monitoring.\n",
        "session.query_tag = {\"origin\":\"sf_sit-is\", \n",
        "                    \"name\":\"aiml_notebooks_xgboost_on_gpu\", \n",
        "                    \"version\":{\"major\":1, \"minor\":0},\n",
        "                    \"attributes\":{\"is_quickstart\":1, \"source\":\"notebook\"}}"
      ]
    },
    {
      "cell_type": "code",
      "execution_count": null,
      "id": "e6b51bc3-e121-4b6c-a84f-20f04eb1f28a",
      "metadata": {
        "collapsed": false,
        "language": "python",
        "name": "cell3"
      },
      "outputs": [],
      "source": [
        "!pip freeze"
      ]
    },
    {
      "cell_type": "markdown",
      "id": "507dda4f-a92a-4144-b715-3c9a5b994eb7",
      "metadata": {
        "collapsed": false,
        "name": "cell4"
      },
      "source": [
        "Notebooks Container Runtime, along with External Access Integrations give us the flexibility to `pip install` packages from anywhere, including popular package repositories such as pypi. You can install whatever packages you need by running `!pip install <package_name>` directly in the Notebook."
      ]
    },
    {
      "cell_type": "code",
      "execution_count": null,
      "id": "01982269-5dac-46a6-8af6-2b495e65862f",
      "metadata": {
        "language": "python",
        "name": "cell5"
      },
      "outputs": [],
      "source": [
        "!pip install seaborn"
      ]
    },
    {
      "cell_type": "markdown",
      "id": "ce5d7e1e-2323-428b-ad5d-dbab1b0f34a8",
      "metadata": {
        "name": "cell6"
      },
      "source": [
        "Just like Notebooks on the Warehouse Runtime, we can intermingle both SQL and Python cells:"
      ]
    },
    {
      "cell_type": "code",
      "execution_count": null,
      "id": "78126cdd-9f6e-4524-ac92-b12d915255ae",
      "metadata": {
        "collapsed": false,
        "language": "sql",
        "name": "cell7"
      },
      "outputs": [],
      "source": [
        "show tables;"
      ]
    },
    {
      "cell_type": "markdown",
      "id": "b43cb438-746d-476d-8d00-a5fc4cd67648",
      "metadata": {
        "collapsed": false,
        "name": "cell8"
      },
      "source": [
        "Let's visualize some of our data using the `seaborn` package that we installed above:"
      ]
    },
    {
      "cell_type": "code",
      "execution_count": null,
      "id": "23f0f888-3d70-42c4-9071-bc366c861a52",
      "metadata": {
        "collapsed": false,
        "language": "python",
        "name": "cell9"
      },
      "outputs": [],
      "source": [
        "diamonds_df = session.table(\"DIAMONDS\")\n",
        "diamonds_df.show()"
      ]
    },
    {
      "cell_type": "code",
      "execution_count": null,
      "id": "63e2849a-df59-45d2-81e1-14b7880601fc",
      "metadata": {
        "language": "python",
        "name": "cell10"
      },
      "outputs": [],
      "source": [
        "df = diamonds_df.to_pandas()\n",
        "\n",
        "import seaborn as sns\n",
        "\n",
        "# Create a visualization\n",
        "sns.histplot(\n",
        "    data=df,\n",
        "    x=\"PRICE\"\n",
        ")"
      ]
    },
    {
      "cell_type": "markdown",
      "id": "3020ac4d-058f-49aa-9686-ca0558d1a97b",
      "metadata": {
        "collapsed": false,
        "name": "cell11"
      },
      "source": [
        "Now, let's train a basic `XGBRegressor` machine learning model. The ML Container Runtime for Snowflake Notebooks includes pre-installed common packages for doing machine learning tasks, including SnowparkML and other OSS packages."
      ]
    },
    {
      "cell_type": "code",
      "execution_count": null,
      "id": "53aad007-803a-4120-b227-596caa842cba",
      "metadata": {
        "language": "python",
        "name": "cell12"
      },
      "outputs": [],
      "source": [
        "import time\n",
        "from snowflake.ml.modeling.xgboost import XGBRegressor\n",
        "\n",
        "CATEGORICAL_COLUMNS = [\"CUT\", \"COLOR\", \"CLARITY\"]\n",
        "NUMERICAL_COLUMNS = [\"CARAT\", \"DEPTH\", \"X\", \"Y\", \"Z\"]\n",
        "LABEL_COLUMNS = ['PRICE']\n",
        "diamonds_df = session.table(\"diamonds\")\n",
        "\n",
        "model = XGBRegressor(max_depth=400, input_cols=NUMERICAL_COLUMNS, label_cols=LABEL_COLUMNS)\n",
        "\n",
        "t0 = time.time()\n",
        "model.fit(diamonds_df)\n",
        "\n",
        "t1 = time.time()\n",
        "\n",
        "print(f\"Fit in {t1-t0} seconds.\")"
      ]
    },
    {
      "cell_type": "markdown",
      "id": "159e14c5",
      "metadata": {
        "name": "cell13"
      },
      "source": [
        "SnowparkML on the container runtime automatically captures various logs and metrics associated with your training job. We can run some quick functions to fetch, print, or even visualize those metrics:"
      ]
    },
    {
      "cell_type": "code",
      "execution_count": null,
      "id": "63126a6a-3c5c-4877-8b69-3e31e65e6587",
      "metadata": {
        "language": "python",
        "name": "cell14"
      },
      "outputs": [],
      "source": [
        "# utils\n",
        "import requests\n",
        "\n",
        "### Get logs depending on type\n",
        "def fetch_log(log_type):\n",
        "    file_path = f'/var/log/managedservices/{log_type}/mlrs/logs-mlrs.log'\n",
        "    with open(file_path, 'r') as file:\n",
        "        # Read the contents of the file\n",
        "        file_contents = file.read()\n",
        "        return file_contents\n",
        "\n",
        "### Get response text\n",
        "def fetch_metrics(port):\n",
        "    metrics_url = f\"http://localhost:{port}/metrics\"\n",
        "    response = requests.get(metrics_url)\n",
        "    return response.text\n",
        "\n",
        "def list_mlrs_metrics():\n",
        "    txt = fetch_metrics(11501)\n",
        "    metrics_name_and_value = {}\n",
        "    for line in txt.split(\"\\n\")[:-1]:\n",
        "        if not line.startswith(\"#\"):\n",
        "            tokens = line.split(\" \")\n",
        "            name, value = tokens[0], tokens[1]\n",
        "            metrics_name_and_value[name] = value\n",
        "        elif line.startswith(\"# HELP\"):\n",
        "            tokens = line.split(\" \")\n",
        "    return metrics_name_and_value"
      ]
    },
    {
      "cell_type": "code",
      "execution_count": null,
      "id": "c655b9b5-f07f-4906-9530-761145ded013",
      "metadata": {
        "language": "python",
        "name": "cell15"
      },
      "outputs": [],
      "source": [
        "print(\"train attempt\", list_mlrs_metrics()['train_attempts_total'])"
      ]
    }
  ],
  "metadata": {
    "kernelspec": {
      "display_name": "Streamlit Notebook",
      "name": "streamlit"
    }
  },
  "nbformat": 4,
  "nbformat_minor": 5
}
