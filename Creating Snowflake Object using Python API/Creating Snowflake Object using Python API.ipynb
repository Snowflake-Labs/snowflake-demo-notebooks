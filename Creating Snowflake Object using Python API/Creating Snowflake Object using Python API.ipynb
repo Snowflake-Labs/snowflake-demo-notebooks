{
  "metadata": {
    "kernelspec": {
      "display_name": "Python 3 (ipykernel)",
      "language": "python",
      "name": "python3"
    },
    "language_info": {
      "codemirror_mode": {
        "name": "ipython",
        "version": 3
      },
      "file_extension": ".py",
      "mimetype": "text/x-python",
      "name": "python",
      "nbconvert_exporter": "python",
      "pygments_lexer": "ipython3",
      "version": "3.11.5"
    }
  },
  "nbformat_minor": 4,
  "nbformat": 4,
  "cells": [
    {
      "cell_type": "markdown",
      "metadata": {
        "collapsed": false,
        "jupyter": {
          "outputs_hidden": false
        },
        "name": "cell1"
      },
      "source": "# Getting Started with the Snowflake Python API\n\nThe Snowflake Python API allows you to manage Snowflake using Python. Using the API, you're able to create, delete, and modify tables, schemas, warehouses, tasks, and much more, in many cases without needing to write SQL or use the Snowflake Connector for Python. \n\nIn this tutorial, we show how you can use the Snowflake API to create objects in Snowflake *completely in Python*. Not a single line of SQL required!\n\nThis tutorial is based on [this quickstart](https://quickstarts.snowflake.com/guide/getting-started-snowflake-python-api/index.html), which includes more in-depth overview of the Snowflake Python API and additional learning modules not covered in this notebook.",
      "id": "dac0ae78-0274-470e-a0ec-6207f2d215cb"
    },
    {
      "cell_type": "markdown",
      "metadata": {
        "name": "cell2",
        "collapsed": false
      },
      "source": "**Requirements:** Please add the `snowflake` package from the package picker on the top right. We will be using this packages in the notebook.",
      "id": "49222af2-4210-48e6-88d0-10e2b7a93d1a"
    },
    {
      "cell_type": "code",
      "execution_count": null,
      "metadata": {
        "codeCollapsed": false,
        "collapsed": false,
        "jupyter": {
          "outputs_hidden": false
        },
        "language": "python",
        "name": "cell3"
      },
      "outputs": [],
      "source": [
        "from snowflake.snowpark import Session\n",
        "from snowflake.core import Root\n",
        "from snowflake.core.database import Database\n",
        "from snowflake.core.schema import Schema\n",
        "from snowflake.core.table import Table, TableColumn, PrimaryKey\n",
        "from snowflake.core.warehouse import Warehouse"
      ],
      "id": "80acb462-52da-4628-9e15-155e4695a4fd"
    },
    {
      "cell_type": "markdown",
      "metadata": {
        "collapsed": false,
        "jupyter": {
          "outputs_hidden": false
        },
        "name": "cell4"
      },
      "source": [
        "With notebooks, you can use the `get_active_session()` command to get a session object to work with. No need to specify any connection parameters! "
      ],
      "id": "ea3ecc34-a10a-4a50-b236-f0074ac4abb9"
    },
    {
      "cell_type": "code",
      "execution_count": null,
      "metadata": {
        "codeCollapsed": false,
        "language": "python",
        "name": "cell5"
      },
      "outputs": [],
      "source": [
        "from snowflake.snowpark.context import get_active_session\n",
        "session = get_active_session()"
      ],
      "id": "86226189-d6da-438b-afeb-07db6798fce7"
    },
    {
      "cell_type": "markdown",
      "metadata": {
        "collapsed": false,
        "jupyter": {
          "outputs_hidden": false
        },
        "name": "cell6"
      },
      "source": [
        "Then, we create a `Root` object to use the API\u2019s types and methods."
      ],
      "id": "ccb0c21b-1e61-42a2-9e60-f892e2dc61ad"
    },
    {
      "cell_type": "code",
      "execution_count": null,
      "metadata": {
        "codeCollapsed": false,
        "language": "python",
        "name": "cell7"
      },
      "outputs": [],
      "source": "api_root = Root(session)  ",
      "id": "2bb98a5a-d0c1-4b05-b06f-1a6826ab0698"
    },
    {
      "cell_type": "markdown",
      "metadata": {
        "collapsed": false,
        "jupyter": {
          "outputs_hidden": false
        },
        "name": "cell8"
      },
      "source": "## Create a database, schema, and table\nLet's use our `api_root` object to create a database, schema, and table in your Snowflake account.\n\nCreate a database and schema by running the following cell in the notebook:",
      "id": "5bb6c88d-d573-41f7-9506-92265b2383b4"
    },
    {
      "cell_type": "code",
      "execution_count": null,
      "metadata": {
        "codeCollapsed": false,
        "language": "python",
        "name": "cell9"
      },
      "outputs": [],
      "source": [
        "database_ref = api_root.databases.create(Database(name=\"demo_database\"), mode=\"orreplace\")"
      ],
      "id": "8ef95c75-30a7-4acd-94e6-823b0e55744a"
    },
    {
      "cell_type": "code",
      "execution_count": null,
      "metadata": {
        "codeCollapsed": false,
        "language": "python",
        "name": "cell10"
      },
      "outputs": [],
      "source": [
        "schema_ref = database_ref.schemas.create(Schema(name=\"demo_schema\"), mode=\"orreplace\")"
      ],
      "id": "436f89b1-c876-4fa4-a1b3-35d488fc3b17"
    },
    {
      "cell_type": "markdown",
      "metadata": {
        "collapsed": false,
        "jupyter": {
          "outputs_hidden": false
        },
        "name": "cell11"
      },
      "source": "By looking at the queries in your Query History, you can see that this is the corresponding SQL query: \n```sql\nCREATE OR REPLACE SCHEMA DEMO_DATABASE.DEMO_SCHEMA;\n```\n\nNow let's create a demo table with two sample columns.",
      "id": "aa2b6c34-17a9-4c60-b8f9-f2c425a0f45d"
    },
    {
      "cell_type": "code",
      "execution_count": null,
      "metadata": {
        "codeCollapsed": false,
        "language": "python",
        "name": "cell12"
      },
      "outputs": [],
      "source": [
        "table_ref = schema_ref.tables.create(Table(\n",
        "        name=\"demo_table\", \n",
        "        columns=[TableColumn(\"c1\", \"int\", nullable=False), TableColumn(\"c2\", \"string\")],\n",
        "    ), \n",
        "    mode=\"orreplace\")"
      ],
      "id": "918da7e8-20da-4d9a-b3ca-51a6d84e387c"
    },
    {
      "cell_type": "markdown",
      "metadata": {
        "name": "cell13",
        "collapsed": false
      },
      "source": "SQL equivalent to the Python command above: \n```sql\nCREATE OR REPLACE table DEMO_DATABASE.DEMO_SCHEMA.DEMO_TABLE  (C1 int not null ,C2 string );\n```\n",
      "id": "df9861e2-f863-44ce-ad56-93905a649f21"
    },
    {
      "cell_type": "markdown",
      "metadata": {
        "collapsed": false,
        "jupyter": {
          "outputs_hidden": false
        },
        "name": "cell14"
      },
      "source": "## Retrieve object data\nLet's cover a couple of ways to retrieve metadata about an object in Snowflake. Run the following cell to look at the documentation for this method: ",
      "id": "6f83e811-abaf-4307-900e-cffea1eaf32f"
    },
    {
      "cell_type": "code",
      "execution_count": null,
      "metadata": {
        "codeCollapsed": false,
        "language": "python",
        "name": "cell15"
      },
      "outputs": [],
      "source": [
        "table_ref.fetch"
      ],
      "id": "5cd9693a-5475-4e6b-8efb-0561c3836a9a"
    },
    {
      "cell_type": "code",
      "execution_count": null,
      "metadata": {
        "codeCollapsed": false,
        "collapsed": false,
        "jupyter": {
          "outputs_hidden": false
        },
        "language": "python",
        "name": "cell16"
      },
      "outputs": [],
      "source": [
        "demo_table = table_ref.fetch()"
      ],
      "id": "31b13d00-8f2c-42f2-ba2f-2c0ee2e8b17b"
    },
    {
      "cell_type": "code",
      "execution_count": null,
      "metadata": {
        "codeCollapsed": false,
        "language": "python",
        "name": "cell17"
      },
      "outputs": [],
      "source": [
        "demo_table.to_dict()"
      ],
      "id": "832717e9-f1ea-415c-9c66-b05cafdde4e2"
    },
    {
      "cell_type": "markdown",
      "metadata": {
        "collapsed": false,
        "jupyter": {
          "outputs_hidden": false
        },
        "name": "cell18"
      },
      "source": [
        "In addition to the basic table information, we can set `deep=True` to fetch the columns and constraints of the table."
      ],
      "id": "4aaa0117-c08c-4db3-8104-86aeddcc3cce"
    },
    {
      "cell_type": "code",
      "execution_count": null,
      "metadata": {
        "codeCollapsed": false,
        "language": "python",
        "name": "cell19"
      },
      "outputs": [],
      "source": [
        "demo_table_full = table_ref.fetch(deep=True)"
      ],
      "id": "1b5bbd48-a2ea-4e75-8683-0f10f9e253b4"
    },
    {
      "cell_type": "code",
      "execution_count": null,
      "metadata": {
        "codeCollapsed": false,
        "language": "python",
        "name": "cell20"
      },
      "outputs": [],
      "source": [
        "demo_table_full.to_dict()"
      ],
      "id": "a10d81c2-e259-4b1f-b093-2f3732929e18"
    },
    {
      "cell_type": "markdown",
      "metadata": {
        "collapsed": false,
        "jupyter": {
          "outputs_hidden": false
        },
        "name": "cell21"
      },
      "source": "## Programmatically update a table\n\nNow let's append one additional column to this table declaratively. Then, we use this to update the table.",
      "id": "a15ac843-ba3b-4316-a396-671814547c27"
    },
    {
      "cell_type": "code",
      "execution_count": null,
      "metadata": {
        "codeCollapsed": false,
        "language": "python",
        "name": "cell22"
      },
      "outputs": [],
      "source": [
        "demo_table_full.columns.append(TableColumn(name=\"c3\", datatype=\"int\", nullable=False, constraints=[PrimaryKey()]))"
      ],
      "id": "76b7b361-191f-44b1-82f9-0c62494ad02b"
    },
    {
      "cell_type": "code",
      "execution_count": null,
      "metadata": {
        "codeCollapsed": false,
        "language": "python",
        "name": "cell23"
      },
      "outputs": [],
      "source": [
        "table_ref.create_or_update(demo_table_full)"
      ],
      "id": "56e485d7-931e-459e-8dc9-f0a50b1557a4"
    },
    {
      "cell_type": "markdown",
      "metadata": {
        "collapsed": false,
        "jupyter": {
          "outputs_hidden": false
        },
        "name": "cell24"
      },
      "source": [
        "Now, we see that the C3 column has been added. "
      ],
      "id": "40e773ff-7a55-4123-bf06-e928c16ef59c"
    },
    {
      "cell_type": "code",
      "execution_count": null,
      "metadata": {
        "codeCollapsed": false,
        "language": "python",
        "name": "cell25"
      },
      "outputs": [],
      "source": [
        "table_ref.fetch(deep=True).to_dict()"
      ],
      "id": "a00738a5-6a7c-4fe6-869c-ee3ca1eb10bd"
    },
    {
      "cell_type": "markdown",
      "metadata": {
        "name": "cell26",
        "collapsed": false
      },
      "source": "## Create, suspend, and delete a warehouse\n\nWe can also create a small warehouse using the API.",
      "id": "b5717929-65bb-4f10-93a9-81b7fcabed75"
    },
    {
      "cell_type": "code",
      "execution_count": null,
      "metadata": {
        "codeCollapsed": false,
        "language": "python",
        "name": "cell27"
      },
      "outputs": [],
      "source": [
        "# create a warehouse collection\n",
        "warehouses = api_root.warehouses\n",
        "# create a Warehouse instance that used to store the property of a warehouse\n",
        "warehouse_name = \"WH_DEMO\"\n",
        "warehouse_demo = Warehouse(\n",
        "    name=warehouse_name,\n",
        "    warehouse_size=\"SMALL\",\n",
        "    auto_suspend=500,\n",
        ")\n",
        "# create a warehouse and retrive its reference\n",
        "warehouse_ref = warehouses.create(warehouse_demo)"
      ],
      "id": "fbf597f7-7b6e-4df0-8728-cdcc16389006"
    },
    {
      "cell_type": "code",
      "execution_count": null,
      "metadata": {
        "language": "python",
        "name": "cell28"
      },
      "outputs": [],
      "source": [
        "# Fetch warehouse details.\n",
        "warehouse = warehouse_ref.fetch()\n",
        "warehouse.to_dict()"
      ],
      "id": "d83ed18f-6230-48e2-a3b5-a8b383070c85"
    },
    {
      "cell_type": "markdown",
      "metadata": {
        "collapsed": false,
        "jupyter": {
          "outputs_hidden": false
        },
        "name": "cell29"
      },
      "source": [
        "We can search through all the warehouses currently available."
      ],
      "id": "1bd57f1a-d4dc-4cd1-a38f-1df9fe0b9810"
    },
    {
      "cell_type": "code",
      "execution_count": null,
      "metadata": {
        "codeCollapsed": false,
        "language": "python",
        "name": "cell30"
      },
      "outputs": [],
      "source": [
        "warehouse_list = warehouses.iter(like=warehouse_name)\n",
        "result = next(warehouse_list)\n",
        "result.to_dict()"
      ],
      "id": "99f6e679-eca8-473b-be7d-4692ef63e896"
    },
    {
      "cell_type": "markdown",
      "metadata": {
        "name": "cell31"
      },
      "source": [
        "We can change the size of the warehouse from `SMALL` to `LARGE`."
      ],
      "id": "84c13b32-9d7a-4359-a367-2061df7b85e5"
    },
    {
      "cell_type": "code",
      "execution_count": null,
      "metadata": {
        "codeCollapsed": false,
        "language": "python",
        "name": "cell32"
      },
      "outputs": [],
      "source": [
        "# Update the warehouse. Change it's size to LARGE\n",
        "warehouse_ref.create_or_update(Warehouse(\n",
        "    name=warehouse_name,\n",
        "    warehouse_size=\"LARGE\",\n",
        "    auto_suspend=500,\n",
        "))"
      ],
      "id": "37e0d3e6-4d29-4f84-a06e-79e5826b1fe9"
    },
    {
      "cell_type": "markdown",
      "metadata": {
        "name": "cell33"
      },
      "source": [
        "We can check the updated warehouse size: "
      ],
      "id": "6cbecabd-3b42-4e65-b829-a53d31bc0209"
    },
    {
      "cell_type": "code",
      "execution_count": null,
      "metadata": {
        "language": "python",
        "name": "cell34"
      },
      "outputs": [],
      "source": [
        "# Check the warehouse \n",
        "warehouse_ref.fetch().size"
      ],
      "id": "5a736813-9bd9-4a69-a1eb-bf76a17762cf"
    },
    {
      "cell_type": "markdown",
      "metadata": {
        "name": "cell35"
      },
      "source": [
        "Finally, we can delete the warehouse once we are done using it."
      ],
      "id": "56f97406-0571-4c46-937a-e801d1a5c0df"
    },
    {
      "cell_type": "code",
      "execution_count": null,
      "metadata": {
        "language": "python",
        "name": "cell36"
      },
      "outputs": [],
      "source": [
        "# Delete the warehouse\n",
        "warehouse_ref.delete()"
      ],
      "id": "0c3b050d-dc36-4e1c-a444-ba272b19de70"
    },
    {
      "cell_type": "markdown",
      "id": "b163e41b-56d9-42d8-be4a-cbe9655b6de4",
      "metadata": {
        "name": "cell37",
        "collapsed": false
      },
      "source": "## Conclusion\n\nIn this Quickstart, you learned the fundamentals for managing Snowflake objects using the Snowflake Python API. To learn more about the Snowflake Python, see \n[Snowflake Documentation](https://docs.snowflake.com/developer-guide/snowflake-python-api/snowflake-python-overview?_fsi=mOxvauSe&_fsi=mOxvauSe).\n"
    }
  ]
}