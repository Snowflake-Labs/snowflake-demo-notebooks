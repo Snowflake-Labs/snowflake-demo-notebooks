{
  "cells": [
    {
      "cell_type": "markdown",
      "id": "dac0ae78-0274-470e-a0ec-6207f2d215cb",
      "metadata": {
        "collapsed": false,
        "jupyter": {
          "outputs_hidden": false
        },
        "name": "cell1"
      },
      "source": [
        "# Getting Started with the Snowflake Python API\n",
        "\n",
        "The Snowflake Python API allows you to manage Snowflake using Python. Using the API, you're able to create, delete, and modify tables, schemas, warehouses, tasks, and much more, in many cases without needing to write SQL or use the Snowflake Connector for Python. \n",
        "\n",
        "In this tutorial, we show how you can use the Snowflake API to create objects in Snowflake *completely in Python*. Not a single line of SQL required!\n",
        "\n",
        "This tutorial is based on [this quickstart](https://quickstarts.snowflake.com/guide/getting-started-snowflake-python-api/index.html), which includes more in-depth overview of the Snowflake Python API and additional learning modules not covered in this notebook."
      ]
    },
    {
      "cell_type": "markdown",
      "id": "49222af2-4210-48e6-88d0-10e2b7a93d1a",
      "metadata": {
        "collapsed": false,
        "name": "cell2"
      },
      "source": [
        "**Requirements:** Please add the `snowflake` package from the package picker on the top right. We will be using this packages in the notebook."
      ]
    },
    {
      "cell_type": "code",
      "execution_count": null,
      "id": "80acb462-52da-4628-9e15-155e4695a4fd",
      "metadata": {
        "codeCollapsed": false,
        "collapsed": false,
        "jupyter": {
          "outputs_hidden": false
        },
        "language": "python",
        "name": "cell3"
      },
      "outputs": [],
      "source": [
        "from snowflake.snowpark import Session\n",
        "from snowflake.core import Root\n",
        "from snowflake.core.database import Database\n",
        "from snowflake.core.schema import Schema\n",
        "from snowflake.core.table import Table, TableColumn, PrimaryKey\n",
        "from snowflake.core.warehouse import Warehouse"
      ]
    },
    {
      "cell_type": "markdown",
      "id": "ea3ecc34-a10a-4a50-b236-f0074ac4abb9",
      "metadata": {
        "collapsed": false,
        "jupyter": {
          "outputs_hidden": false
        },
        "name": "cell4"
      },
      "source": [
        "With notebooks, you can use the `get_active_session()` command to get a session object to work with. No need to specify any connection parameters! "
      ]
    },
    {
      "cell_type": "code",
      "execution_count": null,
      "id": "86226189-d6da-438b-afeb-07db6798fce7",
      "metadata": {
        "codeCollapsed": false,
        "language": "python",
        "name": "cell5"
      },
      "outputs": [],
      "source": [
        "from snowflake.snowpark.context import get_active_session\n",
        "session = get_active_session()\n",
        "# Add a query tag to the session. This helps with troubleshooting and performance monitoring.\n",
        "session.query_tag = {\"origin\":\"sf_sit-is\", \n",
        "                     \"name\":\"notebook_demo_pack\", \n",
        "                     \"version\":{\"major\":1, \"minor\":0},\n",
        "                     \"attributes\":{\"is_quickstart\":1, \"source\":\"notebook\", \"vignette\":\"python_api\"}}"
      ]
    },
    {
      "cell_type": "markdown",
      "id": "ccb0c21b-1e61-42a2-9e60-f892e2dc61ad",
      "metadata": {
        "collapsed": false,
        "jupyter": {
          "outputs_hidden": false
        },
        "name": "cell6"
      },
      "source": [
        "Then, we create a `Root` object to use the API’s types and methods."
      ]
    },
    {
      "cell_type": "code",
      "execution_count": null,
      "id": "2bb98a5a-d0c1-4b05-b06f-1a6826ab0698",
      "metadata": {
        "codeCollapsed": false,
        "language": "python",
        "name": "cell7"
      },
      "outputs": [],
      "source": [
        "api_root = Root(session)  "
      ]
    },
    {
      "cell_type": "markdown",
      "id": "5bb6c88d-d573-41f7-9506-92265b2383b4",
      "metadata": {
        "collapsed": false,
        "jupyter": {
          "outputs_hidden": false
        },
        "name": "cell8"
      },
      "source": [
        "## Create a database, schema, and table\n",
        "Let's use our `api_root` object to create a database, schema, and table in your Snowflake account.\n",
        "\n",
        "Create a database and schema by running the following cell in the notebook:"
      ]
    },
    {
      "cell_type": "code",
      "execution_count": null,
      "id": "8ef95c75-30a7-4acd-94e6-823b0e55744a",
      "metadata": {
        "codeCollapsed": false,
        "language": "python",
        "name": "cell9"
      },
      "outputs": [],
      "source": [
        "database_ref = api_root.databases.create(Database(name=\"python_api_demo_database\"), mode=\"orreplace\")"
      ]
    },
    {
      "cell_type": "code",
      "execution_count": null,
      "id": "436f89b1-c876-4fa4-a1b3-35d488fc3b17",
      "metadata": {
        "codeCollapsed": false,
        "language": "python",
        "name": "cell10"
      },
      "outputs": [],
      "source": [
        "schema_ref = database_ref.schemas.create(Schema(name=\"demo_schema\"), mode=\"orreplace\")"
      ]
    },
    {
      "cell_type": "markdown",
      "id": "aa2b6c34-17a9-4c60-b8f9-f2c425a0f45d",
      "metadata": {
        "collapsed": false,
        "jupyter": {
          "outputs_hidden": false
        },
        "name": "cell11"
      },
      "source": [
        "By looking at the queries in your Query History, you can see that this is the corresponding SQL query: \n",
        "```sql\n",
        "CREATE OR REPLACE SCHEMA PYTHON_API_DEMO_DATABASE.DEMO_SCHEMA;\n",
        "```\n",
        "\n",
        "Now let's create a demo table with two sample columns."
      ]
    },
    {
      "cell_type": "code",
      "execution_count": null,
      "id": "918da7e8-20da-4d9a-b3ca-51a6d84e387c",
      "metadata": {
        "codeCollapsed": false,
        "collapsed": false,
        "language": "python",
        "name": "cell12"
      },
      "outputs": [],
      "source": [
        "table_ref = schema_ref.tables.create(\n",
        "    Table(\n",
        "        name=\"demo_table\",\n",
        "        columns=[\n",
        "            TableColumn(name=\"c1\", datatype=\"int\", nullable=False),\n",
        "            TableColumn(name=\"c2\", datatype=\"string\"),\n",
        "        ],\n",
        "    ),\n",
        "    mode=\"orreplace\",\n",
        ")"
      ]
    },
    {
      "cell_type": "markdown",
      "id": "df9861e2-f863-44ce-ad56-93905a649f21",
      "metadata": {
        "collapsed": false,
        "name": "cell13"
      },
      "source": [
        "SQL equivalent to the Python command above: \n",
        "```sql\n",
        "CREATE OR REPLACE table PYTHON_API_DEMO_DATABASE.DEMO_SCHEMA.DEMO_TABLE  (C1 int not null ,C2 string );\n",
        "```\n"
      ]
    },
    {
      "cell_type": "markdown",
      "id": "6f83e811-abaf-4307-900e-cffea1eaf32f",
      "metadata": {
        "collapsed": false,
        "jupyter": {
          "outputs_hidden": false
        },
        "name": "cell14"
      },
      "source": [
        "## Retrieve object data\n",
        "Let's cover a couple of ways to retrieve metadata about an object in Snowflake. Run the following cell to look at the documentation for this method: "
      ]
    },
    {
      "cell_type": "code",
      "execution_count": null,
      "id": "31b13d00-8f2c-42f2-ba2f-2c0ee2e8b17b",
      "metadata": {
        "codeCollapsed": false,
        "collapsed": false,
        "jupyter": {
          "outputs_hidden": false
        },
        "language": "python",
        "name": "cell15"
      },
      "outputs": [],
      "source": [
        "demo_table = table_ref.fetch()"
      ]
    },
    {
      "cell_type": "code",
      "execution_count": null,
      "id": "832717e9-f1ea-415c-9c66-b05cafdde4e2",
      "metadata": {
        "codeCollapsed": false,
        "language": "python",
        "name": "cell16"
      },
      "outputs": [],
      "source": [
        "demo_table.to_dict()"
      ]
    },
    {
      "cell_type": "markdown",
      "id": "a15ac843-ba3b-4316-a396-671814547c27",
      "metadata": {
        "collapsed": false,
        "jupyter": {
          "outputs_hidden": false
        },
        "name": "cell17"
      },
      "source": [
        "## Programmatically update a table\n",
        "\n",
        "Now let's append one additional column to this table declaratively. Then, we use this to update the table."
      ]
    },
    {
      "cell_type": "code",
      "execution_count": null,
      "id": "76b7b361-191f-44b1-82f9-0c62494ad02b",
      "metadata": {
        "codeCollapsed": false,
        "collapsed": false,
        "language": "python",
        "name": "cell18"
      },
      "outputs": [],
      "source": [
        "demo_table.columns.append(TableColumn(name=\"c3\", datatype=\"int\", nullable=False, constraints=[PrimaryKey()]))"
      ]
    },
    {
      "cell_type": "markdown",
      "id": "40e773ff-7a55-4123-bf06-e928c16ef59c",
      "metadata": {
        "collapsed": false,
        "jupyter": {
          "outputs_hidden": false
        },
        "name": "cell19"
      },
      "source": [
        "Now, we see that the C3 column has been added. "
      ]
    },
    {
      "cell_type": "code",
      "execution_count": null,
      "id": "fcf27fe9-8c1a-4f87-bc58-c375b2e90a9c",
      "metadata": {
        "codeCollapsed": false,
        "collapsed": false,
        "language": "python",
        "name": "cell20"
      },
      "outputs": [],
      "source": [
        "demo_table.to_dict()"
      ]
    },
    {
      "cell_type": "markdown",
      "id": "b5717929-65bb-4f10-93a9-81b7fcabed75",
      "metadata": {
        "collapsed": false,
        "name": "cell21"
      },
      "source": [
        "## Create, suspend, and delete a warehouse\n",
        "\n",
        "We can also create a small warehouse using the API."
      ]
    },
    {
      "cell_type": "code",
      "execution_count": null,
      "id": "fbf597f7-7b6e-4df0-8728-cdcc16389006",
      "metadata": {
        "codeCollapsed": false,
        "language": "python",
        "name": "cell22"
      },
      "outputs": [],
      "source": [
        "# create a warehouse collection\n",
        "warehouses = api_root.warehouses\n",
        "# create a Warehouse instance that used to store the property of a warehouse\n",
        "warehouse_name = \"WH_DEMO\"\n",
        "warehouse_demo = Warehouse(\n",
        "    name=warehouse_name,\n",
        "    warehouse_size=\"SMALL\",\n",
        "    auto_suspend=500,\n",
        ")\n",
        "# create a warehouse and retrive its reference\n",
        "warehouse_ref = warehouses.create(warehouse_demo)"
      ]
    },
    {
      "cell_type": "code",
      "execution_count": null,
      "id": "d83ed18f-6230-48e2-a3b5-a8b383070c85",
      "metadata": {
        "language": "python",
        "name": "cell23"
      },
      "outputs": [],
      "source": [
        "# Fetch warehouse details.\n",
        "warehouse = warehouse_ref.fetch()\n",
        "warehouse.to_dict()"
      ]
    },
    {
      "cell_type": "markdown",
      "id": "1bd57f1a-d4dc-4cd1-a38f-1df9fe0b9810",
      "metadata": {
        "collapsed": false,
        "jupyter": {
          "outputs_hidden": false
        },
        "name": "cell24"
      },
      "source": [
        "We can search through all the warehouses currently available."
      ]
    },
    {
      "cell_type": "code",
      "execution_count": null,
      "id": "99f6e679-eca8-473b-be7d-4692ef63e896",
      "metadata": {
        "codeCollapsed": false,
        "language": "python",
        "name": "cell25"
      },
      "outputs": [],
      "source": [
        "warehouse_list = warehouses.iter(like=warehouse_name)\n",
        "result = next(warehouse_list)\n",
        "result.to_dict()"
      ]
    },
    {
      "cell_type": "markdown",
      "id": "84c13b32-9d7a-4359-a367-2061df7b85e5",
      "metadata": {
        "name": "cell26"
      },
      "source": [
        "We can change the size of the warehouse from `SMALL` to `LARGE`."
      ]
    },
    {
      "cell_type": "code",
      "execution_count": null,
      "id": "37e0d3e6-4d29-4f84-a06e-79e5826b1fe9",
      "metadata": {
        "codeCollapsed": false,
        "language": "python",
        "name": "cell27"
      },
      "outputs": [],
      "source": [
        "# Update the warehouse. Change it's size to LARGE\n",
        "warehouse_ref.create_or_update(Warehouse(\n",
        "    name=warehouse_name,\n",
        "    warehouse_size=\"LARGE\",\n",
        "    auto_suspend=500,\n",
        "))"
      ]
    },
    {
      "cell_type": "markdown",
      "id": "6cbecabd-3b42-4e65-b829-a53d31bc0209",
      "metadata": {
        "name": "cell28"
      },
      "source": [
        "We can check the updated warehouse size: "
      ]
    },
    {
      "cell_type": "code",
      "execution_count": null,
      "id": "5a736813-9bd9-4a69-a1eb-bf76a17762cf",
      "metadata": {
        "language": "python",
        "name": "cell29"
      },
      "outputs": [],
      "source": [
        "# Check the warehouse \n",
        "warehouse_ref.fetch().size"
      ]
    },
    {
      "cell_type": "markdown",
      "id": "56f97406-0571-4c46-937a-e801d1a5c0df",
      "metadata": {
        "name": "cell30"
      },
      "source": [
        "Finally, we can delete the warehouse once we are done using it."
      ]
    },
    {
      "cell_type": "code",
      "execution_count": null,
      "id": "0c3b050d-dc36-4e1c-a444-ba272b19de70",
      "metadata": {
        "language": "python",
        "name": "cell31"
      },
      "outputs": [],
      "source": [
        "# Delete the warehouse\n",
        "warehouse_ref.delete()"
      ]
    },
    {
      "cell_type": "markdown",
      "id": "b163e41b-56d9-42d8-be4a-cbe9655b6de4",
      "metadata": {
        "collapsed": false,
        "name": "cell32"
      },
      "source": [
        "## Conclusion\n",
        "\n",
        "In this Quickstart, you learned the fundamentals for managing Snowflake objects using the Snowflake Python API. To learn more about the Snowflake Python, see \n",
        "[Snowflake Documentation](https://docs.snowflake.com/developer-guide/snowflake-python-api/snowflake-python-overview?_fsi=mOxvauSe&_fsi=mOxvauSe).\n"
      ]
    }
  ],
  "metadata": {
    "kernelspec": {
      "display_name": "Python 3 (ipykernel)",
      "language": "python",
      "name": "python3"
    },
    "language_info": {
      "codemirror_mode": {
        "name": "ipython",
        "version": 3
      },
      "file_extension": ".py",
      "mimetype": "text/x-python",
      "name": "python",
      "nbconvert_exporter": "python",
      "pygments_lexer": "ipython3",
      "version": "3.11.5"
    }
  },
  "nbformat": 4,
  "nbformat_minor": 4
}
