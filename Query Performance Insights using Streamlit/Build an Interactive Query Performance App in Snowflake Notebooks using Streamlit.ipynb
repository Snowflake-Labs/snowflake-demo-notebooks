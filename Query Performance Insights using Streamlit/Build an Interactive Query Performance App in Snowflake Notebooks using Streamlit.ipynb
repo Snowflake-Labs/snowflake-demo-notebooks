{
 "metadata": {
  "kernelspec": {
   "display_name": "Streamlit Notebook",
   "name": "streamlit"
  }
 },
 "nbformat_minor": 5,
 "nbformat": 4,
 "cells": [
  {
   "cell_type": "markdown",
   "id": "d43a3edd-7c40-4a96-a4c6-c46e52b415ed",
   "metadata": {
    "name": "md_title",
    "collapsed": false
   },
   "source": "# Build an Interactive Query Performance App in Snowflake Notebooks using Streamlit\n\nIn this notebook, we'll create an interactive Streamlit app for analyzing query history to shed light on longest-running queries. These insights can help in further actions to optimize computation. \n"
  },
  {
   "cell_type": "markdown",
   "id": "201438af-5d95-44b5-9582-ac165686ea47",
   "metadata": {
    "name": "md_query",
    "collapsed": false
   },
   "source": "## SQL Query: Top n longest-running queries\n\nThis query provides a listing of the top n (50 in the example below) longest-running queries in the last day. You can adjust the `DATEADD` function to focus on a shorter or longer period of time. Replace `STREAMLIT_DEMO_APPS` with the name of a warehouse."
  },
  {
   "cell_type": "code",
   "id": "c695373e-ac74-4b62-a1f1-08206cbd5c81",
   "metadata": {
    "language": "sql",
    "name": "sql_query",
    "codeCollapsed": false,
    "collapsed": false
   },
   "source": "SELECT query_id,\n  ROW_NUMBER() OVER(ORDER BY partitions_scanned DESC) AS query_id_int,\n  query_text,\n  total_elapsed_time/1000 AS query_execution_time_seconds,\n  partitions_scanned,\n  partitions_total,\nFROM snowflake.account_usage.query_history Q\nWHERE warehouse_name = 'STREAMLIT_DEMO_APPS' AND TO_DATE(Q.start_time) > DATEADD(day,-1,TO_DATE(CURRENT_TIMESTAMP()))\n  AND total_elapsed_time > 0 --only get queries that actually used compute\n  AND error_code IS NULL\n  AND partitions_scanned IS NOT NULL\nORDER BY total_elapsed_time desc\nLIMIT 50;",
   "execution_count": null,
   "outputs": []
  },
  {
   "cell_type": "markdown",
   "id": "51f7f20c-f6d7-4e44-b22d-5409560ef0a3",
   "metadata": {
    "name": "md_app",
    "collapsed": false
   },
   "source": "## Implementing the Interactive Query Performance App\n\nThe workflow is implemented using 5 Python libraries:\n- **Snowflake Snowpark**: Database connectivity to Snowflake\n- **Pandas**: Data wrangling\n- **Streamlit**: Web application framework\n- **Altair**: Data visualization\n- **NumPy**: Numerical computing\n\nUsers can provide the following input parameters:\n- Timeframes (day, week, month,\n- Number of rows to display, \n- Bin sizes for histograms\n- SQL commands to analyze\n\nThese input are used to retrieve and process data resulting in the generation of various visualizations and data analysis as follows:\n- Histogram of query execution time\n- Box plot of query execution time\n- Summary statistics"
  },
  {
   "cell_type": "code",
   "id": "2bdb7d5a-f4dc-4eed-99bc-8726adfa5f8c",
   "metadata": {
    "language": "python",
    "name": "py_app",
    "collapsed": false,
    "codeCollapsed": false
   },
   "outputs": [],
   "source": "from snowflake.snowpark.context import get_active_session\nimport pandas as pd\nimport streamlit as st\nimport altair as alt\nimport numpy as np\n\nst.title('Top n longest-running queries')\n\n# Input widgets\ncol = st.columns(3)\n\nwith col[0]:\n    timeframe_option = st.selectbox('Select a timeframe', ('day', 'week', 'month'))\n\nwith col[1]:\n    limit_option = st.slider('Display n rows', 10, 200, 100)\n\nwith col[2]:\n    bin_option = st.slider('Bin size', 1, 30, 10)\n\nsql_command_option = st.multiselect('Select a SQL command to analyze', \n                                  ['describe', 'execute', 'show', 'PUT', 'SELECT'],\n                                  ['describe', 'show'])\n\n# Data retrieval\nsession = get_active_session()\ndf = session.sql(\n    f\"\"\"\n    SELECT query_id,\n      ROW_NUMBER() OVER(ORDER BY partitions_scanned DESC) AS query_id_int,\n      query_text,\n      total_elapsed_time/1000 AS query_execution_time_seconds,\n      partitions_scanned,\n      partitions_total,\n    FROM snowflake.account_usage.query_history Q\n    WHERE warehouse_name = 'STREAMLIT_DEMO_APPS' AND TO_DATE(Q.start_time) > DATEADD({timeframe_option},-1,TO_DATE(CURRENT_TIMESTAMP()))\n      AND total_elapsed_time > 0 --only get queries that actually used compute\n      AND error_code IS NULL\n      AND partitions_scanned IS NOT NULL\n    ORDER BY total_elapsed_time desc\n    LIMIT {limit_option};\n    \"\"\"\n    ).to_pandas()\n\ndf = df[df['QUERY_TEXT'].str.lower().str.startswith(tuple(commands.lower() for commands in sql_command_option))]\n\nst.title('Histogram of Query Execution Times')\n\n# Create a DataFrame for the histogram data\nhist, bin_edges = np.histogram(df['QUERY_EXECUTION_TIME_SECONDS'], bins=bin_option)\n\nhistogram_df = pd.DataFrame({\n    'bin_start': bin_edges[:-1],\n    'bin_end': bin_edges[1:],\n    'count': hist\n})\nhistogram_df['bin_label'] = histogram_df.apply(lambda row: f\"{row['bin_start']:.2f} - {row['bin_end']:.2f}\", axis=1)\n\n# Create plots\nhistogram_plot = alt.Chart(histogram_df).mark_bar().encode(\n    x=alt.X('bin_label:N', sort=histogram_df['bin_label'].tolist(),\n            axis=alt.Axis(title='QUERY_EXECUTION_TIME_SECONDS', labelAngle=90)),\n    y=alt.Y('count:Q', axis=alt.Axis(title='Count')),\n    tooltip=['bin_label', 'count']\n)\n\nbox_plot = alt.Chart(df).mark_boxplot(\n    extent=\"min-max\",\n    color='yellow'\n).encode(\n    alt.X(\"QUERY_EXECUTION_TIME_SECONDS:Q\", scale=alt.Scale(zero=False))\n).properties(\n    height=200\n)\n\nst.altair_chart(histogram_plot, use_container_width=True)\nst.altair_chart(box_plot, use_container_width=True)\n\n\n# Data display\nwith st.expander('Show data'):\n    st.dataframe(df)\nwith st.expander('Show summary statistics'):\n    st.write(df['QUERY_EXECUTION_TIME_SECONDS'].describe())",
   "execution_count": null
  },
  {
   "cell_type": "markdown",
   "id": "9989e783-5e01-4a59-aaee-cb71f05fd468",
   "metadata": {
    "name": "md_resources",
    "collapsed": false
   },
   "source": "## Resources\n\nQueries used in this notebook is from the [Snowflake Docs](https://docs.snowflake.com/) on [Exploring execution times](https://docs.snowflake.com/en/user-guide/performance-query-exploring)\n\nFurther information on the use of Streamlit can be found at the [Streamlit Docs](https://docs.streamlit.io/)."
  }
 ]
}