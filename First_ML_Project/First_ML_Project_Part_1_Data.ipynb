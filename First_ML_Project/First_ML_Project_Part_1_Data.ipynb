{
 "metadata": {
  "kernelspec": {
   "display_name": "Streamlit Notebook",
   "name": "streamlit"
  },
  "lastEditStatus": {
   "notebookId": "hzazvyax2zy66vbhl63m",
   "authorId": "6841714608330",
   "authorName": "CHANINN",
   "authorEmail": "chanin.nantasenamat@snowflake.com",
   "sessionId": "96d5742a-a3f3-4ff6-b22d-e4164cc5869c",
   "lastEditTime": 1756837686221
  }
 },
 "nbformat_minor": 5,
 "nbformat": 4,
 "cells": [
  {
   "cell_type": "markdown",
   "id": "eb7a29c7-92eb-4d12-b8cd-d81075f6e7b4",
   "metadata": {
    "name": "md_title",
    "collapsed": false
   },
   "source": "# Build Your First Machine Learning Project - Part 1\n\nIn this series, we'll build our first machine learning project end-to-end in Python. We'll do this in four bite-sized parts:\n1. Data Operations - Ingest data, data wrangling and write to Snowflake\n2. Exploratory data analysis (EDA) - Explore data, summary statistics, data visualization\n3. Machine learning (ML) model building - Prepare data and build ML model\n4. Data app - Build a sharable data app with Streamlit\n"
  },
  {
   "cell_type": "markdown",
   "id": "67d6e16b-e886-4422-af18-cd4078840540",
   "metadata": {
    "name": "md_packages",
    "collapsed": false
   },
   "source": "## Install Prerequisite Libraries\n\nSnowflake Notebooks includes common Python libraries by default. To add more, use the **Packages** dropdown in the top right. \n\nLet's add the following package:\n- `modin` - Perform data operations (read/write) and wrangling just like pandas with the [Snowpark pandas API](https://docs.snowflake.com/en/developer-guide/snowpark/reference/python/latest/modin/index)\n- `scikit-learn` - Perform data splits and build machine learning models"
  },
  {
   "cell_type": "markdown",
   "id": "41a7defc-5f38-4387-9f17-abd83c26bb11",
   "metadata": {
    "name": "md_wine_data",
    "collapsed": false
   },
   "source": "## Wine dataset\n\nThe dataset is a classic multi-class classification problem where the goal of the machine learning task is to classify each entry as belonging to one of three classes a wine belongs to based on its chemical analysis.\n\nThe wine dataset is comprised of 178 wine samples and each entry is described by 13 different features obtained from chemical analysis (also known as parameters, independent variables or X variables) and is assigned to one of three wine origin classes (three different cultivators/regions in Italy that each sample are derived from).\n\n"
  },
  {
   "cell_type": "markdown",
   "id": "623130bf-a2bc-4c09-b387-edec0b100ef7",
   "metadata": {
    "name": "md_load_data",
    "collapsed": false
   },
   "source": "## Load data\n\nHere, we'll use the wine dataset via `load_wine()` as provided by the `scikit-learn` package.\n\n`load_wine()` returns a dictionary-like object containing the following that we'll use:\n- `data` - a 2D data array with 13 feature columns and 178 wine sample rows\n- `target` - a 1D data array of the target class\n- `feature_names` - a list of the 13 feature names"
  },
  {
   "cell_type": "code",
   "id": "58ec04c0-a943-4dea-b7c7-98181999b2e7",
   "metadata": {
    "language": "python",
    "name": "py_load_data"
   },
   "outputs": [],
   "source": "from sklearn.datasets import load_wine\n\n# Load the wine dataset\nwine = load_wine()\nwine",
   "execution_count": null
  },
  {
   "cell_type": "markdown",
   "id": "955130a7-a78e-4207-acb9-7c3658fcaf3f",
   "metadata": {
    "name": "md_dataframe",
    "collapsed": false
   },
   "source": "Create a DataFrame from `data`, `target` and `feature_names`. We've also converted the class column to the categorical type."
  },
  {
   "cell_type": "code",
   "id": "ec516c45-bb11-4da7-a77c-dc974486f471",
   "metadata": {
    "language": "python",
    "name": "py_dataframe",
    "codeCollapsed": false
   },
   "outputs": [],
   "source": "import modin.pandas as pd\nimport snowflake.snowpark.modin.plugin\n\n# Create a DataFrame from the feature data\ndf = pd.DataFrame(data=wine.data, columns=wine.feature_names)\n\n# Add class column and convert to categorical\ndf['class'] = wine.target\n\ndf",
   "execution_count": null
  },
  {
   "cell_type": "markdown",
   "id": "6cf6bd0c-742d-4fb2-a670-a0d31c3d0167",
   "metadata": {
    "name": "md_data_prep",
    "collapsed": false
   },
   "source": "## Data Preparation\n\nIn one of the column, there's a forward slash (`/`) and we're going to replace it with `_`."
  },
  {
   "cell_type": "code",
   "id": "186ca17b-d1b7-43e8-804e-4e3e6334780a",
   "metadata": {
    "language": "python",
    "name": "py_data_prep"
   },
   "outputs": [],
   "source": "# Rename 'od280/od315_of_diluted_wines' to 'od280_od315_of_diluted_wines' for SQL compatibility\ndf.columns = [col.replace(' ', '_').replace('/', '_').lower() for col in df.columns]\ndf",
   "execution_count": null
  },
  {
   "cell_type": "markdown",
   "id": "d3819fd6-7735-4737-aa74-7e63d818403d",
   "metadata": {
    "name": "md_load_function",
    "collapsed": false
   },
   "source": "## Code refactoring\n\nCollectively, we could combine everything what we've done above into a clean custom function called `load_data()` for data loading."
  },
  {
   "cell_type": "code",
   "id": "8d50cbf4-0c8d-4950-86cb-114990437ac9",
   "metadata": {
    "language": "python",
    "name": "py_load_function",
    "codeCollapsed": false
   },
   "source": "# Load and prepare data\ndef load_data():\n    wine = load_wine()\n    # Create DataFrame with feature names\n    df = pd.DataFrame(data=wine.data, columns=wine.feature_names)\n    # Add class column and convert to categorical\n    df['class'] = pd.Categorical(wine.target)\n    # Rename 'od280/od315_of_diluted_wines' to 'od280_od315_of_diluted_wines' for SQL compatibility\n    df.columns = [col.replace(' ', '_').replace('/', '_').lower() for col in df.columns]\n    return df\n\n# Load the data\ndf = load_data()\ndf",
   "execution_count": null,
   "outputs": []
  },
  {
   "cell_type": "markdown",
   "id": "ae42bfbd-bbe4-4082-b4c4-1d344d3d97e9",
   "metadata": {
    "name": "md_write_data",
    "collapsed": false
   },
   "source": "## Write data to a database table"
  },
  {
   "cell_type": "markdown",
   "id": "7a4520f2-864f-4ea6-a9e4-2f51617417fb",
   "metadata": {
    "name": "md_db_schema",
    "collapsed": false
   },
   "source": "### Determine current database and schema\n\nBut before we write to a Snowflake database table, let's figure out the current location where this notebook is located, which in turn is where are database table will reside in."
  },
  {
   "cell_type": "code",
   "id": "86228219-bd35-47ab-a47b-6db331080d6d",
   "metadata": {
    "language": "sql",
    "name": "sql_db_schema"
   },
   "outputs": [],
   "source": "SELECT CURRENT_DATABASE(), CURRENT_SCHEMA();",
   "execution_count": null
  },
  {
   "cell_type": "code",
   "id": "268c13f1-0614-4acb-affa-b4978262fc85",
   "metadata": {
    "language": "python",
    "name": "py_write_data",
    "codeCollapsed": false
   },
   "outputs": [],
   "source": "df.to_snowflake(\"wine\", if_exists=\"replace\", index=False)",
   "execution_count": null
  },
  {
   "cell_type": "markdown",
   "id": "c7812b6e-8bea-487f-a135-03a4df9a6b1c",
   "metadata": {
    "name": "md_query_data",
    "collapsed": false
   },
   "source": "## Query data from table"
  },
  {
   "cell_type": "code",
   "id": "676033c3-95e6-40d0-b661-f0ab9240402d",
   "metadata": {
    "language": "sql",
    "name": "sqL_query_data"
   },
   "outputs": [],
   "source": "SELECT * FROM CHANINN_DEMO_DATA.PUBLIC.WINE",
   "execution_count": null
  },
  {
   "cell_type": "markdown",
   "id": "a3ea6562-fdad-490e-af12-2da61f65901f",
   "metadata": {
    "name": "md_resources",
    "collapsed": false
   },
   "source": "## Resources\nIf you'd like to take a deeper dive into Snowpark pandas:\n- [pandas on Snowflake](https://docs.snowflake.com/en/developer-guide/snowpark/python/pandas-on-snowflake)\n- [Snowpark pandas API](https://docs.snowflake.com/en/developer-guide/snowpark/reference/python/latest/modin/index)\n- [YouTube Playlist on Snowflake Notebooks](https://www.youtube.com/watch?v=YB1B6vcMaGE&list=PLavJpcg8cl1Efw8x_fBKmfA2AMwjUaeBI)"
  }
 ]
}
