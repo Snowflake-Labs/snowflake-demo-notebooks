{
 "metadata": {
  "kernelspec": {
   "display_name": "Streamlit Notebook",
   "name": "streamlit"
  }
 },
 "nbformat_minor": 5,
 "nbformat": 4,
 "cells": [
  {
   "cell_type": "markdown",
   "id": "d43a3edd-7c40-4a96-a4c6-c46e52b415ed",
   "metadata": {
    "name": "md_title",
    "collapsed": false
   },
   "source": "# Automated Query Performance Insights in Snowflake Notebooks\n\nIn this notebook, we'll provide SQL queries that you can use to analyze query history and gain insights on performance and bottlenecks.\n\nThe following 6 queries against the `ACCOUNT_USAGE` schema provide insight into the past performance of queries (examples 1-4), warehouses (example 5), and tasks (example 6)."
  },
  {
   "cell_type": "markdown",
   "id": "201438af-5d95-44b5-9582-ac165686ea47",
   "metadata": {
    "name": "md_1",
    "collapsed": false
   },
   "source": "## 1. Top n longest-running queries\n\nThis query provides a listing of the top n (50 in the example below) longest-running queries in the last day. You can adjust the `DATEADD` function to focus on a shorter or longer period of time. Replace `STREAMLIT_DEMO_APPS` with the name of a warehouse."
  },
  {
   "cell_type": "code",
   "id": "c695373e-ac74-4b62-a1f1-08206cbd5c81",
   "metadata": {
    "language": "sql",
    "name": "sql_1",
    "codeCollapsed": false,
    "collapsed": false
   },
   "source": "SELECT query_id,\n  ROW_NUMBER() OVER(ORDER BY partitions_scanned DESC) AS query_id_int,\n  query_text,\n  total_elapsed_time/1000 AS query_execution_time_seconds,\n  partitions_scanned,\n  partitions_total,\nFROM snowflake.account_usage.query_history Q\nWHERE warehouse_name = 'STREAMLIT_DEMO_APPS' AND TO_DATE(Q.start_time) > DATEADD(day,-1,TO_DATE(CURRENT_TIMESTAMP()))\n  AND total_elapsed_time > 0 --only get queries that actually used compute\n  AND error_code IS NULL\n  AND partitions_scanned IS NOT NULL\nORDER BY total_elapsed_time desc\nLIMIT 50;",
   "execution_count": null,
   "outputs": []
  },
  {
   "cell_type": "markdown",
   "id": "fbb8e757-c732-46d8-a929-e291f6b8fff7",
   "metadata": {
    "name": "md_2",
    "collapsed": false
   },
   "source": "## 2. Queries organized by execution time over past month\n\nThis query groups queries for a given warehouse by buckets for execution time over the last month. These trends in query completion time can help inform decisions to resize warehouses or separate out some queries to another warehouse. Replace `STREAMLIT_DEMO_APPS` with the name of a warehouse."
  },
  {
   "cell_type": "code",
   "id": "07b6ef1f-36d3-4f94-a784-6a348f8214d6",
   "metadata": {
    "language": "sql",
    "name": "sql_2",
    "collapsed": false,
    "codeCollapsed": false
   },
   "outputs": [],
   "source": "SELECT\n  CASE\n    WHEN Q.total_elapsed_time <= 1000 THEN 'Less than 1 second'\n    WHEN Q.total_elapsed_time <= 6000 THEN '1 second to 1 minute'\n    WHEN Q.total_elapsed_time <= 30000 THEN '1 minute to 5 minutes'\n    ELSE 'more than 5 minutes'\n  END AS BUCKETS,\n  COUNT(query_id) AS number_of_queries\nFROM snowflake.account_usage.query_history Q\nWHERE  TO_DATE(Q.START_TIME) >  DATEADD(month,-1,TO_DATE(CURRENT_TIMESTAMP()))\n  AND total_elapsed_time > 0\n  AND warehouse_name = 'STREAMLIT_DEMO_APPS'\nGROUP BY 1;",
   "execution_count": null
  },
  {
   "cell_type": "markdown",
   "id": "fe72eeaf-21ab-491c-bf7b-9de506419512",
   "metadata": {
    "name": "md_3",
    "collapsed": false
   },
   "source": "## 3. Find long running repeated queries\n\nYou can use the query hash (the value of the query_hash column in the ACCOUNT_USAGE QUERY_HISTORY view) to find patterns in query performance that might not be obvious. For example, although a query might not be excessively expensive during any single execution, a frequently repeated query could lead to high costs, based on the number of times the query runs.\n\nYou can use the query hash to identify the queries that you should focus on optimizing first. For example, the following query uses the value in the query_hash column to identify the query IDs for the 100 longest-running queries:"
  },
  {
   "cell_type": "code",
   "id": "b8fe9d0d-3c06-4288-958d-44376364a0ae",
   "metadata": {
    "language": "sql",
    "name": "sql_3",
    "collapsed": false,
    "codeCollapsed": false
   },
   "outputs": [],
   "source": "SELECT\n    query_hash,\n    COUNT(*),\n    SUM(total_elapsed_time),\n    ANY_VALUE(query_id)\n  FROM SNOWFLAKE.ACCOUNT_USAGE.QUERY_HISTORY\n  WHERE warehouse_name = 'STREAMLIT_DEMO_APPS'\n    AND DATE_TRUNC('day', start_time) >= CURRENT_DATE() - 7\n  GROUP BY query_hash\n  ORDER BY SUM(total_elapsed_time) DESC\n  LIMIT 100;",
   "execution_count": null
  },
  {
   "cell_type": "markdown",
   "id": "98d2b8b5-ab49-4a15-bac1-fa026d3206aa",
   "metadata": {
    "name": "md_4",
    "collapsed": false
   },
   "source": "## 4. Track the average performance of a query over time\n\nThe following statement computes the daily average total elapsed time for all queries that have a specific parameterized query hash (7f5c370a5cddc67060f266b8673a347b)."
  },
  {
   "cell_type": "code",
   "id": "a37b360e-7c7e-4ff8-a81d-93c223498f15",
   "metadata": {
    "language": "sql",
    "name": "sql_4",
    "codeCollapsed": false,
    "collapsed": false
   },
   "outputs": [],
   "source": "SELECT\n    DATE_TRUNC('day', start_time),\n    SUM(total_elapsed_time),\n    ANY_VALUE(query_id)\n  FROM SNOWFLAKE.ACCOUNT_USAGE.QUERY_HISTORY\n  WHERE query_parameterized_hash = '7f5c370a5cddc67060f266b8673a347b'\n    AND DATE_TRUNC('day', start_time) >= CURRENT_DATE() - 30\n  GROUP BY DATE_TRUNC('day', start_time);",
   "execution_count": null
  },
  {
   "cell_type": "markdown",
   "id": "8dce0934-ef0c-4bdb-a28a-25c1286f9789",
   "metadata": {
    "name": "md_5",
    "collapsed": false
   },
   "source": "## 5. Total warehouse load\nThis query provides insight into the total load of a warehouse for executed and queued queries. These load values represent the ratio of the total execution time (in seconds) of all queries in a specific state in an interval by the total time (in seconds) for that interval.\n\nFor example, if 276 seconds was the total time for 4 queries in a 5 minute (300 second) interval, then the query load value is 276 / 300 = 0.92."
  },
  {
   "cell_type": "code",
   "id": "24486435-31df-457e-9ce4-a55cce2824d1",
   "metadata": {
    "language": "sql",
    "name": "sql_5",
    "codeCollapsed": false,
    "collapsed": false
   },
   "outputs": [],
   "source": "SELECT TO_DATE(start_time) AS date,\n  warehouse_name,\n  SUM(avg_running) AS sum_running,\n  SUM(avg_queued_load) AS sum_queued\nFROM snowflake.account_usage.warehouse_load_history\nWHERE TO_DATE(start_time) >= DATEADD(month,-1,CURRENT_TIMESTAMP())\nGROUP BY 1,2\nHAVING SUM(avg_queued_load) >0;",
   "execution_count": null
  },
  {
   "cell_type": "markdown",
   "id": "e654c671-c5f4-40e2-9cb4-301a028e4b83",
   "metadata": {
    "name": "md_6",
    "collapsed": false
   },
   "source": "## 6. Longest running tasks\nThis query lists the longest running tasks in the last day, which can indicate an opportunity to optimize the SQL being executed by the task."
  },
  {
   "cell_type": "code",
   "id": "ff6c5cf8-7a65-460f-b95c-48e2559692b0",
   "metadata": {
    "language": "sql",
    "name": "sql_6",
    "codeCollapsed": false,
    "collapsed": false
   },
   "outputs": [],
   "source": "SELECT DATEDIFF(seconds, query_start_time,completed_time) AS duration_seconds,*\nFROM snowflake.account_usage.task_history\nWHERE state = 'SUCCEEDED'\n  AND query_start_time >= DATEADD (week, -1, CURRENT_TIMESTAMP())\nORDER BY duration_seconds DESC;",
   "execution_count": null
  },
  {
   "cell_type": "markdown",
   "id": "9989e783-5e01-4a59-aaee-cb71f05fd468",
   "metadata": {
    "name": "md_resources",
    "collapsed": false
   },
   "source": "## Resources\n\nQueries used in this notebook is from the [Snowflake Docs](https://docs.snowflake.com/) on [Exploring execution times](https://docs.snowflake.com/en/user-guide/performance-query-exploring)"
  }
 ]
}