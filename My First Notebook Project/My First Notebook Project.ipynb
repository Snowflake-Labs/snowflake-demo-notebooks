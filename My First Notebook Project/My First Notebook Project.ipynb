{
 "metadata": {
  "kernelspec": {
   "display_name": "Streamlit Notebook",
   "name": "streamlit"
  },
  "lastEditStatus": {
   "notebookId": "yguvp7xy7fngdunyeu3m",
   "authorId": "56160401252",
   "authorName": "DOLEE",
   "authorEmail": "doris.lee@snowflake.com",
   "sessionId": "5a0f8465-dcef-4e05-a1f0-24facc73a55c",
   "lastEditTime": 1738220408129
  }
 },
 "nbformat_minor": 5,
 "nbformat": 4,
 "cells": [
  {
   "cell_type": "markdown",
   "id": "3e886713-6ff9-4064-84d3-9c2480d3d3a9",
   "metadata": {
    "collapsed": false,
    "name": "intro_md"
   },
   "source": [
    "# Welcome to :snowflake: Snowflake Notebooks :notebook:\n",
    "\n",
    "Take your data analysis to the next level by working with Python and SQL seamlessly in [Snowflake Notebooks](https://docs.snowflake.com/LIMITEDACCESS/snowsight-notebooks/ui-snowsight-notebooks-about)! ⚡️\n",
    "\n",
    "Here is a quick notebook to get you started on your first project! 🚀"
   ]
  },
  {
   "cell_type": "markdown",
   "id": "b100c4f5-3947-4d38-a399-a7848a1be6bf",
   "metadata": {
    "collapsed": false,
    "name": "packages_md"
   },
   "source": [
    "## Adding Python Packages 🎒\n",
    "\n",
    "Notebooks comes pre-installed with common Python libraries for data science 🧪 and machine learning 🧠, such as numpy, pandas, matplotlib, and more! \n",
    "\n",
    "If you are looking to use other packages, click on the `Packages` dropdown on the top right to add additional packages to your notebook.\n",
    "\n",
    "For the purpose of this demo, `matplotlib` and `scipy` packages were added as part of environment.yml when creating the Notebook."
   ]
  },
  {
   "cell_type": "code",
   "execution_count": null,
   "id": "75d25856-380e-4e01-831c-47189920d1fa",
   "metadata": {
    "codeCollapsed": false,
    "language": "python",
    "name": "packages"
   },
   "outputs": [],
   "source": [
    "# Import Python packages used in this notebook\n",
    "import streamlit as st\n",
    "import altair as alt\n",
    "\n",
    "# Pre-installed libraries that comes with the notebook\n",
    "import pandas as pd\n",
    "import numpy as np\n",
    "\n",
    "# Package that we just added\n",
    "import matplotlib.pyplot as plt"
   ]
  },
  {
   "cell_type": "markdown",
   "id": "8ff8e747-4a94-4f91-a971-e0f86bdc073a",
   "metadata": {
    "collapsed": false,
    "name": "sql_querying_md"
   },
   "source": [
    "## SQL Querying at your fingertips 💡 \n",
    "\n",
    "We can easily switch between Python and SQL in the same worksheet. \n",
    "\n",
    "Let's write some SQL to generate sample data to play with. "
   ]
  },
  {
   "cell_type": "code",
   "execution_count": null,
   "id": "726b8b95-674b-4191-a29d-2c850f27fd68",
   "metadata": {
    "codeCollapsed": false,
    "collapsed": false,
    "language": "sql",
    "name": "sql_querying"
   },
   "outputs": [],
   "source": [
    "-- Generating a synthetic dataset of Snowboard products, along with their price and rating\n",
    "SELECT CONCAT('SNOW-',UNIFORM(1000,9999, RANDOM())) AS PRODUCT_ID, \n",
    "       ABS(NORMAL(5, 3, RANDOM())) AS RATING, \n",
    "       ABS(NORMAL(750, 200::FLOAT, RANDOM())) AS PRICE\n",
    "FROM TABLE(GENERATOR(ROWCOUNT => 100));"
   ]
  },
  {
   "cell_type": "markdown",
   "id": "a42cefaa-d16b-4eb7-8a7e-f297095351b1",
   "metadata": {
    "collapsed": false,
    "name": "cell_querying_python_md"
   },
   "source": [
    "## Back to Working in Python 🐍\n",
    "\n",
    "You can give cells a name and refer to its output in subsequent cells.\n",
    "\n",
    "We can access the SQL results directly in Python and convert the results to a pandas dataframe. 🐼\n",
    "\n",
    "```python\n",
    "# Access the SQL cell output as a Snowpark dataframe\n",
    "my_snowpark_df = sql_querying.to_df()\n",
    "``` \n",
    "\n",
    "```python\n",
    "# Convert a SQL cell output into a pandas dataframe\n",
    "my_df = sql_querying.to_pandas()\n",
    "``` "
   ]
  },
  {
   "cell_type": "code",
   "execution_count": null,
   "id": "f2338253-c62a-4da1-b52b-569f23282689",
   "metadata": {
    "codeCollapsed": false,
    "collapsed": false,
    "language": "python",
    "name": "cell_querying_python"
   },
   "outputs": [],
   "source": [
    "df = sql_querying.to_pandas()\n",
    "df"
   ]
  },
  {
   "cell_type": "markdown",
   "id": "4319acb1-dc60-4087-94dd-6f661e8d532c",
   "metadata": {
    "collapsed": false,
    "name": "visualize_md"
   },
   "source": [
    "## 📊 Visualize your data\n",
    "\n",
    "We can use [Altair](https://altair-viz.github.io/) to easily visualize our data distribution as a histogram."
   ]
  },
  {
   "cell_type": "code",
   "execution_count": null,
   "id": "79fb2295-2bc6-41ce-b801-ed2dcc1162a0",
   "metadata": {
    "codeCollapsed": false,
    "collapsed": false,
    "language": "python",
    "name": "visualize"
   },
   "outputs": [],
   "source": [
    "# Let's plot the results with Altair\n",
    "chart = alt.Chart(df,title=\"Rating Distribution\").mark_bar().encode(\n",
    "    alt.X(\"RATING\", bin=alt.Bin(step=2)),\n",
    "    y='count()',\n",
    ")\n",
    "\n",
    "st.altair_chart(chart)"
   ]
  },
  {
   "cell_type": "markdown",
   "id": "17a6cbb1-5488-445b-a81f-5caec127b519",
   "metadata": {
    "collapsed": false,
    "name": "plotting_md"
   },
   "source": [
    "Let's say that you want to customize your chart and plot the kernel density estimate (KDE) and median. We can use matplotlib to plot the price distribution. Note that the `.plot` command uses `scipy` under the hood to compute the KDE profile, which we added as a package earlier in this tutorial."
   ]
  },
  {
   "cell_type": "code",
   "execution_count": null,
   "id": "e0b78b8f-3de6-4863-9eec-d07c0e848d67",
   "metadata": {
    "codeCollapsed": false,
    "collapsed": false,
    "language": "python",
    "name": "plotting"
   },
   "outputs": [],
   "source": [
    "fig, ax = plt.subplots(figsize = (6,3))\n",
    "plt.tick_params(left = False, right = False , labelleft = False) \n",
    "\n",
    "price = df[\"PRICE\"]\n",
    "price.plot(kind = \"hist\", density = True, bins = 15)\n",
    "price.plot(kind=\"kde\", color='#c44e52')\n",
    "\n",
    "\n",
    "# Calculate percentiles\n",
    "median = price.median()\n",
    "ax.axvline(median,0, color='#dd8452', ls='--')\n",
    "ax.text(median,0.8, f'Median: {median:.2f}  ',\n",
    "        ha='right', va='center', color='#dd8452', transform=ax.get_xaxis_transform())\n",
    "\n",
    "# Make our chart pretty\n",
    "plt.style.use(\"bmh\")\n",
    "plt.title(\"Price Distribution\")\n",
    "plt.xlabel(\"PRICE (binned)\")\n",
    "left, right = plt.xlim()   \n",
    "plt.xlim((0, right))  \n",
    "# Remove ticks and spines\n",
    "ax.tick_params(left = False, bottom = False)\n",
    "for ax, spine in ax.spines.items():\n",
    "    spine.set_visible(False)\n",
    "\n",
    "plt.show()"
   ]
  },
  {
   "cell_type": "markdown",
   "id": "794ab8c4-7725-44b0-bec8-72dc48bb7b89",
   "metadata": {
    "collapsed": false,
    "name": "snowpark_md"
   },
   "source": [
    "## Working with data using Snowpark 🛠️\n",
    "\n",
    "In addition to using your favorite Python data science libraries, you can also use the [Snowpark API](https://docs.snowflake.com/en/developer-guide/snowpark/index) to query and process your data at scale within the Notebook. \n",
    "\n",
    "First, you can get your session variable directly through the active notebook session. The session variable is the entrypoint that gives you access to using Snowflake's Python API."
   ]
  },
  {
   "cell_type": "code",
   "execution_count": null,
   "id": "3775908f-ca36-4846-8f38-5adca39217f2",
   "metadata": {
    "codeCollapsed": false,
    "language": "python",
    "name": "snowpark"
   },
   "outputs": [],
   "source": [
    "from snowflake.snowpark.context import get_active_session\n",
    "session = get_active_session()\n",
    "# Add a query tag to the session. This helps with debugging and performance monitoring.\n",
    "session.query_tag = {\"origin\":\"sf_sit-is\", \"name\":\"notebook_demo_pack\", \"version\":{\"major\":1, \"minor\":0}, \"attributes\":{\"is_quickstart\":0, \"source\":\"notebook\"}}"
   ]
  },
  {
   "cell_type": "markdown",
   "id": "0573e8eb-70fd-4a3a-b96e-07dc53a0c21b",
   "metadata": {
    "collapsed": false,
    "name": "snowpark2_md"
   },
   "source": [
    "For example, we can use Snowpark to save our pandas dataframe back to a table in Snowflake. 💾"
   ]
  },
  {
   "cell_type": "code",
   "execution_count": null,
   "id": "7acbc323-c2ec-44c9-a846-3f47c218af1e",
   "metadata": {
    "codeCollapsed": false,
    "collapsed": false,
    "language": "python",
    "name": "snowpark2"
   },
   "outputs": [],
   "source": [
    "session.write_pandas(df,\"SNOW_CATALOG\",auto_create_table=True, table_type=\"temp\")"
   ]
  },
  {
   "cell_type": "markdown",
   "id": "471a58ea-eddd-456e-b94d-8d09ce330738",
   "metadata": {
    "collapsed": false,
    "name": "snowpark3_md"
   },
   "source": [
    "Now that the `SNOW_CATALOG` table has been created, we can load the table using the following syntax: \n",
    "\n",
    "```python\n",
    "df = session.table(\"<DATABASE_NAME>.<SCHEMA_NAME>.<TABLE_NAME>\")\n",
    "```\n",
    "\n",
    "If your session is already set to the database and schema for the table you want to access, then you can reference the table name directly."
   ]
  },
  {
   "cell_type": "code",
   "execution_count": null,
   "id": "c695373e-ac74-4b62-a1f1-08206cbd5c81",
   "metadata": {
    "codeCollapsed": false,
    "collapsed": false,
    "language": "python",
    "name": "snowpark3"
   },
   "outputs": [],
   "source": [
    "df = session.table(\"SNOW_CATALOG\")"
   ]
  },
  {
   "cell_type": "markdown",
   "id": "6af5c4af-7432-400c-abc3-53d0ca098362",
   "metadata": {
    "collapsed": false,
    "name": "snowpark4_md"
   },
   "source": [
    "Once we have loaded the table, we can call Snowpark's [`describe`](https://docs.snowflake.com/en/developer-guide/snowpark/reference/python/latest/snowpark/api/snowflake.snowpark.DataFrame.describe) to compute basic descriptive statistics. "
   ]
  },
  {
   "cell_type": "code",
   "execution_count": null,
   "id": "d636ed2e-5030-4661-99c8-96b086d25530",
   "metadata": {
    "codeCollapsed": false,
    "language": "python",
    "name": "snowpark4"
   },
   "outputs": [],
   "source": [
    "df.describe()"
   ]
  },
  {
   "cell_type": "markdown",
   "id": "6d4ccea6-a7f6-4c3b-8dcc-920701efb2e7",
   "metadata": {
    "collapsed": false,
    "name": "variables_md"
   },
   "source": [
    "## Using Python variables in SQL cells 🔖\n",
    "\n",
    "You can use the Jinja syntax `{{..}}` to refer to Python variables within your SQL queries as follows. \n",
    "\n",
    "```python\n",
    "threshold = 5\n",
    "```\n",
    "\n",
    "```sql\n",
    "-- Reference Python variable in SQL\n",
    "SELECT * FROM SNOW_CATALOG where RATING > {{threshold}}\n",
    "```\n",
    "\n",
    "Let's put this in practice to generate a distribution of values for ratings based on the mean and standard deviation values we set with Python."
   ]
  },
  {
   "cell_type": "code",
   "execution_count": null,
   "id": "3fb85963-53ea-46b6-be96-c164c397539a",
   "metadata": {
    "codeCollapsed": false,
    "language": "python",
    "name": "variables"
   },
   "outputs": [],
   "source": [
    "mean = 5 \n",
    "stdev = 3"
   ]
  },
  {
   "cell_type": "code",
   "execution_count": null,
   "id": "ed64f767-a598-42d2-966a-a2414ad3ecb4",
   "metadata": {
    "codeCollapsed": false,
    "collapsed": false,
    "language": "sql",
    "name": "variables2"
   },
   "outputs": [],
   "source": [
    "-- Note how we use the Python variables `mean` and `stdev` to populate the SQL query\n",
    "-- Note how the Python variables dynamically populate the SQL query\n",
    "CREATE OR REPLACE TABLE SNOW_CATALOG AS \n",
    "SELECT CONCAT('SNOW-',UNIFORM(1000,9999, RANDOM())) AS PRODUCT_ID, \n",
    "       ABS(NORMAL({{mean}}, {{stdev}}, RANDOM())) AS RATING, \n",
    "       ABS(NORMAL(750, 200::FLOAT, RANDOM())) AS PRICE\n",
    "FROM TABLE(GENERATOR(ROWCOUNT => 100));"
   ]
  },
  {
   "cell_type": "code",
   "execution_count": null,
   "id": "8f1e59cc-3d51-41c9-bd8d-2f600e7c6b61",
   "metadata": {
    "codeCollapsed": false,
    "language": "sql",
    "name": "variables3",
    "collapsed": false
   },
   "outputs": [],
   "source": [
    "SELECT * FROM SNOW_CATALOG;"
   ]
  },
  {
   "cell_type": "markdown",
   "id": "67f4ed30-1eca-469e-b970-27b06affb526",
   "metadata": {
    "collapsed": false,
    "name": "subqueries_md"
   },
   "source": [
    "### Level up your subquery game! 🧑‍🎓\n",
    "\n",
    "You can simplify long subqueries with [CTEs](https://docs.snowflake.com/en/user-guide/queries-cte) by combining what we've learned with Python and SQL cell result referencing. \n",
    "\n",
    "For example, if we want to compute the average rating of all products with ratings above 5. We would typically have to write something like the following:\n"
   ]
  },
  {
   "cell_type": "code",
   "execution_count": null,
   "id": "5fab80f9-2903-410c-ac01-a08f9746c1e6",
   "metadata": {
    "codeCollapsed": false,
    "collapsed": false,
    "language": "sql",
    "name": "subqueries"
   },
   "outputs": [],
   "source": [
    "WITH RatingsAboveFive AS (\n",
    "    SELECT RATING\n",
    "    FROM SNOW_CATALOG\n",
    "    WHERE RATING > 5\n",
    ")\n",
    "SELECT AVG(RATING) AS AVG_RATING_ABOVE_FIVE\n",
    "FROM RatingsAboveFive;"
   ]
  },
  {
   "cell_type": "markdown",
   "id": "cd954592-93ba-4919-a7d2-2659d63a87dc",
   "metadata": {
    "collapsed": false,
    "name": "subqueries2_md"
   },
   "source": [
    "With Snowflake Notebooks, the query is much simpler! You can get the same result by filtering a SQL table from another SQL cell by referencing it with Jinja, e.g., `{{my_cell}}`. "
   ]
  },
  {
   "cell_type": "code",
   "execution_count": null,
   "id": "5828a1ef-2270-482e-81fc-d97c85823e43",
   "metadata": {
    "codeCollapsed": false,
    "collapsed": false,
    "language": "sql",
    "name": "subqueries2"
   },
   "outputs": [],
   "source": [
    "SELECT AVG(RATING) FROM {{variables3}}\n",
    "WHERE RATING > 5"
   ]
  },
  {
   "cell_type": "markdown",
   "id": "e1d99691-578d-4df2-a1c1-cde4ee7e1cd0",
   "metadata": {
    "collapsed": false,
    "name": "streamlit_md"
   },
   "source": [
    "## Creating an interactive app with Streamlit 🪄\n",
    "\n",
    "Putting this all together, let's build a Streamlit app to explore how different parameters impacts the shape of the data distribution histogram."
   ]
  },
  {
   "cell_type": "code",
   "execution_count": null,
   "id": "9fe67464-68f5-4bcf-a40d-684a58e3a44d",
   "metadata": {
    "codeCollapsed": false,
    "collapsed": false,
    "language": "python",
    "name": "streamlit"
   },
   "outputs": [],
   "source": "import streamlit as st\nst.markdown(\"# Move the slider to adjust and watch the results update! 👇\")\ncol1, col2 = st.columns(2)\nwith col1:\n    mean = st.slider('Mean of on RATING Distribution',0,10,3) \nwith col2:\n    stdev = st.slider('Standard Deviation of RATING Distribution', 0, 10, 5)\n\nquery =f'''CREATE OR REPLACE TABLE SNOW_CATALOG AS \nSELECT CONCAT('SNOW-',UNIFORM(1000,9999, RANDOM())) AS PRODUCT_ID, \n       ABS(NORMAL({mean}, {stdev}, RANDOM())) AS RATING, \n       ABS(NORMAL(750, 200::FLOAT, RANDOM())) AS PRICE\nFROM TABLE(GENERATOR(ROWCOUNT => 100));'''\nsession.sql(query).collect()\n\n\n# Read table from Snowpark and plot the results\ndf = session.table(\"SNOW_CATALOG\").to_pandas()\n# Let's plot the results with Altair\nalt.Chart(df).mark_bar().encode(\n    alt.X(\"RATING\", bin=alt.Bin(step=2)),\n    y='count()',\n)"
  },
  {
   "cell_type": "markdown",
   "id": "b33cd696-cd03-4018-9be5-7d7dfaa730c1",
   "metadata": {
    "collapsed": false,
    "name": "shortcuts_md"
   },
   "source": [
    "## Run Faster with Keyboard Shortcuts 🏃\n",
    "\n",
    "These shortcuts can help you navigate around your notebook more quickly. \n",
    "\n",
    "| Command | Shortcut |\n",
    "| --- | ----------- |\n",
    "| **Run this cell and advance** | SHIFT + ENTER |\n",
    "| **Run this cell only** | CMD + ENTER |\n",
    "| **Run all cells** | CMD + SHIFT + ENTER |\n",
    "| **Add cell BELOW** | b |\n",
    "| **Add cell ABOVE** | a |\n",
    "| **Delete this cell** | d+d |\n",
    "\n",
    "\\\n",
    "You can view the full list of shortcuts by clicking the `?` button on the bottom right."
   ]
  },
  {
   "cell_type": "code",
   "execution_count": null,
   "id": "1e571490-2a0a-4bbc-9413-db5520d74cce",
   "metadata": {
    "codeCollapsed": false,
    "language": "sql",
    "name": "cleanup",
    "collapsed": false
   },
   "outputs": [],
   "source": [
    "-- Teardown code to cleanup environment after tutorial\n",
    "DROP TABLE SNOW_CATALOG;"
   ]
  },
  {
   "cell_type": "markdown",
   "id": "c0aa866e-7fd4-449a-a0b4-51e76b03f751",
   "metadata": {
    "collapsed": false,
    "name": "nextsteps_md"
   },
   "source": [
    "## Keep Exploring Notebooks! 🧭\n",
    "\n",
    "Check out our [sample notebook gallery](https://github.com/Snowflake-Labs/notebook-demo) and [documentation](https://docs.snowflake.com/LIMITEDACCESS/snowsight-notebooks/ui-snowsight-notebooks-about) to learn more!"
   ]
  }
 ]
}