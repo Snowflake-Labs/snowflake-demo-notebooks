{
  "cells": [
    {
      "cell_type": "markdown",
      "id": "4bdfaf17-ff9f-4cae-ba03-791a82e15287",
      "metadata": {
        "collapsed": false,
        "name": "cell1"
      },
      "source": [
        "Welcome to Snowflake! This entry-level guide designed for database and data warehouse administrators and architects will help you navigate the Snowflake interface and introduce you to some of our core capabilities. [Sign up for a free 30-day trial of Snowflake](https://signup.snowflake.com/) and follow along with this lab exercise. Once we cover the basics, you'll be ready to start processing your own data and diving into Snowflake's more advanced features like a pro.\n",
        "\n",
        "You can refer to the full quickstart guide corresponding to this tutorial [here](https://quickstarts.snowflake.com/guide/getting_started_with_snowflake/index.html#0)."
      ]
    },
    {
      "cell_type": "markdown",
      "id": "55cc7872-1f61-459a-bfa0-7569fbe093a5",
      "metadata": {
        "collapsed": false,
        "name": "cell2"
      },
      "source": [
        "# Preparing to Load Data"
      ]
    },
    {
      "cell_type": "markdown",
      "id": "633c8ab0-3e94-443c-8536-1b3d24f27934",
      "metadata": {
        "collapsed": false,
        "name": "cell3"
      },
      "source": [
        "Let's start by preparing to load the structured Citi Bike rider transaction data into Snowflake.\n",
        "\n",
        "This section walks you through the steps to:\n",
        "\n",
        "- Create a database and table.\n",
        "- Create an external stage.\n",
        "- Create a file format for the data."
      ]
    },
    {
      "cell_type": "markdown",
      "id": "b4f0c12a-4ef5-480f-832f-0ff622e5b8b8",
      "metadata": {
        "collapsed": false,
        "name": "cell4"
      },
      "source": [
        "The data we will be using is bike share data provided by Citi Bike NYC. The data has been exported and pre-staged for you in an Amazon AWS S3 bucket in the US-EAST region. The data consists of information about trip times, locations, user type, gender, age, etc. On AWS S3, the data represents 61.5M rows, 377 objects, and 1.9GB compressed.\n",
        "\n",
        "Below is a snippet from one of the Citi Bike CSV data files:\n",
        "\n",
        "```raw\n",
        "\"tripduration\",\"starttime\",\"stoptime\",\"start station id\",\"start station name\",\"start station latitude\",\n",
        "\"start station longitude\",\"end station id\",\"end station name\",\"end station latitude\",\"end station longitude\",\n",
        "\"bikeid\",\"name_localizedValue0\",\"usertype\",\"birth year\",\"gender\"\n",
        "196,\"2018-01-01 00:01:51\",\"2018-01-01 00:05:07\",315,\"South St & Gouverneur Ln\",\n",
        "40.70355377,-74.00670227,259,\"South St & Whitehall St\",\n",
        "40.70122128,-74.01234218,18534,\"Annual Membership\",\"Subscriber\",1997,1\n",
        "207,\"2018-01-01 00:02:44\"1\"2018-01-01 00:06:11\"13224,\"W 13 St & Hudson St\", \n",
        "40.73997354103409,-74.00513872504234,470,\"W 20 St & 8 Ave\",\n",
        "40.74345335,-74.00004031,19651,\"Annual Membership\",\"Subscriber\",1978,1 \n",
        "613,\"2018-01-01 00:03:15\",\"2018-01-01 00:13:28\",386,\"Centre St & Worth St\",\n",
        "40.71494807,-74.00234482,2008,\"Little West St & 1 Pl\", \n",
        "40.70569254,-74.01677685,21678,\"Annual Membership\",\"Subscriber\",1982,1 \n",
        "```\n",
        "\n",
        "It is in comma-delimited format with a single header line and double quotes enclosing all string values, including the field headings in the header line. This will come into play later in this section as we configure the Snowflake table to store this data."
      ]
    },
    {
      "cell_type": "markdown",
      "id": "7c78baee-085f-4bd5-8aee-186607137055",
      "metadata": {
        "collapsed": false,
        "name": "cell5"
      },
      "source": [
        "### Create a Database and Table\n",
        "\n",
        "First, let's create a database called `CITIBIKE_TUTORIAL` to use for loading the structured data."
      ]
    },
    {
      "cell_type": "code",
      "execution_count": null,
      "id": "0b26f207-a8ae-4bdd-84c1-5cc0dbc72201",
      "metadata": {
        "codeCollapsed": false,
        "collapsed": false,
        "language": "sql",
        "name": "cell6"
      },
      "outputs": [],
      "source": [
        "USE ROLE SYSADMIN;\n",
        "CREATE OR REPLACE DATABASE CITIBIKE_TUTORIAL;"
      ]
    },
    {
      "cell_type": "code",
      "execution_count": null,
      "id": "d727f685-71e8-44cf-85cd-1bbd227288ce",
      "metadata": {
        "codeCollapsed": false,
        "collapsed": false,
        "language": "sql",
        "name": "cell7"
      },
      "outputs": [],
      "source": [
        "USE SCHEMA CITIBIKE_TUTORIAL.PUBLIC;"
      ]
    },
    {
      "cell_type": "markdown",
      "id": "5214829f-f4a9-49ac-9177-b611cae6f257",
      "metadata": {
        "collapsed": false,
        "name": "cell8"
      },
      "source": [
        "> \n",
        "> \n",
        ">  **Data Definition Language (DDL) operations are free!**\n",
        "All the DDL operations we have done so far do not require compute resources, so we can create all our objects for free.\n"
      ]
    },
    {
      "cell_type": "markdown",
      "id": "0e0a1c56-2645-4a57-844a-2663b3321e2b",
      "metadata": {
        "collapsed": false,
        "name": "cell9"
      },
      "source": [
        "Next we create a table called `TRIPS` to use for loading the comma-delimited data. Instead of using the UI, we run the following DDL that creates the table. "
      ]
    },
    {
      "cell_type": "code",
      "execution_count": null,
      "id": "5d83c925-4ede-4023-84a1-c1aaf9ebcede",
      "metadata": {
        "codeCollapsed": false,
        "collapsed": false,
        "language": "sql",
        "name": "cell10"
      },
      "outputs": [],
      "source": [
        "create or replace table CITIBIKE_TUTORIAL.PUBLIC.trips\n",
        "(tripduration integer,\n",
        "starttime timestamp,\n",
        "stoptime timestamp,\n",
        "start_station_id integer,\n",
        "start_station_name string,\n",
        "start_station_latitude float,\n",
        "start_station_longitude float,\n",
        "end_station_id integer,\n",
        "end_station_name string,\n",
        "end_station_latitude float,\n",
        "end_station_longitude float,\n",
        "bikeid integer,\n",
        "membership_type string,\n",
        "usertype string,\n",
        "birth_year integer,\n",
        "gender integer);"
      ]
    },
    {
      "cell_type": "markdown",
      "id": "b89382b9-cb9e-4408-b8d3-2abb9ec103d7",
      "metadata": {
        "collapsed": false,
        "name": "cell11"
      },
      "source": [
        "Verify that your TRIPS table has been created. You should see the returned query status displaying a \"Table TRIPS successfully created\" message.\n",
        "\n",
        "> \n",
        "> \n",
        ">  **Many Options to Run Commands.**\n",
        "SQL commands can be executed through the UI, via the **Worksheets** tab, using our SnowSQL command line tool, with a SQL editor of your choice via ODBC/JDBC, or through our other connectors (Python, Spark, etc.).\n",
        "As mentioned earlier, to save time, we are performing most of the operations in this lab via pre-written SQL executed in the worksheet as opposed to using the UI.\n",
        "\n",
        "\n",
        "### Create an External Stage\n",
        "\n",
        "We are working with structured, comma-delimited data that has already been staged in a public, external S3 bucket. Before we can use this data, we first need to create a Stage that specifies the location of our external bucket.\n",
        "\n",
        "> \n",
        "> \n",
        ">  For this lab we are using an AWS-East bucket. To prevent data egress/transfer costs in the future, you should select a staging location from the same cloud provider and region as your Snowflake account.\n"
      ]
    },
    {
      "cell_type": "code",
      "execution_count": null,
      "id": "751d4c84-6a2e-4762-9736-49693490d98c",
      "metadata": {
        "codeCollapsed": false,
        "collapsed": false,
        "language": "sql",
        "name": "cell12"
      },
      "outputs": [],
      "source": [
        "CREATE STAGE CITIBIKE_TUTORIAL.PUBLIC.citibike_trips \n",
        "\tURL = 's3://snowflake-workshop-lab/citibike-trips-csv/';"
      ]
    },
    {
      "cell_type": "markdown",
      "id": "6d667384-38b6-472a-8fc5-68225978fe02",
      "metadata": {
        "collapsed": false,
        "name": "cell13"
      },
      "source": [
        "> \n",
        "> \n",
        ">  The S3 bucket for this lab is public so you can leave the credentials options in the statement empty. In a real-world scenario, the bucket used for an external stage would likely require key information.\n",
        "\n",
        "\n",
        "Now let's take a look at the contents of the `citibike_trips` stage. "
      ]
    },
    {
      "cell_type": "code",
      "execution_count": null,
      "id": "70e0f5a4-24e2-40b4-bb10-b696ce0e7ef1",
      "metadata": {
        "codeCollapsed": false,
        "collapsed": false,
        "language": "sql",
        "name": "cell14"
      },
      "outputs": [],
      "source": [
        "LIST @CITIBIKE_TUTORIAL.PUBLIC.CITIBIKE_TRIPS;"
      ]
    },
    {
      "cell_type": "markdown",
      "id": "c215d65c-a838-4e35-b8c6-a5b049cfb84a",
      "metadata": {
        "name": "cell15"
      },
      "source": [
        "In the results table, you should see the list of files in the stage."
      ]
    },
    {
      "cell_type": "code",
      "execution_count": null,
      "id": "41bebc41-a6e8-4e20-9303-2498bc578346",
      "metadata": {
        "codeCollapsed": false,
        "collapsed": false,
        "language": "sql",
        "name": "cell16"
      },
      "outputs": [],
      "source": [
        "USE SCHEMA CITIBIKE_TUTORIAL.public"
      ]
    },
    {
      "cell_type": "markdown",
      "id": "f2ae94e8-ee3e-4eb8-a8bc-196fe3ffd9fc",
      "metadata": {
        "collapsed": false,
        "name": "cell17"
      },
      "source": [
        "### Create a File Format\n",
        "\n",
        "Before we can load the data into Snowflake, we have to create a file format that matches the data structure.\n"
      ]
    },
    {
      "cell_type": "code",
      "execution_count": null,
      "id": "4498f56f-a64e-4266-9d4f-0a75ecc19975",
      "metadata": {
        "codeCollapsed": false,
        "collapsed": false,
        "language": "sql",
        "name": "cell18"
      },
      "outputs": [],
      "source": [
        "--create file format\n",
        "\n",
        "create or replace file format CITIBIKE_TUTORIAL.PUBLIC.CSV type='csv' \n",
        "  compression = 'auto' field_delimiter = ',' record_delimiter = '\\n'\n",
        "  skip_header = 0 field_optionally_enclosed_by = '\\042' trim_space = false\n",
        "  error_on_column_count_mismatch = false escape = 'none' escape_unenclosed_field = '\\134'\n",
        "  date_format = 'auto' timestamp_format = 'auto' null_if = ('') comment = 'file format for ingesting data for zero to snowflake';"
      ]
    },
    {
      "cell_type": "markdown",
      "id": "6b24ed4a-b231-499e-8855-cf17cb6fa6f8",
      "metadata": {
        "name": "cell19"
      },
      "source": [
        "Verify that the file format has been created with the correct settings by executing the following command:"
      ]
    },
    {
      "cell_type": "code",
      "execution_count": null,
      "id": "93d8388c-66b3-4e48-a1a9-70092a8dd777",
      "metadata": {
        "codeCollapsed": false,
        "collapsed": false,
        "language": "sql",
        "name": "cell20"
      },
      "outputs": [],
      "source": [
        "--verify file format is created\n",
        "show file formats in database CITIBIKE_TUTORIAL;"
      ]
    },
    {
      "cell_type": "markdown",
      "id": "696c9fa1-83b1-42ee-8678-dc0df8ec5766",
      "metadata": {
        "collapsed": false,
        "name": "cell21"
      },
      "source": [
        "## Loading Data\n",
        "\n",
        "In this section, we will use a virtual warehouse and the COPY command to initiate bulk loading of structured data into the Snowflake table we created in the last section.\n",
        "\n",
        "### Resize and Use a Warehouse for Data Loading\n",
        "\n",
        "Compute resources are needed for loading data. Snowflake's compute nodes are called virtual warehouses and they can be dynamically sized up or out according to workload, whether you are loading data, running a query, or performing a DML operation. Each workload can have its own warehouse so there is no resource contention.\n",
        "\n",
        "\n",
        "> aside positive\n",
        "> \n",
        ">  If this account isn't using Snowflake Enterprise Edition (or higher), you will not see the **Mode** or **Clusters** options shown in the screenshot below. The multi-cluster warehouses feature is not used in this lab, but we will discuss it as a key capability of Snowflake.\n",
        "\n",
        "\n",
        "### Load the Data\n",
        "\n",
        "Now we can run a COPY command to load the data into the `TRIPS` table we created earlier.\n",
        "\n",
        "Execute the following statements to load the staged data into the table. This may take up to 30 seconds.\n",
        "\n"
      ]
    },
    {
      "cell_type": "code",
      "execution_count": null,
      "id": "4c7ab262-b49d-4f15-bd12-b720963766a6",
      "metadata": {
        "codeCollapsed": false,
        "collapsed": false,
        "language": "sql",
        "name": "cell22"
      },
      "outputs": [],
      "source": [
        "copy into CITIBIKE_TUTORIAL.public.trips from @CITIBIKE_TUTORIAL.PUBLIC.CITIBIKE_TRIPS file_format=CITIBIKE_TUTORIAL.public.csv PATTERN = '.*csv.*' ;"
      ]
    },
    {
      "cell_type": "markdown",
      "id": "3ef5c6df-5c3b-4e8c-ad95-077724b06fcc",
      "metadata": {
        "collapsed": false,
        "name": "cell23"
      },
      "source": [
        "In the result table, you should see the status of each file that was loaded. \n",
        "\n",
        "Next, navigate to the **Query History** tab by clicking the **Home** icon and then **Activity** > **Query History**. Select the query at the top of the list, which should be the COPY INTO statement that was last executed. Select the **Query Profile** tab and note the steps taken by the query to execute, query details, most expensive nodes, and additional statistics."
      ]
    },
    {
      "cell_type": "code",
      "execution_count": null,
      "id": "8860fe54-acef-46c1-b261-07cc3e20397e",
      "metadata": {
        "language": "python",
        "name": "cell24"
      },
      "outputs": [],
      "source": [
        "import streamlit as st\n",
        "st.image(\"https://quickstarts.snowflake.com/guide/getting_started_with_snowflake/img/ba7874d9fe5cb2b7.png\",width=1000)"
      ]
    },
    {
      "cell_type": "markdown",
      "id": "ddc5934e-35a0-45ed-b7b5-f5781097c7ab",
      "metadata": {
        "name": "cell25"
      },
      "source": [
        "Now let's use the TRUNCATE TABLE command to clear the table of all data and metadata:"
      ]
    },
    {
      "cell_type": "code",
      "execution_count": null,
      "id": "952e43aa-bba7-443a-8421-7848074a4727",
      "metadata": {
        "codeCollapsed": false,
        "language": "sql",
        "name": "cell26"
      },
      "outputs": [],
      "source": [
        "truncate table trips;"
      ]
    },
    {
      "cell_type": "markdown",
      "id": "456b136b-333b-4d60-9a6b-ce6e790ec2a5",
      "metadata": {
        "name": "cell27"
      },
      "source": [
        "Verify that the table is empty by running the following command:\n"
      ]
    },
    {
      "cell_type": "code",
      "execution_count": null,
      "id": "41e28dcf-5858-4d80-8bcc-c49cef7f786a",
      "metadata": {
        "codeCollapsed": false,
        "collapsed": false,
        "language": "sql",
        "name": "cell28"
      },
      "outputs": [],
      "source": [
        "--verify table is clear\n",
        "select * from CITIBIKE_TUTORIAL.public.trips limit 10;"
      ]
    },
    {
      "cell_type": "markdown",
      "id": "ed4993d1-3817-4f36-8092-ae0d09fda747",
      "metadata": {
        "collapsed": false,
        "name": "cell29"
      },
      "source": [
        "The result should show \"Query produced no results\".\n",
        "\n",
        "We can use Snowpark to get the name of the current warehouse used in this session."
      ]
    },
    {
      "cell_type": "code",
      "execution_count": null,
      "id": "f05454a9-059d-4677-9f01-e82d8af0101a",
      "metadata": {
        "codeCollapsed": false,
        "collapsed": false,
        "language": "python",
        "name": "cell30"
      },
      "outputs": [],
      "source": [
        "from snowflake.snowpark.context import get_active_session\n",
        "session = get_active_session()\n",
        "current_warehouse_name = session.get_current_warehouse()\n",
        "print(current_warehouse_name)"
      ]
    },
    {
      "cell_type": "markdown",
      "id": "8063ad00-bf69-4025-8b44-fb9a6d6e0b30",
      "metadata": {
        "collapsed": false,
        "name": "cell31"
      },
      "source": [
        "Then change the warehouse size to `large` using the following ALTER WAREHOUSE.\n",
        "\n",
        "Note that the ``{{python-variable}}`` syntax allows us to use the value of a Python variable inside a SQL query."
      ]
    },
    {
      "cell_type": "code",
      "execution_count": null,
      "id": "a38c708d-5b93-4358-8218-d3873387680d",
      "metadata": {
        "codeCollapsed": false,
        "collapsed": false,
        "language": "sql",
        "name": "cell32"
      },
      "outputs": [],
      "source": [
        "--change current warehouse size from small to large (4x)\n",
        "alter warehouse {{current_warehouse_name}} set warehouse_size='large';"
      ]
    },
    {
      "cell_type": "markdown",
      "id": "fe1cccf0-c139-47a7-83df-9a3de110178f",
      "metadata": {
        "collapsed": false,
        "name": "cell33"
      },
      "source": [
        "Verify the change using the following SHOW WAREHOUSES:"
      ]
    },
    {
      "cell_type": "code",
      "execution_count": null,
      "id": "81edfaaa-88e1-45c0-be7b-fcf73e41537c",
      "metadata": {
        "codeCollapsed": false,
        "collapsed": false,
        "language": "sql",
        "name": "cell34"
      },
      "outputs": [],
      "source": [
        "--load data with large warehouse\n",
        "show warehouses;"
      ]
    },
    {
      "cell_type": "markdown",
      "id": "e362c281-69d7-4293-bd5c-853e6211aca5",
      "metadata": {
        "name": "cell35"
      },
      "source": [
        "Execute the same COPY INTO statement as before to load the same data again:"
      ]
    },
    {
      "cell_type": "code",
      "execution_count": null,
      "id": "8734109f-830c-4e9c-8103-177ccaf595c7",
      "metadata": {
        "codeCollapsed": false,
        "language": "sql",
        "name": "cell36"
      },
      "outputs": [],
      "source": [
        "copy into trips from @citibike_trips\n",
        "file_format=CSV;"
      ]
    },
    {
      "cell_type": "markdown",
      "id": "47166dda-e21d-4890-9bdf-386977f83d90",
      "metadata": {
        "collapsed": false,
        "name": "cell37"
      },
      "source": [
        "Once the load is done, navigate back to the **Queries** page (**Home** icon > **Activity** > **Query History**). Compare the times of the two COPY INTO commands. The load using the `Large` warehouse was significantly faster."
      ]
    },
    {
      "cell_type": "markdown",
      "id": "d157673b-fa80-4e95-ae92-99237a767764",
      "metadata": {
        "name": "cell38"
      },
      "source": [
        "Note that you can also see the query runtime on the top right hand corner of each of the SQL cells under \"View run details\"."
      ]
    },
    {
      "cell_type": "code",
      "execution_count": null,
      "id": "18409f3d-207f-47bc-9dac-211a791fce65",
      "metadata": {
        "codeCollapsed": false,
        "language": "sql",
        "name": "cell39"
      },
      "outputs": [],
      "source": [
        "-- Changing this back to an XSMALL warehouse\n",
        "alter warehouse {{current_warehouse_name}} set warehouse_size='XSMALL';"
      ]
    },
    {
      "cell_type": "markdown",
      "id": "6b19ee05-465c-43d1-87a8-87a504a0aa77",
      "metadata": {
        "collapsed": false,
        "name": "cell40"
      },
      "source": [
        "### Create a New Warehouse for Data Analytics\n",
        "\n",
        "Going back to the lab story, let's assume the Citi Bike team wants to eliminate resource contention between their data loading/ETL workloads and the analytical end users using BI tools to query Snowflake. As mentioned earlier, Snowflake can easily do this by assigning different, appropriately-sized warehouses to various workloads. Since Citi Bike already has a warehouse for data loading, let's create a new warehouse for the end users running analytics. We will use this warehouse to perform analytics in the next section.\n"
      ]
    },
    {
      "cell_type": "code",
      "execution_count": null,
      "id": "68ebff3e-9e83-46c2-a576-79d39ab1c731",
      "metadata": {
        "codeCollapsed": false,
        "language": "sql",
        "name": "cell41"
      },
      "outputs": [],
      "source": [
        "CREATE OR REPLACE WAREHOUSE ANALYTICS_WH WITH WAREHOUSE_SIZE = 'LARGE';"
      ]
    },
    {
      "cell_type": "markdown",
      "id": "cd849660-42c4-49cc-b64f-111342397d2d",
      "metadata": {
        "collapsed": false,
        "name": "cell42"
      },
      "source": [
        "## Working with Queries, the Results Cache, & Cloning\n",
        "\n",
        "In the previous exercises, we loaded data into two tables using Snowflake's COPY bulk loader command and the `COMPUTE_WH` virtual warehouse. Now we are going to take on the role of the analytics users at Citi Bike who need to query data in those tables using the worksheet and the second warehouse `ANALYTICS_WH`.\n",
        "\n",
        "> \n",
        "> \n",
        ">  **Real World Roles and Querying**\n",
        "Within a real company, analytics users would likely have a different role than SYSADMIN. To keep the lab simple, we are going to stay with the SYSADMIN role for this section.\n",
        "Additionally, querying would typically be done with a business intelligence product like Tableau, Looker, PowerBI, etc. For more advanced analytics, data science tools like Datarobot, Dataiku, AWS Sagemaker or many others can query Snowflake. Any technology that leverages JDBC/ODBC, Spark, Python, or any of the other supported programmatic interfaces can run analytics on the data in Snowflake. To keep this lab simple, all queries are being executed via the Snowflake worksheet.\n",
        "\n",
        "### Execute Some Queries\n",
        "\n",
        "Change the warehouse to use the new warehouse you created in the last section. "
      ]
    },
    {
      "cell_type": "code",
      "execution_count": null,
      "id": "3ce7922d-296c-4407-aaa6-cc136db6cbfe",
      "metadata": {
        "codeCollapsed": false,
        "collapsed": false,
        "language": "sql",
        "name": "cell43"
      },
      "outputs": [],
      "source": [
        "USE WAREHOUSE ANALYTICS_WH;\n",
        "USE ROLE SYSADMIN;\n",
        "USE DATABASE CITIBIKE_TUTORIAL;"
      ]
    },
    {
      "cell_type": "markdown",
      "id": "60606e5a-51fe-42ae-b51d-8beacb85c210",
      "metadata": {
        "name": "cell44"
      },
      "source": [
        "Run the following query to see a sample of the `trips` data:\n"
      ]
    },
    {
      "cell_type": "code",
      "execution_count": null,
      "id": "0efafa53-b4c1-4ed1-813b-ed9e008df274",
      "metadata": {
        "language": "sql",
        "name": "cell45"
      },
      "outputs": [],
      "source": [
        "select * from trips limit 20;"
      ]
    },
    {
      "cell_type": "markdown",
      "id": "0dc0752c-aff1-4ad3-895a-f54b184e6fae",
      "metadata": {
        "collapsed": false,
        "name": "cell46"
      },
      "source": [
        "Now, let's look at some basic hourly statistics on Citi Bike usage. Run the query below in the worksheet. For each hour, it shows the number of trips, average trip duration, and average trip distance."
      ]
    },
    {
      "cell_type": "code",
      "execution_count": null,
      "id": "4d32c201-42db-47cf-a6a0-9eee65b604f7",
      "metadata": {
        "codeCollapsed": false,
        "collapsed": false,
        "language": "sql",
        "name": "cell47"
      },
      "outputs": [],
      "source": [
        "select date_trunc('hour', starttime) as \"date\",\n",
        "count(*) as \"num trips\",\n",
        "avg(tripduration)/60 as \"avg duration (mins)\",\n",
        "avg(haversine(start_station_latitude, start_station_longitude, end_station_latitude, end_station_longitude)) as \"avg distance (km)\"\n",
        "from trips\n",
        "group by 1 order by 1;"
      ]
    },
    {
      "cell_type": "markdown",
      "id": "6f99383b-e9ad-48fa-8b94-b890b4db198b",
      "metadata": {
        "name": "cell48"
      },
      "source": [
        "### Use the Result Cache\n",
        "\n",
        "Snowflake has a result cache that holds the results of every query executed in the past 24 hours. These are available across warehouses, so query results returned to one user are available to any other user on the system who executes the same query, provided the underlying data has not changed. Not only do these repeated queries return extremely fast, but they also use no compute credits.\n",
        "\n",
        "Let's see the result cache in action by running the exact same query again.\n"
      ]
    },
    {
      "cell_type": "code",
      "execution_count": null,
      "id": "afe399be-447a-42ce-a203-cc0e37276c3b",
      "metadata": {
        "collapsed": false,
        "language": "sql",
        "name": "cell49"
      },
      "outputs": [],
      "source": [
        "select date_trunc('hour', starttime) as \"date\",\n",
        "count(*) as \"num trips\",\n",
        "avg(tripduration)/60 as \"avg duration (mins)\",\n",
        "avg(haversine(start_station_latitude, start_station_longitude, end_station_latitude, end_station_longitude)) as \"avg distance (km)\"\n",
        "from trips\n",
        "group by 1 order by 1;"
      ]
    },
    {
      "cell_type": "markdown",
      "id": "dd7847c1-b5c5-4266-b3a5-0bb90b0655d8",
      "metadata": {
        "collapsed": false,
        "name": "cell50"
      },
      "source": [
        "In the query runtime displayed on the top right of the cell, note that the second query runs significantly faster because the results have been cached."
      ]
    },
    {
      "cell_type": "markdown",
      "id": "3efb94a9-7f04-4fbb-a8d4-679d051f19f9",
      "metadata": {
        "collapsed": false,
        "name": "cell51"
      },
      "source": [
        "### Execute Another Query\n",
        "\n",
        "Next, let's run the following query to see which months are the busiest:\n"
      ]
    },
    {
      "cell_type": "code",
      "execution_count": null,
      "id": "13d8d204-2094-48b1-85a6-41bd58acce73",
      "metadata": {
        "codeCollapsed": false,
        "collapsed": false,
        "language": "sql",
        "name": "cell52"
      },
      "outputs": [],
      "source": [
        "select\n",
        "monthname(starttime) as \"month\",\n",
        "count(*) as \"num trips\"\n",
        "from trips\n",
        "group by 1 order by 2 desc;"
      ]
    },
    {
      "cell_type": "markdown",
      "id": "5a4e83dd-b12c-483b-967d-1270ba37ffec",
      "metadata": {
        "collapsed": false,
        "name": "cell53"
      },
      "source": [
        "### Clone a Table\n",
        "\n",
        "Snowflake allows you to create clones, also known as \"zero-copy clones\" of tables, schemas, and databases in seconds. When a clone is created, Snowflake takes a snapshot of data present in the source object and makes it available to the cloned object. The cloned object is writable and independent of the clone source. Therefore, changes made to either the source object or the clone object are not included in the other.\n",
        "\n",
        "A popular use case for zero-copy cloning is to clone a production environment for use by Development & Testing teams to test and experiment without adversely impacting the production environment and eliminating the need to set up and manage two separate environments.\n",
        "\n",
        "> \n",
        "> \n",
        ">  **Zero-Copy Cloning**\n",
        "A massive benefit of zero-copy cloning is that the underlying data is not copied. Only the metadata and pointers to the underlying data change. Hence, clones are \u201czero-copy\" and storage requirements are not doubled when the data is cloned. Most data warehouses cannot do this, but for Snowflake it is easy!\n",
        "\n",
        "Run the following command in the worksheet to create a development (dev) table clone of the `trips` table:\n"
      ]
    },
    {
      "cell_type": "code",
      "execution_count": null,
      "id": "c5c39b8a-1f7d-4412-aec9-f2c05fde3828",
      "metadata": {
        "collapsed": false,
        "language": "sql",
        "name": "cell54"
      },
      "outputs": [],
      "source": [
        "create table trips_dev clone trips;"
      ]
    },
    {
      "cell_type": "markdown",
      "id": "3fc9d685-a06e-4efc-bde9-63efe2f67d9e",
      "metadata": {
        "name": "cell55"
      },
      "source": [
        "Navigate to the TRIPS_DEV table on the Object Explorer on the left pane. Click the three dots (**...**) in the left pane and select **Refresh**. Expand the object tree under the `CITIBIKE_TUTORIAL` database and verify that you see a new table named `trips_dev`. Your Development team now can do whatever they want with this table, including updating or deleting it, without impacting the `trips` table or any other object."
      ]
    },
    {
      "cell_type": "code",
      "execution_count": null,
      "id": "b6a63186-de9d-4f35-87c3-36422b49c986",
      "metadata": {
        "codeCollapsed": false,
        "language": "python",
        "name": "cell56"
      },
      "outputs": [],
      "source": [
        "st.image(\"https://quickstarts.snowflake.com/guide/getting_started_with_snowflake/img/adae9f4ec4cec092.png\",width=500)"
      ]
    },
    {
      "cell_type": "markdown",
      "id": "1a42fbd0-1aff-49c0-aa74-68878942586f",
      "metadata": {
        "name": "cell57"
      },
      "source": [
        "## Working with Semi-Structured Data, Views, & Joins\n",
        "\n",
        "> \n",
        "> \n",
        ">  This section requires loading additional data and, therefore, provides a review of data loading while also introducing loading semi-structured data.\n",
        "\n",
        "Going back to the lab's example, the Citi Bike analytics team wants to determine how weather impacts ride counts. To do this, in this section, we will:\n",
        "\n",
        "- Load weather data in semi-structured JSON format held in a public S3 bucket.\n",
        "- Create a view and query the JSON data using SQL dot notation.\n",
        "- Run a query that joins the JSON data to the previously loaded `TRIPS` data.\n",
        "- Analyze the weather and ride count data to determine their relationship.\n",
        "\n",
        "The JSON data consists of weather information provided by *MeteoStat* detailing the historical conditions of New York City from 2016-07-05 to 2019-06-25. It is also staged on AWS S3 where the data consists of 75k rows, 36 objects, and 1.1MB compressed. If viewed in a text editor, the raw JSON in the GZ files looks like:\n"
      ]
    },
    {
      "cell_type": "code",
      "execution_count": null,
      "id": "03b20a70-bbc4-486b-adc7-a13efe85afc8",
      "metadata": {
        "language": "python",
        "name": "cell58"
      },
      "outputs": [],
      "source": [
        "import streamlit as st\n",
        "st.image(\"https://quickstarts.snowflake.com/guide/getting_started_with_snowflake/img/c025f1200b524e26.png\",width=1000)"
      ]
    },
    {
      "cell_type": "markdown",
      "id": "edf7f1be-c21a-4cfd-9a2b-fc2f5ea1e697",
      "metadata": {
        "collapsed": false,
        "name": "cell59"
      },
      "source": [
        "> \n",
        "> \n",
        ">  **SEMI-STRUCTURED DATA**\n",
        "Snowflake can easily load and query semi-structured data such as JSON, Parquet, or Avro without transformation. This is a key Snowflake feature because an increasing amount of business-relevant data being generated today is semi-structured, and many traditional data warehouses cannot easily load and query such data. Snowflake makes it easy!\n",
        "\n",
        "### Create a New Database and Table for the Data\n",
        "\n",
        "First, in the worksheet, let's create a database named `WEATHER` to use for storing the semi-structured JSON data.\n"
      ]
    },
    {
      "cell_type": "code",
      "execution_count": null,
      "id": "584fab40-21f7-42ac-8bc5-7606d42cf06d",
      "metadata": {
        "codeCollapsed": false,
        "collapsed": false,
        "language": "sql",
        "name": "cell60"
      },
      "outputs": [],
      "source": [
        "CREATE DATABASE IF NOT EXISTS weather;"
      ]
    },
    {
      "cell_type": "markdown",
      "id": "6f385fa7-8fc6-4940-b2c1-222441099bd2",
      "metadata": {
        "collapsed": false,
        "name": "cell61"
      },
      "source": [
        "Execute the following USE commands to set the worksheet context appropriately:"
      ]
    },
    {
      "cell_type": "code",
      "execution_count": null,
      "id": "24872eff-670f-4b58-87d9-87c3ed8cec5b",
      "metadata": {
        "codeCollapsed": false,
        "language": "sql",
        "name": "cell62"
      },
      "outputs": [],
      "source": [
        "use role sysadmin;\n",
        "\n",
        "use warehouse compute_wh;\n",
        "\n",
        "use database weather;\n",
        "\n",
        "use schema public;"
      ]
    },
    {
      "cell_type": "markdown",
      "id": "e67f0256-0ee8-46d6-b272-9bf0f69297ce",
      "metadata": {
        "collapsed": false,
        "name": "cell63"
      },
      "source": [
        "Next, let's create a table named `JSON_WEATHER_DATA` to use for loading the JSON data. In the worksheet, execute the following CREATE TABLE command:"
      ]
    },
    {
      "cell_type": "code",
      "execution_count": null,
      "id": "77c938e2-2dab-4c19-8328-2a6956829c52",
      "metadata": {
        "codeCollapsed": false,
        "collapsed": false,
        "language": "sql",
        "name": "cell64"
      },
      "outputs": [],
      "source": [
        "create table if not exists weather.public.json_weather_data (v variant);"
      ]
    },
    {
      "cell_type": "markdown",
      "id": "e4a0c52a-3de2-4100-9979-098ca809862d",
      "metadata": {
        "collapsed": false,
        "name": "cell65"
      },
      "source": [
        "Note that Snowflake has a special column data type called `VARIANT` that allows storing the entire JSON object as a single row and eventually query the object directly.\n",
        "\n",
        "> aside negative\n",
        "> \n",
        ">  **Semi-Structured Data Magic**\n",
        "The VARIANT data type allows Snowflake to ingest semi-structured data without having to predefine the schema.\n",
        "\n",
        "In the results table, verify that your table, `JSON_WEATHER_DATA`, was created.\n",
        "\n",
        "\n",
        "### Create Another External Stage\n",
        "\n",
        "Use the following command to create a stage that points to the bucket where the semi-structured JSON data is stored on AWS S3:"
      ]
    },
    {
      "cell_type": "code",
      "execution_count": null,
      "id": "51064129-8259-4c9d-ba23-05a2cb3d1de4",
      "metadata": {
        "codeCollapsed": false,
        "collapsed": false,
        "language": "sql",
        "name": "cell66"
      },
      "outputs": [],
      "source": [
        "create stage if not exists weather.public.nyc_weather\n",
        "url = 's3://snowflake-workshop-lab/zero-weather-nyc';"
      ]
    },
    {
      "cell_type": "markdown",
      "id": "b00e6708-a251-4b37-9a46-537bda2f864a",
      "metadata": {
        "collapsed": false,
        "name": "cell67"
      },
      "source": [
        "Now let's take a look at the contents of the `nyc_weather` stage. Execute the following LIST command to display the list of files:"
      ]
    },
    {
      "cell_type": "code",
      "execution_count": null,
      "id": "a2690f9e-d734-4720-8ee9-45dadb47382c",
      "metadata": {
        "codeCollapsed": false,
        "collapsed": false,
        "language": "sql",
        "name": "cell68"
      },
      "outputs": [],
      "source": [
        "list @weather.public.nyc_weather;"
      ]
    },
    {
      "cell_type": "markdown",
      "id": "0365edb7-40d3-4721-b2ba-d76eee0436df",
      "metadata": {
        "collapsed": false,
        "name": "cell69"
      },
      "source": [
        "In the results table, you should see a list of `.gz` files from S3.\n",
        "\n",
        "### Load and Verify the Semi-structured Data\n",
        "\n",
        "In this section, we will use a warehouse to load the data from the S3 bucket into the `JSON_WEATHER_DATA` table we created earlier.\n",
        "\n",
        "In the following cell, execute the COPY command below to load the data.\n",
        "\n",
        "Note that you can specify a `FILE FORMAT` object inline in the command. In the previous section where we loaded structured data in CSV format, we had to define a file format to support t\"he CSV structure. Because the JSON data here is well-formed, we are able to simply specify the JSON type and use all the default settings:\n"
      ]
    },
    {
      "cell_type": "code",
      "execution_count": null,
      "id": "88aea2e1-6e13-4371-873a-399c86812875",
      "metadata": {
        "codeCollapsed": false,
        "collapsed": false,
        "language": "sql",
        "name": "cell70"
      },
      "outputs": [],
      "source": [
        "copy into weather.public.json_weather_data\n",
        "from @weather.public.nyc_weather \n",
        "    file_format = (type = json strip_outer_array = true);"
      ]
    },
    {
      "cell_type": "markdown",
      "id": "07d5442c-3de4-406f-a5b7-5175b79371b3",
      "metadata": {
        "collapsed": false,
        "name": "cell71"
      },
      "source": [
        "Verify that each file has a status of `LOADED`.\n",
        "\n",
        "\n",
        "Now, let's take a look at the data that was loaded:"
      ]
    },
    {
      "cell_type": "code",
      "execution_count": null,
      "id": "4101b006-ba32-4dd5-a719-cbb76aaebfcd",
      "metadata": {
        "codeCollapsed": false,
        "collapsed": false,
        "language": "sql",
        "name": "cell72"
      },
      "outputs": [],
      "source": [
        "select * from weather.public.json_weather_data limit 10;"
      ]
    },
    {
      "cell_type": "markdown",
      "id": "b34a8247-6c77-459a-b18d-decf897b26c6",
      "metadata": {
        "collapsed": false,
        "name": "cell73"
      },
      "source": [
        "Click any of the rows to display the formatted JSON string."
      ]
    },
    {
      "cell_type": "markdown",
      "id": "359d4d57-9d3b-4586-9630-4318e8a03b0f",
      "metadata": {
        "collapsed": false,
        "name": "cell74"
      },
      "source": [
        "\n",
        "### Create a View and Query Semi-Structured Data\n",
        "\n",
        "Next, let's look at how Snowflake allows us to create a view and also query the JSON data directly using SQL.\n",
        "\n",
        "> \n",
        ">  **Views & Materialized Views**\n",
        "A view allows the result of a query to be accessed as if it were a table. Views can help present data to end users in a cleaner manner, limit what end users can view in a source table, and write more modular SQL.\n",
        "Snowflake also supports materialized views in which the query results are stored as though the results are a table. This allows faster access, but requires storage space. Materialized views can be created and queried if you are using Snowflake Enterprise Edition (or higher).\n",
        "\n",
        "Run the following command to create a columnar view of the semi-structured JSON weather data so it is easier for analysts to understand and query. The ``72502`` value for ``station_id`` corresponds to Newark Airport, the closest station that has weather conditions for the whole period.\n"
      ]
    },
    {
      "cell_type": "code",
      "execution_count": null,
      "id": "1831b19f-c173-4655-b961-679d8ea28997",
      "metadata": {
        "codeCollapsed": false,
        "collapsed": false,
        "language": "sql",
        "name": "cell75"
      },
      "outputs": [],
      "source": [
        "create or replace view weather.public.json_weather_data_view as\n",
        "select\n",
        "    v:obsTime::timestamp as observation_time,\n",
        "    v:station::string as station_id,\n",
        "    v:name::string as city_name,\n",
        "    v:country::string as country,\n",
        "    v:latitude::float as city_lat,\n",
        "    v:longitude::float as city_lon,\n",
        "    v:weatherCondition::string as weather_conditions,\n",
        "    v:coco::int as weather_conditions_code,\n",
        "    v:temp::float as temp,\n",
        "    v:prcp::float as rain,\n",
        "    v:tsun::float as tsun,\n",
        "    v:wdir::float as wind_dir,\n",
        "    v:wspd::float as wind_speed,\n",
        "    v:dwpt::float as dew_point,\n",
        "    v:rhum::float as relative_humidity,\n",
        "    v:pres::float as pressure\n",
        "from\n",
        "    weather.public.json_weather_data\n",
        "where\n",
        "    station_id = '72502';"
      ]
    },
    {
      "cell_type": "markdown",
      "id": "5f6862b5-b5c1-4e8d-ac21-2b287deaf992",
      "metadata": {
        "collapsed": false,
        "name": "cell76"
      },
      "source": [
        "\n",
        "SQL dot notation `v:temp` is used in this command to pull out values at lower levels within the JSON object hierarchy. This allows us to treat each field as if it were a column in a relational table.\n",
        "\n",
        "The new view should appear as `JSON_WEATHER_DATA` under `WEATHER` > `PUBLIC` > **Views** in the object browser on the left. You may need to expand or refresh the objects browser in order to see it.\n",
        "\n",
        "Verify the view with the following query: \n"
      ]
    },
    {
      "cell_type": "code",
      "execution_count": null,
      "id": "a3990df8-8ce0-41ca-8443-cc0f6ca22088",
      "metadata": {
        "codeCollapsed": false,
        "collapsed": false,
        "language": "sql",
        "name": "cell77"
      },
      "outputs": [],
      "source": [
        "select * from weather.public.json_weather_data_view\n",
        "where date_trunc('month',observation_time) = '2018-01-01'\n",
        "limit 20;"
      ]
    },
    {
      "cell_type": "markdown",
      "id": "18f81185-85c5-4fd5-8d33-50e4ea0d93d1",
      "metadata": {
        "collapsed": false,
        "name": "cell78"
      },
      "source": [
        "Notice the results look just like a regular structured data source."
      ]
    },
    {
      "cell_type": "markdown",
      "id": "4d3a28fc-dfa5-4670-95bc-016558fbd12e",
      "metadata": {
        "collapsed": false,
        "name": "cell79"
      },
      "source": [
        "### Use a Join Operation to Correlate Against Data Sets\n",
        "\n",
        "We will now join the JSON weather data to our `CITIBIKE_TUTORIAL.PUBLIC.TRIPS` data to answer our original question of how weather impacts the number of rides.\n",
        "\n",
        "Run the query below to join `WEATHER` to `TRIPS` and count the number of trips associated with certain weather conditions:\n",
        "\n",
        "> \n",
        ">  Because we are still in the worksheet, the `WEATHER` database is still in use. You must, therefore, fully qualify the reference to the `TRIPS` table by providing its database and schema name."
      ]
    },
    {
      "cell_type": "code",
      "execution_count": null,
      "id": "6c3e7052-446e-415a-8de7-ba6683b40084",
      "metadata": {
        "codeCollapsed": false,
        "collapsed": false,
        "language": "sql",
        "name": "cell80"
      },
      "outputs": [],
      "source": [
        "select weather_conditions as conditions\n",
        ",count(*) as num_trips\n",
        "from CITIBIKE_TUTORIAL.public.trips\n",
        "left outer join weather.public.json_weather_data_view\n",
        "on date_trunc('hour', observation_time) = date_trunc('hour', starttime)\n",
        "where conditions is not null\n",
        "group by 1 order by 2 desc;"
      ]
    },
    {
      "cell_type": "markdown",
      "id": "7fe6ac43-7b6d-449b-94a6-742d1ebf885d",
      "metadata": {
        "collapsed": false,
        "name": "cell81"
      },
      "source": [
        "Note that we can export the result from this SQL query by referencing the cell name directly and calling `to_pandas` to get the dataframe."
      ]
    },
    {
      "cell_type": "code",
      "execution_count": null,
      "id": "018da141-d3f5-49b2-be94-0418481948fb",
      "metadata": {
        "codeCollapsed": false,
        "collapsed": false,
        "language": "python",
        "name": "cell82"
      },
      "outputs": [],
      "source": [
        "df = cell80.to_pandas()\n",
        "df"
      ]
    },
    {
      "cell_type": "markdown",
      "id": "afffce44-6fbb-497f-b042-6b655e1dfac1",
      "metadata": {
        "collapsed": false,
        "name": "cell83"
      },
      "source": [
        "Then, we can plot the results with Altair. "
      ]
    },
    {
      "cell_type": "code",
      "execution_count": null,
      "id": "af675120-efea-4191-8959-b964677fe572",
      "metadata": {
        "codeCollapsed": false,
        "collapsed": false,
        "language": "python",
        "name": "cell84"
      },
      "outputs": [],
      "source": [
        "import altair as alt\n",
        "alt.Chart(df).mark_bar().encode(\n",
        "    x=alt.X('CONDITIONS',sort ='-y'),\n",
        "    y=alt.Y('NUM_TRIPS')\n",
        ")"
      ]
    },
    {
      "cell_type": "markdown",
      "id": "04af1bf5-736e-4e3c-849c-10a3d04096dd",
      "metadata": {
        "collapsed": false,
        "name": "cell85"
      },
      "source": [
        "The initial goal was to determine if there was any correlation between the number of bike rides and the weather by analyzing both ridership and weather data. Per the results above we have a clear answer. As one would imagine, the number of trips is significantly higher when the weather is good!"
      ]
    },
    {
      "cell_type": "markdown",
      "id": "70c6db06-e163-427e-b3b0-73cec07aab2d",
      "metadata": {
        "collapsed": false,
        "name": "cell86"
      },
      "source": [
        "\n",
        "## Using Time Travel\n",
        "\n",
        "Snowflake's powerful Time Travel feature enables accessing historical data, as well as the objects storing the data, at any point within a period of time. The default window is 24 hours and, if you are using Snowflake Enterprise Edition,   can be increased up to 90 days. Most data warehouses cannot offer this functionality, but - you guessed it - Snowflake makes it easy!\n",
        "\n",
        "Some useful applications include:\n",
        "\n",
        "- Restoring data-related objects such as tables, schemas, and databases that may have been deleted.\n",
        "- Duplicating and backing up data from key points in the past.\n",
        "- Analyzing data usage and manipulation over specified periods of time.\n",
        "\n",
        "### Drop and Undrop a Table\n",
        "\n",
        "First let's see how we can restore data objects that have been accidentally or intentionally deleted.\n"
      ]
    },
    {
      "cell_type": "code",
      "execution_count": null,
      "id": "a0c31d06-3cc8-45dc-a289-6ae8d12649d5",
      "metadata": {
        "codeCollapsed": false,
        "collapsed": false,
        "language": "sql",
        "name": "cell87"
      },
      "outputs": [],
      "source": [
        "drop table weather.public.json_weather_data;"
      ]
    },
    {
      "cell_type": "markdown",
      "id": "da660c58-348f-4c38-8c21-526dccfbabf6",
      "metadata": {
        "collapsed": false,
        "name": "cell88"
      },
      "source": [
        "You should see an error because the underlying table has been dropped."
      ]
    },
    {
      "cell_type": "code",
      "execution_count": null,
      "id": "a81519ec-0aa3-4c9a-94f6-ee987f9de85e",
      "metadata": {
        "codeCollapsed": false,
        "collapsed": false,
        "language": "sql",
        "name": "cell89"
      },
      "outputs": [],
      "source": [
        "select * from json_weather_data limit 10;"
      ]
    },
    {
      "cell_type": "markdown",
      "id": "396ec4e0-2a2d-4e17-ac1e-7cec7dae2d64",
      "metadata": {
        "collapsed": false,
        "name": "cell90"
      },
      "source": [
        "Now, restore the table:"
      ]
    },
    {
      "cell_type": "code",
      "execution_count": null,
      "id": "ece59fa5-a3a2-467e-8cae-ccb3233f9734",
      "metadata": {
        "codeCollapsed": false,
        "collapsed": false,
        "language": "sql",
        "name": "cell91"
      },
      "outputs": [],
      "source": [
        "undrop table weather.public.json_weather_data;"
      ]
    },
    {
      "cell_type": "markdown",
      "id": "546ba6e2-af6e-40e7-b646-effc855d45bf",
      "metadata": {
        "collapsed": false,
        "name": "cell92"
      },
      "source": [
        "\n",
        "The json_weather_data table should be restored. Verify by running the following query:"
      ]
    },
    {
      "cell_type": "code",
      "execution_count": null,
      "id": "d95a75d8-b3aa-49b2-855b-de7d0eaab288",
      "metadata": {
        "codeCollapsed": false,
        "collapsed": false,
        "language": "sql",
        "name": "cell93"
      },
      "outputs": [],
      "source": [
        "select * from weather.public.json_weather_data limit 10;"
      ]
    },
    {
      "cell_type": "markdown",
      "id": "a205543d-135d-4f7f-b736-93bcdbfdb2f0",
      "metadata": {
        "collapsed": false,
        "name": "cell94"
      },
      "source": [
        "### Roll Back a Table\n",
        "\n",
        "Let's roll back the `TRIPS` table in the `CITIBIKE` database to a previous state to fix an unintentional DML error that replaces all the station names in the table with the word \"oops\".\n",
        "\n",
        "Run the following command to replace all of the station names in the table with the word \"oops\":"
      ]
    },
    {
      "cell_type": "code",
      "execution_count": null,
      "id": "6d25bc25-4425-4285-b847-c49bdb05dedb",
      "metadata": {
        "codeCollapsed": false,
        "language": "sql",
        "name": "cell95"
      },
      "outputs": [],
      "source": [
        "use role sysadmin;\n",
        "\n",
        "use warehouse compute_wh;\n",
        "\n",
        "use database CITIBIKE_TUTORIAL;\n",
        "\n",
        "use schema public;"
      ]
    },
    {
      "cell_type": "code",
      "execution_count": null,
      "id": "31bd5d29-dda4-483d-989e-7d39b9632738",
      "metadata": {
        "codeCollapsed": false,
        "collapsed": false,
        "language": "sql",
        "name": "cell96"
      },
      "outputs": [],
      "source": [
        "update CITIBIKE_TUTORIAL.public.trips set start_station_name = 'oops';"
      ]
    },
    {
      "cell_type": "markdown",
      "id": "5fa982e7-b079-46d5-a4d4-1cd5a1cbc7e0",
      "metadata": {
        "collapsed": false,
        "name": "cell97"
      },
      "source": [
        "Now, run a query that returns the top 20 stations by number of rides. Notice that the station names result contains only one row:"
      ]
    },
    {
      "cell_type": "code",
      "execution_count": null,
      "id": "747fe9a8-1e1d-4ce4-9d81-6ba41817e202",
      "metadata": {
        "codeCollapsed": false,
        "collapsed": false,
        "language": "sql",
        "name": "cell98"
      },
      "outputs": [],
      "source": [
        "select\n",
        "start_station_name as \"station\",\n",
        "count(*) as \"rides\"\n",
        "from CITIBIKE_TUTORIAL.public.trips\n",
        "group by 1\n",
        "order by 2 desc\n",
        "limit 20;"
      ]
    },
    {
      "cell_type": "markdown",
      "id": "815dde87-c4b0-4ec6-9dfa-d484cdd2fb97",
      "metadata": {
        "collapsed": false,
        "name": "cell99"
      },
      "source": [
        "Normally we would need to scramble and hope we have a backup lying around.\n",
        "\n",
        "In Snowflake, we can simply run a command to find the query ID of the last UPDATE command and store it in a variable named `$QUERY_ID`."
      ]
    },
    {
      "cell_type": "code",
      "execution_count": null,
      "id": "a7d7e298-9ec5-4abd-b36c-6f8b23d22764",
      "metadata": {
        "codeCollapsed": false,
        "collapsed": false,
        "language": "sql",
        "name": "cell100"
      },
      "outputs": [],
      "source": [
        "set query_id = (select query_id from table(information_schema.query_history_by_session (result_limit=>25)) where query_text like 'update%' order by start_time desc limit 1);"
      ]
    },
    {
      "cell_type": "code",
      "execution_count": null,
      "id": "2ac94846-60a9-4c9d-8cf2-838c7c82a17c",
      "metadata": {
        "codeCollapsed": false,
        "language": "sql",
        "name": "cell101"
      },
      "outputs": [],
      "source": [
        "SELECT $query_id;"
      ]
    },
    {
      "cell_type": "markdown",
      "id": "88fbff4a-c6b6-482a-b56d-f75367ac61d2",
      "metadata": {
        "collapsed": false,
        "name": "cell102"
      },
      "source": [
        "Use Time Travel to recreate the table with the correct station names:"
      ]
    },
    {
      "cell_type": "code",
      "execution_count": null,
      "id": "66a22d86-3e1f-4827-a64d-4976dbf8c416",
      "metadata": {
        "codeCollapsed": false,
        "collapsed": false,
        "language": "sql",
        "name": "cell103"
      },
      "outputs": [],
      "source": [
        "create or replace table CITIBIKE_TUTORIAL.public.trips as\n",
        "(select * from CITIBIKE_TUTORIAL.public.trips before (statement => $query_id));"
      ]
    },
    {
      "cell_type": "markdown",
      "id": "9f1b6a1c-4a66-4613-aa25-c2429e0860a9",
      "metadata": {
        "name": "cell104"
      },
      "source": [
        "\n",
        "\n",
        "Run the previous query again to verify that the station names have been restored:\n"
      ]
    },
    {
      "cell_type": "code",
      "execution_count": null,
      "id": "574171c9-9420-4cc3-b376-0d1cd57b328b",
      "metadata": {
        "codeCollapsed": false,
        "collapsed": false,
        "language": "sql",
        "name": "cell105"
      },
      "outputs": [],
      "source": [
        "select\n",
        "start_station_name as \"station\",\n",
        "count(*) as \"rides\"\n",
        "from CITIBIKE_TUTORIAL.public.trips\n",
        "group by 1\n",
        "order by 2 desc\n",
        "limit 20;"
      ]
    },
    {
      "cell_type": "markdown",
      "id": "75780aa7-89b9-4212-bc74-20875ce4f154",
      "metadata": {
        "collapsed": false,
        "name": "cell106"
      },
      "source": [
        "For the last two sections, we recommend following along the quickstarts for the UI walkthrough instructions: \n",
        "- [Working with Roles, Account Admin, & Account Usage](https://quickstarts.snowflake.com/guide/getting_started_with_snowflake/index.html#8)\n",
        "- [Sharing Data Securely & the Data Marketplace](https://quickstarts.snowflake.com/guide/getting_started_with_snowflake/index.html#9)"
      ]
    },
    {
      "cell_type": "markdown",
      "id": "af3f8c50-426c-4359-a031-4f51af7743df",
      "metadata": {
        "collapsed": false,
        "name": "cell107"
      },
      "source": [
        "## Resetting Your Snowflake Environment\n",
        "\n",
        "If you would like to reset your environment by deleting all the objects created as part of this lab, run the SQL statements in a worksheet.\n",
        "\n",
        "First, ensure you are using the ACCOUNTADMIN role:\n"
      ]
    },
    {
      "cell_type": "code",
      "execution_count": null,
      "id": "e4ef528b-024b-463c-a039-272edb352d0c",
      "metadata": {
        "codeCollapsed": false,
        "collapsed": false,
        "language": "sql",
        "name": "cell108"
      },
      "outputs": [],
      "source": [
        "use role accountadmin;"
      ]
    },
    {
      "cell_type": "markdown",
      "id": "ac11adab-f694-4a83-97da-d9ec13ef0cea",
      "metadata": {
        "collapsed": false,
        "name": "cell109"
      },
      "source": [
        "Then, run the following SQL commands to drop all the objects we created in the lab:\n"
      ]
    },
    {
      "cell_type": "code",
      "execution_count": null,
      "id": "741a2fff-1ff9-4005-8237-bf6a242df826",
      "metadata": {
        "codeCollapsed": false,
        "collapsed": false,
        "language": "sql",
        "name": "cell110"
      },
      "outputs": [],
      "source": [
        "drop database if exists CITIBIKE_TUTORIAL;\n",
        "drop database if exists weather;\n",
        "drop warehouse if exists analytics_wh;"
      ]
    },
    {
      "cell_type": "markdown",
      "id": "bc8bb914-dc5b-47c3-80fe-24818acc3738",
      "metadata": {
        "collapsed": false,
        "name": "cell111"
      },
      "source": [
        "## Conclusion & Next Steps\n",
        "\n",
        "Congratulations on completing this introductory lab exercise! You've mastered the Snowflake basics and are ready to apply these fundamentals to your own data. Be sure to reference this guide if you ever need a refresher.\n",
        "\n",
        "We encourage you to continue with your free trial by loading your own sample or production data and by using some of the more advanced capabilities of Snowflake not covered in this lab.\n",
        "\n",
        "### Additional Resources:\n",
        "\n",
        "- Learn more about the [Snowsight](https://docs.snowflake.com/en/user-guide/ui-snowsight.html#using-snowsight) docs.\n",
        "- Read the [Definitive Guide to Maximizing Your Free Trial](https://www.snowflake.com/test-driving-snowflake-the-definitive-guide-to-maximizing-your-free-trial/) document.\n",
        "- Attend a [Snowflake virtual or in-person event](https://www.snowflake.com/about/events/) to learn more about our capabilities and customers.\n",
        "- Join the [Snowflake Community](https://community.snowflake.com/s/topic/0TO0Z000000wmFQWAY/getting-started-with-snowflake).\n",
        "- Sign up for [Snowflake University](https://community.snowflake.com/s/article/Getting-Access-to-Snowflake-University).\n",
        "- Contact our [Sales Team](https://www.snowflake.com/free-trial-contact-sales/) to learn more.\n",
        "\n",
        "### What we've covered:\n",
        "\n",
        "- How to create stages, databases, tables, views, and virtual warehouses.\n",
        "- How to load structured and semi-structured data.\n",
        "- How to perform analytical queries on data in Snowflake, including joins between tables.\n",
        "- How to clone objects.\n",
        "- How to undo user errors using Time Travel.\n",
        "- How to create roles and users, and grant them privileges.\n",
        "- How to securely and easily share data with other accounts.\n",
        "- How to consume datasets in the Snowflake Data Marketplace."
      ]
    }
  ],
  "metadata": {
    "kernelspec": {
      "display_name": "Streamlit Notebook",
      "name": "streamlit"
    }
  },
  "nbformat": 4,
  "nbformat_minor": 5
}