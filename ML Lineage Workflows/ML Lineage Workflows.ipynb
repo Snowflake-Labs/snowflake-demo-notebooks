{
 "cells": [
  {
   "cell_type": "markdown",
   "id": "0bb54abc",
   "metadata": {},
   "source": [
    "- **Required Versions**:\n",
    "  - Snowflake: 8.27 or higher and Enterprise Edition or higher \n",
    "  - Snowflake ML Python: **1.6.0** or higher\n",
    "  - Snowpark Python: **1.21.0** or higher\n",
    "\n",
    "- **Last Updated**: 8/1/2024"
   ]
  },
  {
   "cell_type": "markdown",
   "id": "aeae3429",
   "metadata": {},
   "source": [
    "# ML Lineage workflows {-}\n",
    "\n",
    "This notebook showcases various machine learning workflows, delving into the lineage of each process. It highlights essential features of Snowflake's ML, including [Snowflake Feature Store](https://docs.snowflake.com/en/developer-guide/snowpark-ml/feature-store/overview), [Dataset](https://docs.snowflake.com/en/developer-guide/snowpark-ml/dataset), ML Lineage, [Snowpark ML Modeling](https://docs.snowflake.com/en/developer-guide/snowpark-ml/modeling) and [Snowflake Model Registry](https://docs.snowflake.com/en/developer-guide/snowpark-ml/model-registry/overview). \n",
    "\n",
    "\n",
    "**Table of contents**\n",
    "\n",
    "1. [Set up environment](#set-up-environment)  \n",
    "   1.1. [Connect to Snowflake](#connect-to-snowflake)  \n",
    "   1.2. [Select your example](#select-your-example)  \n",
    "\n",
    "2. [Feature View Lineage](#feature-view-lineage)  \n",
    "\n",
    "3. [Training Data Lineage](#training-data-lineage)  \n",
    "   3.1. [Training data from feature views](#training-data-from-feature-views)  \n",
    "      3.1.1. [Dataset as training data](#dataset-as-training-data)  \n",
    "      3.1.2. [Tables as training data](#tables-as-training-data)  \n",
    "   3.2. [Training data from source tables](#training-data-from-source-tables)  \n",
    "      3.2.1. [Dataset from source table as training data](#dataset-from-source-table-as-training-data)  \n",
    "\n",
    "4. [Model Lineage](#model-lineage)  \n",
    "   4.1. [Model trained in Snowflake ecosystem](#model-trained-in-snowflake-ecosystem)  \n",
    "      4.1.1. [Model trained using dataset](#model-trained-using-dataset)  \n",
    "      4.1.2. [Model trained using source tables](#model-trained-using-source-tables)  \n",
    "   4.2. [Model trained in non-Snowflake ecosystem](#model-trained-in-non-snowflake-ecosystem)\n",
    "\n",
    "5. [Visualization of lineage](#visualization-of-lineage)\n",
    "\n",
    "5. [Clean up notebook](#clean-up-notebook)"
   ]
  },
  {
   "cell_type": "markdown",
   "id": "9f16e6a8",
   "metadata": {},
   "source": [
    "## 1. Set up environment {-}\n",
    "<a id='set-up-environment'></a>"
   ]
  },
  {
   "cell_type": "markdown",
   "id": "bb535ff6",
   "metadata": {},
   "source": [
    "### 1.1 Connect to Snowflake {-}\n",
    "\n",
    "Let's start with setting up our test environment. We will create a session and a schema. The schema `FS_DEMO_SCHEMA` will be used as the Feature Store. It will be cleaned up at the end of the demo. You need to fill the `connection_parameters` with your Snowflake connection information. Follow this **[guide](https://docs.snowflake.com/en/developer-guide/snowpark/python/creating-session)** for more details about how to connect to Snowflake.\n"
   ]
  },
  {
   "cell_type": "code",
   "execution_count": 1,
   "id": "d9622928",
   "metadata": {},
   "outputs": [
    {
     "name": "stdout",
     "output_type": "stream",
     "text": [
      "<snowflake.snowpark.session.Session: account=\"ax_test_qa3\", role=\"ACCOUNTADMIN\", database=\"LINEAGE_DEMO_DB\", schema=\"PUBLIC\", warehouse=\"AX_XL\">\n"
     ]
    }
   ],
   "source": [
    "from snowflake.snowpark import Session, context, exceptions\n",
    "\n",
    "try:\n",
    "    # Retrieve active session if in Snowpark Notebook\n",
    "    session = context.get_active_session()\n",
    "except exceptions.SnowparkSessionException:\n",
    "    # ACTION REQUIRED: Need to manually configure Snowflake connection if using Jupyter\n",
    "    connection_parameters = {\n",
    "        \"account\": \"<your snowflake account>\",\n",
    "        \"user\": \"<your snowflake user>\",\n",
    "        \"password\": \"<your snowflake password>\",\n",
    "        \"role\": \"<your snowflake role>\",\n",
    "        \"warehouse\": \"<your snowflake warehouse>\",\n",
    "        \"database\": \"<your snowflake database>\",\n",
    "        \"schema\": \"<your snowflake schema>\",\n",
    "    }\n",
    "\n",
    "\n",
    "    session = Session.builder.configs(connection_parameters).create()\n",
    "    print(session)\n",
    "\n",
    "assert session.get_current_database() != None, \"Session must have a database for the demo.\"\n",
    "assert session.get_current_warehouse() != None, \"Session must have a warehouse for the demo.\""
   ]
  },
  {
   "cell_type": "code",
   "execution_count": 2,
   "id": "1f38d70d-ccc2-40b9-8020-50e3ad3ff165",
   "metadata": {},
   "outputs": [
    {
     "data": {
      "text/plain": [
       "[Row(status='Schema MODEL_SCHEMA successfully created.')]"
      ]
     },
     "execution_count": 2,
     "metadata": {},
     "output_type": "execute_result"
    }
   ],
   "source": [
    "# The schema where Feature Store lives.\n",
    "FS_DEMO_SCHEMA = \"FEATURE_STORE\"\n",
    "# The schema model lives.\n",
    "MODEL_DEMO_SCHEMA = \"MODEL_SCHEMA\"\n",
    "\n",
    "# Make sure your role has CREATE SCHEMA privileges or USAGE privileges on the schema if it already exists.\n",
    "session.sql(f\"CREATE OR REPLACE SCHEMA {FS_DEMO_SCHEMA}\").collect()\n",
    "session.sql(f\"CREATE OR REPLACE SCHEMA {MODEL_DEMO_SCHEMA}\").collect()"
   ]
  },
  {
   "cell_type": "markdown",
   "id": "9b3f89f3-d84d-4226-830d-3a967499fed7",
   "metadata": {},
   "source": [
    "<a id='select-your-example'></a>\n",
    "\n",
    "### 1.2 Select your example {-}\n",
    "\n",
    "We have prepared some examples that you can find in our [open source repo](https://github.com/snowflakedb/snowflake-ml-python/tree/main/snowflake/ml/feature_store/examples). Each example contains the source dataset, feature view and entity definitions which will be used in this demo. `ExampleHelper` (included in snowflake-ml-python) will setup everything with simple APIs and you don't have to worry about the details.\n",
    "\n",
    "`load_example()` will load the source data into Snowflake tables. In the example below, we are using the “wine_quality_features” example. You can replace this with any example listed above. Execution of the cell below may take some time depending on the size of the dataset."
   ]
  },
  {
   "cell_type": "code",
   "execution_count": 3,
   "id": "2cbb04de-193c-44e1-b400-802e22eb6941",
   "metadata": {},
   "outputs": [],
   "source": [
    "from snowflake.ml.feature_store.examples.example_helper import ExampleHelper\n",
    "\n",
    "example_helper = ExampleHelper(session, session.get_current_database(), FS_DEMO_SCHEMA)\n",
    "source_tables = example_helper.load_example('wine_quality_features')"
   ]
  },
  {
   "cell_type": "code",
   "execution_count": 4,
   "id": "c5a73b0c-41dd-47f7-b7a1-1da492d23b5e",
   "metadata": {},
   "outputs": [
    {
     "data": {
      "text/html": [
       "<div>\n",
       "<style scoped>\n",
       "    .dataframe tbody tr th:only-of-type {\n",
       "        vertical-align: middle;\n",
       "    }\n",
       "\n",
       "    .dataframe tbody tr th {\n",
       "        vertical-align: top;\n",
       "    }\n",
       "\n",
       "    .dataframe thead th {\n",
       "        text-align: right;\n",
       "    }\n",
       "</style>\n",
       "<table border=\"1\" class=\"dataframe\">\n",
       "  <thead>\n",
       "    <tr style=\"text-align: right;\">\n",
       "      <th></th>\n",
       "      <th>WINE_ID</th>\n",
       "      <th>FIXED_ACIDITY</th>\n",
       "      <th>VOLATILE_ACIDITY</th>\n",
       "      <th>CITRIC_ACID</th>\n",
       "      <th>RESIDUAL_SUGAR</th>\n",
       "      <th>CHLORIDES</th>\n",
       "      <th>FREE_SULFUR_DIOXIDE</th>\n",
       "      <th>TOTAL_SULFUR_DIOXIDE</th>\n",
       "      <th>DENSITY</th>\n",
       "      <th>PH</th>\n",
       "      <th>SULPHATES</th>\n",
       "      <th>ALCOHOL</th>\n",
       "      <th>QUALITY</th>\n",
       "    </tr>\n",
       "  </thead>\n",
       "  <tbody>\n",
       "    <tr>\n",
       "      <th>0</th>\n",
       "      <td>1</td>\n",
       "      <td>7.4</td>\n",
       "      <td>0.70</td>\n",
       "      <td>0.00</td>\n",
       "      <td>1.9</td>\n",
       "      <td>0.076</td>\n",
       "      <td>11</td>\n",
       "      <td>34</td>\n",
       "      <td>0.9978</td>\n",
       "      <td>3.51</td>\n",
       "      <td>0.56</td>\n",
       "      <td>9.4</td>\n",
       "      <td>5</td>\n",
       "    </tr>\n",
       "    <tr>\n",
       "      <th>1</th>\n",
       "      <td>2</td>\n",
       "      <td>7.8</td>\n",
       "      <td>0.88</td>\n",
       "      <td>0.00</td>\n",
       "      <td>2.6</td>\n",
       "      <td>0.098</td>\n",
       "      <td>25</td>\n",
       "      <td>67</td>\n",
       "      <td>0.9968</td>\n",
       "      <td>3.20</td>\n",
       "      <td>0.68</td>\n",
       "      <td>9.8</td>\n",
       "      <td>5</td>\n",
       "    </tr>\n",
       "    <tr>\n",
       "      <th>2</th>\n",
       "      <td>3</td>\n",
       "      <td>7.8</td>\n",
       "      <td>0.76</td>\n",
       "      <td>0.04</td>\n",
       "      <td>2.3</td>\n",
       "      <td>0.092</td>\n",
       "      <td>15</td>\n",
       "      <td>54</td>\n",
       "      <td>0.9970</td>\n",
       "      <td>3.26</td>\n",
       "      <td>0.65</td>\n",
       "      <td>9.8</td>\n",
       "      <td>5</td>\n",
       "    </tr>\n",
       "    <tr>\n",
       "      <th>3</th>\n",
       "      <td>4</td>\n",
       "      <td>11.2</td>\n",
       "      <td>0.28</td>\n",
       "      <td>0.56</td>\n",
       "      <td>1.9</td>\n",
       "      <td>0.075</td>\n",
       "      <td>17</td>\n",
       "      <td>60</td>\n",
       "      <td>0.9980</td>\n",
       "      <td>3.16</td>\n",
       "      <td>0.58</td>\n",
       "      <td>9.8</td>\n",
       "      <td>6</td>\n",
       "    </tr>\n",
       "    <tr>\n",
       "      <th>4</th>\n",
       "      <td>5</td>\n",
       "      <td>7.4</td>\n",
       "      <td>0.70</td>\n",
       "      <td>0.00</td>\n",
       "      <td>1.9</td>\n",
       "      <td>0.076</td>\n",
       "      <td>11</td>\n",
       "      <td>34</td>\n",
       "      <td>0.9978</td>\n",
       "      <td>3.51</td>\n",
       "      <td>0.56</td>\n",
       "      <td>9.4</td>\n",
       "      <td>5</td>\n",
       "    </tr>\n",
       "  </tbody>\n",
       "</table>\n",
       "</div>"
      ],
      "text/plain": [
       "   WINE_ID  FIXED_ACIDITY  VOLATILE_ACIDITY  CITRIC_ACID  RESIDUAL_SUGAR  \\\n",
       "0        1            7.4              0.70         0.00             1.9   \n",
       "1        2            7.8              0.88         0.00             2.6   \n",
       "2        3            7.8              0.76         0.04             2.3   \n",
       "3        4           11.2              0.28         0.56             1.9   \n",
       "4        5            7.4              0.70         0.00             1.9   \n",
       "\n",
       "   CHLORIDES  FREE_SULFUR_DIOXIDE  TOTAL_SULFUR_DIOXIDE  DENSITY    PH  \\\n",
       "0      0.076                   11                    34   0.9978  3.51   \n",
       "1      0.098                   25                    67   0.9968  3.20   \n",
       "2      0.092                   15                    54   0.9970  3.26   \n",
       "3      0.075                   17                    60   0.9980  3.16   \n",
       "4      0.076                   11                    34   0.9978  3.51   \n",
       "\n",
       "   SULPHATES  ALCOHOL  QUALITY  \n",
       "0       0.56      9.4        5  \n",
       "1       0.68      9.8        5  \n",
       "2       0.65      9.8        5  \n",
       "3       0.58      9.8        6  \n",
       "4       0.56      9.4        5  "
      ]
     },
     "execution_count": 4,
     "metadata": {},
     "output_type": "execute_result"
    }
   ],
   "source": [
    "session.table(source_tables[0]).limit(5).to_pandas()"
   ]
  },
  {
   "cell_type": "markdown",
   "id": "3038124f-123b-4d22-9058-4fe2e57af6fe",
   "metadata": {},
   "source": [
    "<a id='feature-view-lineage'></a>\n",
    "\n",
    "## 2. Feature View Lineage {-}"
   ]
  },
  {
   "cell_type": "markdown",
   "id": "4ece7a2b",
   "metadata": {},
   "source": [
    "Create a new feature store and register and entities and feature views. More details on feature store APIs can be found [here](https://docs.snowflake.com/en/developer-guide/snowpark-ml/feature-store/overview)). For the detailed workflow of feature store refer to the notebook [here](https://github.com/Snowflake-Labs/snowflake-demo-notebooks/blob/main/End-to-end%20ML%20with%20Feature%20Store%20and%20Model%20Registry/End-to-end%20ML%20with%20Feature%20Store%20and%20Model%20Registry.ipynb) "
   ]
  },
  {
   "cell_type": "code",
   "execution_count": 5,
   "id": "fe850ccd",
   "metadata": {},
   "outputs": [
    {
     "name": "stdout",
     "output_type": "stream",
     "text": [
      "---------------------------------------------------------------------------------------------------------\n",
      "|\"NAME\"               |\"VERSION\"  |\"DESC\"                                              |\"REFRESH_FREQ\"  |\n",
      "---------------------------------------------------------------------------------------------------------\n",
      "|WINE_FEATURES        |1.0        |Managed feature view about wine quality which r...  |1 day           |\n",
      "|EXTRA_WINE_FEATURES  |1.0        |Static feature view about wine quality which ne...  |NULL            |\n",
      "---------------------------------------------------------------------------------------------------------\n",
      "\n"
     ]
    }
   ],
   "source": [
    "from snowflake.ml.feature_store import (\n",
    "    FeatureStore,\n",
    "    FeatureView,\n",
    "    Entity,\n",
    "    CreationMode\n",
    ")\n",
    "\n",
    "fs = FeatureStore(\n",
    "    session=session, \n",
    "    database=session.get_current_database(), \n",
    "    name=FS_DEMO_SCHEMA, \n",
    "    default_warehouse=session.get_current_warehouse(),\n",
    "    creation_mode=CreationMode.CREATE_IF_NOT_EXIST,\n",
    ")\n",
    "\n",
    "all_entities = []\n",
    "for e in example_helper.load_entities():\n",
    "    entity = fs.register_entity(e)\n",
    "    all_entities.append(entity)\n",
    "\n",
    "all_feature_views = []\n",
    "for fv in example_helper.load_draft_feature_views():\n",
    "    rf = fs.register_feature_view(\n",
    "        feature_view=fv,\n",
    "        version='1.0'\n",
    "    )\n",
    "    all_feature_views.append(rf)\n",
    "\n",
    "fs.list_feature_views().select('name', 'version', 'desc', 'refresh_freq').show()"
   ]
  },
  {
   "cell_type": "markdown",
   "id": "d3bbf57e",
   "metadata": {},
   "source": [
    "##### Query Lineage\n",
    "\n",
    "\n",
    "\n",
    "Query the upstream lineage of the feature views we just created. "
   ]
  },
  {
   "cell_type": "code",
   "execution_count": 6,
   "id": "8b9cec24",
   "metadata": {},
   "outputs": [
    {
     "name": "stderr",
     "output_type": "stream",
     "text": [
      "LineageNode.lineage() is in private preview since 1.5.3. Do not use it in production. \n",
      "Lineage.trace() is in private preview since 1.16.0. Do not use it in production. \n"
     ]
    },
    {
     "name": "stdout",
     "output_type": "stream",
     "text": [
      "Upstream Lineage of feature view 'EXTRA_WINE_FEATURES'\n",
      "[LineageNode(\n",
      "  name='LINEAGE_DEMO_DB.FEATURE_STORE.WINEDATA',\n",
      "  version='None',\n",
      "  domain='table',\n",
      "  status='ACTIVE',\n",
      "  created_on='2024-08-01 22:44:14'\n",
      ")]\n",
      "Upstream Lineage of feature view 'WINE_FEATURES'\n",
      "[LineageNode(\n",
      "  name='LINEAGE_DEMO_DB.FEATURE_STORE.WINEDATA',\n",
      "  version='None',\n",
      "  domain='table',\n",
      "  status='ACTIVE',\n",
      "  created_on='2024-08-01 22:44:14'\n",
      ")]\n"
     ]
    }
   ],
   "source": [
    "for fv in all_feature_views:\n",
    "    print(\"Upstream Lineage of feature view '\" + fv.name + \"'\")\n",
    "    print(fv.lineage(direction='upstream'))"
   ]
  },
  {
   "cell_type": "markdown",
   "id": "4dc1a7dc",
   "metadata": {},
   "source": [
    "<a id='training-data-lineage'></a>\n",
    "\n",
    "## 3. Training Data Lineage  {-}\n",
    "\n",
    "Next step in ML workflows will be generating training data that is needed to train the model. There are 2 ways to generate training data. \n",
    "1. Using feature views.\n",
    "2. Using source tables directly.  "
   ]
  },
  {
   "cell_type": "markdown",
   "id": "6c705ac1",
   "metadata": {},
   "source": [
    "<a id='training-data-from-feature-views'></a>\n",
    "\n",
    "### 3.1 Training Data from Feature views  {-}\n",
    "\n",
    "Lets explore the workflow of creating training data sets using the feature views. "
   ]
  },
  {
   "cell_type": "markdown",
   "id": "ec901a65-f3ee-4c12-b8ff-ec0f630e5372",
   "metadata": {},
   "source": [
    "Retrieve some metadata columns that are essential when generating training data."
   ]
  },
  {
   "cell_type": "code",
   "execution_count": 7,
   "id": "a6c80b76-99a4-4eb0-b0cb-583afa434ecf",
   "metadata": {},
   "outputs": [],
   "source": [
    "label_cols = example_helper.get_label_cols()\n",
    "timestamp_col = example_helper.get_training_data_timestamp_col()\n",
    "excluded_cols = example_helper.get_excluded_cols()\n",
    "join_keys = [key for entity in all_entities for key in entity.join_keys]\n"
   ]
  },
  {
   "cell_type": "markdown",
   "id": "5f66ad1d-5ad1-4ad8-92f9-c65be491e0c3",
   "metadata": {},
   "source": [
    "Create a spine dataframe that's sampled from source table."
   ]
  },
  {
   "cell_type": "code",
   "execution_count": 8,
   "id": "ea00fe3a-ac16-45d7-95c0-7ea7ed344e79",
   "metadata": {},
   "outputs": [
    {
     "data": {
      "text/html": [
       "<div>\n",
       "<style scoped>\n",
       "    .dataframe tbody tr th:only-of-type {\n",
       "        vertical-align: middle;\n",
       "    }\n",
       "\n",
       "    .dataframe tbody tr th {\n",
       "        vertical-align: top;\n",
       "    }\n",
       "\n",
       "    .dataframe thead th {\n",
       "        text-align: right;\n",
       "    }\n",
       "</style>\n",
       "<table border=\"1\" class=\"dataframe\">\n",
       "  <thead>\n",
       "    <tr style=\"text-align: right;\">\n",
       "      <th></th>\n",
       "      <th>QUALITY</th>\n",
       "      <th>WINE_ID</th>\n",
       "    </tr>\n",
       "  </thead>\n",
       "  <tbody>\n",
       "    <tr>\n",
       "      <th>0</th>\n",
       "      <td>6</td>\n",
       "      <td>544</td>\n",
       "    </tr>\n",
       "    <tr>\n",
       "      <th>1</th>\n",
       "      <td>5</td>\n",
       "      <td>978</td>\n",
       "    </tr>\n",
       "    <tr>\n",
       "      <th>2</th>\n",
       "      <td>5</td>\n",
       "      <td>679</td>\n",
       "    </tr>\n",
       "    <tr>\n",
       "      <th>3</th>\n",
       "      <td>5</td>\n",
       "      <td>1459</td>\n",
       "    </tr>\n",
       "    <tr>\n",
       "      <th>4</th>\n",
       "      <td>5</td>\n",
       "      <td>5</td>\n",
       "    </tr>\n",
       "    <tr>\n",
       "      <th>...</th>\n",
       "      <td>...</td>\n",
       "      <td>...</td>\n",
       "    </tr>\n",
       "    <tr>\n",
       "      <th>507</th>\n",
       "      <td>6</td>\n",
       "      <td>508</td>\n",
       "    </tr>\n",
       "    <tr>\n",
       "      <th>508</th>\n",
       "      <td>6</td>\n",
       "      <td>624</td>\n",
       "    </tr>\n",
       "    <tr>\n",
       "      <th>509</th>\n",
       "      <td>5</td>\n",
       "      <td>1132</td>\n",
       "    </tr>\n",
       "    <tr>\n",
       "      <th>510</th>\n",
       "      <td>5</td>\n",
       "      <td>511</td>\n",
       "    </tr>\n",
       "    <tr>\n",
       "      <th>511</th>\n",
       "      <td>5</td>\n",
       "      <td>1568</td>\n",
       "    </tr>\n",
       "  </tbody>\n",
       "</table>\n",
       "<p>512 rows × 2 columns</p>\n",
       "</div>"
      ],
      "text/plain": [
       "     QUALITY  WINE_ID\n",
       "0          6      544\n",
       "1          5      978\n",
       "2          5      679\n",
       "3          5     1459\n",
       "4          5        5\n",
       "..       ...      ...\n",
       "507        6      508\n",
       "508        6      624\n",
       "509        5     1132\n",
       "510        5      511\n",
       "511        5     1568\n",
       "\n",
       "[512 rows x 2 columns]"
      ]
     },
     "execution_count": 8,
     "metadata": {},
     "output_type": "execute_result"
    }
   ],
   "source": [
    "sample_count = 512\n",
    "source_df = session.sql(f\"\"\"\n",
    "    select {','.join(label_cols)}, \n",
    "            {','.join(join_keys)} \n",
    "            {',' + timestamp_col if timestamp_col is not None else ''} \n",
    "    from {source_tables[0]}\"\"\")\n",
    "spine_df = source_df.sample(n=sample_count)\n",
    "# preview spine dataframe\n",
    "spine_df.to_pandas()"
   ]
  },
  {
   "cell_type": "markdown",
   "id": "7e69a065",
   "metadata": {},
   "source": [
    "<a id='dataset-as-training-data'></a>\n",
    "\n",
    "#### 3.1.1 Dataset as training data  {-}\n",
    "\n",
    "\n",
    "\n",
    "[Snowflake Dataset](https://docs.snowflake.com/en/developer-guide/snowpark-ml/dataset) generated from feature views created above. Dataset is a readonly objects helps in reproducability of the ML model. "
   ]
  },
  {
   "cell_type": "code",
   "execution_count": 9,
   "id": "e3a03f64",
   "metadata": {},
   "outputs": [],
   "source": [
    "my_dataset = fs.generate_dataset(\n",
    "    name=\"my_dataset\",\n",
    "    spine_df=spine_df, \n",
    "    features=all_feature_views,\n",
    "    version=\"4.0\",\n",
    "    spine_timestamp_col=timestamp_col,\n",
    "    spine_label_cols=label_cols,\n",
    "    exclude_columns=excluded_cols,\n",
    "    desc=\"This is the dataset joined spine dataframe with feature views\",\n",
    ")"
   ]
  },
  {
   "cell_type": "markdown",
   "id": "6ac0d146",
   "metadata": {},
   "source": [
    "##### Query Lineage\n",
    "\n",
    "\n",
    "\n",
    "Query Upstream lineage of the dataset we just generated. "
   ]
  },
  {
   "cell_type": "code",
   "execution_count": 10,
   "id": "5023adaf",
   "metadata": {},
   "outputs": [
    {
     "data": {
      "text/plain": [
       "[LineageNode(\n",
       "   name='LINEAGE_DEMO_DB.FEATURE_STORE.WINEDATA',\n",
       "   version='None',\n",
       "   domain='table',\n",
       "   status='ACTIVE',\n",
       "   created_on='2024-08-01 22:44:14'\n",
       " ),\n",
       " FeatureView(_name=EXTRA_WINE_FEATURES, _entities=[Entity(name=WINE, join_keys=['WINE_ID'], owner=None, desc=Wine ID column.)], _feature_df=<snowflake.snowpark.dataframe.DataFrame object at 0x1711bc3d0>, _timestamp_col=None, _desc=Static feature view about wine quality which never refresh., _infer_schema_df=<snowflake.snowpark.dataframe.DataFrame object at 0x1711fd910>, _query=SELECT \"WINE_ID\", \"SULPHATES\", \"ALCOHOL\" FROM \"LINEAGE_DEMO_DB\".FEATURE_STORE.winedata, _version=1.0, _status=FeatureViewStatus.STATIC, _feature_desc=OrderedDict([('SULPHATES', ''), ('ALCOHOL', '')]), _refresh_freq=None, _database=LINEAGE_DEMO_DB, _schema=FEATURE_STORE, _warehouse=None, _refresh_mode=None, _refresh_mode_reason=None, _owner=ACCOUNTADMIN, _lineage_node_name=LINEAGE_DEMO_DB.FEATURE_STORE.EXTRA_WINE_FEATURES, _lineage_node_domain=feature_view, _lineage_node_version=1.0, _lineage_node_status=None, _lineage_node_created_on=None, _session=<snowflake.snowpark.session.Session: account=\"ax_test_qa3\", role=\"ACCOUNTADMIN\", database=\"LINEAGE_DEMO_DB\", schema=\"MODEL_SCHEMA\", warehouse=\"AX_XL\">),\n",
       " FeatureView(_name=WINE_FEATURES, _entities=[Entity(name=WINE, join_keys=['WINE_ID'], owner=None, desc=Wine ID column.)], _feature_df=<snowflake.snowpark.dataframe.DataFrame object at 0x1711a1550>, _timestamp_col=None, _desc=Managed feature view about wine quality which refreshes everyday., _infer_schema_df=<snowflake.snowpark.dataframe.DataFrame object at 0x1711a12b0>, _query=SELECT \"WINE_ID\", \"FIXED_ACIDITY\", \"CITRIC_ACID\", \"CHLORIDES\", \"TOTAL_SULFUR_DIOXIDE\", \"PH\", (\"FIXED_ACIDITY\" * \"CITRIC_ACID\") AS \"MY_NEW_FEATURE\" FROM \"LINEAGE_DEMO_DB\".FEATURE_STORE.winedata, _version=1.0, _status=FeatureViewStatus.ACTIVE, _feature_desc=OrderedDict([('FIXED_ACIDITY', ''), ('CITRIC_ACID', ''), ('CHLORIDES', ''), ('TOTAL_SULFUR_DIOXIDE', ''), ('PH', ''), ('MY_NEW_FEATURE', '')]), _refresh_freq=1 day, _database=LINEAGE_DEMO_DB, _schema=FEATURE_STORE, _warehouse=AX_XL, _refresh_mode=INCREMENTAL, _refresh_mode_reason=None, _owner=ACCOUNTADMIN, _lineage_node_name=LINEAGE_DEMO_DB.FEATURE_STORE.WINE_FEATURES, _lineage_node_domain=feature_view, _lineage_node_version=1.0, _lineage_node_status=None, _lineage_node_created_on=None, _session=<snowflake.snowpark.session.Session: account=\"ax_test_qa3\", role=\"ACCOUNTADMIN\", database=\"LINEAGE_DEMO_DB\", schema=\"MODEL_SCHEMA\", warehouse=\"AX_XL\">)]"
      ]
     },
     "execution_count": 10,
     "metadata": {},
     "output_type": "execute_result"
    }
   ],
   "source": [
    "my_dataset.lineage(direction=\"upstream\")"
   ]
  },
  {
   "cell_type": "markdown",
   "id": "0d4469c8",
   "metadata": {},
   "source": [
    "Query the downstream of feature views we used to create the dataset. "
   ]
  },
  {
   "cell_type": "code",
   "execution_count": 11,
   "id": "7cb60b63",
   "metadata": {},
   "outputs": [
    {
     "name": "stdout",
     "output_type": "stream",
     "text": [
      "Downstream Lineage of feature view 'EXTRA_WINE_FEATURES'\n",
      "[Dataset(\n",
      "  name='LINEAGE_DEMO_DB.FEATURE_STORE.MY_DATASET',\n",
      "  version='4.0',\n",
      ")]\n",
      "Downstream Lineage of feature view 'WINE_FEATURES'\n",
      "[Dataset(\n",
      "  name='LINEAGE_DEMO_DB.FEATURE_STORE.MY_DATASET',\n",
      "  version='4.0',\n",
      ")]\n"
     ]
    }
   ],
   "source": [
    "for fv in all_feature_views:\n",
    "    print(\"Downstream Lineage of feature view '\" + fv.name + \"'\")\n",
    "    print(fv.lineage(direction='downstream'))"
   ]
  },
  {
   "cell_type": "markdown",
   "id": "dfd71162",
   "metadata": {},
   "source": [
    "<a id='tables-as-training-data'></a>\n",
    "\n",
    "#### 3.1.2 Tables as Training data  {-}\n",
    "\n",
    "Alternatively, you can create a regular table as a dataset from feature views. The downside is that tables are mutable, so reproducibility cannot be guaranteed."
   ]
  },
  {
   "cell_type": "code",
   "execution_count": 12,
   "id": "5eefec90",
   "metadata": {},
   "outputs": [],
   "source": [
    "my_table_data = fs.generate_dataset(\n",
    "    name=\"my_table_dataset\",\n",
    "    spine_df=spine_df, \n",
    "    features=all_feature_views,\n",
    "    version=\"4.0\",\n",
    "    spine_timestamp_col=timestamp_col,\n",
    "    spine_label_cols=label_cols,\n",
    "    exclude_columns=excluded_cols,\n",
    "    desc=\"This is the dataset joined spine dataframe with feature views\",\n",
    "    output_type=\"table\"\n",
    ")"
   ]
  },
  {
   "cell_type": "markdown",
   "id": "8e480986",
   "metadata": {},
   "source": [
    "##### Query Lineage\n",
    "\n",
    "\n",
    "You can also explore lineage of generated table from the feature view. You filter the results to see just table entities. "
   ]
  },
  {
   "cell_type": "code",
   "execution_count": 13,
   "id": "a253f3b4",
   "metadata": {},
   "outputs": [
    {
     "name": "stdout",
     "output_type": "stream",
     "text": [
      "Downstream Lineage of feature view 'EXTRA_WINE_FEATURES'\n",
      "[LineageNode(\n",
      "  name='LINEAGE_DEMO_DB.FEATURE_STORE.MY_TABLE_DATASET_4',\n",
      "  version='None',\n",
      "  domain='table',\n",
      "  status='ACTIVE',\n",
      "  created_on='2024-08-01 22:44:28'\n",
      ")]\n",
      "Downstream Lineage of feature view 'WINE_FEATURES'\n",
      "[LineageNode(\n",
      "  name='LINEAGE_DEMO_DB.FEATURE_STORE.MY_TABLE_DATASET_4',\n",
      "  version='None',\n",
      "  domain='table',\n",
      "  status='ACTIVE',\n",
      "  created_on='2024-08-01 22:44:28'\n",
      ")]\n"
     ]
    }
   ],
   "source": [
    "for fv in all_feature_views:\n",
    "    print(\"Downstream Lineage of feature view '\" + fv.name + \"'\")\n",
    "    print(fv.lineage(direction='downstream', domain_filter=[\"table\"]))"
   ]
  },
  {
   "cell_type": "markdown",
   "id": "cb38ac0b",
   "metadata": {},
   "source": [
    "<a id='training-data-from-source-tables'></a>\n",
    "\n",
    "\n",
    "### 3.2 Training Data from source tables  {-}\n",
    "\n",
    "We will explore the workflow of creating training dataset directly from source tables instead of feature views. "
   ]
  },
  {
   "cell_type": "markdown",
   "id": "761f1296",
   "metadata": {},
   "source": [
    "<a id='dataset-from-source-table-as-training-data'></a>\n",
    "\n",
    "\n",
    "#### 3.2.1 Dataset from source table as training data\n",
    "\n",
    "\n",
    "Create the dataset from a source table. Lineage works in a similar way even when its trained with source view or a stage. "
   ]
  },
  {
   "cell_type": "code",
   "execution_count": 14,
   "id": "35b8b59a-dcae-41a4-8954-db6719c5cf60",
   "metadata": {},
   "outputs": [],
   "source": [
    "from snowflake.ml import dataset\n",
    "\n",
    "my_table_based_dataset = dataset.create_from_dataframe(\n",
    "            session=session,\n",
    "            name=\"my_dataset_from_table\",\n",
    "            version=\"v1\",\n",
    "            input_dataframe=session.table(source_tables[0]),\n",
    "        )"
   ]
  },
  {
   "cell_type": "markdown",
   "id": "6a4a2444",
   "metadata": {},
   "source": [
    "##### Query Lineage\n",
    "\n",
    "\n",
    "Query the upstream lineage of the dataset we just created. "
   ]
  },
  {
   "cell_type": "code",
   "execution_count": 15,
   "id": "190cac1a",
   "metadata": {},
   "outputs": [
    {
     "data": {
      "text/plain": [
       "[LineageNode(\n",
       "   name='LINEAGE_DEMO_DB.FEATURE_STORE.WINEDATA',\n",
       "   version='None',\n",
       "   domain='table',\n",
       "   status='ACTIVE',\n",
       "   created_on='2024-08-01 22:44:14'\n",
       " )]"
      ]
     },
     "execution_count": 15,
     "metadata": {},
     "output_type": "execute_result"
    }
   ],
   "source": [
    "my_table_based_dataset.lineage(direction=\"upstream\")"
   ]
  },
  {
   "cell_type": "markdown",
   "id": "c2d0acfc",
   "metadata": {},
   "source": [
    "<a id='model-lineage'></a>\n",
    "\n",
    "\n",
    "## 4. Model Lineage  {-}\n",
    "\n",
    "Now let's train a simple random forest model, and evaluate the prediction accuracy."
   ]
  },
  {
   "cell_type": "markdown",
   "id": "e03addbc",
   "metadata": {},
   "source": [
    "Let's create a registry to save the trained models. All models need to be logged into the registry for their lineage to be tracked."
   ]
  },
  {
   "cell_type": "code",
   "execution_count": 16,
   "id": "cf1209a6-4c8c-4441-9c5d-7688f4ec0233",
   "metadata": {},
   "outputs": [],
   "source": [
    "from snowflake.ml.registry import Registry\n",
    "\n",
    "registry = Registry(\n",
    "    session=session, \n",
    "    database_name=session.get_current_database(), \n",
    "    schema_name=MODEL_DEMO_SCHEMA,\n",
    ")"
   ]
  },
  {
   "cell_type": "markdown",
   "id": "ec35fef9",
   "metadata": {},
   "source": [
    "<a id='model-trained-in-snowflake-ecosystem'></a>\n",
    "\n",
    "\n",
    "### 4.1 Model trained in snowflake ecosystem  {-}"
   ]
  },
  {
   "cell_type": "markdown",
   "id": "aea11101",
   "metadata": {},
   "source": [
    "Lets define a training function that uses Random forest to build the model"
   ]
  },
  {
   "cell_type": "code",
   "execution_count": 17,
   "id": "fd5035d9",
   "metadata": {},
   "outputs": [],
   "source": [
    "from snowflake.ml.modeling.ensemble import RandomForestRegressor\n",
    "from snowflake.ml.modeling import metrics as snowml_metrics\n",
    "from snowflake.snowpark.functions import abs as sp_abs, mean, col\n",
    "\n",
    "def train_model_using_snowpark_ml(training_data_df):\n",
    "    train, test = training_data_df.random_split([0.8, 0.2], seed=42)\n",
    "    feature_columns = list(set(training_data_df.columns) - set(label_cols) - set(join_keys) - set([timestamp_col]))\n",
    "    print(f\"feature cols: {feature_columns}\")\n",
    "    \n",
    "    rf = RandomForestRegressor(\n",
    "        input_cols=feature_columns, label_cols=label_cols, \n",
    "        max_depth=3, n_estimators=20, random_state=42\n",
    "    )\n",
    "\n",
    "    rf.fit(train)\n",
    "    predictions = rf.predict(test)\n",
    "\n",
    "    output_label_names = ['OUTPUT_' + col for col in label_cols]\n",
    "    mse = snowml_metrics.mean_squared_error(\n",
    "        df=predictions, \n",
    "        y_true_col_names=label_cols, \n",
    "        y_pred_col_names=output_label_names\n",
    "    )\n",
    "\n",
    "    accuracy = 100 - snowml_metrics.mean_absolute_percentage_error(\n",
    "        df=predictions,\n",
    "        y_true_col_names=label_cols,\n",
    "        y_pred_col_names=output_label_names\n",
    "    )\n",
    "\n",
    "    print(f\"MSE: {mse}, Accuracy: {accuracy}\")\n",
    "    return rf"
   ]
  },
  {
   "cell_type": "markdown",
   "id": "574a810b",
   "metadata": {},
   "source": [
    "<a id='model-trained-using-dataset'></a>\n",
    "\n",
    "\n",
    "#### 4.1.1 Model trained using Dataset  {-}"
   ]
  },
  {
   "cell_type": "markdown",
   "id": "0a1cf2f4-59b3-40da-8c43-bee27129105d",
   "metadata": {},
   "source": [
    "Convert dataset to a snowpark dataframe and examine all the features in it."
   ]
  },
  {
   "cell_type": "code",
   "execution_count": 18,
   "id": "5f3c71aa-1c6b-4bf4-83f9-2176dc249f83",
   "metadata": {},
   "outputs": [
    {
     "data": {
      "text/html": [
       "<div>\n",
       "<style scoped>\n",
       "    .dataframe tbody tr th:only-of-type {\n",
       "        vertical-align: middle;\n",
       "    }\n",
       "\n",
       "    .dataframe tbody tr th {\n",
       "        vertical-align: top;\n",
       "    }\n",
       "\n",
       "    .dataframe thead th {\n",
       "        text-align: right;\n",
       "    }\n",
       "</style>\n",
       "<table border=\"1\" class=\"dataframe\">\n",
       "  <thead>\n",
       "    <tr style=\"text-align: right;\">\n",
       "      <th></th>\n",
       "      <th>QUALITY</th>\n",
       "      <th>SULPHATES</th>\n",
       "      <th>ALCOHOL</th>\n",
       "      <th>FIXED_ACIDITY</th>\n",
       "      <th>CITRIC_ACID</th>\n",
       "      <th>CHLORIDES</th>\n",
       "      <th>TOTAL_SULFUR_DIOXIDE</th>\n",
       "      <th>PH</th>\n",
       "      <th>MY_NEW_FEATURE</th>\n",
       "    </tr>\n",
       "  </thead>\n",
       "  <tbody>\n",
       "    <tr>\n",
       "      <th>0</th>\n",
       "      <td>5</td>\n",
       "      <td>0.56</td>\n",
       "      <td>9.4</td>\n",
       "      <td>7.4</td>\n",
       "      <td>0.00</td>\n",
       "      <td>0.076</td>\n",
       "      <td>34</td>\n",
       "      <td>3.51</td>\n",
       "      <td>0.000</td>\n",
       "    </tr>\n",
       "    <tr>\n",
       "      <th>1</th>\n",
       "      <td>5</td>\n",
       "      <td>0.68</td>\n",
       "      <td>9.8</td>\n",
       "      <td>7.8</td>\n",
       "      <td>0.00</td>\n",
       "      <td>0.098</td>\n",
       "      <td>67</td>\n",
       "      <td>3.20</td>\n",
       "      <td>0.000</td>\n",
       "    </tr>\n",
       "    <tr>\n",
       "      <th>2</th>\n",
       "      <td>5</td>\n",
       "      <td>0.64</td>\n",
       "      <td>9.5</td>\n",
       "      <td>7.6</td>\n",
       "      <td>0.29</td>\n",
       "      <td>0.075</td>\n",
       "      <td>66</td>\n",
       "      <td>3.40</td>\n",
       "      <td>2.204</td>\n",
       "    </tr>\n",
       "    <tr>\n",
       "      <th>3</th>\n",
       "      <td>5</td>\n",
       "      <td>0.70</td>\n",
       "      <td>11.1</td>\n",
       "      <td>7.9</td>\n",
       "      <td>0.40</td>\n",
       "      <td>0.062</td>\n",
       "      <td>20</td>\n",
       "      <td>3.28</td>\n",
       "      <td>3.160</td>\n",
       "    </tr>\n",
       "    <tr>\n",
       "      <th>4</th>\n",
       "      <td>7</td>\n",
       "      <td>0.76</td>\n",
       "      <td>10.7</td>\n",
       "      <td>11.8</td>\n",
       "      <td>0.49</td>\n",
       "      <td>0.093</td>\n",
       "      <td>80</td>\n",
       "      <td>3.30</td>\n",
       "      <td>5.782</td>\n",
       "    </tr>\n",
       "    <tr>\n",
       "      <th>...</th>\n",
       "      <td>...</td>\n",
       "      <td>...</td>\n",
       "      <td>...</td>\n",
       "      <td>...</td>\n",
       "      <td>...</td>\n",
       "      <td>...</td>\n",
       "      <td>...</td>\n",
       "      <td>...</td>\n",
       "      <td>...</td>\n",
       "    </tr>\n",
       "    <tr>\n",
       "      <th>507</th>\n",
       "      <td>4</td>\n",
       "      <td>0.46</td>\n",
       "      <td>9.6</td>\n",
       "      <td>8.1</td>\n",
       "      <td>0.00</td>\n",
       "      <td>0.081</td>\n",
       "      <td>24</td>\n",
       "      <td>3.38</td>\n",
       "      <td>0.000</td>\n",
       "    </tr>\n",
       "    <tr>\n",
       "      <th>508</th>\n",
       "      <td>5</td>\n",
       "      <td>0.64</td>\n",
       "      <td>9.7</td>\n",
       "      <td>6.7</td>\n",
       "      <td>0.08</td>\n",
       "      <td>0.064</td>\n",
       "      <td>34</td>\n",
       "      <td>3.33</td>\n",
       "      <td>0.536</td>\n",
       "    </tr>\n",
       "    <tr>\n",
       "      <th>509</th>\n",
       "      <td>7</td>\n",
       "      <td>0.68</td>\n",
       "      <td>11.4</td>\n",
       "      <td>13.3</td>\n",
       "      <td>0.75</td>\n",
       "      <td>0.084</td>\n",
       "      <td>43</td>\n",
       "      <td>3.04</td>\n",
       "      <td>9.975</td>\n",
       "    </tr>\n",
       "    <tr>\n",
       "      <th>510</th>\n",
       "      <td>6</td>\n",
       "      <td>0.48</td>\n",
       "      <td>10.5</td>\n",
       "      <td>5.6</td>\n",
       "      <td>0.78</td>\n",
       "      <td>0.074</td>\n",
       "      <td>92</td>\n",
       "      <td>3.39</td>\n",
       "      <td>4.368</td>\n",
       "    </tr>\n",
       "    <tr>\n",
       "      <th>511</th>\n",
       "      <td>6</td>\n",
       "      <td>0.63</td>\n",
       "      <td>10.2</td>\n",
       "      <td>10.0</td>\n",
       "      <td>0.31</td>\n",
       "      <td>0.090</td>\n",
       "      <td>62</td>\n",
       "      <td>3.18</td>\n",
       "      <td>3.100</td>\n",
       "    </tr>\n",
       "  </tbody>\n",
       "</table>\n",
       "<p>512 rows × 9 columns</p>\n",
       "</div>"
      ],
      "text/plain": [
       "     QUALITY  SULPHATES  ALCOHOL  FIXED_ACIDITY  CITRIC_ACID  CHLORIDES  \\\n",
       "0          5       0.56      9.4            7.4         0.00      0.076   \n",
       "1          5       0.68      9.8            7.8         0.00      0.098   \n",
       "2          5       0.64      9.5            7.6         0.29      0.075   \n",
       "3          5       0.70     11.1            7.9         0.40      0.062   \n",
       "4          7       0.76     10.7           11.8         0.49      0.093   \n",
       "..       ...        ...      ...            ...          ...        ...   \n",
       "507        4       0.46      9.6            8.1         0.00      0.081   \n",
       "508        5       0.64      9.7            6.7         0.08      0.064   \n",
       "509        7       0.68     11.4           13.3         0.75      0.084   \n",
       "510        6       0.48     10.5            5.6         0.78      0.074   \n",
       "511        6       0.63     10.2           10.0         0.31      0.090   \n",
       "\n",
       "     TOTAL_SULFUR_DIOXIDE    PH  MY_NEW_FEATURE  \n",
       "0                      34  3.51           0.000  \n",
       "1                      67  3.20           0.000  \n",
       "2                      66  3.40           2.204  \n",
       "3                      20  3.28           3.160  \n",
       "4                      80  3.30           5.782  \n",
       "..                    ...   ...             ...  \n",
       "507                    24  3.38           0.000  \n",
       "508                    34  3.33           0.536  \n",
       "509                    43  3.04           9.975  \n",
       "510                    92  3.39           4.368  \n",
       "511                    62  3.18           3.100  \n",
       "\n",
       "[512 rows x 9 columns]"
      ]
     },
     "execution_count": 18,
     "metadata": {},
     "output_type": "execute_result"
    }
   ],
   "source": [
    "training_data_df = my_dataset.read.to_snowpark_dataframe()\n",
    "assert training_data_df.count() == sample_count\n",
    "# drop rows that have any nulls in value. \n",
    "training_data_df = training_data_df.dropna(how='any')\n",
    "training_data_df.to_pandas()"
   ]
  },
  {
   "cell_type": "markdown",
   "id": "8eee34d3",
   "metadata": {},
   "source": [
    "Train the random forest model using Snowpark-ML and the dataset, then log the model in the registry."
   ]
  },
  {
   "cell_type": "code",
   "execution_count": 19,
   "id": "352603a9",
   "metadata": {},
   "outputs": [
    {
     "name": "stdout",
     "output_type": "stream",
     "text": [
      "feature cols: ['MY_NEW_FEATURE', 'PH', 'TOTAL_SULFUR_DIOXIDE', 'CITRIC_ACID', 'CHLORIDES', 'SULPHATES', 'FIXED_ACIDITY', 'ALCOHOL']\n"
     ]
    },
    {
     "name": "stderr",
     "output_type": "stream",
     "text": [
      "The version of package 'snowflake-snowpark-python' in the local environment is 1.20.2, which does not fit the criteria for the requirement 'snowflake-snowpark-python'. Your UDF might not work when the package version is different between the server and your local environment.\n",
      "The version of package 'numpy' in the local environment is 1.24.4, which does not fit the criteria for the requirement 'numpy==1.24.3'. Your UDF might not work when the package version is different between the server and your local environment.\n",
      "The version of package 'scikit-learn' in the local environment is 1.3.2, which does not fit the criteria for the requirement 'scikit-learn==1.3.0'. Your UDF might not work when the package version is different between the server and your local environment.\n",
      "/opt/homebrew/anaconda3/envs/py38_env/lib/python3.8/site-packages/sklearn/base.py:348: InconsistentVersionWarning: Trying to unpickle estimator DecisionTreeRegressor from version 1.3.0 when using version 1.3.2. This might lead to breaking code or invalid results. Use at your own risk. For more info please refer to:\n",
      "https://scikit-learn.org/stable/model_persistence.html#security-maintainability-limitations\n",
      "  warnings.warn(\n",
      "/opt/homebrew/anaconda3/envs/py38_env/lib/python3.8/site-packages/sklearn/base.py:348: InconsistentVersionWarning: Trying to unpickle estimator RandomForestRegressor from version 1.3.0 when using version 1.3.2. This might lead to breaking code or invalid results. Use at your own risk. For more info please refer to:\n",
      "https://scikit-learn.org/stable/model_persistence.html#security-maintainability-limitations\n",
      "  warnings.warn(\n",
      "The version of package 'numpy' in the local environment is 1.24.4, which does not fit the criteria for the requirement 'numpy==1.24.3'. Your UDF might not work when the package version is different between the server and your local environment.\n",
      "The version of package 'scikit-learn' in the local environment is 1.3.2, which does not fit the criteria for the requirement 'scikit-learn==1.3.0'. Your UDF might not work when the package version is different between the server and your local environment.\n"
     ]
    },
    {
     "name": "stdout",
     "output_type": "stream",
     "text": [
      "MSE: 0.25267477340674793, Accuracy: 99.92349333548655\n"
     ]
    },
    {
     "name": "stderr",
     "output_type": "stream",
     "text": [
      "/opt/homebrew/anaconda3/envs/py38_env/lib/python3.8/contextlib.py:113: UserWarning: `relax_version` is not set and therefore defaulted to True. Dependency version constraints relaxed from ==x.y.z to >=x.y, <(x+1). To use specific dependency versions for compatibility, reproducibility, etc., set `options={'relax_version': False}` when logging the model.\n",
      "  return next(self.gen)\n"
     ]
    }
   ],
   "source": [
    "random_forest_model = train_model_using_snowpark_ml(training_data_df) \n",
    "\n",
    "model_version = registry.log_model(\n",
    "    model_name=\"MODEL_TRAINED_ON_DATASET\",\n",
    "    version_name=\"v1\",\n",
    "    model=random_forest_model,\n",
    "    comment=\"Model trained with feature views, dataset\",\n",
    ")"
   ]
  },
  {
   "cell_type": "markdown",
   "id": "ed343e67",
   "metadata": {},
   "source": [
    "##### Query Lineage"
   ]
  },
  {
   "cell_type": "markdown",
   "id": "83d44553",
   "metadata": {},
   "source": [
    "Query the upstream of the model we just trained. "
   ]
  },
  {
   "cell_type": "code",
   "execution_count": 20,
   "id": "ae53f591",
   "metadata": {},
   "outputs": [
    {
     "data": {
      "text/plain": [
       "[Dataset(\n",
       "   name='LINEAGE_DEMO_DB.FEATURE_STORE.MY_DATASET',\n",
       "   version='4.0',\n",
       " )]"
      ]
     },
     "execution_count": 20,
     "metadata": {},
     "output_type": "execute_result"
    }
   ],
   "source": [
    "ds = model_version.lineage(direction=\"upstream\")\n",
    "ds"
   ]
  },
  {
   "cell_type": "markdown",
   "id": "d9599921",
   "metadata": {},
   "source": [
    "The model can also be explored as part of the downstream path of the dataset used to train the model."
   ]
  },
  {
   "cell_type": "code",
   "execution_count": 21,
   "id": "fc4f5bf2",
   "metadata": {},
   "outputs": [
    {
     "data": {
      "text/plain": [
       "[ModelVersion(\n",
       "   name='MODEL_TRAINED_ON_DATASET',\n",
       "   version='V1',\n",
       " )]"
      ]
     },
     "execution_count": 21,
     "metadata": {},
     "output_type": "execute_result"
    }
   ],
   "source": [
    "ds[0].lineage(direction=\"downstream\")"
   ]
  },
  {
   "cell_type": "markdown",
   "id": "8c9e42b7",
   "metadata": {},
   "source": [
    "<a id='model-trained-using-source-tables'></a>\n",
    "\n",
    "\n",
    "#### 4.1.2 Model trained using source tables  {-}"
   ]
  },
  {
   "cell_type": "markdown",
   "id": "703ceeda",
   "metadata": {},
   "source": [
    "Train the random forest model using Snowpark-ML and the source tables, then log the model in the registry.\n",
    "\n",
    "Lineage works in a similar way even when its trained with source view or a stage. "
   ]
  },
  {
   "cell_type": "code",
   "execution_count": 22,
   "id": "95fb5cbf",
   "metadata": {},
   "outputs": [
    {
     "name": "stdout",
     "output_type": "stream",
     "text": [
      "feature cols: ['VOLATILE_ACIDITY', 'RESIDUAL_SUGAR', 'TOTAL_SULFUR_DIOXIDE', 'CITRIC_ACID', 'PH', 'CHLORIDES', 'SULPHATES', 'DENSITY', 'FIXED_ACIDITY', 'ALCOHOL', 'FREE_SULFUR_DIOXIDE']\n"
     ]
    },
    {
     "name": "stderr",
     "output_type": "stream",
     "text": [
      "/opt/homebrew/anaconda3/envs/py38_env/lib/python3.8/site-packages/sklearn/base.py:348: InconsistentVersionWarning: Trying to unpickle estimator DecisionTreeRegressor from version 1.3.0 when using version 1.3.2. This might lead to breaking code or invalid results. Use at your own risk. For more info please refer to:\n",
      "https://scikit-learn.org/stable/model_persistence.html#security-maintainability-limitations\n",
      "  warnings.warn(\n",
      "/opt/homebrew/anaconda3/envs/py38_env/lib/python3.8/site-packages/sklearn/base.py:348: InconsistentVersionWarning: Trying to unpickle estimator RandomForestRegressor from version 1.3.0 when using version 1.3.2. This might lead to breaking code or invalid results. Use at your own risk. For more info please refer to:\n",
      "https://scikit-learn.org/stable/model_persistence.html#security-maintainability-limitations\n",
      "  warnings.warn(\n",
      "WARNING:snowflake.snowpark.session:The version of package 'numpy' in the local environment is 1.24.4, which does not fit the criteria for the requirement 'numpy==1.24.3'. Your UDF might not work when the package version is different between the server and your local environment.\n",
      "WARNING:snowflake.snowpark.session:The version of package 'scikit-learn' in the local environment is 1.3.2, which does not fit the criteria for the requirement 'scikit-learn==1.3.0'. Your UDF might not work when the package version is different between the server and your local environment.\n"
     ]
    },
    {
     "name": "stdout",
     "output_type": "stream",
     "text": [
      "MSE: 0.39049050644031114, Accuracy: 99.90829288453038\n"
     ]
    },
    {
     "name": "stderr",
     "output_type": "stream",
     "text": [
      "/opt/homebrew/anaconda3/envs/py38_env/lib/python3.8/contextlib.py:113: UserWarning: `relax_version` is not set and therefore defaulted to True. Dependency version constraints relaxed from ==x.y.z to >=x.y, <(x+1). To use specific dependency versions for compatibility, reproducibility, etc., set `options={'relax_version': False}` when logging the model.\n",
      "  return next(self.gen)\n"
     ]
    }
   ],
   "source": [
    "table_training_data_df = session.table(source_tables[0])\n",
    "table_training_data_df.dropna(how='any')\n",
    "\n",
    "random_forest_model = train_model_using_snowpark_ml(table_training_data_df) \n",
    "\n",
    "model_version = registry.log_model(\n",
    "    model_name=\"MODEL_TRAINED_ON_TABLE\",\n",
    "    version_name=\"v1\",\n",
    "    model=random_forest_model,\n",
    "    comment=\"Model trained with table\",\n",
    ")"
   ]
  },
  {
   "cell_type": "markdown",
   "id": "2af23e31",
   "metadata": {},
   "source": [
    "##### Query Lineage\n",
    "\n",
    "\n",
    "Query the upstream of the model we just trained. "
   ]
  },
  {
   "cell_type": "code",
   "execution_count": 23,
   "id": "23f99177",
   "metadata": {},
   "outputs": [
    {
     "data": {
      "text/plain": [
       "[LineageNode(\n",
       "   name='LINEAGE_DEMO_DB.MODEL_SCHEMA.SNOWPARK_TEMP_TABLE_Q9VM0X2LP8',\n",
       "   version='None',\n",
       "   domain='table',\n",
       "   status='ACTIVE',\n",
       "   created_on='2024-08-01 22:45:06'\n",
       " )]"
      ]
     },
     "execution_count": 23,
     "metadata": {},
     "output_type": "execute_result"
    }
   ],
   "source": [
    "table = model_version.lineage(direction=\"upstream\")\n",
    "\n",
    "table"
   ]
  },
  {
   "cell_type": "markdown",
   "id": "99d426c9",
   "metadata": {},
   "source": [
    "The model can also be explored as part of the downstream path of the table used to train the model."
   ]
  },
  {
   "cell_type": "code",
   "execution_count": 24,
   "id": "21e4cd1c",
   "metadata": {},
   "outputs": [
    {
     "data": {
      "text/plain": [
       "[ModelVersion(\n",
       "   name='MODEL_TRAINED_ON_TABLE',\n",
       "   version='V1',\n",
       " )]"
      ]
     },
     "execution_count": 24,
     "metadata": {},
     "output_type": "execute_result"
    }
   ],
   "source": [
    "table[0].lineage(direction=\"downstream\")"
   ]
  },
  {
   "cell_type": "markdown",
   "id": "be2ce5b3",
   "metadata": {},
   "source": [
    "<a id='model-trained-in-non-snowflake-ecosystem'></a>\n",
    "\n",
    "\n",
    "### 4.2 Model trained in non-snowflake ecosystem  {-}"
   ]
  },
  {
   "cell_type": "markdown",
   "id": "33cb95c7",
   "metadata": {},
   "source": [
    "For the workflows such as:\n",
    "A model trained using snowpark.ml but not a Snowpark DataFrame (like pandas).\n",
    "A model trained without using snowpark.ml or a Snowpark DataFrame.\n",
    "A model trained outside of Snowflake.\n",
    "\n",
    "\n",
    "You can still associate the lineage between the source data object and the trained model by passing the snowpark dataframe backed by the source data object to model registry’s log_model API as sample_input_data. \n"
   ]
  },
  {
   "cell_type": "code",
   "execution_count": 25,
   "id": "63e5f294",
   "metadata": {},
   "outputs": [
    {
     "name": "stdout",
     "output_type": "stream",
     "text": [
      "feature cols: ['MY_NEW_FEATURE', 'PH', 'TOTAL_SULFUR_DIOXIDE', 'CITRIC_ACID', 'CHLORIDES', 'SULPHATES', 'FIXED_ACIDITY', 'ALCOHOL']\n"
     ]
    },
    {
     "name": "stderr",
     "output_type": "stream",
     "text": [
      "/opt/homebrew/anaconda3/envs/py38_env/lib/python3.8/site-packages/sklearn/base.py:1152: DataConversionWarning: A column-vector y was passed when a 1d array was expected. Please change the shape of y to (n_samples,), for example using ravel().\n",
      "  return fit_method(estimator, *args, **kwargs)\n",
      "/opt/homebrew/anaconda3/envs/py38_env/lib/python3.8/contextlib.py:113: UserWarning: `relax_version` is not set and therefore defaulted to True. Dependency version constraints relaxed from ==x.y.z to >=x.y, <(x+1). To use specific dependency versions for compatibility, reproducibility, etc., set `options={'relax_version': False}` when logging the model.\n",
      "  return next(self.gen)\n"
     ]
    },
    {
     "name": "stdout",
     "output_type": "stream",
     "text": [
      "MSE: 0.4896289668292035, Accuracy: 99.89502779572355\n"
     ]
    },
    {
     "name": "stderr",
     "output_type": "stream",
     "text": [
      "/opt/homebrew/anaconda3/envs/py38_env/lib/python3.8/site-packages/snowflake/ml/model/model_signature.py:69: UserWarning: The sample input has 512 rows, thus a truncation happened before inferring signature. This might cause inaccurate signature inference. If that happens, consider specifying signature manually.\n",
      "  warnings.warn(\n"
     ]
    }
   ],
   "source": [
    "from sklearn.ensemble import RandomForestRegressor\n",
    "from sklearn.metrics import mean_squared_error, mean_absolute_percentage_error\n",
    "from sklearn.model_selection import train_test_split\n",
    "import pandas as pd\n",
    "\n",
    "def train_model_using_sklearn(training_data_df, feature_columns):\n",
    "    train, test = train_test_split(training_data_df, test_size=0.2, random_state=42)\n",
    "        \n",
    "    X_train = train[feature_columns]\n",
    "    y_train = train[label_cols]\n",
    "    \n",
    "    X_test = test[feature_columns]\n",
    "    y_test = test[label_cols]\n",
    "\n",
    "    rf = RandomForestRegressor(max_depth=3, n_estimators=20, random_state=42)\n",
    "    rf.fit(X_train, y_train)\n",
    "\n",
    "    predictions = rf.predict(X_test)\n",
    "\n",
    "    mse = mean_squared_error(y_test, predictions)\n",
    "    accuracy = 100 - mean_absolute_percentage_error(y_test, predictions)\n",
    "    \n",
    "    print(f\"MSE: {mse}, Accuracy: {accuracy}\")\n",
    "    return rf\n",
    "\n",
    "\n",
    "feature_columns = list(set(training_data_df.columns) - set(label_cols) - set(join_keys) - set([timestamp_col]))\n",
    "print(f\"feature cols: {feature_columns}\")\n",
    "\n",
    "sklearn_trained_model = train_model_using_sklearn(training_data_df.to_pandas(), feature_columns)\n",
    "\n",
    "training_data_df = training_data_df.select(feature_columns)\n",
    "model_version = registry.log_model(\n",
    "    model_name=\"MODEL_TRAINED_ON_PANDAS\",\n",
    "    version_name=\"v1\",\n",
    "    model=sklearn_trained_model,\n",
    "    comment=\"Model trained with pandas dataframe\",\n",
    "    # Passing the snowpark dataframe as sample input data\n",
    "    sample_input_data = training_data_df\n",
    ")\n",
    "\n"
   ]
  },
  {
   "cell_type": "markdown",
   "id": "05e551d1",
   "metadata": {},
   "source": [
    "##### Query lineage\n",
    "\n",
    "\n",
    "Query the upstream of the model we just trained. "
   ]
  },
  {
   "cell_type": "code",
   "execution_count": 26,
   "id": "ff87faf8",
   "metadata": {},
   "outputs": [
    {
     "data": {
      "text/plain": [
       "[Dataset(\n",
       "   name='LINEAGE_DEMO_DB.FEATURE_STORE.MY_DATASET',\n",
       "   version='4.0',\n",
       " )]"
      ]
     },
     "execution_count": 26,
     "metadata": {},
     "output_type": "execute_result"
    }
   ],
   "source": [
    "ds = model_version.lineage(direction=\"upstream\")\n",
    "\n",
    "ds"
   ]
  },
  {
   "cell_type": "markdown",
   "id": "e95a48d1",
   "metadata": {},
   "source": [
    "The model can also be explored as part of the downstream path of the dataset used to train the model."
   ]
  },
  {
   "cell_type": "code",
   "execution_count": 27,
   "id": "cb9cbf8c",
   "metadata": {},
   "outputs": [
    {
     "name": "stdout",
     "output_type": "stream",
     "text": [
      "[ModelVersion(\n",
      "  name='MODEL_TRAINED_ON_DATASET',\n",
      "  version='V1',\n",
      "), ModelVersion(\n",
      "  name='MODEL_TRAINED_ON_PANDAS',\n",
      "  version='V1',\n",
      ")]\n"
     ]
    }
   ],
   "source": [
    "print(ds[0].lineage(direction=\"downstream\"))\n",
    "    "
   ]
  },
  {
   "cell_type": "markdown",
   "id": "fad0070f",
   "metadata": {},
   "source": [
    "<a id='visualization-of-lineage'></a>\n",
    "\n",
    "## 5. Visualization of lineage\n",
    "\n",
    "\n",
    "The below image shows the screenshot of complete visualization of lineages of all the objects we created in the notebook from Snowsight UI. "
   ]
  },
  {
   "cell_type": "code",
   "execution_count": 35,
   "id": "a31c0e66",
   "metadata": {},
   "outputs": [
    {
     "data": {
      "image/png": "[encoded data removed]",
      "text/plain": [
       "<IPython.core.display.Image object>"
      ]
     },
     "metadata": {
      "image/png": {
       "height": 1000,
       "width": 1000
      }
     },
     "output_type": "display_data"
    }
   ],
   "source": [
    "from IPython.display import Image, display\n",
    "\n",
    "# Path to your image file\n",
    "image_path = 'lineage-graph.png'\n",
    "\n",
    "# Display the image\n",
    "display(Image(filename=image_path,width=1000, height=1000))"
   ]
  },
  {
   "cell_type": "markdown",
   "id": "d7e23443",
   "metadata": {},
   "source": [
    "<a id='clean-up-notebook'></a>\n",
    "\n",
    "\n",
    "## 6. Clean up notebook  {-}\n",
    "\n",
    "\n",
    "This cell will drop the schemas have been created at beginning of this notebook, and also drop all objects live in the schemas including source data tables, feature views, datasets, and models.\n",
    "\n"
   ]
  },
  {
   "cell_type": "code",
   "execution_count": 29,
   "id": "dee533e4",
   "metadata": {},
   "outputs": [],
   "source": [
    "session.sql(f\"DROP SCHEMA IF EXISTS {FS_DEMO_SCHEMA}\").collect()\n",
    "session.sql(f\"DROP SCHEMA IF EXISTS {MODEL_DEMO_SCHEMA}\").collect()"
   ]
  }
 ],
 "metadata": {
  "kernelspec": {
   "display_name": "Python 3 (ipykernel)",
   "language": "python",
   "name": "python3"
  },
  "language_info": {
   "codemirror_mode": {
    "name": "ipython",
    "version": 3
   },
   "file_extension": ".py",
   "mimetype": "text/x-python",
   "name": "python",
   "nbconvert_exporter": "python",
   "pygments_lexer": "ipython3",
   "version": "3.8.18"
  }
 },
 "nbformat": 4,
 "nbformat_minor": 5
}
